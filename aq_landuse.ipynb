{
 "cells": [
  {
   "cell_type": "code",
   "execution_count": 146,
   "metadata": {
    "collapsed": false
   },
   "outputs": [],
   "source": [
    "import numpy as np\n",
    "import pandas as pd\n",
    "from shapely.geometry import Point\n",
    "from shapely.geometry.polygon import Polygon\n",
    "from shapely.geometry import MultiPolygon\n",
    "from matplotlib import pyplot as plt\n",
    "%matplotlib inline"
   ]
  },
  {
   "cell_type": "code",
   "execution_count": 147,
   "metadata": {
    "collapsed": true
   },
   "outputs": [],
   "source": [
    "def scale(num):\n",
    "    #create 14 digits by padding 0's if needed\n",
    "    num1 = str(abs(num[0]))\n",
    "    num2 = str(abs(num[1]))\n",
    "    \n",
    "    if len(num1) < 15:\n",
    "        num1 = num1.ljust(15, '0')\n",
    "    elif len(num1) > 15:\n",
    "        num1 = num1[:15]\n",
    "    \n",
    "    if len(num2) < 15:\n",
    "        num2 = num2.ljust(15, '0')\n",
    "    elif len(num2) > 15:\n",
    "        num2 = num2[:15]\n",
    "    \n",
    "    #shift decimal for 8 decimal places\n",
    "    return np.array([-1.*(float(num1) * (10**5)),-1.*(float(num2) * (10**5))])\n",
    "\n",
    "def center(coord):\n",
    "    # coord is an np array containing lat and long\n",
    "    \n",
    "    #find mean\n",
    "    mean = coord.mean()\n",
    "    \n",
    "    #center by subtracting the mean\n",
    "    coord = coord - mean\n",
    "    return coord"
   ]
  },
  {
   "cell_type": "code",
   "execution_count": 148,
   "metadata": {
    "collapsed": false
   },
   "outputs": [],
   "source": [
    "def get_data(filename):\n",
    "    data = pd.read_csv(filename)\n",
    "    vertex = data[\"SHAPE\"]\n",
    "    return vertex\n",
    "\n",
    "def prep_row(row):\n",
    "    #pull off 'MULTIPOLYGON ((' leaving one set of parentheses around string\n",
    "    cleaned = row[16:-3]\n",
    "    return cleaned # should look like '(lon lat, lon lat,...), (lon lat, lon lat...), (.....)'\n",
    "\n",
    "def find_multi(row):\n",
    "    found = False\n",
    "    if '), (' in row:\n",
    "        found = True\n",
    "    return found\n",
    "\n",
    "def get_poly(data):\n",
    "#     vertex = data.replace(',', '')\n",
    "    vertex = data.split(\",\")\n",
    "    vertex = [item.strip() for item in vertex ]\n",
    "    vertex = [(float(item.split(\" \")[0]) ,float(item.split(\" \")[1])) for item in vertex]\n",
    "    print np.asarray(vertex)\n",
    "\n",
    "def get_multi(multi):\n",
    "    #replace '), (' which separate polygons to ')&(' to be able to split properly\n",
    "    fxn = multi.replace(\"), (\", \"&\")\n",
    "    fxn = fxn.split(\"&\") \n",
    "    multi_2d = []\n",
    "    for i in range(len(fxn)):\n",
    "        multi_2d.append(get_poly(fxn[i])) \n",
    "    #converts to array\n",
    "    multi_list = np.asarray(multi_2d)\n",
    "    return multi_list.reshape((len(multi_list), 1))\n",
    "\n",
    "def parse_shapes(one_row):\n",
    "    is_multi = find_multi(one_row)\n",
    "    if is_multi == True:\n",
    "        prepped = prep_row(one_row)\n",
    "        prepd_split = get_multi(prepped)\n",
    "        return (prepd_split)\n",
    "    else:\n",
    "        prepped = prep_row(one_row)\n",
    "        prepd_cleand = get_poly(prepped)\n",
    "        return (prepd_cleand)"
   ]
  },
  {
   "cell_type": "code",
   "execution_count": 149,
   "metadata": {
    "collapsed": false
   },
   "outputs": [],
   "source": [
    "def generate_grid(x, y, cell_num):\n",
    "    \"\"\" Inputs: array with latitude min and latitude max, array with longitude min and longitude max, and number of cells\n",
    "    Actions: Creates a grid using this data\n",
    "    Outputs: an array of the x ticks, an array of the y ticks, the x and y widths of a single cell \"\"\"\n",
    "\n",
    "    x_min = x[0]\n",
    "    x_max = x[1]\n",
    "\n",
    "    y_min = y[0]\n",
    "    y_max = y[1]\n",
    "\n",
    "    #Create ticks\n",
    "    x_s = np.linspace(x_min, x_max, cell_num + 1)\n",
    "    y_s = np.linspace(y_min, y_max, cell_num + 1)\n",
    "\n",
    "    #Create grid\n",
    "    x_coord, y_coord = np.meshgrid(x_s, y_s)\n",
    "\n",
    "    #length and width of a single cell\n",
    "    x_shift = np.abs(x_s[1] - x_s[0])\n",
    "    y_shift = np.abs(y_s[1] - y_s[0])\n",
    "    return x_coord, y_coord, x_shift, y_shift"
   ]
  },
  {
   "cell_type": "code",
   "execution_count": 154,
   "metadata": {
    "collapsed": true
   },
   "outputs": [],
   "source": [
    "def gen_rand_pts(min_lat, min_long, delta_x, delta_y, y_cell, x_cell, rand_num):\n",
    "    \"\"\" Inputs: latitude min, latitude max, longitude min, longitude max, number of x and y cells, number of random points\n",
    "    Actions: First, it creates random points within the boundaries of a single cell. Then, it translates these random points\n",
    "    to each cell.\n",
    "    Outputs: a list of arrays of random points per cell \"\"\"\n",
    "    \n",
    "    #generate random points of a single cell\n",
    "    rand_x_grid1 = np.random.uniform(min_lat, min_lat + x_shift, rand_num)\n",
    "    rand_y_grid1 = np.random.uniform(min_long, min_long + y_shift, rand_num)\n",
    "    old_grid_pts = np.array(zip(rand_x_grid1, rand_y_grid1)) \n",
    "    \n",
    "    list_of_pts = []  \n",
    "    new_grid_pts = np.copy(old_grid_pts)\n",
    "    for y_tick in range(y_cell):\n",
    "        new_grid_pts[:, 1] += delta_y #shift vertically\n",
    "        for x_tick in range(x_cell):\n",
    "            new_grid_pts[:, 0] =  old_grid_pts[:, 0] + delta_x * x_tick #shift horizontally\n",
    "            list_of_pts.append(np.copy(new_grid_pts))\n",
    "    return list_of_pts"
   ]
  },
  {
   "cell_type": "code",
   "execution_count": 155,
   "metadata": {
    "collapsed": false
   },
   "outputs": [
    {
     "data": {
      "image/png": "[encoded data removed]",
      "text/plain": [
       "<matplotlib.figure.Figure at 0x9dbe390>"
      ]
     },
     "metadata": {},
     "output_type": "display_data"
    },
    {
     "data": {
      "image/png": "[encoded data removed]",
      "text/plain": [
       "<matplotlib.figure.Figure at 0xaf1bfd0>"
      ]
     },
     "metadata": {},
     "output_type": "display_data"
    }
   ],
   "source": [
    "\"\"\"Testing the function above\"\"\"\n",
    "x = [-71.13748, -71.14003]\n",
    "y = [42.35827, 42.3601]\n",
    "\n",
    "x_coord, y_coord, x_shift, y_shift = generate_grid(x, y, 2)\n",
    "# print x_shift, y_shift\n",
    "\n",
    "plt.scatter(x_coord, y_coord)\n",
    "plt.show()\n",
    "\n",
    "rand_pts = gen_rand_pts(x_coord[-1, 0], y_coord[-1, 0], x_shift, y_shift, 2, 2, 4)\n",
    "\n",
    "plt.scatter(rand_pts[0][:, 0], rand_pts[0][:, 1], color=\"blue\")\n",
    "plt.scatter(rand_pts[1][:, 0], rand_pts[1][:, 1], color=\"red\")\n",
    "plt.scatter(rand_pts[2][:, 0], rand_pts[2][:, 1], color=\"magenta\")\n",
    "plt.scatter(rand_pts[3][:, 0], rand_pts[3][:, 1], color=\"gold\")\n",
    "plt.show()"
   ]
  },
  {
   "cell_type": "code",
   "execution_count": null,
   "metadata": {
    "collapsed": true
   },
   "outputs": [],
   "source": []
  }
 ],
 "metadata": {
  "anaconda-cloud": {},
  "kernelspec": {
   "display_name": "Python [Root]",
   "language": "python",
   "name": "Python [Root]"
  },
  "language_info": {
   "codemirror_mode": {
    "name": "ipython",
    "version": 2
   },
   "file_extension": ".py",
   "mimetype": "text/x-python",
   "name": "python",
   "nbconvert_exporter": "python",
   "pygments_lexer": "ipython2",
   "version": "2.7.12"
  }
 },
 "nbformat": 4,
 "nbformat_minor": 0
}
