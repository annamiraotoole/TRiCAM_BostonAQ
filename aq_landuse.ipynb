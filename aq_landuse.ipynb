{
 "cells": [
  {
   "cell_type": "code",
   "execution_count": 32,
   "metadata": {
    "collapsed": false
   },
   "outputs": [],
   "source": [
    "import numpy as np\n",
    "import pandas as pd\n",
    "from shapely.geometry import Point\n",
    "from shapely.geometry.polygon import Polygon\n",
    "from shapely.geometry import MultiPolygon\n",
    "from matplotlib import pyplot as plt\n",
    "%matplotlib inline"
   ]
  },
  {
   "cell_type": "code",
   "execution_count": 16,
   "metadata": {
    "collapsed": true
   },
   "outputs": [],
   "source": [
    "def scale(num):\n",
    "    #create 14 digits by padding 0's if needed\n",
    "    num1 = str(abs(num[0]))\n",
    "    num2 = str(abs(num[1]))\n",
    "    \n",
    "    if len(num1) < 15:\n",
    "        num1 = num1.ljust(15, '0')\n",
    "    elif len(num1) > 15:\n",
    "        num1 = num1[:15]\n",
    "    \n",
    "    if len(num2) < 15:\n",
    "        num2 = num2.ljust(15, '0')\n",
    "    elif len(num2) > 15:\n",
    "        num2 = num2[:15]\n",
    "    \n",
    "    #shift decimal for 8 decimal places\n",
    "    return np.array([-1.*(float(num1) * (10**5)),-1.*(float(num2) * (10**5))])"
   ]
  },
  {
   "cell_type": "code",
   "execution_count": 17,
   "metadata": {
    "collapsed": true
   },
   "outputs": [],
   "source": [
    "def center(coord):\n",
    "    # coord is an np array containing lat and long\n",
    "    \n",
    "    #find mean\n",
    "    mean = coord.mean()\n",
    "    \n",
    "    #center by subtracting the mean\n",
    "    coord = coord - mean\n",
    "    return coord"
   ]
  },
  {
   "cell_type": "code",
   "execution_count": 18,
   "metadata": {
    "collapsed": true
   },
   "outputs": [],
   "source": [
    "#4th - divide into cells\n",
    "def divide_cells(grid, cell_num):\n",
    "    pass"
   ]
  },
  {
   "cell_type": "code",
   "execution_count": 19,
   "metadata": {
    "collapsed": false
   },
   "outputs": [],
   "source": [
    "#1st - read in the csv file\n",
    "def get_data(filename):\n",
    "    data = pd.read_csv(filename)\n",
    "    vertex = data[\"SHAPE\"]\n",
    "    return vertex\n",
    "\n",
    "#2nd - clean data\n",
    "def prep_row(row):\n",
    "    #pull off 'MULTIPOLYGON ((' leaving one set of parentheses around string\n",
    "    cleaned = row[16:-3]\n",
    "    return cleaned # should look like '(lon lat, lon lat,...), (lon lat, lon lat...), (.....)'\n",
    "\n",
    "def find_multi(row):\n",
    "    found = False\n",
    "    if '), (' in row:\n",
    "        found = True\n",
    "    return found\n",
    "\n",
    "    \"\"\"vertex = data.split(\" \")[1:]\n",
    "    print vertex[1::2]\n",
    "    first = vertex[0].split(\"(\")[3]\n",
    "    last = vertex[-1].split(\")\")[0]\n",
    "    body = vertex[1:-1].split(\",\")\n",
    "    vertex = [first] + vertex[1:-1] + [last]\n",
    "    print vertex\n",
    "    print map(float, vertex)\n",
    "    y = map(float, vertex)\n",
    "    y = zip(*[iter(y)]*2)\n",
    "    print y\"\"\""
   ]
  },
  {
   "cell_type": "code",
   "execution_count": 20,
   "metadata": {
    "collapsed": true
   },
   "outputs": [],
   "source": [
    "def get_poly(data):\n",
    "#     vertex = data.replace(',', '')\n",
    "    vertex = data.split(\",\")\n",
    "    vertex = [item.strip() for item in vertex ]\n",
    "    vertex = [(float(item.split(\" \")[0]) ,float(item.split(\" \")[1])) for item in vertex]\n",
    "    print np.asarray(vertex)"
   ]
  },
  {
   "cell_type": "code",
   "execution_count": 21,
   "metadata": {
    "collapsed": false
   },
   "outputs": [],
   "source": [
    "\"\"\"def get_multi(multi):\n",
    "    fxn = multi[15:-2]\n",
    "    fxn = fxn.replace(\"), (\", \")&(\")\n",
    "    fxn = fxn.split(\"&\")\n",
    "    # now put tuples in multigon\n",
    "    fxn = [(float(item.split(\" \")[term]), float(item.split(\" \")[term])) for item in fxn for term in item]\n",
    "    print fxn\"\"\"\n",
    "\n",
    "def get_multi(multi):\n",
    "    #replace '), (' which separate polygons to ')&(' to be able to split properly\n",
    "    fxn = multi.replace(\"), (\", \"&\")\n",
    "    fxn = fxn.split(\"&\") \n",
    "    multi_2d = []\n",
    "    for i in range(len(fxn)):\n",
    "        multi_2d.append(get_poly(fxn[i])) \n",
    "    #converts to array\n",
    "    multi_list = np.asarray(multi_2d)\n",
    "    return multi_list.reshape((len(multi_list), 1))"
   ]
  },
  {
   "cell_type": "code",
   "execution_count": 22,
   "metadata": {
    "collapsed": true
   },
   "outputs": [],
   "source": [
    "def parse_shapes(one_row):\n",
    "    is_multi = find_multi(one_row)\n",
    "    if is_multi == True:\n",
    "        prepped = prep_row(one_row)\n",
    "        prepd_split = get_multi(prepped)\n",
    "        return (prepd_split)\n",
    "    else:\n",
    "        prepped = prep_row(one_row)\n",
    "        prepd_cleand = get_poly(prepped)\n",
    "        return (prepd_cleand)"
   ]
  },
  {
   "cell_type": "code",
   "execution_count": 23,
   "metadata": {
    "collapsed": true
   },
   "outputs": [],
   "source": [
    "def find_randpoints(ranges1, ranges2):\n",
    "    #ranges is an array of either lat or long\n",
    "    point1 = np.random.uniform(ranges1[0], ranges1[1], 4)\n",
    "    point2 = np.random.uniform(ranges2[0], ranges2[1], 4)\n",
    "    return point1, point2"
   ]
  },
  {
   "cell_type": "code",
   "execution_count": 24,
   "metadata": {
    "collapsed": false
   },
   "outputs": [
    {
     "name": "stdout",
     "output_type": "stream",
     "text": [
      "[[-71.14149442  42.36167523]\n",
      " [-71.14168146  42.36223653]\n",
      " [-71.14172739  42.36224104]\n",
      " [-71.14238367  42.36212808]\n",
      " [-71.14224341  42.36172475]\n",
      " [-71.14219564  42.36147289]\n",
      " [-71.14176642  42.36143073]\n",
      " [-71.1416392   42.36139344]\n",
      " [-71.14155985  42.36154743]\n",
      " [-71.14149442  42.36167523]]\n",
      "[[-71.1419561   42.36175682]\n",
      " [-71.14210376  42.36172712]\n",
      " [-71.14219224  42.36207455]\n",
      " [-71.14206585  42.36209882]\n",
      " [-71.1419561   42.36175682]]\n"
     ]
    }
   ],
   "source": [
    "#Now figure out how to apply to each row\n",
    "#Testing\n",
    "data = get_data(\"small_scale_data.csv\")\n",
    "poly_test = parse_shapes(data[16])"
   ]
  },
  {
   "cell_type": "code",
   "execution_count": 25,
   "metadata": {
    "collapsed": false
   },
   "outputs": [
    {
     "name": "stdout",
     "output_type": "stream",
     "text": [
      "[-71.13756874 -71.13979244 -71.13783168 -71.13973272] [ 42.35840437  42.35903368  42.3593909   42.35831011]\n"
     ]
    }
   ],
   "source": [
    "lat = np.array([-71.14003, -71.13748])\n",
    "lon = np.array([42.35827, 42.3601])\n",
    "lat_rand, lon_rand = find_randpoints(lat, lon)\n",
    "print lat_rand, lon_rand"
   ]
  },
  {
   "cell_type": "code",
   "execution_count": 29,
   "metadata": {
    "collapsed": false
   },
   "outputs": [],
   "source": [
    "point = Point(0.5, 0.5)\n",
    "polygon = Polygon([(0, 0), (0, 1), (1, 1), (1, 0)])\n",
    "# print(polygon.contains(point))\n",
    "\n",
    "# ran_point0 = Point(lat_rand[0], lon_rand[0])\n",
    "# ran_point1 = Point(lat_rand[1], lon_rand[1])\n",
    "# ran_point2 = Point(lat_rand[2], lon_rand[2])\n",
    "# ran_point3 = Point(lat_rand[3], lon_rand[3])\n",
    "# polygon = Polygon(poly_test)\n",
    "# print(polygon.contains(ran_point0))\n",
    "# print(polygon.contains(ran_point1))\n",
    "# print(polygon.contains(ran_point2))\n",
    "# print(polygon.contains(ran_point3))\n",
    "\n",
    "# mult_poly = MultiPolygon(polygon)\n",
    "# print mult_poly"
   ]
  },
  {
   "cell_type": "code",
   "execution_count": 94,
   "metadata": {
    "collapsed": false
   },
   "outputs": [
    {
     "data": {
      "image/png": "[encoded data removed]",
      "text/plain": [
       "<matplotlib.figure.Figure at 0x92ca390>"
      ]
     },
     "metadata": {},
     "output_type": "display_data"
    }
   ],
   "source": [
    "#creating Grid (lat (x), long(y))\n",
    "x_min = -71.13748\n",
    "x_max = -71.14003\n",
    "\n",
    "y_min = 42.35827\n",
    "y_max = 42.3601\n",
    "\n",
    "x_s = np.linspace(x_min, x_max, 3)\n",
    "y_s = np.linspace(y_min, y_max, 3)\n",
    "\n",
    "x_coord, y_coord = np.meshgrid(x_s, y_s)\n",
    "\n",
    "x_shift = np.abs(x_s[2]) - np.abs(x_s[1])\n",
    "y_shift = np.abs(y_s[2]) - np.abs(y_s[1])\n",
    "\n",
    "plt.scatter(x_coord, y_coord, color=\"red\")\n",
    "plt.show()\n",
    "\n",
    "# scaled = x_shift\n",
    "\n",
    "# plt.xlim([min(x_s), max(x_s)])\n",
    "# plt.ylim([y_s.min(), y_s.max()])"
   ]
  },
  {
   "cell_type": "code",
   "execution_count": 102,
   "metadata": {
    "collapsed": false
   },
   "outputs": [
    {
     "data": {
      "image/png": "[encoded data removed]",
      "text/plain": [
       "<matplotlib.figure.Figure at 0xae79438>"
      ]
     },
     "metadata": {},
     "output_type": "display_data"
    }
   ],
   "source": [
    "rand_x_grid1 = np.random.uniform(x_coord[0,0], x_coord[0,1], 4)\n",
    "rand_y_grid1 = np.random.uniform(y_coord[0,0], y_coord[1,0], 4)\n",
    "\n",
    "rand_pts_grid1 = np.array(zip(rand_x_grid1, rand_y_grid1))\n",
    "\n",
    "plt.scatter(rand_pts_grid1[:, 0], rand_pts_grid1[:, 1]) #x_s and y_s\n",
    "plt.scatter(x_coord, y_coord, color=\"red\")\n",
    "plt.show()"
   ]
  },
  {
   "cell_type": "code",
   "execution_count": 96,
   "metadata": {
    "collapsed": false
   },
   "outputs": [
    {
     "name": "stdout",
     "output_type": "stream",
     "text": [
      "[[-71.1379731   42.35837733]\n",
      " [-71.13825835  42.35872466]\n",
      " [-71.13869289  42.35867027]\n",
      " [-71.13817253  42.35892265]] \n",
      "\n",
      "[[-71.1379731   42.35929233]\n",
      " [-71.13825835  42.35963966]\n",
      " [-71.13869289  42.35958527]\n",
      " [-71.13817253  42.35983765]]\n"
     ]
    },
    {
     "data": {
      "image/png": "[encoded data removed]",
      "text/plain": [
       "<matplotlib.figure.Figure at 0x80df748>"
      ]
     },
     "metadata": {},
     "output_type": "display_data"
    }
   ],
   "source": [
    "rand_pts_grid2 = rand_pts_grid1[:] #making a copy\n",
    "print rand_pts_grid2, \"\\n\"\n",
    "rand_pts_grid2[:, 1] += y_shift\n",
    "print rand_pts_grid2\n",
    "\n",
    "plt.scatter(rand_pts_grid2[:, 0], rand_pts_grid2[:, 1]) #x_s and y_s\n",
    "plt.scatter(x_coord, y_coord, color=\"red\")\n",
    "plt.show()"
   ]
  },
  {
   "cell_type": "code",
   "execution_count": 97,
   "metadata": {
    "collapsed": false
   },
   "outputs": [
    {
     "name": "stdout",
     "output_type": "stream",
     "text": [
      "[[-71.1379731   42.35929233]\n",
      " [-71.13825835  42.35963966]\n",
      " [-71.13869289  42.35958527]\n",
      " [-71.13817253  42.35983765]] \n",
      "\n",
      "[[-71.1392481   42.35929233]\n",
      " [-71.13953335  42.35963966]\n",
      " [-71.13996789  42.35958527]\n",
      " [-71.13944753  42.35983765]]\n"
     ]
    },
    {
     "data": {
      "image/png": "[encoded data removed]",
      "text/plain": [
       "<matplotlib.figure.Figure at 0xa8dfa20>"
      ]
     },
     "metadata": {},
     "output_type": "display_data"
    }
   ],
   "source": [
    "rand_pts_grid3 = rand_pts_grid2[:] #making a copy\n",
    "print rand_pts_grid3, \"\\n\"\n",
    "rand_pts_grid2[:, 0] -= x_shift\n",
    "print rand_pts_grid3\n",
    "\n",
    "plt.scatter(rand_pts_grid3[:, 0], rand_pts_grid3[:, 1]) #x_s and y_s\n",
    "plt.scatter(x_coord, y_coord, color=\"red\")\n",
    "plt.show()"
   ]
  },
  {
   "cell_type": "code",
   "execution_count": 98,
   "metadata": {
    "collapsed": false
   },
   "outputs": [
    {
     "data": {
      "image/png": "[encoded data removed]",
      "text/plain": [
       "<matplotlib.figure.Figure at 0x9798128>"
      ]
     },
     "metadata": {},
     "output_type": "display_data"
    }
   ],
   "source": [
    "rand_pts_grid4 = rand_pts_grid3[:] #making a copy\n",
    "rand_pts_grid4[:, 1] -= y_shift\n",
    "\n",
    "plt.scatter(rand_pts_grid4[:, 0], rand_pts_grid4[:, 1]) #x_s and y_s\n",
    "plt.scatter(x_coord, y_coord, color=\"red\")\n",
    "plt.show()"
   ]
  },
  {
   "cell_type": "code",
   "execution_count": 121,
   "metadata": {
    "collapsed": true
   },
   "outputs": [],
   "source": [
    "#creating Grid (lat (x), long(y))\n",
    "def generate_grid(x, y, cell_num):\n",
    "    #Creates the grid\n",
    "    x_min = x[0]\n",
    "    x_max = x[1]\n",
    "\n",
    "    y_min = y[0]\n",
    "    y_max = y[1]\n",
    "\n",
    "    x_s = np.linspace(x_min, x_max, cell_num)\n",
    "    y_s = np.linspace(y_min, y_max, cell_num)\n",
    "\n",
    "    x_coord, y_coord = np.meshgrid(x_s, y_s)\n",
    "\n",
    "    x_shift = np.abs(x_s[1]) - np.abs(x_s[0])\n",
    "    y_shift = np.abs(y_s[1]) - np.abs(y_s[0])\n",
    "    return x_coord, y_coord, x_shift, y_shift\n",
    "\n",
    "def gen_rand_pts(grid_x, grid_y, x_shift, y_shift, num):\n",
    "#     print grid_x.shape\n",
    "#     print grid_y.shape\n",
    "    rand_x_grid1 = np.random.uniform(grid_x[0,0], grid_x[0,1], num)\n",
    "    rand_y_grid1 = np.random.uniform(grid_y[0,0], grid_y[1,0], num)\n",
    "    old_grid_pts = np.array(zip(rand_x_grid1, rand_y_grid1)) \n",
    "    \n",
    "    delta_x = x_shift\n",
    "    delta_y = y_shift\n",
    "    \n",
    "    for row in range(len(grid_x)):\n",
    "        for col in range(len(grid_y)):\n",
    "            new_grid_pts = old_grid_pts[:]\n",
    "            new_grid_pts[:, 0] += row * delta_x #shift horizontally\n",
    "            new_grid_pts[:, 1] += col * delta_y #shift vertically\n",
    "            plt.scatter(new_grid_pts[:, 0], new_grid_pts[:, 1])\n",
    "    plt.show()\n",
    "    return new_grid_pts"
   ]
  },
  {
   "cell_type": "code",
   "execution_count": 122,
   "metadata": {
    "collapsed": false
   },
   "outputs": [
    {
     "data": {
      "image/png": "[encoded data removed]",
      "text/plain": [
       "<matplotlib.figure.Figure at 0x9b24160>"
      ]
     },
     "metadata": {},
     "output_type": "display_data"
    }
   ],
   "source": [
    "\"\"\"Testing the function above\"\"\"\n",
    "x = [-71.13748, -71.14003]\n",
    "y = [42.35827, 42.3601]\n",
    "\n",
    "x_coord, y_coord, x_shift, y_shift = generate_grid(x, y, 3)\n",
    "\n",
    "new_grid_pts = gen_rand_pts(x_coord, y_coord, x_shift, y_shift, 4)"
   ]
  },
  {
   "cell_type": "code",
   "execution_count": null,
   "metadata": {
    "collapsed": true
   },
   "outputs": [],
   "source": []
  }
 ],
 "metadata": {
  "anaconda-cloud": {},
  "kernelspec": {
   "display_name": "Python [Root]",
   "language": "python",
   "name": "Python [Root]"
  },
  "language_info": {
   "codemirror_mode": {
    "name": "ipython",
    "version": 2
   },
   "file_extension": ".py",
   "mimetype": "text/x-python",
   "name": "python",
   "nbconvert_exporter": "python",
   "pygments_lexer": "ipython2",
   "version": "2.7.12"
  }
 },
 "nbformat": 4,
 "nbformat_minor": 0
}
