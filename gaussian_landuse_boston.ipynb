{
 "cells": [
  {
   "cell_type": "markdown",
   "metadata": {},
   "source": [
    "## Implements Gaussian on PM, NO, OZO dataframes that contain Landuse and Time"
   ]
  },
  {
   "cell_type": "code",
   "execution_count": 37,
   "metadata": {},
   "outputs": [],
   "source": [
    "import pandas as pd\n",
    "import sys\n",
    "import numpy as np\n",
    "import scipy as sp\n",
    "import matplotlib.pyplot as plt\n",
    "import seaborn as sns\n",
    "import sklearn as sk\n",
    "from sklearn import mixture\n",
    "from sklearn.model_selection import train_test_split\n",
    "from sklearn import preprocessing\n",
    "from statsmodels.tools import add_constant\n",
    "from sklearn.gaussian_process import GaussianProcessRegressor\n",
    "from sklearn.gaussian_process.kernels import RBF\n",
    "from sklearn.gaussian_process.kernels import ConstantKernel as C\n",
    "from sklearn.gaussian_process.kernels import Matern, WhiteKernel, RationalQuadratic, DotProduct\n",
    "import statsmodels.api as sm\n",
    "sns.set(style=\"ticks\")\n",
    "import random\n",
    "from matplotlib import pyplot as plt\n",
    "import os\n",
    "import pickle\n",
    "%matplotlib inline"
   ]
  },
  {
   "cell_type": "markdown",
   "metadata": {},
   "source": [
    "## Cleaning Boston PM Data Frame "
   ]
  },
  {
   "cell_type": "code",
   "execution_count": 38,
   "metadata": {
    "collapsed": true
   },
   "outputs": [],
   "source": [
    "aq_df = pd.read_csv(\"appended_pm.csv\")\n",
    "df_w_cells = pd.read_csv(\"boston_site_LU.csv\")\n",
    "\n",
    "lat = df[\"Latitude\"]\n",
    "lon = df[\"Longitude\"]\n",
    "\n",
    "df['lat_lon'] = list(zip(lat, lon))\n",
    "lat_lon_pts = df['lat_lon']\n",
    "del df['lat_lon']\n",
    "\n",
    "cells = df_cells[\"Site\"]\n",
    "\n",
    "AQ_width = df.shape[1]\n",
    "LU_width = df_cells.shape[1]"
   ]
  },
  {
   "cell_type": "markdown",
   "metadata": {},
   "source": [
    "## Functions that add Land Use columns to Data Frame "
   ]
  },
  {
   "cell_type": "code",
   "execution_count": 39,
   "metadata": {
    "collapsed": true
   },
   "outputs": [],
   "source": [
    "def parse_str(str_edit):\n",
    "    str_edit = str_edit.replace('[', '')\n",
    "    str_edit = str_edit.replace('(', '')\n",
    "    str_edit = str_edit.replace(']', '')\n",
    "    str_edit = str_edit.replace(')', '')\n",
    "    str_edit = str_edit.replace(',', '')\n",
    "    list = str_edit.split(' ')\n",
    "    return [(np.float64(list[0]), np.float64(list[1])), (np.float64(list[2]), np.float64(list[3])),\n",
    "            (np.float64(list[4]), np.float64(list[5])), (np.float64(list[6]), np.float64(list[7]))]"
   ]
  },
  {
   "cell_type": "code",
   "execution_count": 40,
   "metadata": {
    "collapsed": true
   },
   "outputs": [],
   "source": [
    "def in_cell(lat, lon, cell):\n",
    "    cell_points = parse_str(cell)\n",
    "    lon_bool = lon >= cell_points[0][1] and lon <= cell_points[2][1]\n",
    "    lat_bool = lat >= cell_points[0][0] and lat <= cell_points[2][0]\n",
    "    if lat_bool and lon_bool:\n",
    "        return True\n",
    "    else:\n",
    "        return False"
   ]
  },
  {
   "cell_type": "code",
   "execution_count": 41,
   "metadata": {
    "collapsed": true
   },
   "outputs": [],
   "source": [
    "def add_columns(df):\n",
    "    df['Cropland'] = 0\n",
    "    df['Golf Course'] = 0\n",
    "    df['Saltwater Sandy Beach'] = 0\n",
    "    df['cemetary'] = 0\n",
    "    df['commercial'] = 0\n",
    "    df['crop_land'] = 0\n",
    "    df['forest'] = 0\n",
    "    df['high_density_residential'] = 0\n",
    "    df['industrial'] = 0\n",
    "    df['low_density_residential'] = 0\n",
    "    df['marina'] = 0\n",
    "    df['medium_density_residential'] = 0\n",
    "    df['mining'] = 0\n",
    "    df['open_land'] = 0\n",
    "    df['recreational'] = 0\n",
    "    df['transitional'] = 0\n",
    "    df['transportation'] = 0\n",
    "    df['urban_public/institutional'] = 0\n",
    "    df['waste'] = 0\n",
    "    df['water'] = 0\n",
    "    df['wetland'] = 0\n",
    "    return df"
   ]
  },
  {
   "cell_type": "code",
   "execution_count": 42,
   "metadata": {
    "collapsed": true
   },
   "outputs": [],
   "source": [
    "def update_proportions(AQ_df, LU_df, AQ_index, LU_index):\n",
    "    #AQ_df is the Boston AQ hourly\n",
    "    #LU_df contains the cells and the landuse\n",
    "    #AQ_index is the row of the cell that contains the point in the Boston AQ hourly df\n",
    "    #LU_index is the row of the cell that contains the point in the cell and landuse df\n",
    "    for col in range(0, LU_width - 2):#df.loc[i, 'forest'] = df.loc[i, 'forest'] + my_dict['forest']\n",
    "#         print (AQ_index, AQ_width + col, LU_index, col + 1), \"\\n\"\n",
    "#         print AQ_df.iloc[AQ_index, col + AQ_width], \"LU:\", LU_df.iloc[LU_index, col+2]\n",
    "        AQ_df.iloc[AQ_index, col + AQ_width] = LU_df.iloc[LU_index, col + 2]\n",
    "    return AQ_df"
   ]
  },
  {
   "cell_type": "code",
   "execution_count": 44,
   "metadata": {},
   "outputs": [],
   "source": [
    "def update_df_w_landuse(lat_lon_pts, cells, aq_df, df_w_cells):\n",
    "    for pt in range(len(lat_lon_pts)): # pt is row for df\n",
    "        for cell in range(len(cells)): #cell is row for df_cells\n",
    "            if in_cell(lat_lon_pts[pt][1], lat_lon_pts[pt][0], df_w_cells[\"Site\"][cell]):\n",
    "                update_proportions(aq_df, df_w_cells, pt, cell)\n",
    "    return aq_df"
   ]
  },
  {
   "cell_type": "code",
   "execution_count": 45,
   "metadata": {
    "collapsed": true
   },
   "outputs": [],
   "source": [
    "aq_df = add_columns(aq_df)\n",
    "aq_df = update_df_w_landuse(lat_lon_pts, cells, aq_df, df_w_cells)"
   ]
  },
  {
   "cell_type": "markdown",
   "metadata": {},
   "source": [
    "## Pickles Boston PM data frame with land use columns"
   ]
  },
  {
   "cell_type": "code",
   "execution_count": 51,
   "metadata": {
    "collapsed": true
   },
   "outputs": [],
   "source": [
    "def pickle_df(df):\n",
    "    df.to_pickle(\"boston_aq_w_landuse.csv\")\n",
    "    df2 = pickle.load(open('boston_aq_w_landuse.csv', 'rb'))\n",
    "    return df2"
   ]
  },
  {
   "cell_type": "code",
   "execution_count": 52,
   "metadata": {
    "collapsed": true
   },
   "outputs": [],
   "source": [
    "aq_df2 = pickle_df(aq_df)"
   ]
  },
  {
   "cell_type": "markdown",
   "metadata": {},
   "source": [
    "## Gaussian function and plotting function"
   ]
  },
  {
   "cell_type": "code",
   "execution_count": 16,
   "metadata": {
    "collapsed": true
   },
   "outputs": [],
   "source": [
    "\"\"\" Creates Gaussian model, computs r squarred, MSE and log liklihood.\n",
    "Given x_train, y_train, x_test, and y_test data, and numerical alpha value.\n",
    "Prints train and test R^2. \"\"\"\n",
    "\n",
    "def gaussian(x_train, y_train, x_test, y_test, alpha):\n",
    "    \n",
    "    train_size = x_train.shape[0]\n",
    "    test_size = x_test.shape[0]\n",
    "    \n",
    "    kern = RBF(length_scale = 1)\n",
    "\n",
    "    gp = GaussianProcessRegressor(kernel=kern, alpha=alpha, optimizer='fmin_l_bfgs_b', n_restarts_optimizer=1, normalize_y=False, copy_X_train=False, random_state=None)\n",
    "    gp.fit(x_train, y_train.reshape(train_size, 1))\n",
    "\n",
    "    y_train_pred, sigma_train = gp.predict(x_train, return_std=True)\n",
    "    y_test_pred, sigma_test = gp.predict(x_test, return_std=True)\n",
    "\n",
    "    # get R^2\n",
    "    r2 = gp.score(x_train, y_train.reshape(train_size, 1))\n",
    "    r2_t = gp.score(x_test, y_test.reshape(test_size, 1))\n",
    "\n",
    "    # get MSE measurements\n",
    "    MSE_test = np.mean((y_test_pred - y_test.reshape(test_size, 1))**2)\n",
    "    MSE_train = np.mean((y_train_pred - y_train.reshape(train_size, 1))**2)\n",
    "\n",
    "    # get log likelihood\n",
    "    t=gp.log_marginal_likelihood()\n",
    "\n",
    "    # calculate AIC\n",
    "    AIC = 2*len(x_test) - 2*np.log(-t)\n",
    "    \n",
    "    # print R^2 values\n",
    "    print('mean squared error of train data with model = ' + str(MSE_train))\n",
    "    print('mean squared error of test data with model = ' + str(MSE_test))\n",
    "    print('Akaike information criterion = ' + str(AIC))\n",
    "    print('log likelihood of model = ' + str(t))\n",
    "    print('training R^2 value = ' + str(r2))\n",
    "    print('testing R^2 value = ' + str(r2_t)), \"\\n \\n\"\n",
    "    \n",
    "    return y_train_pred, y_test_pred, gp"
   ]
  },
  {
   "cell_type": "code",
   "execution_count": 17,
   "metadata": {
    "collapsed": true
   },
   "outputs": [],
   "source": [
    "\"\"\"Plots predicted y values for testing set\"\"\"\n",
    "def plot_predictions(x_test, y_test, y_test_pred, x_label, y_label):\n",
    "#     print x_test.shape, y_test_pred.shape\n",
    "    plt.figure(figsize=(13,8))\n",
    "    plt.plot(x_test, y_test, \".\", color=\"r\",)\n",
    "    plt.scatter(x_test, y_test_pred)\n",
    "#     plt.xlabel(\"Time Occurred\")\n",
    "#     plt.title(\"Predicted Boston CO2 level\")\n",
    "#     plt.show()"
   ]
  },
  {
   "cell_type": "markdown",
   "metadata": {},
   "source": [
    "## Splits DF into train and test sets"
   ]
  },
  {
   "cell_type": "code",
   "execution_count": 53,
   "metadata": {
    "collapsed": true
   },
   "outputs": [],
   "source": [
    "def split_train_test(df):\n",
    "    train, test = train_test_split(df)\n",
    "    x_train = train[col_names].values\n",
    "    y_train = train[\"Measure Value\"]\n",
    "    x_test = test[col_names].values\n",
    "    y_test = test[\"Measure Value\"]\n",
    "    return x_train, x_test, y_train, y_test"
   ]
  },
  {
   "cell_type": "markdown",
   "metadata": {},
   "source": [
    "## Running Gaussian on Boston PM"
   ]
  },
  {
   "cell_type": "code",
   "execution_count": 56,
   "metadata": {},
   "outputs": [
    {
     "name": "stderr",
     "output_type": "stream",
     "text": [
      "/Users/kaelanelson/anaconda/lib/python2.7/site-packages/ipykernel_launcher.py:16: FutureWarning: reshape is deprecated and will raise in a subsequent release. Please use .values.reshape(...) instead\n",
      "  app.launch_new_instance()\n"
     ]
    },
    {
     "name": "stdout",
     "output_type": "stream",
     "text": [
      "mean squared error of train data with model = 0.00121528233664\n",
      "mean squared error of test data with model = 0.00226526227097\n",
      "Akaike information criterion = nan\n",
      "log likelihood of model = 520.032418602\n",
      "training R^2 value = 0.727308972494\n",
      "testing R^2 value = 0.54956932534 \n",
      " \n",
      "\n"
     ]
    },
    {
     "name": "stderr",
     "output_type": "stream",
     "text": [
      "/Users/kaelanelson/anaconda/lib/python2.7/site-packages/ipykernel_launcher.py:22: FutureWarning: reshape is deprecated and will raise in a subsequent release. Please use .values.reshape(...) instead\n",
      "/Users/kaelanelson/anaconda/lib/python2.7/site-packages/ipykernel_launcher.py:23: FutureWarning: reshape is deprecated and will raise in a subsequent release. Please use .values.reshape(...) instead\n",
      "/Users/kaelanelson/anaconda/lib/python2.7/site-packages/ipykernel_launcher.py:26: FutureWarning: reshape is deprecated and will raise in a subsequent release. Please use .values.reshape(...) instead\n",
      "/Users/kaelanelson/anaconda/lib/python2.7/site-packages/ipykernel_launcher.py:27: FutureWarning: reshape is deprecated and will raise in a subsequent release. Please use .values.reshape(...) instead\n",
      "/Users/kaelanelson/anaconda/lib/python2.7/site-packages/ipykernel_launcher.py:33: RuntimeWarning: invalid value encountered in log\n"
     ]
    }
   ],
   "source": [
    "pollutants = ['CO', 'SO', 'NO', 'OZO', 'PM']\n",
    "\n",
    "col_names = ['Cropland', 'Golf Course',\n",
    "       'Saltwater Sandy Beach', 'cemetary', 'commercial', 'crop_land',\n",
    "       'forest', 'high_density_residential', 'industrial',\n",
    "       'low_density_residential', 'marina', 'medium_density_residential',\n",
    "       'mining', 'open_land', 'recreational', 'transitional', 'transportation',\n",
    "       'urban_public/institutional', 'waste', 'water', 'wetland', 'Sample Collection Start Time']\n",
    "\n",
    "x_label = 'Time'\n",
    "y_label = 'Pollutant'\n",
    "\n",
    "alpha = 0.0008\n",
    "\n",
    "x_train, x_test, y_train, y_test = split_train_test(aq_df2)\n",
    "y_train_pred, y_test_pred, gp = gaussian(x_train, y_train, x_test, y_test, alpha)"
   ]
  },
  {
   "cell_type": "markdown",
   "metadata": {
    "collapsed": true
   },
   "source": [
    "## NO"
   ]
  },
  {
   "cell_type": "code",
   "execution_count": 61,
   "metadata": {},
   "outputs": [],
   "source": [
    "no_df = pd.read_csv(\"appendedNO.csv\")\n",
    "\n",
    "no_lat = no_df[\"Latitude\"]\n",
    "no_lon = no_df[\"Longitude\"]\n",
    "\n",
    "no_df['lat_lon'] = list(zip(no_lat, no_lon))\n",
    "no_lat_lon_pts = no_df['lat_lon']\n",
    "del no_df['lat_lon']\n",
    "\n",
    "NO_width = no_df.shape[1]\n",
    "LU_width = df_cells.shape[1]\n",
    "no_df = add_columns(no_df)\n",
    "no_df = update_df_w_landuse(no_lat_lon_pts, cells, no_df, df_w_cells)"
   ]
  },
  {
   "cell_type": "code",
   "execution_count": 63,
   "metadata": {},
   "outputs": [],
   "source": [
    "no_df2 = pickle_df(no_df)"
   ]
  },
  {
   "cell_type": "code",
   "execution_count": 68,
   "metadata": {},
   "outputs": [
    {
     "name": "stderr",
     "output_type": "stream",
     "text": [
      "/Users/kaelanelson/anaconda/lib/python2.7/site-packages/ipykernel_launcher.py:16: FutureWarning: reshape is deprecated and will raise in a subsequent release. Please use .values.reshape(...) instead\n",
      "  app.launch_new_instance()\n"
     ]
    },
    {
     "name": "stdout",
     "output_type": "stream",
     "text": [
      "mean squared error of train data with model = 3.25633017e-05\n",
      "mean squared error of test data with model = 2.58392107433e-05\n",
      "Akaike information criterion = nan\n",
      "log likelihood of model = 2170.78950866\n",
      "training R^2 value = 0.0175989462569\n",
      "testing R^2 value = 0.0192736529715 \n",
      " \n",
      "\n"
     ]
    },
    {
     "name": "stderr",
     "output_type": "stream",
     "text": [
      "/Users/kaelanelson/anaconda/lib/python2.7/site-packages/ipykernel_launcher.py:22: FutureWarning: reshape is deprecated and will raise in a subsequent release. Please use .values.reshape(...) instead\n",
      "/Users/kaelanelson/anaconda/lib/python2.7/site-packages/ipykernel_launcher.py:23: FutureWarning: reshape is deprecated and will raise in a subsequent release. Please use .values.reshape(...) instead\n",
      "/Users/kaelanelson/anaconda/lib/python2.7/site-packages/ipykernel_launcher.py:26: FutureWarning: reshape is deprecated and will raise in a subsequent release. Please use .values.reshape(...) instead\n",
      "/Users/kaelanelson/anaconda/lib/python2.7/site-packages/ipykernel_launcher.py:27: FutureWarning: reshape is deprecated and will raise in a subsequent release. Please use .values.reshape(...) instead\n",
      "/Users/kaelanelson/anaconda/lib/python2.7/site-packages/ipykernel_launcher.py:33: RuntimeWarning: invalid value encountered in log\n"
     ]
    }
   ],
   "source": [
    "alpha = 0.0009\n",
    "\n",
    "x_train, x_test, y_train, y_test = split_train_test(no_df2)\n",
    "y_train_pred, y_test_pred, gp = gaussian(x_train, y_train, x_test, y_test, alpha)"
   ]
  },
  {
   "cell_type": "markdown",
   "metadata": {},
   "source": [
    "## OZO Data frame"
   ]
  },
  {
   "cell_type": "code",
   "execution_count": 70,
   "metadata": {},
   "outputs": [],
   "source": [
    "ozo_df = pd.read_csv(\"appendedNO.csv\")\n",
    "\n",
    "ozo_lat = no_df[\"Latitude\"]\n",
    "ozo_lon = no_df[\"Longitude\"]\n",
    "\n",
    "ozo_df['lat_lon'] = list(zip(ozo_lat, ozo_lon))\n",
    "ozo_lat_lon_pts = ozo_df['lat_lon']\n",
    "del ozo_df['lat_lon']\n",
    "\n",
    "OZO_width = no_df.shape[1]\n",
    "LU_width = df_cells.shape[1]\n",
    "ozo_df = add_columns(ozo_df)\n",
    "ozo_df = update_df_w_landuse(ozo_lat_lon_pts, cells, ozo_df, df_w_cells)"
   ]
  },
  {
   "cell_type": "code",
   "execution_count": 72,
   "metadata": {
    "collapsed": true
   },
   "outputs": [],
   "source": [
    "ozo_df2 = pickle_df(ozo_df)"
   ]
  },
  {
   "cell_type": "code",
   "execution_count": 73,
   "metadata": {},
   "outputs": [
    {
     "name": "stderr",
     "output_type": "stream",
     "text": [
      "/Users/kaelanelson/anaconda/lib/python2.7/site-packages/ipykernel_launcher.py:16: FutureWarning: reshape is deprecated and will raise in a subsequent release. Please use .values.reshape(...) instead\n",
      "  app.launch_new_instance()\n"
     ]
    },
    {
     "name": "stdout",
     "output_type": "stream",
     "text": [
      "mean squared error of train data with model = 3.13437658171e-05\n",
      "mean squared error of test data with model = 2.96779368081e-05\n",
      "Akaike information criterion = nan\n",
      "log likelihood of model = 2171.36993931\n",
      "training R^2 value = 0.0104307214472\n",
      "testing R^2 value = 0.0352364905692 \n",
      " \n",
      "\n"
     ]
    },
    {
     "name": "stderr",
     "output_type": "stream",
     "text": [
      "/Users/kaelanelson/anaconda/lib/python2.7/site-packages/ipykernel_launcher.py:22: FutureWarning: reshape is deprecated and will raise in a subsequent release. Please use .values.reshape(...) instead\n",
      "/Users/kaelanelson/anaconda/lib/python2.7/site-packages/ipykernel_launcher.py:23: FutureWarning: reshape is deprecated and will raise in a subsequent release. Please use .values.reshape(...) instead\n",
      "/Users/kaelanelson/anaconda/lib/python2.7/site-packages/ipykernel_launcher.py:26: FutureWarning: reshape is deprecated and will raise in a subsequent release. Please use .values.reshape(...) instead\n",
      "/Users/kaelanelson/anaconda/lib/python2.7/site-packages/ipykernel_launcher.py:27: FutureWarning: reshape is deprecated and will raise in a subsequent release. Please use .values.reshape(...) instead\n",
      "/Users/kaelanelson/anaconda/lib/python2.7/site-packages/ipykernel_launcher.py:33: RuntimeWarning: invalid value encountered in log\n"
     ]
    }
   ],
   "source": [
    "alpha = 0.0009\n",
    "\n",
    "x_train, x_test, y_train, y_test = split_train_test(ozo_df2)\n",
    "y_train_pred, y_test_pred, gp = gaussian(x_train, y_train, x_test, y_test, alpha)"
   ]
  },
  {
   "cell_type": "code",
   "execution_count": null,
   "metadata": {
    "collapsed": true
   },
   "outputs": [],
   "source": []
  }
 ],
 "metadata": {
  "kernelspec": {
   "display_name": "Python 2",
   "language": "python",
   "name": "python2"
  },
  "language_info": {
   "codemirror_mode": {
    "name": "ipython",
    "version": 2
   },
   "file_extension": ".py",
   "mimetype": "text/x-python",
   "name": "python",
   "nbconvert_exporter": "python",
   "pygments_lexer": "ipython2",
   "version": "2.7.13"
  }
 },
 "nbformat": 4,
 "nbformat_minor": 2
}
