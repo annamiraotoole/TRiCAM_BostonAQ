{
 "cells": [
  {
   "cell_type": "code",
   "execution_count": 1,
   "metadata": {
    "collapsed": true
   },
   "outputs": [],
   "source": [
    "import numpy as np\n",
    "import pandas as pd\n",
    "import os"
   ]
  },
  {
   "cell_type": "code",
   "execution_count": 2,
   "metadata": {
    "collapsed": true
   },
   "outputs": [],
   "source": [
    "#Obtain the county file names, in a list, from the State parent folder\n",
    "#Takes the parent directory (string) as parameter\n",
    "#returns the list containing all the file names\n",
    "\n",
    "def get_filenames(statename):\n",
    "    parentfolder = \"C:/Users/Anthony DePinho/Documents/REU 2017/TRiCAM_BostonAQ/StateData/\" + statename\n",
    "    filenames = []\n",
    "    filenames = os.listdir(parentfolder)\n",
    "    return filenames"
   ]
  },
  {
   "cell_type": "code",
   "execution_count": 3,
   "metadata": {
    "collapsed": true
   },
   "outputs": [],
   "source": [
    "#Concatenate Data frames\n",
    "\n",
    "def df_county_concatenation(statename):\n",
    "    statepath = \"C:/Users/Anthony DePinho/Documents/REU 2017/TRiCAM_BostonAQ/StateData/\" + statename\n",
    "    countydfs = []\n",
    "    countylist = []\n",
    "    countylist = os.listdir(statepath)\n",
    "    for x in range(0, len(countylist)):\n",
    "        df1 = pd.read_csv(statepath + \"/\" + countylist[x])\n",
    "        countydfs.append(df1)\n",
    "    result = pd.concat(countydfs)\n",
    "    return result\n",
    "    "
   ]
  },
  {
   "cell_type": "code",
   "execution_count": 5,
   "metadata": {
    "collapsed": true
   },
   "outputs": [],
   "source": [
    "'''takes in a pandas dataframe with column \"Units of Measure\" and \"Arithmetic Mean\", and replaces ml/m3 into ppm in the original dataframe'''\n",
    "def replace_units(df):\n",
    "    tf = df[\"Units of Measure\"] == (\"Micrograms/cubic meter (LC)\" or \"Micrograms/cubic meter (25 C)\")\n",
    "    df['Arithmetic Mean'] = np.where(tf, df['Arithmetic Mean']*0.001, df['Arithmetic Mean'])"
   ]
  },
  {
   "cell_type": "code",
   "execution_count": 6,
   "metadata": {
    "collapsed": true
   },
   "outputs": [],
   "source": [
    "def replace_units_ppb_to_ppm(df):\n",
    "    tf = df[\"Units of Measure\"] == \"Parts per billion\"\n",
    "    df['Arithmetic Mean'] = np.where(tf, df['Arithmetic Mean']*0.001, df['Arithmetic Mean'])"
   ]
  },
  {
   "cell_type": "code",
   "execution_count": 7,
   "metadata": {
    "collapsed": true
   },
   "outputs": [],
   "source": [
    "def filter_unique_sitekeys(str_parameter, original_df):\n",
    "    #Filters out for unique site keys\n",
    "    returning_df = original_df.groupby([\"Site_keys\"], axis=0).mean()\n",
    "    uniquemeans = list(returning_df[\"Arithmetic Mean\"])\n",
    "    site_keys = original_df[\"Site_keys\"].unique()\n",
    "    pollutant = np.repeat(str_parameter, len(uniquemeans))\n",
    "    LU = []\n",
    "\n",
    "    for i in site_keys:\n",
    "        ind = list(original_df[\"Site_keys\"] == i).index(True)\n",
    "        LU.append(list(original_df[\"LU\"])[ind])\n",
    "\n",
    "    d = {\"Parameter Name\": pollutant, \"Site_keys\": site_keys, \"LU\": LU, \"ppm\": uniquemeans}\n",
    "    returning_df = pd.DataFrame(data = d)\n",
    "    cols = [\"Parameter Name\", \"Site_keys\",  \"LU\", \"ppm\"]\n",
    "    returning_df = returning_df[cols]\n",
    "    return returning_df\n",
    "    "
   ]
  },
  {
   "cell_type": "code",
   "execution_count": 8,
   "metadata": {
    "collapsed": true
   },
   "outputs": [],
   "source": [
    "#Before anything can be done:\n",
    "#The component fil(pm_Statename) must be downloaded and put in PM25_Components Folder\n",
    "#The unzipped state folder must be downloaded and located in StateData\n",
    "pm25_param_name = \"Suspended particulate (TSP)\"\n",
    "#NOTE: in round 1, the param name for particulate was \"PM 2.5 - Local Conditions\"\n",
    "no2_param_name = \"Nitrogen dioxide (NO2)\"\n",
    "so2_param_name = \"Sulfur dioxide\""
   ]
  },
  {
   "cell_type": "code",
   "execution_count": 232,
   "metadata": {
    "collapsed": true
   },
   "outputs": [],
   "source": [
    "state = \"Rhode Island\"\n",
    "counties = get_filenames(state)\n",
    "fullstate = df_county_concatenation(state)"
   ]
  },
  {
   "cell_type": "code",
   "execution_count": 233,
   "metadata": {},
   "outputs": [
    {
     "name": "stdout",
     "output_type": "stream",
     "text": [
      "['Providence0.csv', 'Providence1.csv', 'Washington0.csv']\n"
     ]
    }
   ],
   "source": [
    "print(counties)"
   ]
  },
  {
   "cell_type": "code",
   "execution_count": 234,
   "metadata": {
    "scrolled": true
   },
   "outputs": [
    {
     "name": "stdout",
     "output_type": "stream",
     "text": [
      "file written\n"
     ]
    }
   ],
   "source": [
    "fullstate.to_csv(\"C:/Users/Anthony DePinho/Documents/REU 2017/TRiCAM_BostonAQ/StateData/States/\"+ state+ \".csv\")\n",
    "print(\"file written\")"
   ]
  },
  {
   "cell_type": "code",
   "execution_count": 235,
   "metadata": {
    "collapsed": true
   },
   "outputs": [],
   "source": [
    "#After the files are written, we must read in the pandas dataframe and make appropriate conversions into ppm\n",
    "replace_units(fullstate)"
   ]
  },
  {
   "cell_type": "code",
   "execution_count": 236,
   "metadata": {
    "scrolled": false
   },
   "outputs": [
    {
     "data": {
      "text/plain": [
       "array(['Suspended particulate (TSP)', 'Lead (TSP) STP',\n",
       "       'Sulfate (TSP) STP', 'Arsenic (TSP) STP', 'Beryllium (TSP) STP',\n",
       "       'Barium (TSP) STP', 'Cadmium (TSP) STP', 'Chromium (TSP) STP',\n",
       "       'Cobalt (TSP) STP', 'Copper (TSP) STP', 'Iron (TSP) STP',\n",
       "       'Manganese (TSP) STP', 'Molybdenum (TSP) STP', 'Nickel (TSP) STP',\n",
       "       'Vanadium (TSP) STP', 'Zinc (TSP) STP', 'Nitrate (TSP) STP',\n",
       "       'Soil index (COH)', 'Sulfur dioxide', 'Carbon monoxide', 'Ozone',\n",
       "       'Wind Speed - Scalar', 'Wind Direction - Scalar',\n",
       "       'Nitric oxide (NO)', 'Nitrogen dioxide (NO2)',\n",
       "       'Beta radiation (TSP)', 'Alpha radiation (TSP)'], dtype=object)"
      ]
     },
     "execution_count": 236,
     "metadata": {},
     "output_type": "execute_result"
    }
   ],
   "source": [
    "fullstate[\"Parameter Name\"].unique()"
   ]
  },
  {
   "cell_type": "code",
   "execution_count": 237,
   "metadata": {
    "collapsed": true,
    "scrolled": true
   },
   "outputs": [],
   "source": [
    "#Filter our full state data frame to PM 2.5 Local Conditions -- this was for round 1\n",
    "#micropercubic = fullstate.loc[fullstate['Units of Measure'] == \"Micrograms/cubic meter (25 C)\"]\n",
    "#local = micropercubic.loc[micropercubic['Parameter Name'] == pm25_param_name]\n",
    "#localconditions = local.loc[local[\"Pollutant Standard\"] == 'PM25 Annual 2012']\n",
    "#localconditions_filtereddf = localconditions.loc[:, [\"Parameter Name\", \"Site_keys\",  \"LU\", \"Arithmetic Mean\"]]"
   ]
  },
  {
   "cell_type": "code",
   "execution_count": 238,
   "metadata": {},
   "outputs": [],
   "source": [
    "#Filter our full state data frame to suspended particulate -- round 2\n",
    "micropercubic = fullstate.loc[fullstate['Units of Measure'] == \"Micrograms/cubic meter (25 C)\"]\n",
    "local = micropercubic.loc[micropercubic['Parameter Name'] == pm25_param_name]\n",
    "localconditions_filtereddf = local.loc[:, [\"Parameter Name\", \"Site_keys\",  \"LU\", \"Arithmetic Mean\"]]"
   ]
  },
  {
   "cell_type": "code",
   "execution_count": 239,
   "metadata": {
    "scrolled": true
   },
   "outputs": [
    {
     "data": {
      "text/html": [
       "<div>\n",
       "<style>\n",
       "    .dataframe thead tr:only-child th {\n",
       "        text-align: right;\n",
       "    }\n",
       "\n",
       "    .dataframe thead th {\n",
       "        text-align: left;\n",
       "    }\n",
       "\n",
       "    .dataframe tbody tr th {\n",
       "        vertical-align: top;\n",
       "    }\n",
       "</style>\n",
       "<table border=\"1\" class=\"dataframe\">\n",
       "  <thead>\n",
       "    <tr style=\"text-align: right;\">\n",
       "      <th></th>\n",
       "      <th>Parameter Name</th>\n",
       "      <th>Site_keys</th>\n",
       "      <th>LU</th>\n",
       "      <th>ppm</th>\n",
       "    </tr>\n",
       "  </thead>\n",
       "  <tbody>\n",
       "    <tr>\n",
       "      <th>0</th>\n",
       "      <td>Suspended particulate (TSP)</td>\n",
       "      <td>[ 41.7826   -71.472282]</td>\n",
       "      <td>{'Commercial and Services': 0.135, 'Residentia...</td>\n",
       "      <td>59.236364</td>\n",
       "    </tr>\n",
       "    <tr>\n",
       "      <th>1</th>\n",
       "      <td>Suspended particulate (TSP)</td>\n",
       "      <td>[ 41.841767 -71.360055]</td>\n",
       "      <td>{'Residential': 0.7964601769911505, 'Streams a...</td>\n",
       "      <td>52.172414</td>\n",
       "    </tr>\n",
       "    <tr>\n",
       "      <th>2</th>\n",
       "      <td>Suspended particulate (TSP)</td>\n",
       "      <td>[ 41.816489 -71.368943]</td>\n",
       "      <td>{'Commercial and Services': 0.03, 'Residential...</td>\n",
       "      <td>56.807018</td>\n",
       "    </tr>\n",
       "    <tr>\n",
       "      <th>3</th>\n",
       "      <td>Suspended particulate (TSP)</td>\n",
       "      <td>[ 41.832322 -71.416445]</td>\n",
       "      <td>{'Commercial and Services': 0.3382352941176471...</td>\n",
       "      <td>58.610169</td>\n",
       "    </tr>\n",
       "    <tr>\n",
       "      <th>4</th>\n",
       "      <td>Suspended particulate (TSP)</td>\n",
       "      <td>[ 41.825556 -71.405278]</td>\n",
       "      <td>{'Commercial and Services': 0.93, 'Residential...</td>\n",
       "      <td>83.353982</td>\n",
       "    </tr>\n",
       "    <tr>\n",
       "      <th>5</th>\n",
       "      <td>Suspended particulate (TSP)</td>\n",
       "      <td>[ 41.782878 -71.472282]</td>\n",
       "      <td>{'Commercial and Services': 0.115, 'Residentia...</td>\n",
       "      <td>65.357143</td>\n",
       "    </tr>\n",
       "    <tr>\n",
       "      <th>6</th>\n",
       "      <td>Suspended particulate (TSP)</td>\n",
       "      <td>[ 41.879267 -71.382   ]</td>\n",
       "      <td>{'Commercial and Services': 0.3489583333333333...</td>\n",
       "      <td>50.280702</td>\n",
       "    </tr>\n",
       "    <tr>\n",
       "      <th>7</th>\n",
       "      <td>Suspended particulate (TSP)</td>\n",
       "      <td>[ 41.877322 -71.3845  ]</td>\n",
       "      <td>{'Commercial and Services': 0.1560693641618497...</td>\n",
       "      <td>56.940299</td>\n",
       "    </tr>\n",
       "    <tr>\n",
       "      <th>8</th>\n",
       "      <td>Suspended particulate (TSP)</td>\n",
       "      <td>[ 41.8226   -71.410057]</td>\n",
       "      <td>{'Commercial and Services': 0.88, 'Industrial'...</td>\n",
       "      <td>51.829268</td>\n",
       "    </tr>\n",
       "    <tr>\n",
       "      <th>9</th>\n",
       "      <td>Suspended particulate (TSP)</td>\n",
       "      <td>[ 41.820933 -71.407557]</td>\n",
       "      <td>{'Commercial and Services': 0.72, 'Streams and...</td>\n",
       "      <td>49.461538</td>\n",
       "    </tr>\n",
       "    <tr>\n",
       "      <th>10</th>\n",
       "      <td>Suspended particulate (TSP)</td>\n",
       "      <td>[ 42.002876 -71.502562]</td>\n",
       "      <td>{'Commercial and Services': 0.2361111111111111...</td>\n",
       "      <td>50.649123</td>\n",
       "    </tr>\n",
       "    <tr>\n",
       "      <th>11</th>\n",
       "      <td>Suspended particulate (TSP)</td>\n",
       "      <td>[ 41.376489 -71.829791]</td>\n",
       "      <td>{'Commercial and Services': 0.41, 'Residential...</td>\n",
       "      <td>51.017544</td>\n",
       "    </tr>\n",
       "  </tbody>\n",
       "</table>\n",
       "</div>"
      ],
      "text/plain": [
       "                 Parameter Name                Site_keys  \\\n",
       "0   Suspended particulate (TSP)  [ 41.7826   -71.472282]   \n",
       "1   Suspended particulate (TSP)  [ 41.841767 -71.360055]   \n",
       "2   Suspended particulate (TSP)  [ 41.816489 -71.368943]   \n",
       "3   Suspended particulate (TSP)  [ 41.832322 -71.416445]   \n",
       "4   Suspended particulate (TSP)  [ 41.825556 -71.405278]   \n",
       "5   Suspended particulate (TSP)  [ 41.782878 -71.472282]   \n",
       "6   Suspended particulate (TSP)  [ 41.879267 -71.382   ]   \n",
       "7   Suspended particulate (TSP)  [ 41.877322 -71.3845  ]   \n",
       "8   Suspended particulate (TSP)  [ 41.8226   -71.410057]   \n",
       "9   Suspended particulate (TSP)  [ 41.820933 -71.407557]   \n",
       "10  Suspended particulate (TSP)  [ 42.002876 -71.502562]   \n",
       "11  Suspended particulate (TSP)  [ 41.376489 -71.829791]   \n",
       "\n",
       "                                                   LU        ppm  \n",
       "0   {'Commercial and Services': 0.135, 'Residentia...  59.236364  \n",
       "1   {'Residential': 0.7964601769911505, 'Streams a...  52.172414  \n",
       "2   {'Commercial and Services': 0.03, 'Residential...  56.807018  \n",
       "3   {'Commercial and Services': 0.3382352941176471...  58.610169  \n",
       "4   {'Commercial and Services': 0.93, 'Residential...  83.353982  \n",
       "5   {'Commercial and Services': 0.115, 'Residentia...  65.357143  \n",
       "6   {'Commercial and Services': 0.3489583333333333...  50.280702  \n",
       "7   {'Commercial and Services': 0.1560693641618497...  56.940299  \n",
       "8   {'Commercial and Services': 0.88, 'Industrial'...  51.829268  \n",
       "9   {'Commercial and Services': 0.72, 'Streams and...  49.461538  \n",
       "10  {'Commercial and Services': 0.2361111111111111...  50.649123  \n",
       "11  {'Commercial and Services': 0.41, 'Residential...  51.017544  "
      ]
     },
     "execution_count": 239,
     "metadata": {},
     "output_type": "execute_result"
    }
   ],
   "source": [
    "#Filters out for unique site keys\n",
    "localconditions_filtereddf_unique = filter_unique_sitekeys(pm25_param_name, localconditions_filtereddf)\n",
    "localconditions_filtereddf_unique"
   ]
  },
  {
   "cell_type": "code",
   "execution_count": 240,
   "metadata": {},
   "outputs": [
    {
     "name": "stdout",
     "output_type": "stream",
     "text": [
      "file written\n"
     ]
    }
   ],
   "source": [
    "localconditions_filtereddf_unique.to_csv(\"C:/Users/Anthony DePinho/Documents/REU 2017/TRiCAM_BostonAQ/StateData/PM25_States_Final/PM25_LocalConditions/\" + state+ \"_localconditions.csv\")\n",
    "print(\"file written\")"
   ]
  },
  {
   "cell_type": "code",
   "execution_count": 170,
   "metadata": {},
   "outputs": [
    {
     "ename": "FileNotFoundError",
     "evalue": "File b'C:/Users/Anthony DePinho/Documents/REU 2017/TRiCAM_BostonAQ/StateData/PM25_States_Final/PM25_Components/pm_Maryland.csv' does not exist",
     "output_type": "error",
     "traceback": [
      "\u001b[1;31m---------------------------------------------------------------------------\u001b[0m",
      "\u001b[1;31mFileNotFoundError\u001b[0m                         Traceback (most recent call last)",
      "\u001b[1;32m<ipython-input-170-a273336ea4f5>\u001b[0m in \u001b[0;36m<module>\u001b[1;34m()\u001b[0m\n\u001b[0;32m      1\u001b[0m \u001b[1;31m#combine local conditions and component into a single df\u001b[0m\u001b[1;33m\u001b[0m\u001b[1;33m\u001b[0m\u001b[0m\n\u001b[1;32m----> 2\u001b[1;33m \u001b[0mcomponentpms\u001b[0m \u001b[1;33m=\u001b[0m \u001b[0mpd\u001b[0m\u001b[1;33m.\u001b[0m\u001b[0mread_csv\u001b[0m\u001b[1;33m(\u001b[0m\u001b[1;34m\"C:/Users/Anthony DePinho/Documents/REU 2017/TRiCAM_BostonAQ/StateData/PM25_States_Final/PM25_Components/pm_\"\u001b[0m \u001b[1;33m+\u001b[0m \u001b[0mstate\u001b[0m \u001b[1;33m+\u001b[0m\u001b[1;34m\".csv\"\u001b[0m\u001b[1;33m)\u001b[0m\u001b[1;33m\u001b[0m\u001b[0m\n\u001b[0m\u001b[0;32m      3\u001b[0m \u001b[0mstate_pm\u001b[0m \u001b[1;33m=\u001b[0m \u001b[1;33m[\u001b[0m\u001b[0mlocalconditions_filtereddf_unique\u001b[0m\u001b[1;33m,\u001b[0m \u001b[0mcomponentpms\u001b[0m\u001b[1;33m]\u001b[0m\u001b[1;33m\u001b[0m\u001b[0m\n\u001b[0;32m      4\u001b[0m \u001b[0mstate_pm\u001b[0m \u001b[1;33m=\u001b[0m \u001b[0mpd\u001b[0m\u001b[1;33m.\u001b[0m\u001b[0mconcat\u001b[0m\u001b[1;33m(\u001b[0m\u001b[0mstate_pm\u001b[0m\u001b[1;33m)\u001b[0m\u001b[1;33m\u001b[0m\u001b[0m\n\u001b[0;32m      5\u001b[0m \u001b[0mcols\u001b[0m \u001b[1;33m=\u001b[0m \u001b[1;33m[\u001b[0m\u001b[1;34m\"Parameter Name\"\u001b[0m\u001b[1;33m,\u001b[0m \u001b[1;34m\"Site_keys\"\u001b[0m\u001b[1;33m,\u001b[0m  \u001b[1;34m\"LU\"\u001b[0m\u001b[1;33m,\u001b[0m \u001b[1;34m\"ppm\"\u001b[0m\u001b[1;33m]\u001b[0m\u001b[1;33m\u001b[0m\u001b[0m\n",
      "\u001b[1;32mC:\\Users\\Anthony DePinho\\Anaconda3\\lib\\site-packages\\pandas\\io\\parsers.py\u001b[0m in \u001b[0;36mparser_f\u001b[1;34m(filepath_or_buffer, sep, delimiter, header, names, index_col, usecols, squeeze, prefix, mangle_dupe_cols, dtype, engine, converters, true_values, false_values, skipinitialspace, skiprows, nrows, na_values, keep_default_na, na_filter, verbose, skip_blank_lines, parse_dates, infer_datetime_format, keep_date_col, date_parser, dayfirst, iterator, chunksize, compression, thousands, decimal, lineterminator, quotechar, quoting, escapechar, comment, encoding, dialect, tupleize_cols, error_bad_lines, warn_bad_lines, skipfooter, skip_footer, doublequote, delim_whitespace, as_recarray, compact_ints, use_unsigned, low_memory, buffer_lines, memory_map, float_precision)\u001b[0m\n\u001b[0;32m    653\u001b[0m                     skip_blank_lines=skip_blank_lines)\n\u001b[0;32m    654\u001b[0m \u001b[1;33m\u001b[0m\u001b[0m\n\u001b[1;32m--> 655\u001b[1;33m         \u001b[1;32mreturn\u001b[0m \u001b[0m_read\u001b[0m\u001b[1;33m(\u001b[0m\u001b[0mfilepath_or_buffer\u001b[0m\u001b[1;33m,\u001b[0m \u001b[0mkwds\u001b[0m\u001b[1;33m)\u001b[0m\u001b[1;33m\u001b[0m\u001b[0m\n\u001b[0m\u001b[0;32m    656\u001b[0m \u001b[1;33m\u001b[0m\u001b[0m\n\u001b[0;32m    657\u001b[0m     \u001b[0mparser_f\u001b[0m\u001b[1;33m.\u001b[0m\u001b[0m__name__\u001b[0m \u001b[1;33m=\u001b[0m \u001b[0mname\u001b[0m\u001b[1;33m\u001b[0m\u001b[0m\n",
      "\u001b[1;32mC:\\Users\\Anthony DePinho\\Anaconda3\\lib\\site-packages\\pandas\\io\\parsers.py\u001b[0m in \u001b[0;36m_read\u001b[1;34m(filepath_or_buffer, kwds)\u001b[0m\n\u001b[0;32m    403\u001b[0m \u001b[1;33m\u001b[0m\u001b[0m\n\u001b[0;32m    404\u001b[0m     \u001b[1;31m# Create the parser.\u001b[0m\u001b[1;33m\u001b[0m\u001b[1;33m\u001b[0m\u001b[0m\n\u001b[1;32m--> 405\u001b[1;33m     \u001b[0mparser\u001b[0m \u001b[1;33m=\u001b[0m \u001b[0mTextFileReader\u001b[0m\u001b[1;33m(\u001b[0m\u001b[0mfilepath_or_buffer\u001b[0m\u001b[1;33m,\u001b[0m \u001b[1;33m**\u001b[0m\u001b[0mkwds\u001b[0m\u001b[1;33m)\u001b[0m\u001b[1;33m\u001b[0m\u001b[0m\n\u001b[0m\u001b[0;32m    406\u001b[0m \u001b[1;33m\u001b[0m\u001b[0m\n\u001b[0;32m    407\u001b[0m     \u001b[1;32mif\u001b[0m \u001b[0mchunksize\u001b[0m \u001b[1;32mor\u001b[0m \u001b[0miterator\u001b[0m\u001b[1;33m:\u001b[0m\u001b[1;33m\u001b[0m\u001b[0m\n",
      "\u001b[1;32mC:\\Users\\Anthony DePinho\\Anaconda3\\lib\\site-packages\\pandas\\io\\parsers.py\u001b[0m in \u001b[0;36m__init__\u001b[1;34m(self, f, engine, **kwds)\u001b[0m\n\u001b[0;32m    760\u001b[0m             \u001b[0mself\u001b[0m\u001b[1;33m.\u001b[0m\u001b[0moptions\u001b[0m\u001b[1;33m[\u001b[0m\u001b[1;34m'has_index_names'\u001b[0m\u001b[1;33m]\u001b[0m \u001b[1;33m=\u001b[0m \u001b[0mkwds\u001b[0m\u001b[1;33m[\u001b[0m\u001b[1;34m'has_index_names'\u001b[0m\u001b[1;33m]\u001b[0m\u001b[1;33m\u001b[0m\u001b[0m\n\u001b[0;32m    761\u001b[0m \u001b[1;33m\u001b[0m\u001b[0m\n\u001b[1;32m--> 762\u001b[1;33m         \u001b[0mself\u001b[0m\u001b[1;33m.\u001b[0m\u001b[0m_make_engine\u001b[0m\u001b[1;33m(\u001b[0m\u001b[0mself\u001b[0m\u001b[1;33m.\u001b[0m\u001b[0mengine\u001b[0m\u001b[1;33m)\u001b[0m\u001b[1;33m\u001b[0m\u001b[0m\n\u001b[0m\u001b[0;32m    763\u001b[0m \u001b[1;33m\u001b[0m\u001b[0m\n\u001b[0;32m    764\u001b[0m     \u001b[1;32mdef\u001b[0m \u001b[0mclose\u001b[0m\u001b[1;33m(\u001b[0m\u001b[0mself\u001b[0m\u001b[1;33m)\u001b[0m\u001b[1;33m:\u001b[0m\u001b[1;33m\u001b[0m\u001b[0m\n",
      "\u001b[1;32mC:\\Users\\Anthony DePinho\\Anaconda3\\lib\\site-packages\\pandas\\io\\parsers.py\u001b[0m in \u001b[0;36m_make_engine\u001b[1;34m(self, engine)\u001b[0m\n\u001b[0;32m    964\u001b[0m     \u001b[1;32mdef\u001b[0m \u001b[0m_make_engine\u001b[0m\u001b[1;33m(\u001b[0m\u001b[0mself\u001b[0m\u001b[1;33m,\u001b[0m \u001b[0mengine\u001b[0m\u001b[1;33m=\u001b[0m\u001b[1;34m'c'\u001b[0m\u001b[1;33m)\u001b[0m\u001b[1;33m:\u001b[0m\u001b[1;33m\u001b[0m\u001b[0m\n\u001b[0;32m    965\u001b[0m         \u001b[1;32mif\u001b[0m \u001b[0mengine\u001b[0m \u001b[1;33m==\u001b[0m \u001b[1;34m'c'\u001b[0m\u001b[1;33m:\u001b[0m\u001b[1;33m\u001b[0m\u001b[0m\n\u001b[1;32m--> 966\u001b[1;33m             \u001b[0mself\u001b[0m\u001b[1;33m.\u001b[0m\u001b[0m_engine\u001b[0m \u001b[1;33m=\u001b[0m \u001b[0mCParserWrapper\u001b[0m\u001b[1;33m(\u001b[0m\u001b[0mself\u001b[0m\u001b[1;33m.\u001b[0m\u001b[0mf\u001b[0m\u001b[1;33m,\u001b[0m \u001b[1;33m**\u001b[0m\u001b[0mself\u001b[0m\u001b[1;33m.\u001b[0m\u001b[0moptions\u001b[0m\u001b[1;33m)\u001b[0m\u001b[1;33m\u001b[0m\u001b[0m\n\u001b[0m\u001b[0;32m    967\u001b[0m         \u001b[1;32melse\u001b[0m\u001b[1;33m:\u001b[0m\u001b[1;33m\u001b[0m\u001b[0m\n\u001b[0;32m    968\u001b[0m             \u001b[1;32mif\u001b[0m \u001b[0mengine\u001b[0m \u001b[1;33m==\u001b[0m \u001b[1;34m'python'\u001b[0m\u001b[1;33m:\u001b[0m\u001b[1;33m\u001b[0m\u001b[0m\n",
      "\u001b[1;32mC:\\Users\\Anthony DePinho\\Anaconda3\\lib\\site-packages\\pandas\\io\\parsers.py\u001b[0m in \u001b[0;36m__init__\u001b[1;34m(self, src, **kwds)\u001b[0m\n\u001b[0;32m   1580\u001b[0m         \u001b[0mkwds\u001b[0m\u001b[1;33m[\u001b[0m\u001b[1;34m'allow_leading_cols'\u001b[0m\u001b[1;33m]\u001b[0m \u001b[1;33m=\u001b[0m \u001b[0mself\u001b[0m\u001b[1;33m.\u001b[0m\u001b[0mindex_col\u001b[0m \u001b[1;32mis\u001b[0m \u001b[1;32mnot\u001b[0m \u001b[1;32mFalse\u001b[0m\u001b[1;33m\u001b[0m\u001b[0m\n\u001b[0;32m   1581\u001b[0m \u001b[1;33m\u001b[0m\u001b[0m\n\u001b[1;32m-> 1582\u001b[1;33m         \u001b[0mself\u001b[0m\u001b[1;33m.\u001b[0m\u001b[0m_reader\u001b[0m \u001b[1;33m=\u001b[0m \u001b[0mparsers\u001b[0m\u001b[1;33m.\u001b[0m\u001b[0mTextReader\u001b[0m\u001b[1;33m(\u001b[0m\u001b[0msrc\u001b[0m\u001b[1;33m,\u001b[0m \u001b[1;33m**\u001b[0m\u001b[0mkwds\u001b[0m\u001b[1;33m)\u001b[0m\u001b[1;33m\u001b[0m\u001b[0m\n\u001b[0m\u001b[0;32m   1583\u001b[0m \u001b[1;33m\u001b[0m\u001b[0m\n\u001b[0;32m   1584\u001b[0m         \u001b[1;31m# XXX\u001b[0m\u001b[1;33m\u001b[0m\u001b[1;33m\u001b[0m\u001b[0m\n",
      "\u001b[1;32mpandas\\_libs\\parsers.pyx\u001b[0m in \u001b[0;36mpandas._libs.parsers.TextReader.__cinit__ (pandas\\_libs\\parsers.c:4209)\u001b[1;34m()\u001b[0m\n",
      "\u001b[1;32mpandas\\_libs\\parsers.pyx\u001b[0m in \u001b[0;36mpandas._libs.parsers.TextReader._setup_parser_source (pandas\\_libs\\parsers.c:8873)\u001b[1;34m()\u001b[0m\n",
      "\u001b[1;31mFileNotFoundError\u001b[0m: File b'C:/Users/Anthony DePinho/Documents/REU 2017/TRiCAM_BostonAQ/StateData/PM25_States_Final/PM25_Components/pm_Maryland.csv' does not exist"
     ]
    }
   ],
   "source": [
    "#combine local conditions and component into a single df\n",
    "componentpms = pd.read_csv(\"C:/Users/Anthony DePinho/Documents/REU 2017/TRiCAM_BostonAQ/StateData/PM25_States_Final/PM25_Components/pm_\" + state +\".csv\")\n",
    "state_pm = [localconditions_filtereddf_unique, componentpms]\n",
    "state_pm = pd.concat(state_pm)\n",
    "cols = [\"Parameter Name\", \"Site_keys\",  \"LU\", \"ppm\"]\n",
    "state_pm = state_pm[cols]\n",
    "state_pm"
   ]
  },
  {
   "cell_type": "code",
   "execution_count": null,
   "metadata": {},
   "outputs": [],
   "source": [
    "state_pm.to_csv(\"C:/Users/Anthony DePinho/Documents/REU 2017/TRiCAM_BostonAQ/StateData/PM25_States_Final/PM25_By_State/PM25_\" + state +\".csv\")\n",
    "print(\"file written\")"
   ]
  },
  {
   "cell_type": "code",
   "execution_count": 241,
   "metadata": {
    "scrolled": true
   },
   "outputs": [
    {
     "data": {
      "text/html": [
       "<div>\n",
       "<style>\n",
       "    .dataframe thead tr:only-child th {\n",
       "        text-align: right;\n",
       "    }\n",
       "\n",
       "    .dataframe thead th {\n",
       "        text-align: left;\n",
       "    }\n",
       "\n",
       "    .dataframe tbody tr th {\n",
       "        vertical-align: top;\n",
       "    }\n",
       "</style>\n",
       "<table border=\"1\" class=\"dataframe\">\n",
       "  <thead>\n",
       "    <tr style=\"text-align: right;\">\n",
       "      <th></th>\n",
       "      <th>State Code</th>\n",
       "      <th>County Code</th>\n",
       "      <th>Site Num</th>\n",
       "      <th>Parameter Code</th>\n",
       "      <th>POC</th>\n",
       "      <th>Latitude</th>\n",
       "      <th>Longitude</th>\n",
       "      <th>Datum</th>\n",
       "      <th>Parameter Name</th>\n",
       "      <th>Sample Duration</th>\n",
       "      <th>...</th>\n",
       "      <th>10th Percentile</th>\n",
       "      <th>Local Site Name</th>\n",
       "      <th>Address</th>\n",
       "      <th>State Name</th>\n",
       "      <th>County Name</th>\n",
       "      <th>City Name</th>\n",
       "      <th>CBSA Name</th>\n",
       "      <th>Date of Last Change</th>\n",
       "      <th>Site_keys</th>\n",
       "      <th>LU</th>\n",
       "    </tr>\n",
       "  </thead>\n",
       "  <tbody>\n",
       "    <tr>\n",
       "      <th>25</th>\n",
       "      <td>44</td>\n",
       "      <td>7</td>\n",
       "      <td>11</td>\n",
       "      <td>42401</td>\n",
       "      <td>1</td>\n",
       "      <td>41.832322</td>\n",
       "      <td>-71.416445</td>\n",
       "      <td>WGS84</td>\n",
       "      <td>Sulfur dioxide</td>\n",
       "      <td>1 HOUR</td>\n",
       "      <td>...</td>\n",
       "      <td>7.6</td>\n",
       "      <td>NaN</td>\n",
       "      <td>HEALTH DEPT. PARKING LOT, STATE STREET</td>\n",
       "      <td>Rhode Island</td>\n",
       "      <td>Providence</td>\n",
       "      <td>Providence</td>\n",
       "      <td>Providence-Warwick, RI-MA</td>\n",
       "      <td>2013-02-16</td>\n",
       "      <td>[ 41.832322 -71.416445]</td>\n",
       "      <td>{'Commercial and Services': 0.3382352941176471...</td>\n",
       "    </tr>\n",
       "    <tr>\n",
       "      <th>26</th>\n",
       "      <td>44</td>\n",
       "      <td>7</td>\n",
       "      <td>11</td>\n",
       "      <td>42401</td>\n",
       "      <td>1</td>\n",
       "      <td>41.832322</td>\n",
       "      <td>-71.416445</td>\n",
       "      <td>WGS84</td>\n",
       "      <td>Sulfur dioxide</td>\n",
       "      <td>1 HOUR</td>\n",
       "      <td>...</td>\n",
       "      <td>1.1</td>\n",
       "      <td>NaN</td>\n",
       "      <td>HEALTH DEPT. PARKING LOT, STATE STREET</td>\n",
       "      <td>Rhode Island</td>\n",
       "      <td>Providence</td>\n",
       "      <td>Providence</td>\n",
       "      <td>Providence-Warwick, RI-MA</td>\n",
       "      <td>2013-02-16</td>\n",
       "      <td>[ 41.832322 -71.416445]</td>\n",
       "      <td>{'Commercial and Services': 0.3382352941176471...</td>\n",
       "    </tr>\n",
       "    <tr>\n",
       "      <th>27</th>\n",
       "      <td>44</td>\n",
       "      <td>7</td>\n",
       "      <td>11</td>\n",
       "      <td>42401</td>\n",
       "      <td>1</td>\n",
       "      <td>41.832322</td>\n",
       "      <td>-71.416445</td>\n",
       "      <td>WGS84</td>\n",
       "      <td>Sulfur dioxide</td>\n",
       "      <td>24-HR BLK AVG</td>\n",
       "      <td>...</td>\n",
       "      <td>3.2</td>\n",
       "      <td>NaN</td>\n",
       "      <td>HEALTH DEPT. PARKING LOT, STATE STREET</td>\n",
       "      <td>Rhode Island</td>\n",
       "      <td>Providence</td>\n",
       "      <td>Providence</td>\n",
       "      <td>Providence-Warwick, RI-MA</td>\n",
       "      <td>2013-02-16</td>\n",
       "      <td>[ 41.832322 -71.416445]</td>\n",
       "      <td>{'Commercial and Services': 0.3382352941176471...</td>\n",
       "    </tr>\n",
       "    <tr>\n",
       "      <th>28</th>\n",
       "      <td>44</td>\n",
       "      <td>7</td>\n",
       "      <td>11</td>\n",
       "      <td>42401</td>\n",
       "      <td>1</td>\n",
       "      <td>41.832322</td>\n",
       "      <td>-71.416445</td>\n",
       "      <td>WGS84</td>\n",
       "      <td>Sulfur dioxide</td>\n",
       "      <td>3-HR BLK AVG</td>\n",
       "      <td>...</td>\n",
       "      <td>1.6</td>\n",
       "      <td>NaN</td>\n",
       "      <td>HEALTH DEPT. PARKING LOT, STATE STREET</td>\n",
       "      <td>Rhode Island</td>\n",
       "      <td>Providence</td>\n",
       "      <td>Providence</td>\n",
       "      <td>Providence-Warwick, RI-MA</td>\n",
       "      <td>2013-02-16</td>\n",
       "      <td>[ 41.832322 -71.416445]</td>\n",
       "      <td>{'Commercial and Services': 0.3382352941176471...</td>\n",
       "    </tr>\n",
       "    <tr>\n",
       "      <th>32</th>\n",
       "      <td>44</td>\n",
       "      <td>7</td>\n",
       "      <td>12</td>\n",
       "      <td>42401</td>\n",
       "      <td>1</td>\n",
       "      <td>41.825556</td>\n",
       "      <td>-71.405278</td>\n",
       "      <td>NAD83</td>\n",
       "      <td>Sulfur dioxide</td>\n",
       "      <td>1 HOUR</td>\n",
       "      <td>...</td>\n",
       "      <td>9.9</td>\n",
       "      <td>Rockefeller Library</td>\n",
       "      <td>ROCKEFELLER LIBRARY, PROSPECT STREET.</td>\n",
       "      <td>Rhode Island</td>\n",
       "      <td>Providence</td>\n",
       "      <td>Providence</td>\n",
       "      <td>Providence-Warwick, RI-MA</td>\n",
       "      <td>2013-02-16</td>\n",
       "      <td>[ 41.825556 -71.405278]</td>\n",
       "      <td>{'Commercial and Services': 0.93, 'Residential...</td>\n",
       "    </tr>\n",
       "    <tr>\n",
       "      <th>33</th>\n",
       "      <td>44</td>\n",
       "      <td>7</td>\n",
       "      <td>12</td>\n",
       "      <td>42401</td>\n",
       "      <td>1</td>\n",
       "      <td>41.825556</td>\n",
       "      <td>-71.405278</td>\n",
       "      <td>NAD83</td>\n",
       "      <td>Sulfur dioxide</td>\n",
       "      <td>1 HOUR</td>\n",
       "      <td>...</td>\n",
       "      <td>2.6</td>\n",
       "      <td>Rockefeller Library</td>\n",
       "      <td>ROCKEFELLER LIBRARY, PROSPECT STREET.</td>\n",
       "      <td>Rhode Island</td>\n",
       "      <td>Providence</td>\n",
       "      <td>Providence</td>\n",
       "      <td>Providence-Warwick, RI-MA</td>\n",
       "      <td>2013-02-16</td>\n",
       "      <td>[ 41.825556 -71.405278]</td>\n",
       "      <td>{'Commercial and Services': 0.93, 'Residential...</td>\n",
       "    </tr>\n",
       "    <tr>\n",
       "      <th>34</th>\n",
       "      <td>44</td>\n",
       "      <td>7</td>\n",
       "      <td>12</td>\n",
       "      <td>42401</td>\n",
       "      <td>1</td>\n",
       "      <td>41.825556</td>\n",
       "      <td>-71.405278</td>\n",
       "      <td>NAD83</td>\n",
       "      <td>Sulfur dioxide</td>\n",
       "      <td>24-HR BLK AVG</td>\n",
       "      <td>...</td>\n",
       "      <td>4.1</td>\n",
       "      <td>Rockefeller Library</td>\n",
       "      <td>ROCKEFELLER LIBRARY, PROSPECT STREET.</td>\n",
       "      <td>Rhode Island</td>\n",
       "      <td>Providence</td>\n",
       "      <td>Providence</td>\n",
       "      <td>Providence-Warwick, RI-MA</td>\n",
       "      <td>2013-02-16</td>\n",
       "      <td>[ 41.825556 -71.405278]</td>\n",
       "      <td>{'Commercial and Services': 0.93, 'Residential...</td>\n",
       "    </tr>\n",
       "    <tr>\n",
       "      <th>35</th>\n",
       "      <td>44</td>\n",
       "      <td>7</td>\n",
       "      <td>12</td>\n",
       "      <td>42401</td>\n",
       "      <td>1</td>\n",
       "      <td>41.825556</td>\n",
       "      <td>-71.405278</td>\n",
       "      <td>NAD83</td>\n",
       "      <td>Sulfur dioxide</td>\n",
       "      <td>3-HR BLK AVG</td>\n",
       "      <td>...</td>\n",
       "      <td>2.6</td>\n",
       "      <td>Rockefeller Library</td>\n",
       "      <td>ROCKEFELLER LIBRARY, PROSPECT STREET.</td>\n",
       "      <td>Rhode Island</td>\n",
       "      <td>Providence</td>\n",
       "      <td>Providence</td>\n",
       "      <td>Providence-Warwick, RI-MA</td>\n",
       "      <td>2013-02-16</td>\n",
       "      <td>[ 41.825556 -71.405278]</td>\n",
       "      <td>{'Commercial and Services': 0.93, 'Residential...</td>\n",
       "    </tr>\n",
       "    <tr>\n",
       "      <th>50</th>\n",
       "      <td>44</td>\n",
       "      <td>7</td>\n",
       "      <td>1007</td>\n",
       "      <td>42401</td>\n",
       "      <td>1</td>\n",
       "      <td>41.820933</td>\n",
       "      <td>-71.407557</td>\n",
       "      <td>WGS84</td>\n",
       "      <td>Sulfur dioxide</td>\n",
       "      <td>1 HOUR</td>\n",
       "      <td>...</td>\n",
       "      <td>7.6</td>\n",
       "      <td>NaN</td>\n",
       "      <td>TRAILER, 120 DYER STREET.</td>\n",
       "      <td>Rhode Island</td>\n",
       "      <td>Providence</td>\n",
       "      <td>Providence</td>\n",
       "      <td>Providence-Warwick, RI-MA</td>\n",
       "      <td>2013-02-16</td>\n",
       "      <td>[ 41.820933 -71.407557]</td>\n",
       "      <td>{'Commercial and Services': 0.72, 'Streams and...</td>\n",
       "    </tr>\n",
       "    <tr>\n",
       "      <th>51</th>\n",
       "      <td>44</td>\n",
       "      <td>7</td>\n",
       "      <td>1007</td>\n",
       "      <td>42401</td>\n",
       "      <td>1</td>\n",
       "      <td>41.820933</td>\n",
       "      <td>-71.407557</td>\n",
       "      <td>WGS84</td>\n",
       "      <td>Sulfur dioxide</td>\n",
       "      <td>1 HOUR</td>\n",
       "      <td>...</td>\n",
       "      <td>1.1</td>\n",
       "      <td>NaN</td>\n",
       "      <td>TRAILER, 120 DYER STREET.</td>\n",
       "      <td>Rhode Island</td>\n",
       "      <td>Providence</td>\n",
       "      <td>Providence</td>\n",
       "      <td>Providence-Warwick, RI-MA</td>\n",
       "      <td>2013-02-16</td>\n",
       "      <td>[ 41.820933 -71.407557]</td>\n",
       "      <td>{'Commercial and Services': 0.72, 'Streams and...</td>\n",
       "    </tr>\n",
       "    <tr>\n",
       "      <th>52</th>\n",
       "      <td>44</td>\n",
       "      <td>7</td>\n",
       "      <td>1007</td>\n",
       "      <td>42401</td>\n",
       "      <td>1</td>\n",
       "      <td>41.820933</td>\n",
       "      <td>-71.407557</td>\n",
       "      <td>WGS84</td>\n",
       "      <td>Sulfur dioxide</td>\n",
       "      <td>24-HR BLK AVG</td>\n",
       "      <td>...</td>\n",
       "      <td>2.7</td>\n",
       "      <td>NaN</td>\n",
       "      <td>TRAILER, 120 DYER STREET.</td>\n",
       "      <td>Rhode Island</td>\n",
       "      <td>Providence</td>\n",
       "      <td>Providence</td>\n",
       "      <td>Providence-Warwick, RI-MA</td>\n",
       "      <td>2013-02-16</td>\n",
       "      <td>[ 41.820933 -71.407557]</td>\n",
       "      <td>{'Commercial and Services': 0.72, 'Streams and...</td>\n",
       "    </tr>\n",
       "    <tr>\n",
       "      <th>53</th>\n",
       "      <td>44</td>\n",
       "      <td>7</td>\n",
       "      <td>1007</td>\n",
       "      <td>42401</td>\n",
       "      <td>1</td>\n",
       "      <td>41.820933</td>\n",
       "      <td>-71.407557</td>\n",
       "      <td>WGS84</td>\n",
       "      <td>Sulfur dioxide</td>\n",
       "      <td>3-HR BLK AVG</td>\n",
       "      <td>...</td>\n",
       "      <td>1.6</td>\n",
       "      <td>NaN</td>\n",
       "      <td>TRAILER, 120 DYER STREET.</td>\n",
       "      <td>Rhode Island</td>\n",
       "      <td>Providence</td>\n",
       "      <td>Providence</td>\n",
       "      <td>Providence-Warwick, RI-MA</td>\n",
       "      <td>2013-02-16</td>\n",
       "      <td>[ 41.820933 -71.407557]</td>\n",
       "      <td>{'Commercial and Services': 0.72, 'Streams and...</td>\n",
       "    </tr>\n",
       "  </tbody>\n",
       "</table>\n",
       "<p>12 rows × 57 columns</p>\n",
       "</div>"
      ],
      "text/plain": [
       "    State Code  County Code  Site Num  Parameter Code  POC   Latitude  \\\n",
       "25          44            7        11           42401    1  41.832322   \n",
       "26          44            7        11           42401    1  41.832322   \n",
       "27          44            7        11           42401    1  41.832322   \n",
       "28          44            7        11           42401    1  41.832322   \n",
       "32          44            7        12           42401    1  41.825556   \n",
       "33          44            7        12           42401    1  41.825556   \n",
       "34          44            7        12           42401    1  41.825556   \n",
       "35          44            7        12           42401    1  41.825556   \n",
       "50          44            7      1007           42401    1  41.820933   \n",
       "51          44            7      1007           42401    1  41.820933   \n",
       "52          44            7      1007           42401    1  41.820933   \n",
       "53          44            7      1007           42401    1  41.820933   \n",
       "\n",
       "    Longitude  Datum  Parameter Name Sample Duration  \\\n",
       "25 -71.416445  WGS84  Sulfur dioxide          1 HOUR   \n",
       "26 -71.416445  WGS84  Sulfur dioxide          1 HOUR   \n",
       "27 -71.416445  WGS84  Sulfur dioxide   24-HR BLK AVG   \n",
       "28 -71.416445  WGS84  Sulfur dioxide    3-HR BLK AVG   \n",
       "32 -71.405278  NAD83  Sulfur dioxide          1 HOUR   \n",
       "33 -71.405278  NAD83  Sulfur dioxide          1 HOUR   \n",
       "34 -71.405278  NAD83  Sulfur dioxide   24-HR BLK AVG   \n",
       "35 -71.405278  NAD83  Sulfur dioxide    3-HR BLK AVG   \n",
       "50 -71.407557  WGS84  Sulfur dioxide          1 HOUR   \n",
       "51 -71.407557  WGS84  Sulfur dioxide          1 HOUR   \n",
       "52 -71.407557  WGS84  Sulfur dioxide   24-HR BLK AVG   \n",
       "53 -71.407557  WGS84  Sulfur dioxide    3-HR BLK AVG   \n",
       "\n",
       "                          ...                         10th Percentile  \\\n",
       "25                        ...                                     7.6   \n",
       "26                        ...                                     1.1   \n",
       "27                        ...                                     3.2   \n",
       "28                        ...                                     1.6   \n",
       "32                        ...                                     9.9   \n",
       "33                        ...                                     2.6   \n",
       "34                        ...                                     4.1   \n",
       "35                        ...                                     2.6   \n",
       "50                        ...                                     7.6   \n",
       "51                        ...                                     1.1   \n",
       "52                        ...                                     2.7   \n",
       "53                        ...                                     1.6   \n",
       "\n",
       "        Local Site Name                                 Address    State Name  \\\n",
       "25                  NaN  HEALTH DEPT. PARKING LOT, STATE STREET  Rhode Island   \n",
       "26                  NaN  HEALTH DEPT. PARKING LOT, STATE STREET  Rhode Island   \n",
       "27                  NaN  HEALTH DEPT. PARKING LOT, STATE STREET  Rhode Island   \n",
       "28                  NaN  HEALTH DEPT. PARKING LOT, STATE STREET  Rhode Island   \n",
       "32  Rockefeller Library   ROCKEFELLER LIBRARY, PROSPECT STREET.  Rhode Island   \n",
       "33  Rockefeller Library   ROCKEFELLER LIBRARY, PROSPECT STREET.  Rhode Island   \n",
       "34  Rockefeller Library   ROCKEFELLER LIBRARY, PROSPECT STREET.  Rhode Island   \n",
       "35  Rockefeller Library   ROCKEFELLER LIBRARY, PROSPECT STREET.  Rhode Island   \n",
       "50                  NaN               TRAILER, 120 DYER STREET.  Rhode Island   \n",
       "51                  NaN               TRAILER, 120 DYER STREET.  Rhode Island   \n",
       "52                  NaN               TRAILER, 120 DYER STREET.  Rhode Island   \n",
       "53                  NaN               TRAILER, 120 DYER STREET.  Rhode Island   \n",
       "\n",
       "   County Name   City Name                  CBSA Name  Date of Last Change  \\\n",
       "25  Providence  Providence  Providence-Warwick, RI-MA           2013-02-16   \n",
       "26  Providence  Providence  Providence-Warwick, RI-MA           2013-02-16   \n",
       "27  Providence  Providence  Providence-Warwick, RI-MA           2013-02-16   \n",
       "28  Providence  Providence  Providence-Warwick, RI-MA           2013-02-16   \n",
       "32  Providence  Providence  Providence-Warwick, RI-MA           2013-02-16   \n",
       "33  Providence  Providence  Providence-Warwick, RI-MA           2013-02-16   \n",
       "34  Providence  Providence  Providence-Warwick, RI-MA           2013-02-16   \n",
       "35  Providence  Providence  Providence-Warwick, RI-MA           2013-02-16   \n",
       "50  Providence  Providence  Providence-Warwick, RI-MA           2013-02-16   \n",
       "51  Providence  Providence  Providence-Warwick, RI-MA           2013-02-16   \n",
       "52  Providence  Providence  Providence-Warwick, RI-MA           2013-02-16   \n",
       "53  Providence  Providence  Providence-Warwick, RI-MA           2013-02-16   \n",
       "\n",
       "                  Site_keys                                                 LU  \n",
       "25  [ 41.832322 -71.416445]  {'Commercial and Services': 0.3382352941176471...  \n",
       "26  [ 41.832322 -71.416445]  {'Commercial and Services': 0.3382352941176471...  \n",
       "27  [ 41.832322 -71.416445]  {'Commercial and Services': 0.3382352941176471...  \n",
       "28  [ 41.832322 -71.416445]  {'Commercial and Services': 0.3382352941176471...  \n",
       "32  [ 41.825556 -71.405278]  {'Commercial and Services': 0.93, 'Residential...  \n",
       "33  [ 41.825556 -71.405278]  {'Commercial and Services': 0.93, 'Residential...  \n",
       "34  [ 41.825556 -71.405278]  {'Commercial and Services': 0.93, 'Residential...  \n",
       "35  [ 41.825556 -71.405278]  {'Commercial and Services': 0.93, 'Residential...  \n",
       "50  [ 41.820933 -71.407557]  {'Commercial and Services': 0.72, 'Streams and...  \n",
       "51  [ 41.820933 -71.407557]  {'Commercial and Services': 0.72, 'Streams and...  \n",
       "52  [ 41.820933 -71.407557]  {'Commercial and Services': 0.72, 'Streams and...  \n",
       "53  [ 41.820933 -71.407557]  {'Commercial and Services': 0.72, 'Streams and...  \n",
       "\n",
       "[12 rows x 57 columns]"
      ]
     },
     "execution_count": 241,
     "metadata": {},
     "output_type": "execute_result"
    }
   ],
   "source": [
    "sulfurdioxide = fullstate.loc[fullstate['Parameter Name'] == so2_param_name]\n",
    "sulfurdioxide"
   ]
  },
  {
   "cell_type": "code",
   "execution_count": 242,
   "metadata": {},
   "outputs": [
    {
     "name": "stderr",
     "output_type": "stream",
     "text": [
      "C:\\Users\\Anthony DePinho\\Anaconda3\\lib\\site-packages\\ipykernel_launcher.py:3: SettingWithCopyWarning: \n",
      "A value is trying to be set on a copy of a slice from a DataFrame.\n",
      "Try using .loc[row_indexer,col_indexer] = value instead\n",
      "\n",
      "See the caveats in the documentation: http://pandas.pydata.org/pandas-docs/stable/indexing.html#indexing-view-versus-copy\n",
      "  This is separate from the ipykernel package so we can avoid doing imports until\n"
     ]
    }
   ],
   "source": [
    "replace_units_ppb_to_ppm(sulfurdioxide)"
   ]
  },
  {
   "cell_type": "code",
   "execution_count": 243,
   "metadata": {},
   "outputs": [
    {
     "data": {
      "text/html": [
       "<div>\n",
       "<style>\n",
       "    .dataframe thead tr:only-child th {\n",
       "        text-align: right;\n",
       "    }\n",
       "\n",
       "    .dataframe thead th {\n",
       "        text-align: left;\n",
       "    }\n",
       "\n",
       "    .dataframe tbody tr th {\n",
       "        vertical-align: top;\n",
       "    }\n",
       "</style>\n",
       "<table border=\"1\" class=\"dataframe\">\n",
       "  <thead>\n",
       "    <tr style=\"text-align: right;\">\n",
       "      <th></th>\n",
       "      <th>Parameter Name</th>\n",
       "      <th>Site_keys</th>\n",
       "      <th>LU</th>\n",
       "      <th>ppm</th>\n",
       "    </tr>\n",
       "  </thead>\n",
       "  <tbody>\n",
       "    <tr>\n",
       "      <th>0</th>\n",
       "      <td>Sulfur dioxide</td>\n",
       "      <td>[ 41.832322 -71.416445]</td>\n",
       "      <td>{'Commercial and Services': 0.3382352941176471...</td>\n",
       "      <td>0.015484</td>\n",
       "    </tr>\n",
       "    <tr>\n",
       "      <th>1</th>\n",
       "      <td>Sulfur dioxide</td>\n",
       "      <td>[ 41.825556 -71.405278]</td>\n",
       "      <td>{'Commercial and Services': 0.93, 'Residential...</td>\n",
       "      <td>0.013782</td>\n",
       "    </tr>\n",
       "    <tr>\n",
       "      <th>2</th>\n",
       "      <td>Sulfur dioxide</td>\n",
       "      <td>[ 41.820933 -71.407557]</td>\n",
       "      <td>{'Commercial and Services': 0.72, 'Streams and...</td>\n",
       "      <td>0.013829</td>\n",
       "    </tr>\n",
       "  </tbody>\n",
       "</table>\n",
       "</div>"
      ],
      "text/plain": [
       "   Parameter Name                Site_keys  \\\n",
       "0  Sulfur dioxide  [ 41.832322 -71.416445]   \n",
       "1  Sulfur dioxide  [ 41.825556 -71.405278]   \n",
       "2  Sulfur dioxide  [ 41.820933 -71.407557]   \n",
       "\n",
       "                                                  LU       ppm  \n",
       "0  {'Commercial and Services': 0.3382352941176471...  0.015484  \n",
       "1  {'Commercial and Services': 0.93, 'Residential...  0.013782  \n",
       "2  {'Commercial and Services': 0.72, 'Streams and...  0.013829  "
      ]
     },
     "execution_count": 243,
     "metadata": {},
     "output_type": "execute_result"
    }
   ],
   "source": [
    "#Sample Duration: 1 Hour\n",
    "#Metric Used: observed values\n",
    "sulfurdioxide_filtereddf = sulfurdioxide.loc[sulfurdioxide['Sample Duration'] == \"1 HOUR\"]\n",
    "sulfurdioxide_filtereddf = sulfurdioxide_filtereddf.loc[sulfurdioxide_filtereddf['Metric Used'] == \"Observed Values\"]\n",
    "cols = [\"Parameter Name\", \"Site_keys\",  \"LU\", \"Arithmetic Mean\"]\n",
    "sulfurdioxide_filtereddf = sulfurdioxide_filtereddf[cols]\n",
    "sulfurdioxide_filtereddf_final = filter_unique_sitekeys(so2_param_name, sulfurdioxide_filtereddf)\n",
    "sulfurdioxide_filtereddf_final"
   ]
  },
  {
   "cell_type": "code",
   "execution_count": 244,
   "metadata": {
    "scrolled": false
   },
   "outputs": [
    {
     "name": "stderr",
     "output_type": "stream",
     "text": [
      "C:\\Users\\Anthony DePinho\\Anaconda3\\lib\\site-packages\\ipykernel_launcher.py:3: SettingWithCopyWarning: \n",
      "A value is trying to be set on a copy of a slice from a DataFrame.\n",
      "Try using .loc[row_indexer,col_indexer] = value instead\n",
      "\n",
      "See the caveats in the documentation: http://pandas.pydata.org/pandas-docs/stable/indexing.html#indexing-view-versus-copy\n",
      "  This is separate from the ipykernel package so we can avoid doing imports until\n"
     ]
    },
    {
     "data": {
      "text/html": [
       "<div>\n",
       "<style>\n",
       "    .dataframe thead tr:only-child th {\n",
       "        text-align: right;\n",
       "    }\n",
       "\n",
       "    .dataframe thead th {\n",
       "        text-align: left;\n",
       "    }\n",
       "\n",
       "    .dataframe tbody tr th {\n",
       "        vertical-align: top;\n",
       "    }\n",
       "</style>\n",
       "<table border=\"1\" class=\"dataframe\">\n",
       "  <thead>\n",
       "    <tr style=\"text-align: right;\">\n",
       "      <th></th>\n",
       "      <th>Parameter Name</th>\n",
       "      <th>Site_keys</th>\n",
       "      <th>LU</th>\n",
       "      <th>ppm</th>\n",
       "    </tr>\n",
       "  </thead>\n",
       "  <tbody>\n",
       "    <tr>\n",
       "      <th>0</th>\n",
       "      <td>Nitrogen dioxide (NO2)</td>\n",
       "      <td>[ 41.820933 -71.407557]</td>\n",
       "      <td>{'Commercial and Services': 0.72, 'Streams and...</td>\n",
       "      <td>0.035406</td>\n",
       "    </tr>\n",
       "  </tbody>\n",
       "</table>\n",
       "</div>"
      ],
      "text/plain": [
       "           Parameter Name                Site_keys  \\\n",
       "0  Nitrogen dioxide (NO2)  [ 41.820933 -71.407557]   \n",
       "\n",
       "                                                  LU       ppm  \n",
       "0  {'Commercial and Services': 0.72, 'Streams and...  0.035406  "
      ]
     },
     "execution_count": 244,
     "metadata": {},
     "output_type": "execute_result"
    }
   ],
   "source": [
    "nitrogendioxide = fullstate.loc[fullstate['Parameter Name'] == no2_param_name]\n",
    "replace_units_ppb_to_ppm(nitrogendioxide)\n",
    "#Sample Duration: 1 Hour\n",
    "#Metric Used: observed values\n",
    "nitrogendioxide_filtereddf = nitrogendioxide.loc[nitrogendioxide['Sample Duration'] == \"1 HOUR\"]\n",
    "nitrogendioxide_filtereddf = nitrogendioxide_filtereddf.loc[nitrogendioxide_filtereddf['Metric Used'] == \"Observed values\"]\n",
    "cols = [\"Parameter Name\", \"Site_keys\",  \"LU\", \"Arithmetic Mean\"]\n",
    "nitrogendioxide_filtereddf = nitrogendioxide_filtereddf[cols]\n",
    "nitrogendioxide_filtereddf_final = filter_unique_sitekeys(no2_param_name, nitrogendioxide_filtereddf)\n",
    "nitrogendioxide_filtereddf_final"
   ]
  },
  {
   "cell_type": "code",
   "execution_count": 245,
   "metadata": {
    "scrolled": true
   },
   "outputs": [
    {
     "name": "stdout",
     "output_type": "stream",
     "text": [
      "files written\n"
     ]
    }
   ],
   "source": [
    "sulfurdioxide_filtereddf_final.to_csv(\"C:/Users/Anthony DePinho/Documents/REU 2017/TRiCAM_BostonAQ/StateData/SO2_States_Final/SO2_\"+state + \".csv\")\n",
    "nitrogendioxide_filtereddf_final.to_csv(\"C:/Users/Anthony DePinho/Documents/REU 2017/TRiCAM_BostonAQ/StateData/NO2_States_Final/NO2_\"+state + \".csv\")\n",
    "print(\"files written\")"
   ]
  },
  {
   "cell_type": "code",
   "execution_count": 246,
   "metadata": {
    "collapsed": true
   },
   "outputs": [],
   "source": [
    "#Compile the PM2.5, SO2, and NO2 data frames into a single data frame, one for each pollutant\n",
    "PM25_path = \"C:/Users/Anthony DePinho/Documents/REU 2017/TRiCAM_BostonAQ/StateData/PM25_States_Final/PM25_By_State\"\n",
    "PM25_files = os.listdir(PM25_path)\n",
    "\n",
    "SO2_path = \"C:/Users/Anthony DePinho/Documents/REU 2017/TRiCAM_BostonAQ/StateData/SO2_States_Final\"\n",
    "SO2_files = os.listdir(SO2_path)\n",
    "\n",
    "NO2_path = \"C:/Users/Anthony DePinho/Documents/REU 2017/TRiCAM_BostonAQ/StateData/NO2_States_Final\"\n",
    "NO2_files = os.listdir(NO2_path)"
   ]
  },
  {
   "cell_type": "code",
   "execution_count": 248,
   "metadata": {},
   "outputs": [
    {
     "data": {
      "text/plain": [
       "['NO2_Alabama.csv',\n",
       " 'NO2_Arizona.csv',\n",
       " 'NO2_California.csv',\n",
       " 'NO2_Connecticut.csv',\n",
       " 'NO2_Delaware.csv',\n",
       " 'NO2_Florida.csv',\n",
       " 'NO2_Georgia.csv',\n",
       " 'NO2_Illinois.csv',\n",
       " 'NO2_Maine.csv',\n",
       " 'NO2_Maryland.csv',\n",
       " 'NO2_Massachusetts.csv',\n",
       " 'NO2_New Hampshire.csv',\n",
       " 'NO2_New Jersey.csv',\n",
       " 'NO2_New York.csv',\n",
       " 'NO2_Pennsylvania.csv',\n",
       " 'NO2_Rhode Island.csv']"
      ]
     },
     "execution_count": 248,
     "metadata": {},
     "output_type": "execute_result"
    }
   ],
   "source": [
    "NO2_files"
   ]
  },
  {
   "cell_type": "code",
   "execution_count": 249,
   "metadata": {
    "collapsed": true
   },
   "outputs": [],
   "source": [
    "PM25_list = []\n",
    "SO2_list = []\n",
    "NO2_list = []\n",
    "\n",
    "#for x in range(0, len(PM25_files)):\n",
    "#    df1 = pd.read_csv(PM25_path + \"/\" + PM25_files[x])\n",
    "#    PM25_list.append(df1)\n",
    "\n",
    "for y in range(0, len(SO2_files)):\n",
    "    df2 = pd.read_csv(SO2_path + \"/\" + SO2_files[y])\n",
    "    SO2_list.append(df2)\n",
    "\n",
    "for z in range(0, len(NO2_files)):\n",
    "    df3 = pd.read_csv(NO2_path + \"/\" + NO2_files[z])\n",
    "    NO2_list.append(df3)\n",
    "        \n",
    "#PM25_result = pd.concat(PM25_list)\n",
    "SO2_result = pd.concat(SO2_list)\n",
    "NO2_result = pd.concat(NO2_list)\n",
    "\n",
    "cols = [\"Parameter Name\", \"Site_keys\",  \"LU\", \"ppm\"]\n",
    "#PM25_result = PM25_result[cols]\n",
    "SO2_result = SO2_result[cols]\n",
    "NO2_result = NO2_result[cols]"
   ]
  },
  {
   "cell_type": "code",
   "execution_count": 250,
   "metadata": {},
   "outputs": [
    {
     "name": "stdout",
     "output_type": "stream",
     "text": [
      "files written\n"
     ]
    }
   ],
   "source": [
    "#Write the concatenated dataframes to files\n",
    "#PM25_result.to_csv(\"C:/Users/Anthony DePinho/Documents/REU 2017/TRiCAM_BostonAQ/StateData/PM25_COMPLETE.csv\")\n",
    "SO2_result.to_csv(\"C:/Users/Anthony DePinho/Documents/REU 2017/TRiCAM_BostonAQ/StateData/SO2_COMPLETE.csv\")\n",
    "NO2_result.to_csv(\"C:/Users/Anthony DePinho/Documents/REU 2017/TRiCAM_BostonAQ/StateData/NO2_COMPLETE.csv\")\n",
    "print(\"files written\")"
   ]
  },
  {
   "cell_type": "code",
   "execution_count": null,
   "metadata": {
    "collapsed": true
   },
   "outputs": [],
   "source": []
  }
 ],
 "metadata": {
  "kernelspec": {
   "display_name": "Python 3",
   "language": "python",
   "name": "python3"
  },
  "language_info": {
   "codemirror_mode": {
    "name": "ipython",
    "version": 3
   },
   "file_extension": ".py",
   "mimetype": "text/x-python",
   "name": "python",
   "nbconvert_exporter": "python",
   "pygments_lexer": "ipython3",
   "version": "3.6.1"
  }
 },
 "nbformat": 4,
 "nbformat_minor": 2
}
