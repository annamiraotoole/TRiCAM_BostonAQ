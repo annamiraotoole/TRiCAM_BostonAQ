{
 "cells": [
  {
   "cell_type": "code",
   "execution_count": 50,
   "metadata": {},
   "outputs": [],
   "source": [
    "import numpy as np\n",
    "import pandas as pd\n",
    "import time\n",
    "from shapely.geometry import Point\n",
    "from shapely.geometry.polygon import Polygon\n",
    "from collections import Counter\n",
    "from matplotlib import pyplot as plt\n",
    "%matplotlib inline"
   ]
  },
  {
   "cell_type": "code",
   "execution_count": 51,
   "metadata": {},
   "outputs": [],
   "source": [
    "#read in a csv file\n",
    "data_land = pd.read_csv(\"land_use_medium.csv\")\n",
    "data_open = pd.read_csv(\"open_space_medium.csv\")\n",
    "#pull out only the shape column which are all in string format\n",
    "shape_open = data_open[\"SHAPE\"]\n",
    "shape_col = data_land[\"SHAPE\"]\n",
    "#pull out column of attributes you are also using \n",
    "usage_data = data_land[\"LU05_DESC\"]"
   ]
  },
  {
   "cell_type": "code",
   "execution_count": 52,
   "metadata": {
    "collapsed": true
   },
   "outputs": [],
   "source": [
    "def generate_grid(x, y, cell_num):\n",
    "    \"\"\" Inputs: array with latitude min and latitude max, array with longitude min and longitude max, and number of cells\n",
    "    Actions: Creates a grid using this data\n",
    "    Outputs: an array of the x ticks, an array of the y ticks, the x and y widths of a single cell \"\"\"\n",
    "\n",
    "    x_min = x[0]\n",
    "    x_max = x[1]\n",
    "\n",
    "    y_min = y[0]\n",
    "    y_max = y[1]\n",
    "\n",
    "    #Create ticks\n",
    "    x_s = np.linspace(x_min, x_max, cell_num + 1)\n",
    "    y_s = np.linspace(y_min, y_max, cell_num + 1)\n",
    "\n",
    "    #Create grid\n",
    "    x_coord, y_coord = np.meshgrid(x_s, y_s)\n",
    "\n",
    "    #length and width of a single cell\n",
    "    x_shift = np.abs(x_s[1] - x_s[0])\n",
    "    y_shift = np.abs(y_s[1] - y_s[0])\n",
    "    return x_coord, y_coord, x_shift, y_shift"
   ]
  },
  {
   "cell_type": "code",
   "execution_count": 53,
   "metadata": {
    "collapsed": true
   },
   "outputs": [],
   "source": [
    "def gen_rand_pts(min_lat, min_long, delta_x, delta_y, y_cell, x_cell, rand_num):\n",
    "    \"\"\" Inputs: latitude min, latitude max, longitude min, longitude max, number of x and y cells, number of random points\n",
    "    Actions: First, it creates random points within the boundaries of a single cell. Then, it translates these random points\n",
    "    to each cell.\n",
    "    Outputs: a list of arrays of random points per cell \"\"\"\n",
    "    #generate random points of a single cell\n",
    "    rand_x_grid1 = np.random.uniform(min_lat, min_lat + x_shift, rand_num)\n",
    "    rand_y_grid1 = np.random.uniform(min_long, min_long + y_shift, rand_num)\n",
    "    old_grid_pts = np.array(list(zip(rand_x_grid1, rand_y_grid1)))\n",
    "    plt.scatter(rand_x_grid1, rand_y_grid1)\n",
    "    plt.show()\n",
    "    \n",
    "    list_of_pts = []  \n",
    "    new_grid_pts = np.copy(old_grid_pts)\n",
    "    for y_tick in range(y_cell):\n",
    "        for x_tick in range(x_cell):\n",
    "            new_grid_pts[:, 0] =  old_grid_pts[:, 0] + delta_x * x_tick #shift horizontally\n",
    "            list_of_pts.append(np.copy(new_grid_pts))\n",
    "        new_grid_pts[:, 1] += delta_y #shift vertically\n",
    "    return list_of_pts"
   ]
  },
  {
   "cell_type": "code",
   "execution_count": 54,
   "metadata": {},
   "outputs": [
    {
     "data": {
      "image/png": "[encoded data removed]",
      "text/plain": [
       "<matplotlib.figure.Figure at 0x118e21be0>"
      ]
     },
     "metadata": {},
     "output_type": "display_data"
    }
   ],
   "source": [
    "\"\"\"Testing the function above\"\"\"\n",
    "x = [ -71.115483, -71.090288]\n",
    "y = [42.362604, 42.372461]\n",
    "cell_num = 2\n",
    "num_pts = 4\n",
    "x_coord, y_coord, x_shift, y_shift = generate_grid(x, y, cell_num)\n",
    "rand_pts7 = gen_rand_pts(x[0], y[0], x_shift, y_shift, cell_num, cell_num, num_pts)"
   ]
  },
  {
   "cell_type": "code",
   "execution_count": 55,
   "metadata": {
    "collapsed": true
   },
   "outputs": [],
   "source": [
    "'''find_multi function takes a raw column of data that represents string versions of polygons and multigons and checks \n",
    "to see if it is a polygon or multigon row. This function returns a boolean value that is then used in the function \n",
    "parse_shapes'''\n",
    "#create multigon finder and deal with it separately\n",
    "def find_multi(row):\n",
    "    found = False\n",
    "    if '), (' in row:\n",
    "        found = True\n",
    "    return found"
   ]
  },
  {
   "cell_type": "code",
   "execution_count": 56,
   "metadata": {
    "collapsed": true
   },
   "outputs": [],
   "source": [
    "'''prep_row function takes a raw row of multi or polygon data and strips off the strings at the beginning and end until\n",
    "the first and last characters are part of the float vertices that will be utilized later. This function is used\n",
    "inside the function parse_shapes.'''\n",
    "#PREP FUNCTION COMES BEFORE FEEDING INTO THE APPROPRIATE MULTI/POLY FUNCTION TO MAKE DATA UNIFORM FORMAT\n",
    "def prep_row(row):\n",
    "    cleaned = row[16:-3]\n",
    "    return cleaned "
   ]
  },
  {
   "cell_type": "code",
   "execution_count": 57,
   "metadata": {
    "collapsed": true
   },
   "outputs": [],
   "source": [
    "'''get_poly function takes in a string row of data that represents a single polygon that has been output from either \n",
    "the prep_row function (if the original row was a single polygon) or from the get_multi function. It splits sting\n",
    "on the comma, strips white space, and then converts string values into vertices in formatted cloat format. This \n",
    "is used in the parse_shapes function.'''\n",
    "#GET_POLY FUNCTION CLEANS AND DEALS WITH SINGLE POLYGONS\n",
    "#MULTIPOLYGON ROWS GET FED INTO GET_MULTI, WHICH THEN UTILIZES THIS get_poly FUNCTION WITHIN IT\n",
    "def get_poly(data):\n",
    "    # split the string into elements of a list by each comma\n",
    "    vertex = data.split(\",\")\n",
    "    # strip white spaces from each element\n",
    "    vertex = [item.strip() for item in vertex ]\n",
    "    # format the elements from 'latitude longitude' string to (latitude, longitude) floats\n",
    "    vertex = [(float(item.split(\" \")[0]) ,float(item.split(\" \")[1])) for item in vertex]\n",
    "    return (np.asarray(vertex))"
   ]
  },
  {
   "cell_type": "code",
   "execution_count": 58,
   "metadata": {
    "collapsed": true
   },
   "outputs": [],
   "source": [
    "'''get_multi function takes a prepped string row that represents a multigon, it then cleans the row into a list of \n",
    "string polygons so that each piece of the list can be individually fed into the get_poly function. Each piece that is\n",
    "fed into the get_poly function is cleaned and input into an array. The output is a 2D array of polygons in the same \n",
    "format that all single polygons are in. This is used in the parse_shapes function.'''\n",
    "#GET_MULTI DEALS WITH MULTIPOLYGONS BY UTILIZING GET_POLY\n",
    "def get_multi(multi):\n",
    "    #replace '), (' which separate polygons to ')&(' to be able to split properly\n",
    "    fxn = multi.replace(')), ((', \"&\")\n",
    "    fxn = fxn.replace(\"), (\", \"&\")\n",
    "    #should look like : '(lon lat, ...)&(lon lat,...)&(lon lat,...)'\n",
    "    #split polygons at the ampersand,  leaving strings ready to feed into get_poly\n",
    "    fxn = fxn.split(\"&\") \n",
    "    #should look like : ['(lon lat,...)', '(lon lat,...)', .....] \n",
    "    #create an empty 2D array to store a list of points per polygon, while still keeping together\n",
    "    multi_2d = []\n",
    "    #feed each polygon(i.e. each element in current fxn list) into the get_poly fxn so that each \n",
    "    #polygon has it's own formatted list of points while keeping them all together\n",
    "    for i in range(len(fxn)):\n",
    "        multi_2d.append(get_poly(fxn[i])) \n",
    "        multi_list = np.asarray(multi_2d)\n",
    "    return multi_list\n"
   ]
  },
  {
   "cell_type": "code",
   "execution_count": 59,
   "metadata": {
    "collapsed": true
   },
   "outputs": [],
   "source": [
    "'''parse_shapes function takes in raw data rows, checks if the rows are multigons or polygons, and then feeds the row into\n",
    "the appropriate function. It returns a cleaned array of vertices for both polygons and multigons. This is used in \n",
    "the test_point function.'''\n",
    "def parse_shapes(one_row):\n",
    "    prepped = prep_row(one_row)\n",
    "    a_multi = find_multi(prepped)\n",
    "    if a_multi == True:\n",
    "        prepd_split = get_multi(prepped)\n",
    "        return (prepd_split)\n",
    "    else:\n",
    "        prepd_cleand = get_poly(prepped)\n",
    "        return (prepd_cleand)"
   ]
  },
  {
   "cell_type": "code",
   "execution_count": 60,
   "metadata": {
    "collapsed": true
   },
   "outputs": [],
   "source": [
    "'''is_multi function tests if the cleaned array of data is a multigon or polygon by looking at the dimensions of the array.\n",
    "This function is used in the test_point function.'''\n",
    "def is_multi(row):\n",
    "    yes_multi = True\n",
    "    if len(row.shape) > 1:\n",
    "        yes_multi = False\n",
    "    return yes_multi"
   ]
  },
  {
   "cell_type": "code",
   "execution_count": 61,
   "metadata": {
    "collapsed": true
   },
   "outputs": [],
   "source": [
    "'''test_point function takes a point and a column of cleaned data and tests the if the point is inside each of the poly \n",
    "or multigons in the column. It returns a list of all poly/multigons which the point is located inside. This function \n",
    "utilizes shapely functions. Used in the which_polygons function.'''\n",
    "#FUNCTION TO TEST POLYGONS\n",
    "def test_point (point, cleaned_data):\n",
    "    test_pt = Point(point[0], point[1]) \n",
    "    positive_gons = []\n",
    "    for i in range(len(cleaned_data)):\n",
    "        test_multi = is_multi(cleaned_data[i])\n",
    "        if test_multi:\n",
    "            for j in range(len(cleaned_data[i])): #FOR EVERY POLYGON IN MULTIGON\n",
    "                polygon1 = Polygon(cleaned_data[i][j])\n",
    "                in_poly = polygon1.contains(test_pt)\n",
    "                if in_poly == True:\n",
    "                    positive_gons.append(i)\n",
    "        else:\n",
    "            in_poly = False\n",
    "            polygon1 = Polygon(cleaned_data[i])\n",
    "            in_poly = polygon1.contains(test_pt)\n",
    "            if in_poly == True:\n",
    "                positive_gons.append(i)\n",
    "    return positive_gons"
   ]
  },
  {
   "cell_type": "code",
   "execution_count": 62,
   "metadata": {
    "collapsed": true
   },
   "outputs": [],
   "source": [
    "'''which_polygons function generalizes the testing process by taking in an array of points and a column of cleaned data and \n",
    "testing each point against each poly/multigon in the column of cleaned data. Outputs an array of lists where each list \n",
    "corresponds to the polygons for which a given point falls into. This function is used in the wrapper function.'''\n",
    "def which_polygons(zipped_pts, nice_data):\n",
    "    where_pts_r = []\n",
    "    for i in range(len(zipped_pts)):\n",
    "        where_pts_r.append(test_point(zipped_pts[i], nice_data))\n",
    "    return where_pts_r"
   ]
  },
  {
   "cell_type": "code",
   "execution_count": 63,
   "metadata": {
    "collapsed": true
   },
   "outputs": [],
   "source": [
    "'''find_usage function takes in an array of found polygons and a column of string values that represent land usage. The \n",
    "function uses the integer that corresponds to a polygon, and cross checks to the land usage column to find the \n",
    "land usage that each point falls into. This outputs a list of Strings that tells user what type of land each point is \n",
    "located in. This function is used in wrapper class.'''\n",
    "def find_usage(found_polygons, usage_column):\n",
    "    usage = []\n",
    "    usage_col = usage_column\n",
    "    for i in range(len(found_polygons)):\n",
    "        usage.append(usage_col[found_polygons[i][0]])\n",
    "    return usage"
   ]
  },
  {
   "cell_type": "code",
   "execution_count": 64,
   "metadata": {
    "collapsed": true
   },
   "outputs": [],
   "source": [
    "def find_open(found_polygons):\n",
    "    in_open = []\n",
    "    for i in range(len(found_polygons)):\n",
    "        if len(found_polygons[i]) == 0:\n",
    "            in_open.append(False)\n",
    "        else:\n",
    "            in_open.append(True)\n",
    "    return in_open"
   ]
  },
  {
   "cell_type": "code",
   "execution_count": 65,
   "metadata": {
    "collapsed": true
   },
   "outputs": [],
   "source": [
    "'''wrapper_landuse function utilizes all functions above by taking in an array of zipped points to be checked, a column of \n",
    "uncleaned polygon data, and a column that will be cross checked. It outputs the land usage of each of the points \n",
    "passed in as a parameter.'''\n",
    "def wrapper_landuse(zipped_points, uncleaned_data_col, cross_checked_col):\n",
    "    points = zipped_points\n",
    "    raw_data = uncleaned_data_col\n",
    "    \n",
    "    start = time.time()\n",
    "    cleaned_data = raw_data.apply(parse_shapes)\n",
    "    end = time.time()\n",
    "    applyfxntime = end - start\n",
    "    print (applyfxntime)\n",
    "    \n",
    "    start = time.time()\n",
    "    locations_of_points = which_polygons(points, cleaned_data)\n",
    "    end = time.time()\n",
    "    wptime = end - start\n",
    "    print (wptime)\n",
    "    \n",
    "    start = time.time()\n",
    "    land_use = find_usage(locations_of_points, cross_checked_col)\n",
    "    end = time.time()\n",
    "    futime = end - start \n",
    "    print (futime)\n",
    "    \n",
    "    return land_use"
   ]
  },
  {
   "cell_type": "code",
   "execution_count": 66,
   "metadata": {
    "collapsed": true
   },
   "outputs": [],
   "source": [
    "'''wrapper_openspace function utilizes all functions above (other than find_open) by taking in an array of zipped \n",
    "points to be checked and a column of uncleaned polygon data. It outputs a list of booleans saying whether the points\n",
    "are inside open space polygons or not.'''\n",
    "def wrapper_openspace(zipped_points, uncleaned_data_col):\n",
    "    points = zipped_points\n",
    "    raw_data = uncleaned_data_col\n",
    "    cleaned_data = raw_data.apply(parse_shapes)\n",
    "    locations_of_points = which_polygons(points, cleaned_data)\n",
    "    open_space = find_open(locations_of_points)\n",
    "    return open_space"
   ]
  },
  {
   "cell_type": "code",
   "execution_count": 67,
   "metadata": {},
   "outputs": [],
   "source": [
    "# some_points = rand_pts7[0]\n",
    "\n",
    "\n",
    "# more_points = rand_pts7[1]\n",
    "\n",
    "# print (wrapper_landuse(rand_pts7, shape_col, usage_data))\n",
    "# print (wrapper_openspace(rand_pts7, shape_open))\n",
    "# print (len(rand_pts7))"
   ]
  },
  {
   "cell_type": "code",
   "execution_count": 68,
   "metadata": {},
   "outputs": [
    {
     "name": "stdout",
     "output_type": "stream",
     "text": [
      "0.05662417411804199\n",
      "0.25394392013549805\n",
      "0.00010704994201660156\n",
      "['Multi-Family Residential', 'Multi-Family Residential', 'Commercial', 'Multi-Family Residential']\n",
      "Counter({'Multi-Family Residential': 3, 'Commercial': 1})\n",
      "0\n"
     ]
    }
   ],
   "source": [
    "#TESTING LAND USE WRAPPER CLASS\n",
    "usage_list = wrapper_landuse(some_points, shape_col, usage_data)\n",
    "print (usage_list)\n",
    "counted = Counter(usage_list)\n",
    "print (counted)\n",
    "print (counted[1])"
   ]
  },
  {
   "cell_type": "code",
   "execution_count": 69,
   "metadata": {
    "collapsed": true
   },
   "outputs": [],
   "source": [
    "#TESTING OPEN SPACE WRAPPER CLASS\n",
    "open_stuff = wrapper_openspace(more_points, shape_open)"
   ]
  },
  {
   "cell_type": "code",
   "execution_count": 70,
   "metadata": {
    "collapsed": true
   },
   "outputs": [],
   "source": [
    "def proportion_land(list):\n",
    "    length = len(list)\n",
    "    prop_list = Counter(list)\n",
    "    these_keys = prop_list.keys()\n",
    "    for key in these_keys:\n",
    "        prop_list[key]/=length\n",
    "    return prop_list"
   ]
  },
  {
   "cell_type": "code",
   "execution_count": 71,
   "metadata": {},
   "outputs": [
    {
     "name": "stdout",
     "output_type": "stream",
     "text": [
      "Counter({False: 1.0})\n"
     ]
    }
   ],
   "source": [
    "print (proportion_land(open_stuff))"
   ]
  },
  {
   "cell_type": "code",
   "execution_count": 72,
   "metadata": {
    "collapsed": true
   },
   "outputs": [],
   "source": [
    "def find_open_prop(list_rands, open_column):\n",
    "    dict_of_props = []\n",
    "    for points in range(len(list_rands)):\n",
    "        set_randoms = list_rands[points]\n",
    "        list_of_open = wrapper_openspace(set_randoms, open_column)\n",
    "        proportions = proportion_land(list_of_open)\n",
    "        dict_of_props.append(proportions)\n",
    "    return dict_of_props"
   ]
  },
  {
   "cell_type": "code",
   "execution_count": 73,
   "metadata": {
    "collapsed": true
   },
   "outputs": [],
   "source": [
    "def find_land_prop(list_rands, land_column, usage_column):\n",
    "    dict_of_props = []\n",
    "    for points in range(len(list_rands)):\n",
    "        set_randoms = list_rands[points]\n",
    "        list_of_use = wrapper_landuse(set_randoms, shape_col, usage_data)\n",
    "        proportions = proportion_land(list_of_use)\n",
    "        dict_of_props.append(proportions)\n",
    "    return dict_of_props"
   ]
  },
  {
   "cell_type": "code",
   "execution_count": 74,
   "metadata": {},
   "outputs": [
    {
     "name": "stdout",
     "output_type": "stream",
     "text": [
      "0.05832195281982422\n",
      "0.21124625205993652\n",
      "0.00031495094299316406\n",
      "0.049268245697021484\n",
      "0.21188879013061523\n",
      "6.914138793945312e-05\n",
      "0.05185699462890625\n",
      "0.2436840534210205\n",
      "6.008148193359375e-05\n",
      "0.04759025573730469\n",
      "0.21383118629455566\n",
      "6.794929504394531e-05\n",
      "[Counter({'Multi-Family Residential': 1.0}), Counter({'Multi-Family Residential': 0.5, 'Commercial': 0.25, 'Industrial': 0.25}), Counter({'Multi-Family Residential': 1.0}), Counter({'Multi-Family Residential': 0.75, 'Urban Public/Institutional': 0.25})]\n"
     ]
    }
   ],
   "source": [
    "#TESTING \n",
    "print (find_land_prop(rand_pts7, shape_open, usage_data))"
   ]
  },
  {
   "cell_type": "code",
   "execution_count": null,
   "metadata": {
    "collapsed": true
   },
   "outputs": [],
   "source": []
  },
  {
   "cell_type": "code",
   "execution_count": null,
   "metadata": {
    "collapsed": true
   },
   "outputs": [],
   "source": []
  }
 ],
 "metadata": {
  "kernelspec": {
   "display_name": "Python 3",
   "language": "python",
   "name": "python3"
  },
  "language_info": {
   "codemirror_mode": {
    "name": "ipython",
    "version": 3
   },
   "file_extension": ".py",
   "mimetype": "text/x-python",
   "name": "python",
   "nbconvert_exporter": "python",
   "pygments_lexer": "ipython3",
   "version": "3.6.1"
  }
 },
 "nbformat": 4,
 "nbformat_minor": 2
}
