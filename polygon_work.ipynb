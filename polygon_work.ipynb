{
 "cells": [
  {
   "cell_type": "code",
   "execution_count": 1,
   "metadata": {},
   "outputs": [
    {
     "name": "stderr",
     "output_type": "stream",
     "text": [
      "Failed `CDLL(/Library/Frameworks/GEOS.framework/Versions/Current/GEOS)`\n",
      "Failed `CDLL(/opt/local/lib/libgeos_c.dylib)`\n"
     ]
    }
   ],
   "source": [
    "import numpy as np\n",
    "import pandas as pd\n",
    "from shapely.geometry import Point\n",
    "from shapely.geometry.polygon import Polygon"
   ]
  },
  {
   "cell_type": "code",
   "execution_count": 2,
   "metadata": {},
   "outputs": [
    {
     "name": "stdout",
     "output_type": "stream",
     "text": [
      "(23,)\n"
     ]
    }
   ],
   "source": [
    "#1st - read in the csv file\n",
    "data = pd.read_csv(\"small_scale_data.csv\")\n",
    "#pull out only the shape column which are all in string format\n",
    "shape_col = data[\"SHAPE\"]\n",
    "print (shape_col.shape)"
   ]
  },
  {
   "cell_type": "code",
   "execution_count": 3,
   "metadata": {
    "collapsed": true
   },
   "outputs": [],
   "source": [
    "#create multigon finder and deal with it separately, then .apply(get_coord)\n",
    "def find_multi(row):\n",
    "    found = False\n",
    "    if '), (' in row:\n",
    "        found = True\n",
    "    return found"
   ]
  },
  {
   "cell_type": "code",
   "execution_count": 4,
   "metadata": {
    "collapsed": true
   },
   "outputs": [],
   "source": [
    "#PREP FUNCTION COMES BEFORE FEEDING INTO THE APPROPRIATE MULTI/POLY FUNCTION TO MAKE DATA UNIFORM FORMAT\n",
    "def prep_row(row):\n",
    "    cleaned = row[16:-3]\n",
    "    return cleaned # should look like 'lon lat, lon lat,...), (lon lat, lon lat...), (.....'"
   ]
  },
  {
   "cell_type": "code",
   "execution_count": 5,
   "metadata": {
    "collapsed": true
   },
   "outputs": [],
   "source": [
    "#GET_POLY FUNCTION CLEANS AND DEALS WITH SINGLE POLYGONS\n",
    "#MULTIPOLYGON ROWS GET FED INTO GET_MULTI, WHICH THEN UTILIZES THIS FUNCTION WITHIN IT\n",
    "def get_poly(data):\n",
    "    # split the string into elements of a list by each comma\n",
    "    vertex = data.split(\",\")\n",
    "    # strip white spaces from each element\n",
    "    vertex = [item.strip() for item in vertex ]\n",
    "    # format the elements from 'latitude longitude' string to (latitude, longitude) floats\n",
    "    vertex = [(float(item.split(\" \")[0]) ,float(item.split(\" \")[1])) for item in vertex]\n",
    "    return (np.asarray(vertex))"
   ]
  },
  {
   "cell_type": "code",
   "execution_count": 6,
   "metadata": {
    "collapsed": true
   },
   "outputs": [],
   "source": [
    "#GET_MULTI DEALS WITH MULTIPOLYGONS BY UTILIZING GET_POLY\n",
    "def get_multi(multi):\n",
    "    #replace '), (' which separate polygons to ')&(' to be able to split properly\n",
    "    fxn = multi.replace(\"), (\", \"&\")\n",
    "    #should look like : '(lon lat, ...)&(lon lat,...)&(lon lat,...)'\n",
    "    #split polygons at the ampersand,  leaving strings ready to feed into get_poly\n",
    "    fxn = fxn.split(\"&\") \n",
    "    #should look like : ['(lon lat,...)', '(lon lat,...)', .....] \n",
    "    #create an empty 2D array to store a list of points per polygon, while still keeping together\n",
    "    multi_2d = []\n",
    "    #feed each polygon(i.e. each element in current fxn list) into the get_poly fxn so that each \n",
    "    #polygon has it's own formatted list of points while keeping them all together\n",
    "    for i in range(len(fxn)):\n",
    "        multi_2d.append(get_poly(fxn[i])) \n",
    "    multi_list = np.asarray(multi_2d)\n",
    "    return multi_list.reshape((len(multi_list), 1))"
   ]
  },
  {
   "cell_type": "code",
   "execution_count": 7,
   "metadata": {
    "collapsed": true
   },
   "outputs": [],
   "source": [
    "#SCRATCH CODE THAT HAS BEEN REMOVED        \n",
    "\n",
    "#     vertex = data.split(\" \")[1:]\n",
    "#     print vertex[1::2]\n",
    "#     first = vertex[0].split(\"(\")[3]\n",
    "#     last = vertex[-1].split(\")\")[0]\n",
    "#     body = vertex[1:-1].split(\",\")\n",
    "#     vertex = [first] + vertex[1:-1] + [last]\n",
    "#     print vertex\n",
    "#     print map(float, vertex)\n",
    "#     y = map(float, vertex)\n",
    "#     y = zip(*[iter(y)]*2)\n",
    "    \n",
    "#     print y\n",
    "\n",
    "#print get_coord(vertex)\n",
    "# final = vertex.apply(get_coord)\n",
    "# print get_coord(vertex[16])"
   ]
  },
  {
   "cell_type": "code",
   "execution_count": 8,
   "metadata": {
    "collapsed": true
   },
   "outputs": [],
   "source": [
    "#SCALE FUNCTION\n",
    "def scale(num):\n",
    "    #create 14 digits by padding 0's if needed\n",
    "    num1 = str(abs(num[0]))\n",
    "    num2 = str(abs(num[1]))\n",
    "    \n",
    "    if len(num1) < 15:\n",
    "        num1 = num1.ljust(15, '0')\n",
    "    elif len(num1) > 15:\n",
    "        num1 = num1[:15]\n",
    "    \n",
    "    if len(num2) < 15:\n",
    "        num2 = num2.ljust(15, '0')\n",
    "    elif len(num2) > 15:\n",
    "        num2 = num2[:15]\n",
    "    \n",
    "    #shift decimal for 8 decimal places\n",
    "    return np.array([-1.*(float(num1) * (10**5)),-1.*(float(num2) * (10**5))])"
   ]
  },
  {
   "cell_type": "code",
   "execution_count": 9,
   "metadata": {
    "collapsed": true
   },
   "outputs": [],
   "source": [
    "#CENTER FUNCTION\n",
    "def center(coord):\n",
    "    # coord is an np array containing lat and long\n",
    "    \n",
    "    #find mean\n",
    "    mean = coord.mean()\n",
    "    \n",
    "    #center by subtracting the mean\n",
    "    coord = coord - mean\n",
    "    return coord"
   ]
  },
  {
   "cell_type": "code",
   "execution_count": 10,
   "metadata": {
    "collapsed": true
   },
   "outputs": [],
   "source": [
    "#GENERATE THE GRID LINES\n",
    "\n",
    "\n",
    "#FINDING RANDOM POINTS\n",
    "def find_randpoints(ranges1, ranges2):\n",
    "    #ranges is an array of either lat or long\n",
    "    point1 = np.random.uniform(ranges1[0], ranges1[1], 4)\n",
    "    point2 = np.random.uniform(ranges2[0], ranges2[1], 4)\n",
    "    return point1, point2\n",
    "\n",
    "#6th - Determine where the random points lie in which boundaries (using package)\n",
    "\n",
    "#7th - Set a percentage and determine point location"
   ]
  },
  {
   "cell_type": "code",
   "execution_count": 11,
   "metadata": {
    "collapsed": true
   },
   "outputs": [],
   "source": [
    "#Testing\n",
    "# (long upper, long lower)\n",
    "coord1 = np.array([-71.13748, -71.14003])\n",
    "#(lat upper, lat lower)\n",
    "coord2 = np.array([42.35827, 42.3601])\n",
    "\n",
    "lon_scaled = scale(coord1)\n",
    "lon_centered = center(lon_scaled)\n",
    "\n",
    "lat_scaled = scale(coord2)\n",
    "lat_centered = center(lat_scaled)\n",
    "\n",
    "# print find_randpoints(lon_centered, lat_centered)\n",
    "# print lon_centered[0],lon_centered[1]\n",
    "# print lat_centered[0], lat_centered[0]\n",
    "\n",
    "# print find_randpoints(coord1, coord2)\n",
    "rand_pt1, rand_pt2 = find_randpoints(coord1, coord2)\n",
    "# print scale(rand_pt1)\n",
    "scaled1 = scale(rand_pt1)\n",
    "# print center(scaled1)\n",
    "\n",
    "# print rand_pt2\n",
    "# print scale(rand_pt2)\n",
    "scaled2 = scale(rand_pt2)\n",
    "# print center(scaled2)"
   ]
  },
  {
   "cell_type": "code",
   "execution_count": 20,
   "metadata": {
    "collapsed": true
   },
   "outputs": [],
   "source": [
    "def parse_shapes(one_row):\n",
    "    prepped = prep_row(one_row)\n",
    "    is_multi = find_multi(prepped)\n",
    "    if is_multi == True:\n",
    "        prepd_split = get_multi(prepped)\n",
    "        return np.asarray((prepd_split), dtype = object)\n",
    "    else:\n",
    "        prepd_cleand = get_poly(prepped)\n",
    "        return np.asarray((prepd_cleand), dtype = object)"
   ]
  },
  {
   "cell_type": "code",
   "execution_count": 21,
   "metadata": {},
   "outputs": [],
   "source": [
    "poly_test = (parse_shapes(shape_col[10]))"
   ]
  },
  {
   "cell_type": "code",
   "execution_count": 22,
   "metadata": {},
   "outputs": [
    {
     "name": "stdout",
     "output_type": "stream",
     "text": [
      "0     [[-71.1420930941527, 42.35814151259573], [-71....\n",
      "1     [[-71.13647630362793, 42.35847749117381], [-71...\n",
      "2     [[-71.14212984266281, 42.36036476249861], [-71...\n",
      "3     [[-71.14150272599517, 42.36079814725054], [-71...\n",
      "4     [[-71.1413093954988, 42.36061731979108], [-71....\n",
      "5     [[-71.14217990894848, 42.359992040465464], [-7...\n",
      "6     [[-71.14075873125084, 42.35798430346311], [-71...\n",
      "7     [[-71.14195610324275, 42.36175682279947], [-71...\n",
      "8     [[-71.13960333572695, 42.36151710421032], [-71...\n",
      "9     [[-71.13924947993037, 42.360824484202666], [-7...\n",
      "10    [[-71.13710397828213, 42.360277562649124], [-7...\n",
      "11    [[-71.1409534465487, 42.361017398188416], [-71...\n",
      "12    [[-71.1413093954988, 42.36061731979108], [-71....\n",
      "13    [[-71.13971609398098, 42.359889649218495], [-7...\n",
      "14    [[-71.13969875590529, 42.35899129723863], [-71...\n",
      "15    [[-71.14224341134297, 42.36172475019508], [-71...\n",
      "16    [[[[-71.14149442  42.36167523], [-71.14168146 ...\n",
      "17    [[[[-71.13991272  42.36160081], [-71.13958481 ...\n",
      "18    [[-71.14118885835988, 42.36133471123341], [-71...\n",
      "19    [[[[-71.13228587  42.36432513], [-71.13238397 ...\n",
      "20    [[-71.14099852618837, 42.359619247755504], [-7...\n",
      "21    [[-71.14155985006447, 42.36154742624063], [-71...\n",
      "22    [[-71.14025409898086, 42.3620176370917], [-71....\n",
      "Name: SHAPE, dtype: object\n"
     ]
    }
   ],
   "source": [
    "#APPLY PARSE_SHAPES METHOD TO ALL ELEMENTS OF SHAPE_COL LIST\n",
    "shape_data2 = shape_col.apply(parse_shapes)\n",
    "print (shape_data2)"
   ]
  },
  {
   "cell_type": "code",
   "execution_count": 23,
   "metadata": {
    "collapsed": true
   },
   "outputs": [],
   "source": [
    "lat_rand = np.array([-71.13794487, -71.13926144, -71.13893327, -71.13919666])\n",
    "lon_rand = np.array([42.35945246, 42.35927083, 42.35915658, 42.35879337])"
   ]
  },
  {
   "cell_type": "code",
   "execution_count": 35,
   "metadata": {
    "scrolled": true
   },
   "outputs": [
    {
     "name": "stdout",
     "output_type": "stream",
     "text": [
      "False\n",
      "(20, 2)\n",
      "POLYGON ((-71.1420930941527 42.35814151259573, -71.14207254772674 42.35828984648253, -71.14200018752237 42.3584157757037, -71.14203460944461 42.35850435490381, -71.1425469318669 42.35860401301184, -71.14211924609936 42.35952220569904, -71.14230593324878 42.35956668443849, -71.14251101642689 42.35966179093536, -71.14256325588467 42.35964149429937, -71.14257717355979 42.35943475350602, -71.14272580165054 42.3592862017354, -71.14270979946581 42.35911072853421, -71.14283045998492 42.35900750827696, -71.14291368275283 42.35899933552524, -71.14303868814066 42.35906740351388, -71.14336061467044 42.3590856688587, -71.14342826498499 42.35905867737383, -71.14340701341683 42.35880199746698, -71.14348847766153 42.3583109961477, -71.1420930941527 42.35814151259573))\n"
     ]
    }
   ],
   "source": [
    "ran_point0 = Point(lat_rand[0], lon_rand[0])\n",
    "ran_point1 = Point(lat_rand[1], lon_rand[1])\n",
    "ran_point2 = Point(lat_rand[2], lon_rand[2])\n",
    "ran_point3 = Point(lat_rand[3], lon_rand[3])\n",
    "polygon = Polygon(shape_data2[0])\n",
    "print(polygon.contains(ran_point0))"
   ]
  },
  {
   "cell_type": "code",
   "execution_count": 25,
   "metadata": {
    "collapsed": true
   },
   "outputs": [],
   "source": [
    "#now we want to write a loop to test point inside each of the gon, then when it's true \n",
    "#need to go back to csv file and check the type of land use attribute \n",
    "\n"
   ]
  },
  {
   "cell_type": "code",
   "execution_count": 38,
   "metadata": {},
   "outputs": [
    {
     "name": "stdout",
     "output_type": "stream",
     "text": [
      "23\n"
     ]
    },
    {
     "ename": "ValueError",
     "evalue": "setting an array element with a sequence.",
     "output_type": "error",
     "traceback": [
      "\u001b[0;31m---------------------------------------------------------------------------\u001b[0m",
      "\u001b[0;31mValueError\u001b[0m                                Traceback (most recent call last)",
      "\u001b[0;32m<ipython-input-38-849f83468427>\u001b[0m in \u001b[0;36m<module>\u001b[0;34m()\u001b[0m\n\u001b[1;32m      5\u001b[0m \u001b[0mprint\u001b[0m \u001b[0;34m(\u001b[0m\u001b[0mlen\u001b[0m\u001b[0;34m(\u001b[0m\u001b[0mshape_data2\u001b[0m\u001b[0;34m)\u001b[0m\u001b[0;34m)\u001b[0m\u001b[0;34m\u001b[0m\u001b[0m\n\u001b[1;32m      6\u001b[0m \u001b[0;32mfor\u001b[0m \u001b[0mi\u001b[0m \u001b[0;32min\u001b[0m \u001b[0mrange\u001b[0m\u001b[0;34m(\u001b[0m\u001b[0mlen\u001b[0m\u001b[0;34m(\u001b[0m\u001b[0mshape_data2\u001b[0m\u001b[0;34m)\u001b[0m\u001b[0;34m)\u001b[0m\u001b[0;34m:\u001b[0m\u001b[0;34m\u001b[0m\u001b[0m\n\u001b[0;32m----> 7\u001b[0;31m         \u001b[0mpolygon1\u001b[0m \u001b[0;34m=\u001b[0m \u001b[0mPolygon\u001b[0m\u001b[0;34m(\u001b[0m\u001b[0mshape_data2\u001b[0m\u001b[0;34m[\u001b[0m\u001b[0mi\u001b[0m\u001b[0;34m]\u001b[0m\u001b[0;34m)\u001b[0m\u001b[0;34m\u001b[0m\u001b[0m\n\u001b[0m\u001b[1;32m      8\u001b[0m \u001b[0;31m#         print (shape_data2[i])\u001b[0m\u001b[0;34m\u001b[0m\u001b[0;34m\u001b[0m\u001b[0m\n\u001b[1;32m      9\u001b[0m \u001b[0;31m#         in_poly = polygon.contains(test_pt)\u001b[0m\u001b[0;34m\u001b[0m\u001b[0;34m\u001b[0m\u001b[0m\n",
      "\u001b[0;32m/Users/taraippolito/anaconda/lib/python3.6/site-packages/shapely/geometry/polygon.py\u001b[0m in \u001b[0;36m__init__\u001b[0;34m(self, shell, holes)\u001b[0m\n\u001b[1;32m    229\u001b[0m \u001b[0;34m\u001b[0m\u001b[0m\n\u001b[1;32m    230\u001b[0m         \u001b[0;32mif\u001b[0m \u001b[0mshell\u001b[0m \u001b[0;32mis\u001b[0m \u001b[0;32mnot\u001b[0m \u001b[0;32mNone\u001b[0m\u001b[0;34m:\u001b[0m\u001b[0;34m\u001b[0m\u001b[0m\n\u001b[0;32m--> 231\u001b[0;31m             \u001b[0mret\u001b[0m \u001b[0;34m=\u001b[0m \u001b[0mgeos_polygon_from_py\u001b[0m\u001b[0;34m(\u001b[0m\u001b[0mshell\u001b[0m\u001b[0;34m,\u001b[0m \u001b[0mholes\u001b[0m\u001b[0;34m)\u001b[0m\u001b[0;34m\u001b[0m\u001b[0m\n\u001b[0m\u001b[1;32m    232\u001b[0m             \u001b[0;32mif\u001b[0m \u001b[0mret\u001b[0m \u001b[0;32mis\u001b[0m \u001b[0;32mnot\u001b[0m \u001b[0;32mNone\u001b[0m\u001b[0;34m:\u001b[0m\u001b[0;34m\u001b[0m\u001b[0m\n\u001b[1;32m    233\u001b[0m                 \u001b[0mself\u001b[0m\u001b[0;34m.\u001b[0m\u001b[0m_geom\u001b[0m\u001b[0;34m,\u001b[0m \u001b[0mself\u001b[0m\u001b[0;34m.\u001b[0m\u001b[0m_ndim\u001b[0m \u001b[0;34m=\u001b[0m \u001b[0mret\u001b[0m\u001b[0;34m\u001b[0m\u001b[0m\n",
      "\u001b[0;32m/Users/taraippolito/anaconda/lib/python3.6/site-packages/shapely/geometry/polygon.py\u001b[0m in \u001b[0;36mgeos_polygon_from_py\u001b[0;34m(shell, holes)\u001b[0m\n\u001b[1;32m    481\u001b[0m \u001b[0;34m\u001b[0m\u001b[0m\n\u001b[1;32m    482\u001b[0m     \u001b[0;32mif\u001b[0m \u001b[0mshell\u001b[0m \u001b[0;32mis\u001b[0m \u001b[0;32mnot\u001b[0m \u001b[0;32mNone\u001b[0m\u001b[0;34m:\u001b[0m\u001b[0;34m\u001b[0m\u001b[0m\n\u001b[0;32m--> 483\u001b[0;31m         \u001b[0mret\u001b[0m \u001b[0;34m=\u001b[0m \u001b[0mgeos_linearring_from_py\u001b[0m\u001b[0;34m(\u001b[0m\u001b[0mshell\u001b[0m\u001b[0;34m)\u001b[0m\u001b[0;34m\u001b[0m\u001b[0m\n\u001b[0m\u001b[1;32m    484\u001b[0m         \u001b[0;32mif\u001b[0m \u001b[0mret\u001b[0m \u001b[0;32mis\u001b[0m \u001b[0;32mNone\u001b[0m\u001b[0;34m:\u001b[0m\u001b[0;34m\u001b[0m\u001b[0m\n\u001b[1;32m    485\u001b[0m             \u001b[0;32mreturn\u001b[0m \u001b[0;32mNone\u001b[0m\u001b[0;34m\u001b[0m\u001b[0m\n",
      "\u001b[0;32m/Users/taraippolito/anaconda/lib/python3.6/site-packages/shapely/speedups/_speedups.pyx\u001b[0m in \u001b[0;36mshapely.speedups._speedups.geos_linearring_from_py (shapely/speedups/_speedups.c:4077)\u001b[0;34m()\u001b[0m\n",
      "\u001b[0;32m/Users/taraippolito/anaconda/lib/python3.6/site-packages/shapely/speedups/_speedups.pyx\u001b[0m in \u001b[0;36mshapely.speedups._speedups.required (shapely/speedups/_speedups.c:1755)\u001b[0;34m()\u001b[0m\n",
      "\u001b[0;32m/Users/taraippolito/anaconda/lib/python3.6/site-packages/numpy/core/numeric.py\u001b[0m in \u001b[0;36mrequire\u001b[0;34m(a, dtype, requirements)\u001b[0m\n\u001b[1;32m    745\u001b[0m         \u001b[0mrequirements\u001b[0m\u001b[0;34m.\u001b[0m\u001b[0mremove\u001b[0m\u001b[0;34m(\u001b[0m\u001b[0;34m'C'\u001b[0m\u001b[0;34m)\u001b[0m\u001b[0;34m\u001b[0m\u001b[0m\n\u001b[1;32m    746\u001b[0m \u001b[0;34m\u001b[0m\u001b[0m\n\u001b[0;32m--> 747\u001b[0;31m     \u001b[0marr\u001b[0m \u001b[0;34m=\u001b[0m \u001b[0marray\u001b[0m\u001b[0;34m(\u001b[0m\u001b[0ma\u001b[0m\u001b[0;34m,\u001b[0m \u001b[0mdtype\u001b[0m\u001b[0;34m=\u001b[0m\u001b[0mdtype\u001b[0m\u001b[0;34m,\u001b[0m \u001b[0morder\u001b[0m\u001b[0;34m=\u001b[0m\u001b[0morder\u001b[0m\u001b[0;34m,\u001b[0m \u001b[0mcopy\u001b[0m\u001b[0;34m=\u001b[0m\u001b[0;32mFalse\u001b[0m\u001b[0;34m,\u001b[0m \u001b[0msubok\u001b[0m\u001b[0;34m=\u001b[0m\u001b[0msubok\u001b[0m\u001b[0;34m)\u001b[0m\u001b[0;34m\u001b[0m\u001b[0m\n\u001b[0m\u001b[1;32m    748\u001b[0m \u001b[0;34m\u001b[0m\u001b[0m\n\u001b[1;32m    749\u001b[0m     \u001b[0;32mfor\u001b[0m \u001b[0mprop\u001b[0m \u001b[0;32min\u001b[0m \u001b[0mrequirements\u001b[0m\u001b[0;34m:\u001b[0m\u001b[0;34m\u001b[0m\u001b[0m\n",
      "\u001b[0;31mValueError\u001b[0m: setting an array element with a sequence."
     ]
    }
   ],
   "source": [
    "FUNCTION TO TEST POLYGONS\n",
    "def test_point (point):\n",
    "    test_pt = Point(point[0], point[1]) #make sure this works with whatever the input is \n",
    "    positive_gons = []\n",
    "for i in range(len(shape_data2)):\n",
    "        polygon1 = Polygon(shape_data2[i])\n",
    "        in_poly = polygon.contains(test_pt)\n",
    "        if in_poly:\n",
    "            positive_gons.append(i)\n",
    "    return positive_gons"
   ]
  },
  {
   "cell_type": "code",
   "execution_count": 32,
   "metadata": {},
   "outputs": [
    {
     "ename": "NameError",
     "evalue": "name 'shape_data' is not defined",
     "output_type": "error",
     "traceback": [
      "\u001b[0;31m---------------------------------------------------------------------------\u001b[0m",
      "\u001b[0;31mNameError\u001b[0m                                 Traceback (most recent call last)",
      "\u001b[0;32m<ipython-input-32-de9bdbf68cf0>\u001b[0m in \u001b[0;36m<module>\u001b[0;34m()\u001b[0m\n\u001b[0;32m----> 1\u001b[0;31m \u001b[0mprint\u001b[0m \u001b[0;34m(\u001b[0m\u001b[0mtest_point\u001b[0m\u001b[0;34m(\u001b[0m\u001b[0;34m[\u001b[0m\u001b[0;34m-\u001b[0m\u001b[0;36m71.13794487\u001b[0m\u001b[0;34m,\u001b[0m \u001b[0;36m42.35945246\u001b[0m\u001b[0;34m]\u001b[0m\u001b[0;34m)\u001b[0m\u001b[0;34m)\u001b[0m\u001b[0;34m\u001b[0m\u001b[0m\n\u001b[0m",
      "\u001b[0;32m<ipython-input-31-cefba74a9177>\u001b[0m in \u001b[0;36mtest_point\u001b[0;34m(point)\u001b[0m\n\u001b[1;32m      5\u001b[0m     \u001b[0;32mfor\u001b[0m \u001b[0mi\u001b[0m \u001b[0;32min\u001b[0m \u001b[0mrange\u001b[0m\u001b[0;34m(\u001b[0m\u001b[0mlen\u001b[0m\u001b[0;34m(\u001b[0m\u001b[0mshape_data2\u001b[0m\u001b[0;34m)\u001b[0m\u001b[0;34m)\u001b[0m\u001b[0;34m:\u001b[0m\u001b[0;34m\u001b[0m\u001b[0m\n\u001b[1;32m      6\u001b[0m \u001b[0;31m#         polygon = Polygon(shape_data2[i])\u001b[0m\u001b[0;34m\u001b[0m\u001b[0;34m\u001b[0m\u001b[0m\n\u001b[0;32m----> 7\u001b[0;31m         \u001b[0mprint\u001b[0m \u001b[0;34m(\u001b[0m\u001b[0mshape_data\u001b[0m\u001b[0;34m[\u001b[0m\u001b[0mi\u001b[0m\u001b[0;34m]\u001b[0m\u001b[0;34m)\u001b[0m\u001b[0;34m\u001b[0m\u001b[0m\n\u001b[0m\u001b[1;32m      8\u001b[0m \u001b[0;31m#         in_poly = polygon.contains(test_pt)\u001b[0m\u001b[0;34m\u001b[0m\u001b[0;34m\u001b[0m\u001b[0m\n\u001b[1;32m      9\u001b[0m         \u001b[0;32mif\u001b[0m \u001b[0min_poly\u001b[0m\u001b[0;34m:\u001b[0m\u001b[0;34m\u001b[0m\u001b[0m\n",
      "\u001b[0;31mNameError\u001b[0m: name 'shape_data' is not defined"
     ]
    }
   ],
   "source": [
    "print (test_point([-71.13794487, 42.35945246]))"
   ]
  },
  {
   "cell_type": "code",
   "execution_count": null,
   "metadata": {
    "collapsed": true
   },
   "outputs": [],
   "source": []
  }
 ],
 "metadata": {
  "kernelspec": {
   "display_name": "Python 3",
   "language": "python",
   "name": "python3"
  },
  "language_info": {
   "codemirror_mode": {
    "name": "ipython",
    "version": 3
   },
   "file_extension": ".py",
   "mimetype": "text/x-python",
   "name": "python",
   "nbconvert_exporter": "python",
   "pygments_lexer": "ipython3",
   "version": "3.6.1"
  }
 },
 "nbformat": 4,
 "nbformat_minor": 2
}
