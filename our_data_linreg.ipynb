{
 "cells": [
  {
   "cell_type": "code",
   "execution_count": 94,
   "metadata": {},
   "outputs": [],
   "source": [
    "import pandas as pd\n",
    "import sys\n",
    "import numpy as np\n",
    "import scipy as sp\n",
    "import matplotlib.pyplot as plt\n",
    "import seaborn as sns\n",
    "import sklearn as sk\n",
    "from sklearn.model_selection import train_test_split\n",
    "from sklearn.linear_model import Ridge\n",
    "from sklearn.linear_model import BayesianRidge\n",
    "from sklearn.linear_model import Lasso\n",
    "from sklearn.linear_model import LinearRegression\n",
    "from sklearn.preprocessing import PolynomialFeatures\n",
    "from sklearn.neighbors import KNeighborsRegressor\n",
    "import statsmodels.api as sm\n",
    "sns.set(style=\"ticks\")\n",
    "%matplotlib inline\n",
    "import pickle\n",
    "from sklearn import preprocessing"
   ]
  },
  {
   "cell_type": "code",
   "execution_count": 95,
   "metadata": {
    "collapsed": true
   },
   "outputs": [],
   "source": [
    "pm = pd.read_csv('finished_pm.csv')"
   ]
  },
  {
   "cell_type": "code",
   "execution_count": 96,
   "metadata": {},
   "outputs": [
    {
     "data": {
      "text/html": [
       "<div>\n",
       "<style>\n",
       "    .dataframe thead tr:only-child th {\n",
       "        text-align: right;\n",
       "    }\n",
       "\n",
       "    .dataframe thead th {\n",
       "        text-align: left;\n",
       "    }\n",
       "\n",
       "    .dataframe tbody tr th {\n",
       "        vertical-align: top;\n",
       "    }\n",
       "</style>\n",
       "<table border=\"1\" class=\"dataframe\">\n",
       "  <thead>\n",
       "    <tr style=\"text-align: right;\">\n",
       "      <th></th>\n",
       "      <th>Parameter Name</th>\n",
       "      <th>Site_keys</th>\n",
       "      <th>ppm</th>\n",
       "      <th>forest</th>\n",
       "      <th>open_land</th>\n",
       "      <th>water</th>\n",
       "      <th>wetland</th>\n",
       "      <th>saltwater/sandybeach</th>\n",
       "      <th>recreational</th>\n",
       "      <th>marina</th>\n",
       "      <th>...</th>\n",
       "      <th>transportation</th>\n",
       "      <th>mining</th>\n",
       "      <th>waste</th>\n",
       "      <th>crop_land</th>\n",
       "      <th>cemetary</th>\n",
       "      <th>golfcourse</th>\n",
       "      <th>high_density_residential</th>\n",
       "      <th>medium_density_residential</th>\n",
       "      <th>low_density_residential</th>\n",
       "      <th>industrial</th>\n",
       "    </tr>\n",
       "  </thead>\n",
       "  <tbody>\n",
       "    <tr>\n",
       "      <th>0</th>\n",
       "      <td>PM2.5 - Local Conditions</td>\n",
       "      <td>[ 42.452017 -73.255089]</td>\n",
       "      <td>0.005385</td>\n",
       "      <td>0.000000</td>\n",
       "      <td>0.0</td>\n",
       "      <td>0.000000</td>\n",
       "      <td>0.0</td>\n",
       "      <td>0</td>\n",
       "      <td>0</td>\n",
       "      <td>0</td>\n",
       "      <td>...</td>\n",
       "      <td>0.0</td>\n",
       "      <td>0</td>\n",
       "      <td>0</td>\n",
       "      <td>0.0</td>\n",
       "      <td>0</td>\n",
       "      <td>0</td>\n",
       "      <td>0</td>\n",
       "      <td>0.170000</td>\n",
       "      <td>0</td>\n",
       "      <td>0.00</td>\n",
       "    </tr>\n",
       "    <tr>\n",
       "      <th>1</th>\n",
       "      <td>PM2.5 - Local Conditions</td>\n",
       "      <td>[ 42.448009 -73.254108]</td>\n",
       "      <td>0.005602</td>\n",
       "      <td>0.000000</td>\n",
       "      <td>0.0</td>\n",
       "      <td>0.000000</td>\n",
       "      <td>0.0</td>\n",
       "      <td>0</td>\n",
       "      <td>0</td>\n",
       "      <td>0</td>\n",
       "      <td>...</td>\n",
       "      <td>0.0</td>\n",
       "      <td>0</td>\n",
       "      <td>0</td>\n",
       "      <td>0.0</td>\n",
       "      <td>0</td>\n",
       "      <td>0</td>\n",
       "      <td>0</td>\n",
       "      <td>0.370000</td>\n",
       "      <td>0</td>\n",
       "      <td>0.00</td>\n",
       "    </tr>\n",
       "    <tr>\n",
       "      <th>2</th>\n",
       "      <td>PM2.5 - Local Conditions</td>\n",
       "      <td>[ 41.685707 -71.169235]</td>\n",
       "      <td>0.006388</td>\n",
       "      <td>0.000000</td>\n",
       "      <td>0.0</td>\n",
       "      <td>0.120000</td>\n",
       "      <td>0.0</td>\n",
       "      <td>0</td>\n",
       "      <td>0</td>\n",
       "      <td>0</td>\n",
       "      <td>...</td>\n",
       "      <td>0.0</td>\n",
       "      <td>0</td>\n",
       "      <td>0</td>\n",
       "      <td>0.0</td>\n",
       "      <td>0</td>\n",
       "      <td>0</td>\n",
       "      <td>0</td>\n",
       "      <td>0.640000</td>\n",
       "      <td>0</td>\n",
       "      <td>0.01</td>\n",
       "    </tr>\n",
       "    <tr>\n",
       "      <th>3</th>\n",
       "      <td>PM2.5 - Local Conditions</td>\n",
       "      <td>[ 42.474642 -70.970816]</td>\n",
       "      <td>0.005536</td>\n",
       "      <td>0.000000</td>\n",
       "      <td>0.0</td>\n",
       "      <td>0.010000</td>\n",
       "      <td>0.0</td>\n",
       "      <td>0</td>\n",
       "      <td>0</td>\n",
       "      <td>0</td>\n",
       "      <td>...</td>\n",
       "      <td>0.0</td>\n",
       "      <td>0</td>\n",
       "      <td>0</td>\n",
       "      <td>0.0</td>\n",
       "      <td>0</td>\n",
       "      <td>0</td>\n",
       "      <td>0</td>\n",
       "      <td>0.910000</td>\n",
       "      <td>0</td>\n",
       "      <td>0.00</td>\n",
       "    </tr>\n",
       "    <tr>\n",
       "      <th>4</th>\n",
       "      <td>PM2.5 - Local Conditions</td>\n",
       "      <td>[ 42.770837 -71.10229 ]</td>\n",
       "      <td>0.010355</td>\n",
       "      <td>0.016129</td>\n",
       "      <td>0.0</td>\n",
       "      <td>0.008065</td>\n",
       "      <td>0.0</td>\n",
       "      <td>0</td>\n",
       "      <td>0</td>\n",
       "      <td>0</td>\n",
       "      <td>...</td>\n",
       "      <td>0.0</td>\n",
       "      <td>0</td>\n",
       "      <td>0</td>\n",
       "      <td>0.0</td>\n",
       "      <td>0</td>\n",
       "      <td>0</td>\n",
       "      <td>0</td>\n",
       "      <td>0.782258</td>\n",
       "      <td>0</td>\n",
       "      <td>0.00</td>\n",
       "    </tr>\n",
       "  </tbody>\n",
       "</table>\n",
       "<p>5 rows × 23 columns</p>\n",
       "</div>"
      ],
      "text/plain": [
       "             Parameter Name                Site_keys       ppm    forest  \\\n",
       "0  PM2.5 - Local Conditions  [ 42.452017 -73.255089]  0.005385  0.000000   \n",
       "1  PM2.5 - Local Conditions  [ 42.448009 -73.254108]  0.005602  0.000000   \n",
       "2  PM2.5 - Local Conditions  [ 41.685707 -71.169235]  0.006388  0.000000   \n",
       "3  PM2.5 - Local Conditions  [ 42.474642 -70.970816]  0.005536  0.000000   \n",
       "4  PM2.5 - Local Conditions  [ 42.770837 -71.10229 ]  0.010355  0.016129   \n",
       "\n",
       "   open_land     water  wetland  saltwater/sandybeach  recreational  marina  \\\n",
       "0        0.0  0.000000      0.0                     0             0       0   \n",
       "1        0.0  0.000000      0.0                     0             0       0   \n",
       "2        0.0  0.120000      0.0                     0             0       0   \n",
       "3        0.0  0.010000      0.0                     0             0       0   \n",
       "4        0.0  0.008065      0.0                     0             0       0   \n",
       "\n",
       "      ...      transportation  mining  waste  crop_land  cemetary  golfcourse  \\\n",
       "0     ...                 0.0       0      0        0.0         0           0   \n",
       "1     ...                 0.0       0      0        0.0         0           0   \n",
       "2     ...                 0.0       0      0        0.0         0           0   \n",
       "3     ...                 0.0       0      0        0.0         0           0   \n",
       "4     ...                 0.0       0      0        0.0         0           0   \n",
       "\n",
       "   high_density_residential  medium_density_residential  \\\n",
       "0                         0                    0.170000   \n",
       "1                         0                    0.370000   \n",
       "2                         0                    0.640000   \n",
       "3                         0                    0.910000   \n",
       "4                         0                    0.782258   \n",
       "\n",
       "   low_density_residential  industrial  \n",
       "0                        0        0.00  \n",
       "1                        0        0.00  \n",
       "2                        0        0.01  \n",
       "3                        0        0.00  \n",
       "4                        0        0.00  \n",
       "\n",
       "[5 rows x 23 columns]"
      ]
     },
     "execution_count": 96,
     "metadata": {},
     "output_type": "execute_result"
    }
   ],
   "source": [
    "pm.head()"
   ]
  },
  {
   "cell_type": "code",
   "execution_count": 97,
   "metadata": {
    "collapsed": true
   },
   "outputs": [],
   "source": [
    "#function to rename columns that have backslashes in them\n",
    "def rename_again(df):\n",
    "    df=df.rename(columns = {'saltwater/sandybeach':'saltwater_sandybeach'})\n",
    "    df=df.rename(columns = {'urban_public/institution':'urban_public_institution'})\n",
    "    return df"
   ]
  },
  {
   "cell_type": "code",
   "execution_count": 98,
   "metadata": {
    "collapsed": true
   },
   "outputs": [],
   "source": [
    "pm = rename_again(pm)"
   ]
  },
  {
   "cell_type": "code",
   "execution_count": 99,
   "metadata": {},
   "outputs": [],
   "source": [
    "# x = pm.iloc[:, 3:].astype(float)\n",
    "# y = pm.iloc[:, 2]\n",
    "# y = (y*100)\n",
    "all_predictors = ['forest', 'open_land', 'water', 'wetland', 'saltwater_sandybeach', 'recreational', 'marina', 'transitional', 'urban_public_institution', 'commercial', 'transportation', 'mining', 'waste', 'crop_land', 'cemetary', 'golfcourse', 'high_density_residential', 'medium_density_residential', 'low_density_residential', 'industrial']\n",
    "train, test = train_test_split(pm, test_size=0.30, random_state=0)\n",
    "y_train = train['ppm'].values\n",
    "y_test = test['ppm'].values\n"
   ]
  },
  {
   "cell_type": "code",
   "execution_count": 100,
   "metadata": {},
   "outputs": [],
   "source": [
    "\n",
    "# x_train = np.delete(x_train, 0, 1)\n",
    "# print ((x_train))\n",
    "\n"
   ]
  },
  {
   "cell_type": "code",
   "execution_count": 101,
   "metadata": {
    "collapsed": true
   },
   "outputs": [],
   "source": [
    "# DUMP TRAIN AND TEST VALUES AND SAVE THEM TO USE CONSISTENTLY\n",
    "# pickle.dump(x_train, open(\"pic_train_x_params\", 'wb', 2))\n",
    "# pickle.dump(x_test, open(\"pic_test_x_params\", 'wb', 2))\n",
    "# pickle.dump(y_train, open(\"pic_train_y_params\", 'wb', 2))\n",
    "# pickle.dump(y_test, open(\"pic_test_y_params\", 'wb', 2))"
   ]
  },
  {
   "cell_type": "code",
   "execution_count": 102,
   "metadata": {
    "collapsed": true
   },
   "outputs": [],
   "source": [
    "# x_train = pickle.load(open('pic_train_x_params', 'rb'))\n",
    "# y_train = pickle.load(open('pic_train_y_params', 'rb'))\n"
   ]
  },
  {
   "cell_type": "code",
   "execution_count": 103,
   "metadata": {
    "collapsed": true
   },
   "outputs": [],
   "source": [
    "#function that creates an instance of a statmodels.api Ordinary Least Squares Model\n",
    "def reg_m(y, x):\n",
    "    model = sm.OLS(y, x).fit()\n",
    "    #fits simple ordinary least squares model\n",
    "    predictions = model.predict(x)\n",
    "    #makes predictions for y based on x\n",
    "    return(model.summary())\n"
   ]
  },
  {
   "cell_type": "code",
   "execution_count": 104,
   "metadata": {},
   "outputs": [
    {
     "name": "stdout",
     "output_type": "stream",
     "text": [
      "                            OLS Regression Results                            \n",
      "==============================================================================\n",
      "Dep. Variable:                      y   R-squared:                       0.243\n",
      "Model:                            OLS   Adj. R-squared:                  0.203\n",
      "Method:                 Least Squares   F-statistic:                     6.023\n",
      "Date:                Thu, 13 Jul 2017   Prob (F-statistic):           4.25e-06\n",
      "Time:                        10:44:50   Log-Likelihood:                 392.33\n",
      "No. Observations:                 138   AIC:                            -770.7\n",
      "Df Residuals:                     131   BIC:                            -750.2\n",
      "Df Model:                           7                                         \n",
      "Covariance Type:            nonrobust                                         \n",
      "==============================================================================\n",
      "                 coef    std err          t      P>|t|      [0.025      0.975]\n",
      "------------------------------------------------------------------------------\n",
      "const               0          0        nan        nan           0           0\n",
      "x1         -1.894e-18   4.03e-18     -0.470      0.639   -9.87e-18    6.08e-18\n",
      "x2         -2.696e-18   6.38e-18     -0.423      0.673   -1.53e-17    9.92e-18\n",
      "x3             0.0112      0.049      0.227      0.821      -0.086       0.109\n",
      "x4             0.0251      0.018      1.375      0.171      -0.011       0.061\n",
      "x5             0.0074      0.005      1.493      0.138      -0.002       0.017\n",
      "x6             0.0117      0.007      1.567      0.120      -0.003       0.026\n",
      "x7         -5.976e-18   2.74e-17     -0.218      0.828   -6.02e-17    4.83e-17\n",
      "x8                  0          0        nan        nan           0           0\n",
      "x9             0.0176      0.007      2.404      0.018       0.003       0.032\n",
      "x10          3.96e-47   1.04e-46      0.380      0.705   -1.67e-46    2.46e-46\n",
      "x11        -1.069e-63   1.55e-62     -0.069      0.945   -3.18e-62    2.96e-62\n",
      "x12        -2.065e-62   4.65e-62     -0.444      0.658   -1.13e-61    7.14e-62\n",
      "x13            0.0085      0.003      2.718      0.007       0.002       0.015\n",
      "x14                 0          0        nan        nan           0           0\n",
      "x15            0.0011      0.008      0.140      0.889      -0.015       0.017\n",
      "==============================================================================\n",
      "Omnibus:                      168.807   Durbin-Watson:                   1.845\n",
      "Prob(Omnibus):                  0.000   Jarque-Bera (JB):             5788.308\n",
      "Skew:                           4.556   Prob(JB):                         0.00\n",
      "Kurtosis:                      33.391   Cond. No.                          inf\n",
      "==============================================================================\n",
      "\n",
      "Warnings:\n",
      "[1] Standard Errors assume that the covariance matrix of the errors is correctly specified.\n",
      "[2] The smallest eigenvalue is      0. This might indicate that there are\n",
      "strong multicollinearity problems or that the design matrix is singular.\n"
     ]
    },
    {
     "name": "stderr",
     "output_type": "stream",
     "text": [
      "/Users/taraippolito/anaconda/lib/python3.6/site-packages/statsmodels/regression/linear_model.py:1471: RuntimeWarning: divide by zero encountered in double_scalars\n",
      "  return np.sqrt(eigvals[0]/eigvals[-1])\n",
      "/Users/taraippolito/anaconda/lib/python3.6/site-packages/statsmodels/base/model.py:1036: RuntimeWarning: invalid value encountered in true_divide\n",
      "  return self.params / self.bse\n",
      "/Users/taraippolito/anaconda/lib/python3.6/site-packages/scipy/stats/_distn_infrastructure.py:879: RuntimeWarning: invalid value encountered in greater\n",
      "  return (self.a < x) & (x < self.b)\n",
      "/Users/taraippolito/anaconda/lib/python3.6/site-packages/scipy/stats/_distn_infrastructure.py:879: RuntimeWarning: invalid value encountered in less\n",
      "  return (self.a < x) & (x < self.b)\n",
      "/Users/taraippolito/anaconda/lib/python3.6/site-packages/scipy/stats/_distn_infrastructure.py:1818: RuntimeWarning: invalid value encountered in less_equal\n",
      "  cond2 = cond0 & (x <= self.a)\n"
     ]
    }
   ],
   "source": [
    "model = reg_m(y_train ,x_train)\n",
    "print (model)"
   ]
  },
  {
   "cell_type": "code",
   "execution_count": 105,
   "metadata": {
    "collapsed": true
   },
   "outputs": [],
   "source": [
    "'''Method that takes in a list of all the predictors left in the model, and the model, \n",
    "spits out the lowest p valued predictor and lowest p value'''\n",
    "def find_low_p(all_preds, model_OLS):\n",
    "    #initiates lowest p value\n",
    "    lowestp = 1\n",
    "    lowestlu = ' '\n",
    "    #iterates through predictor variables\n",
    "    for i in range(len(all_preds)):\n",
    "        \n",
    "        #compares pvalues between ith and ith +1 term\n",
    "        if (model_OLS.pvalues[i] < lowestp):\n",
    "            \n",
    "            #reassigns lowest pvalue variable, gets index of lowest pvalue variable\n",
    "            lowestp = model_OLS.pvalues[i]\n",
    "            lowestlu = all_preds[i]\n",
    "        else:\n",
    "            continue\n",
    "    return lowestp , lowestlu"
   ]
  },
  {
   "cell_type": "code",
   "execution_count": 106,
   "metadata": {},
   "outputs": [],
   "source": [
    "# find_low_p(all_predictors, m)\n",
    "\n",
    "# x_train = x_train[predictors].values #update parameters to no longer include the lowest p valued predictor\n",
    "\n",
    "\n",
    "# print (x_train)"
   ]
  },
  {
   "cell_type": "code",
   "execution_count": 107,
   "metadata": {
    "collapsed": true
   },
   "outputs": [],
   "source": [
    "\"\"\"Input: x data set, y data set, list of predictor variables\n",
    "Action: Runs a ridge regression through initial data set, computes pvalue, deletes predictor with least pvalue\n",
    "returns: models - one for each new data set created after deleting\n",
    "\"\"\"\n",
    "def backwards_var_sel(x, y, all_predictors, train):\n",
    "    models = [] #to hold all the models\n",
    "    for i in range(len(all_predictors)-1):\n",
    "        #fit a MLR to data set\n",
    "        OLS_model = sm.OLS(y, x).fit()\n",
    "        \n",
    "        #save new model in a list\n",
    "        models.append(OLS_model)\n",
    "        \n",
    "        #finds lowest pvalue and index of lowest pvalue\n",
    "        lowestp, lowestlu = find_low_p(all_predictors, OLS_model)\n",
    "        \n",
    "        #removes variable with lowest p value\n",
    "        index_td = all_predictors.index(lowestlu)\n",
    "        del all_predictors[index_td]\n",
    "        \n",
    "        #updates list of x values, not including variable with lowest pvalue\n",
    "        x = train[all_predictors].values\n",
    "        \n",
    "    return models"
   ]
  },
  {
   "cell_type": "code",
   "execution_count": 108,
   "metadata": {},
   "outputs": [
    {
     "name": "stderr",
     "output_type": "stream",
     "text": [
      "/Users/taraippolito/anaconda/lib/python3.6/site-packages/statsmodels/base/model.py:1036: RuntimeWarning: invalid value encountered in true_divide\n",
      "  return self.params / self.bse\n",
      "/Users/taraippolito/anaconda/lib/python3.6/site-packages/scipy/stats/_distn_infrastructure.py:879: RuntimeWarning: invalid value encountered in greater\n",
      "  return (self.a < x) & (x < self.b)\n",
      "/Users/taraippolito/anaconda/lib/python3.6/site-packages/scipy/stats/_distn_infrastructure.py:879: RuntimeWarning: invalid value encountered in less\n",
      "  return (self.a < x) & (x < self.b)\n",
      "/Users/taraippolito/anaconda/lib/python3.6/site-packages/scipy/stats/_distn_infrastructure.py:1818: RuntimeWarning: invalid value encountered in less_equal\n",
      "  cond2 = cond0 & (x <= self.a)\n"
     ]
    },
    {
     "ename": "IndexError",
     "evalue": "index 16 is out of bounds for axis 0 with size 16",
     "output_type": "error",
     "traceback": [
      "\u001b[0;31m---------------------------------------------------------------------------\u001b[0m",
      "\u001b[0;31mIndexError\u001b[0m                                Traceback (most recent call last)",
      "\u001b[0;32m<ipython-input-108-a7a7d0d09b74>\u001b[0m in \u001b[0;36m<module>\u001b[0;34m()\u001b[0m\n\u001b[0;32m----> 1\u001b[0;31m \u001b[0mprelim_models\u001b[0m \u001b[0;34m=\u001b[0m \u001b[0mbackwards_var_sel\u001b[0m\u001b[0;34m(\u001b[0m\u001b[0mx_train\u001b[0m\u001b[0;34m,\u001b[0m \u001b[0my_train\u001b[0m\u001b[0;34m,\u001b[0m \u001b[0mpredictors\u001b[0m\u001b[0;34m,\u001b[0m \u001b[0mtrain\u001b[0m\u001b[0;34m)\u001b[0m\u001b[0;34m\u001b[0m\u001b[0m\n\u001b[0m\u001b[1;32m      2\u001b[0m \u001b[0mprint\u001b[0m \u001b[0;34m(\u001b[0m\u001b[0mprelim_models\u001b[0m\u001b[0;34m)\u001b[0m\u001b[0;34m\u001b[0m\u001b[0m\n",
      "\u001b[0;32m<ipython-input-107-60cf893637f2>\u001b[0m in \u001b[0;36mbackwards_var_sel\u001b[0;34m(x, y, all_predictors, train)\u001b[0m\n\u001b[1;32m     13\u001b[0m \u001b[0;34m\u001b[0m\u001b[0m\n\u001b[1;32m     14\u001b[0m         \u001b[0;31m#finds lowest pvalue and index of lowest pvalue\u001b[0m\u001b[0;34m\u001b[0m\u001b[0;34m\u001b[0m\u001b[0m\n\u001b[0;32m---> 15\u001b[0;31m         \u001b[0mlowestp\u001b[0m\u001b[0;34m,\u001b[0m \u001b[0mlowestlu\u001b[0m \u001b[0;34m=\u001b[0m \u001b[0mfind_low_p\u001b[0m\u001b[0;34m(\u001b[0m\u001b[0mall_predictors\u001b[0m\u001b[0;34m,\u001b[0m \u001b[0mOLS_model\u001b[0m\u001b[0;34m)\u001b[0m\u001b[0;34m\u001b[0m\u001b[0m\n\u001b[0m\u001b[1;32m     16\u001b[0m \u001b[0;34m\u001b[0m\u001b[0m\n\u001b[1;32m     17\u001b[0m         \u001b[0;31m#removes variable with lowest p value\u001b[0m\u001b[0;34m\u001b[0m\u001b[0;34m\u001b[0m\u001b[0m\n",
      "\u001b[0;32m<ipython-input-105-5168befbf366>\u001b[0m in \u001b[0;36mfind_low_p\u001b[0;34m(all_preds, model_OLS)\u001b[0m\n\u001b[1;32m      9\u001b[0m \u001b[0;34m\u001b[0m\u001b[0m\n\u001b[1;32m     10\u001b[0m         \u001b[0;31m#compares pvalues between ith and ith +1 term\u001b[0m\u001b[0;34m\u001b[0m\u001b[0;34m\u001b[0m\u001b[0m\n\u001b[0;32m---> 11\u001b[0;31m         \u001b[0;32mif\u001b[0m \u001b[0;34m(\u001b[0m\u001b[0mmodel_OLS\u001b[0m\u001b[0;34m.\u001b[0m\u001b[0mpvalues\u001b[0m\u001b[0;34m[\u001b[0m\u001b[0mi\u001b[0m\u001b[0;34m]\u001b[0m \u001b[0;34m<\u001b[0m \u001b[0mlowestp\u001b[0m\u001b[0;34m)\u001b[0m\u001b[0;34m:\u001b[0m\u001b[0;34m\u001b[0m\u001b[0m\n\u001b[0m\u001b[1;32m     12\u001b[0m \u001b[0;34m\u001b[0m\u001b[0m\n\u001b[1;32m     13\u001b[0m             \u001b[0;31m#reassigns lowest pvalue variable, gets index of lowest pvalue variable\u001b[0m\u001b[0;34m\u001b[0m\u001b[0;34m\u001b[0m\u001b[0m\n",
      "\u001b[0;31mIndexError\u001b[0m: index 16 is out of bounds for axis 0 with size 16"
     ]
    }
   ],
   "source": [
    "prelim_models = backwards_var_sel(x_train, y_train, predictors, train)\n",
    "print (prelim_models)"
   ]
  },
  {
   "cell_type": "markdown",
   "metadata": {},
   "source": [
    "## \"\"\"Bayesian Linear Model\"\"\"\n",
    "ridge_regression = Ridge(alpha=1.0, fit_intercept=True)\n",
    "ridge_regression.fit(x_train, y_train)"
   ]
  },
  {
   "cell_type": "code",
   "execution_count": 98,
   "metadata": {},
   "outputs": [
    {
     "name": "stdout",
     "output_type": "stream",
     "text": [
      "Ridge regression model:\n",
      " 1.580468914760643 + [-0.48959421 -0.57961581 -0.50722643 -0.01516038  0.          0.          0.\n",
      " -0.08696047  0.30857794 -0.76260961 -0.60247796  0.          0.         -0.0594071\n",
      "  0.          0.          0.         -0.79518611  0.         -1.16632488]^T . x\n"
     ]
    }
   ],
   "source": [
    "print ('Ridge regression model:\\n {} + {}^T . x'.format(ridge_regression.intercept_, ridge_regression.coef_))"
   ]
  },
  {
   "cell_type": "code",
   "execution_count": 99,
   "metadata": {},
   "outputs": [
    {
     "name": "stdout",
     "output_type": "stream",
     "text": [
      "Train R^2: 0.06579678012203594\n"
     ]
    }
   ],
   "source": [
    "print ('Train R^2: {}'.format(ridge_regression.score(x_train, y_train)))"
   ]
  },
  {
   "cell_type": "code",
   "execution_count": 100,
   "metadata": {
    "collapsed": true
   },
   "outputs": [],
   "source": [
    "#normalize and scale L2\n",
    "normalized_x = preprocessing.normalize(x_train, norm = 'l2')\n",
    "scaled_norm_x = preprocessing.scale(normalized_x)"
   ]
  },
  {
   "cell_type": "code",
   "execution_count": 101,
   "metadata": {},
   "outputs": [
    {
     "name": "stdout",
     "output_type": "stream",
     "text": [
      "[-0.52905261 -0.11921138 -0.15270835 -0.12097729  0.          0.          0.\n",
      " -0.12128807 -0.38207965 -0.51840855 -0.48826937  0.          0.\n",
      " -0.37666282  0.          0.          0.          1.37195492  0.\n",
      " -0.39554259]\n"
     ]
    }
   ],
   "source": [
    "print (scaled_norm_x[0])"
   ]
  },
  {
   "cell_type": "code",
   "execution_count": 102,
   "metadata": {},
   "outputs": [
    {
     "data": {
      "text/plain": [
       "Ridge(alpha=1.0, copy_X=True, fit_intercept=True, max_iter=None,\n",
       "   normalize=False, random_state=None, solver='auto', tol=0.001)"
      ]
     },
     "execution_count": 102,
     "metadata": {},
     "output_type": "execute_result"
    }
   ],
   "source": [
    "\"\"\"Bayesian Linear Model\"\"\"\n",
    "ridge_regression_scaled = Ridge(alpha=1.0, fit_intercept=True)\n",
    "ridge_regression_scaled.fit(scaled_norm_x, y_train)"
   ]
  },
  {
   "cell_type": "code",
   "execution_count": 103,
   "metadata": {},
   "outputs": [
    {
     "name": "stdout",
     "output_type": "stream",
     "text": [
      "Train R^2: 0.08580808974377219\n"
     ]
    }
   ],
   "source": [
    "print ('Train R^2: {}'.format(ridge_regression_scaled.score(scaled_norm_x, y_train)))"
   ]
  },
  {
   "cell_type": "code",
   "execution_count": null,
   "metadata": {
    "collapsed": true
   },
   "outputs": [],
   "source": []
  },
  {
   "cell_type": "code",
   "execution_count": null,
   "metadata": {
    "collapsed": true
   },
   "outputs": [],
   "source": []
  }
 ],
 "metadata": {
  "kernelspec": {
   "display_name": "Python 3",
   "language": "python",
   "name": "python3"
  },
  "language_info": {
   "codemirror_mode": {
    "name": "ipython",
    "version": 3
   },
   "file_extension": ".py",
   "mimetype": "text/x-python",
   "name": "python",
   "nbconvert_exporter": "python",
   "pygments_lexer": "ipython3",
   "version": "3.6.1"
  }
 },
 "nbformat": 4,
 "nbformat_minor": 2
}
