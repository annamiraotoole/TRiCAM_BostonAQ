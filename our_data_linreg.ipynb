{
 "cells": [
  {
   "cell_type": "code",
   "execution_count": 191,
   "metadata": {},
   "outputs": [],
   "source": [
    "import pandas as pd\n",
    "import sys\n",
    "import numpy as np\n",
    "import scipy as sp\n",
    "import matplotlib.pyplot as plt\n",
    "import seaborn as sns\n",
    "import sklearn as sk\n",
    "from sklearn.model_selection import train_test_split\n",
    "from sklearn.linear_model import Ridge\n",
    "from sklearn.linear_model import BayesianRidge\n",
    "from sklearn.linear_model import Lasso\n",
    "from sklearn.linear_model import LinearRegression\n",
    "from sklearn.preprocessing import PolynomialFeatures\n",
    "from sklearn.neighbors import KNeighborsRegressor\n",
    "import statsmodels.api as sm\n",
    "sns.set(style=\"ticks\")\n",
    "%matplotlib inline\n",
    "import pickle\n",
    "from sklearn import preprocessing"
   ]
  },
  {
   "cell_type": "code",
   "execution_count": 192,
   "metadata": {
    "collapsed": true
   },
   "outputs": [],
   "source": [
    "pm = pd.read_csv('finished_pm.csv')"
   ]
  },
  {
   "cell_type": "code",
   "execution_count": 193,
   "metadata": {},
   "outputs": [
    {
     "data": {
      "text/html": [
       "<div>\n",
       "<style>\n",
       "    .dataframe thead tr:only-child th {\n",
       "        text-align: right;\n",
       "    }\n",
       "\n",
       "    .dataframe thead th {\n",
       "        text-align: left;\n",
       "    }\n",
       "\n",
       "    .dataframe tbody tr th {\n",
       "        vertical-align: top;\n",
       "    }\n",
       "</style>\n",
       "<table border=\"1\" class=\"dataframe\">\n",
       "  <thead>\n",
       "    <tr style=\"text-align: right;\">\n",
       "      <th></th>\n",
       "      <th>Parameter Name</th>\n",
       "      <th>Site_keys</th>\n",
       "      <th>ppm</th>\n",
       "      <th>forest</th>\n",
       "      <th>open_land</th>\n",
       "      <th>water</th>\n",
       "      <th>wetland</th>\n",
       "      <th>saltwater/sandybeach</th>\n",
       "      <th>recreational</th>\n",
       "      <th>marina</th>\n",
       "      <th>...</th>\n",
       "      <th>transportation</th>\n",
       "      <th>mining</th>\n",
       "      <th>waste</th>\n",
       "      <th>crop_land</th>\n",
       "      <th>cemetary</th>\n",
       "      <th>golfcourse</th>\n",
       "      <th>high_density_residential</th>\n",
       "      <th>medium_density_residential</th>\n",
       "      <th>low_density_residential</th>\n",
       "      <th>industrial</th>\n",
       "    </tr>\n",
       "  </thead>\n",
       "  <tbody>\n",
       "    <tr>\n",
       "      <th>0</th>\n",
       "      <td>PM2.5 - Local Conditions</td>\n",
       "      <td>[ 42.452017 -73.255089]</td>\n",
       "      <td>0.005385</td>\n",
       "      <td>0.000000</td>\n",
       "      <td>0.0</td>\n",
       "      <td>0.000000</td>\n",
       "      <td>0.0</td>\n",
       "      <td>0</td>\n",
       "      <td>0</td>\n",
       "      <td>0</td>\n",
       "      <td>...</td>\n",
       "      <td>0.0</td>\n",
       "      <td>0</td>\n",
       "      <td>0</td>\n",
       "      <td>0.0</td>\n",
       "      <td>0</td>\n",
       "      <td>0</td>\n",
       "      <td>0</td>\n",
       "      <td>0.170000</td>\n",
       "      <td>0</td>\n",
       "      <td>0.00</td>\n",
       "    </tr>\n",
       "    <tr>\n",
       "      <th>1</th>\n",
       "      <td>PM2.5 - Local Conditions</td>\n",
       "      <td>[ 42.448009 -73.254108]</td>\n",
       "      <td>0.005602</td>\n",
       "      <td>0.000000</td>\n",
       "      <td>0.0</td>\n",
       "      <td>0.000000</td>\n",
       "      <td>0.0</td>\n",
       "      <td>0</td>\n",
       "      <td>0</td>\n",
       "      <td>0</td>\n",
       "      <td>...</td>\n",
       "      <td>0.0</td>\n",
       "      <td>0</td>\n",
       "      <td>0</td>\n",
       "      <td>0.0</td>\n",
       "      <td>0</td>\n",
       "      <td>0</td>\n",
       "      <td>0</td>\n",
       "      <td>0.370000</td>\n",
       "      <td>0</td>\n",
       "      <td>0.00</td>\n",
       "    </tr>\n",
       "    <tr>\n",
       "      <th>2</th>\n",
       "      <td>PM2.5 - Local Conditions</td>\n",
       "      <td>[ 41.685707 -71.169235]</td>\n",
       "      <td>0.006388</td>\n",
       "      <td>0.000000</td>\n",
       "      <td>0.0</td>\n",
       "      <td>0.120000</td>\n",
       "      <td>0.0</td>\n",
       "      <td>0</td>\n",
       "      <td>0</td>\n",
       "      <td>0</td>\n",
       "      <td>...</td>\n",
       "      <td>0.0</td>\n",
       "      <td>0</td>\n",
       "      <td>0</td>\n",
       "      <td>0.0</td>\n",
       "      <td>0</td>\n",
       "      <td>0</td>\n",
       "      <td>0</td>\n",
       "      <td>0.640000</td>\n",
       "      <td>0</td>\n",
       "      <td>0.01</td>\n",
       "    </tr>\n",
       "    <tr>\n",
       "      <th>3</th>\n",
       "      <td>PM2.5 - Local Conditions</td>\n",
       "      <td>[ 42.474642 -70.970816]</td>\n",
       "      <td>0.005536</td>\n",
       "      <td>0.000000</td>\n",
       "      <td>0.0</td>\n",
       "      <td>0.010000</td>\n",
       "      <td>0.0</td>\n",
       "      <td>0</td>\n",
       "      <td>0</td>\n",
       "      <td>0</td>\n",
       "      <td>...</td>\n",
       "      <td>0.0</td>\n",
       "      <td>0</td>\n",
       "      <td>0</td>\n",
       "      <td>0.0</td>\n",
       "      <td>0</td>\n",
       "      <td>0</td>\n",
       "      <td>0</td>\n",
       "      <td>0.910000</td>\n",
       "      <td>0</td>\n",
       "      <td>0.00</td>\n",
       "    </tr>\n",
       "    <tr>\n",
       "      <th>4</th>\n",
       "      <td>PM2.5 - Local Conditions</td>\n",
       "      <td>[ 42.770837 -71.10229 ]</td>\n",
       "      <td>0.010355</td>\n",
       "      <td>0.016129</td>\n",
       "      <td>0.0</td>\n",
       "      <td>0.008065</td>\n",
       "      <td>0.0</td>\n",
       "      <td>0</td>\n",
       "      <td>0</td>\n",
       "      <td>0</td>\n",
       "      <td>...</td>\n",
       "      <td>0.0</td>\n",
       "      <td>0</td>\n",
       "      <td>0</td>\n",
       "      <td>0.0</td>\n",
       "      <td>0</td>\n",
       "      <td>0</td>\n",
       "      <td>0</td>\n",
       "      <td>0.782258</td>\n",
       "      <td>0</td>\n",
       "      <td>0.00</td>\n",
       "    </tr>\n",
       "  </tbody>\n",
       "</table>\n",
       "<p>5 rows × 23 columns</p>\n",
       "</div>"
      ],
      "text/plain": [
       "             Parameter Name                Site_keys       ppm    forest  \\\n",
       "0  PM2.5 - Local Conditions  [ 42.452017 -73.255089]  0.005385  0.000000   \n",
       "1  PM2.5 - Local Conditions  [ 42.448009 -73.254108]  0.005602  0.000000   \n",
       "2  PM2.5 - Local Conditions  [ 41.685707 -71.169235]  0.006388  0.000000   \n",
       "3  PM2.5 - Local Conditions  [ 42.474642 -70.970816]  0.005536  0.000000   \n",
       "4  PM2.5 - Local Conditions  [ 42.770837 -71.10229 ]  0.010355  0.016129   \n",
       "\n",
       "   open_land     water  wetland  saltwater/sandybeach  recreational  marina  \\\n",
       "0        0.0  0.000000      0.0                     0             0       0   \n",
       "1        0.0  0.000000      0.0                     0             0       0   \n",
       "2        0.0  0.120000      0.0                     0             0       0   \n",
       "3        0.0  0.010000      0.0                     0             0       0   \n",
       "4        0.0  0.008065      0.0                     0             0       0   \n",
       "\n",
       "      ...      transportation  mining  waste  crop_land  cemetary  golfcourse  \\\n",
       "0     ...                 0.0       0      0        0.0         0           0   \n",
       "1     ...                 0.0       0      0        0.0         0           0   \n",
       "2     ...                 0.0       0      0        0.0         0           0   \n",
       "3     ...                 0.0       0      0        0.0         0           0   \n",
       "4     ...                 0.0       0      0        0.0         0           0   \n",
       "\n",
       "   high_density_residential  medium_density_residential  \\\n",
       "0                         0                    0.170000   \n",
       "1                         0                    0.370000   \n",
       "2                         0                    0.640000   \n",
       "3                         0                    0.910000   \n",
       "4                         0                    0.782258   \n",
       "\n",
       "   low_density_residential  industrial  \n",
       "0                        0        0.00  \n",
       "1                        0        0.00  \n",
       "2                        0        0.01  \n",
       "3                        0        0.00  \n",
       "4                        0        0.00  \n",
       "\n",
       "[5 rows x 23 columns]"
      ]
     },
     "execution_count": 193,
     "metadata": {},
     "output_type": "execute_result"
    }
   ],
   "source": [
    "pm.head()"
   ]
  },
  {
   "cell_type": "code",
   "execution_count": 250,
   "metadata": {},
   "outputs": [],
   "source": [
    "def rename_again(df):\n",
    "    df=df.rename(columns = {'saltwater/sandybeach':'saltwater_sandybeach'})\n",
    "    df=df.rename(columns = {'urban_public/institution':'urban_public_institution'})\n",
    "    return df"
   ]
  },
  {
   "cell_type": "code",
   "execution_count": 251,
   "metadata": {
    "collapsed": true
   },
   "outputs": [],
   "source": [
    "pm = rename_again(pm)"
   ]
  },
  {
   "cell_type": "code",
   "execution_count": 252,
   "metadata": {},
   "outputs": [],
   "source": [
    "x = pm.iloc[:, 3:].astype(float)\n",
    "y = pm.iloc[:, 2]\n",
    "y = (y*100)\n",
    "x_train, x_test, y_train, y_test= train_test_split(x, y, test_size=0.30, random_state=0)\n"
   ]
  },
  {
   "cell_type": "code",
   "execution_count": null,
   "metadata": {},
   "outputs": [],
   "source": []
  },
  {
   "cell_type": "code",
   "execution_count": 253,
   "metadata": {
    "collapsed": true
   },
   "outputs": [],
   "source": [
    "# DUMP TRAIN AND TEST VALUES AND SAVE THEM TO USE CONSISTENTLY\n",
    "# pickle.dump(x_train, open(\"pic_train_x_params\", 'wb', 2))\n",
    "# pickle.dump(x_test, open(\"pic_test_x_params\", 'wb', 2))\n",
    "# pickle.dump(y_train, open(\"pic_train_y_params\", 'wb', 2))\n",
    "# pickle.dump(y_test, open(\"pic_test_y_params\", 'wb', 2))"
   ]
  },
  {
   "cell_type": "code",
   "execution_count": 254,
   "metadata": {
    "collapsed": true
   },
   "outputs": [],
   "source": [
    "# x_train = pickle.load(open('pic_train_x_params', 'rb'))\n",
    "# y_train = pickle.load(open('pic_train_y_params', 'rb'))\n"
   ]
  },
  {
   "cell_type": "code",
   "execution_count": 255,
   "metadata": {
    "collapsed": true
   },
   "outputs": [],
   "source": [
    "def reg_m(y, x):\n",
    "    model = sm.OLS(y, x).fit()\n",
    "    #fits simple ordinary least squares model\n",
    "    predictions = model.predict(x)\n",
    "    #makes predictions for y based on x\n",
    "    return(model.summary())\n"
   ]
  },
  {
   "cell_type": "code",
   "execution_count": 256,
   "metadata": {},
   "outputs": [
    {
     "name": "stdout",
     "output_type": "stream",
     "text": [
      "                            OLS Regression Results                            \n",
      "==============================================================================\n",
      "Dep. Variable:                    ppm   R-squared:                       0.315\n",
      "Model:                            OLS   Adj. R-squared:                  0.255\n",
      "Method:                 Least Squares   F-statistic:                     5.303\n",
      "Date:                Wed, 12 Jul 2017   Prob (F-statistic):           7.29e-07\n",
      "Time:                        16:30:11   Log-Likelihood:                -236.35\n",
      "No. Observations:                 138   AIC:                             494.7\n",
      "Df Residuals:                     127   BIC:                             526.9\n",
      "Df Model:                          11                                         \n",
      "Covariance Type:            nonrobust                                         \n",
      "==============================================================================================\n",
      "                                 coef    std err          t      P>|t|      [0.025      0.975]\n",
      "----------------------------------------------------------------------------------------------\n",
      "forest                         1.2009      0.334      3.594      0.000       0.540       1.862\n",
      "open_land                      0.2702      1.791      0.151      0.880      -3.274       3.815\n",
      "water                          0.8830      2.387      0.370      0.712      -3.841       5.607\n",
      "wetland                       -4.6480     28.110     -0.165      0.869     -60.274      50.977\n",
      "saltwater_sandybeach       -4.702e-15   2.93e-14     -0.161      0.873   -6.26e-14    5.32e-14\n",
      "recreational                4.929e-16   2.35e-15      0.209      0.835   -4.17e-15    5.15e-15\n",
      "marina                      1.837e-16   3.34e-15      0.055      0.956   -6.44e-15     6.8e-15\n",
      "transitional                   1.2454      4.773      0.261      0.795      -8.200      10.690\n",
      "urban_public_institution       2.5607      1.769      1.448      0.150      -0.939       6.061\n",
      "commercial                     0.7631      0.487      1.565      0.120      -0.202       1.728\n",
      "transportation                 1.0846      0.721      1.505      0.135      -0.341       2.510\n",
      "mining                              0          0        nan        nan           0           0\n",
      "waste                               0          0        nan        nan           0           0\n",
      "crop_land                      1.6632      0.710      2.343      0.021       0.258       3.068\n",
      "cemetary                            0          0        nan        nan           0           0\n",
      "golfcourse                          0          0        nan        nan           0           0\n",
      "high_density_residential            0          0        nan        nan           0           0\n",
      "medium_density_residential     0.8068      0.305      2.645      0.009       0.203       1.410\n",
      "low_density_residential             0          0        nan        nan           0           0\n",
      "industrial                     0.1211      0.778      0.156      0.876      -1.418       1.660\n",
      "==============================================================================\n",
      "Omnibus:                      182.587   Durbin-Watson:                   1.922\n",
      "Prob(Omnibus):                  0.000   Jarque-Bera (JB):             8294.140\n",
      "Skew:                           5.067   Prob(JB):                         0.00\n",
      "Kurtosis:                      39.603   Cond. No.                          inf\n",
      "==============================================================================\n",
      "\n",
      "Warnings:\n",
      "[1] Standard Errors assume that the covariance matrix of the errors is correctly specified.\n",
      "[2] The smallest eigenvalue is      0. This might indicate that there are\n",
      "strong multicollinearity problems or that the design matrix is singular.\n"
     ]
    },
    {
     "name": "stderr",
     "output_type": "stream",
     "text": [
      "/Users/taraippolito/anaconda/lib/python3.6/site-packages/statsmodels/regression/linear_model.py:1471: RuntimeWarning: divide by zero encountered in double_scalars\n",
      "  return np.sqrt(eigvals[0]/eigvals[-1])\n",
      "/Users/taraippolito/anaconda/lib/python3.6/site-packages/statsmodels/base/model.py:1036: RuntimeWarning: invalid value encountered in true_divide\n",
      "  return self.params / self.bse\n",
      "/Users/taraippolito/anaconda/lib/python3.6/site-packages/scipy/stats/_distn_infrastructure.py:879: RuntimeWarning: invalid value encountered in greater\n",
      "  return (self.a < x) & (x < self.b)\n",
      "/Users/taraippolito/anaconda/lib/python3.6/site-packages/scipy/stats/_distn_infrastructure.py:879: RuntimeWarning: invalid value encountered in less\n",
      "  return (self.a < x) & (x < self.b)\n",
      "/Users/taraippolito/anaconda/lib/python3.6/site-packages/scipy/stats/_distn_infrastructure.py:1818: RuntimeWarning: invalid value encountered in less_equal\n",
      "  cond2 = cond0 & (x <= self.a)\n"
     ]
    }
   ],
   "source": [
    "model = reg_m(y_train ,x_train)\n",
    "print (model)"
   ]
  },
  {
   "cell_type": "code",
   "execution_count": 257,
   "metadata": {
    "scrolled": false
   },
   "outputs": [],
   "source": [
    "m = sm.OLS(y_train, x_train).fit()\n",
    "# m1 = sm.OLS(y_train, x_train).fit_regularized()"
   ]
  },
  {
   "cell_type": "code",
   "execution_count": 258,
   "metadata": {},
   "outputs": [
    {
     "name": "stdout",
     "output_type": "stream",
     "text": [
      "forest                        0.000465\n",
      "open_land                     0.880335\n",
      "water                         0.712103\n",
      "wetland                       0.868932\n",
      "saltwater_sandybeach          0.872637\n",
      "recreational                  0.834507\n",
      "marina                        0.956296\n",
      "transitional                  0.794584\n",
      "urban_public_institution      0.150126\n",
      "commercial                    0.119977\n",
      "transportation                0.134719\n",
      "mining                             NaN\n",
      "waste                              NaN\n",
      "crop_land                     0.020707\n",
      "cemetary                           NaN\n",
      "golfcourse                         NaN\n",
      "high_density_residential           NaN\n",
      "medium_density_residential    0.009203\n",
      "low_density_residential            NaN\n",
      "industrial                    0.876450\n",
      "dtype: float64\n",
      "0.868932453341\n"
     ]
    },
    {
     "name": "stderr",
     "output_type": "stream",
     "text": [
      "/Users/taraippolito/anaconda/lib/python3.6/site-packages/statsmodels/base/model.py:1036: RuntimeWarning: invalid value encountered in true_divide\n",
      "  return self.params / self.bse\n",
      "/Users/taraippolito/anaconda/lib/python3.6/site-packages/scipy/stats/_distn_infrastructure.py:879: RuntimeWarning: invalid value encountered in greater\n",
      "  return (self.a < x) & (x < self.b)\n",
      "/Users/taraippolito/anaconda/lib/python3.6/site-packages/scipy/stats/_distn_infrastructure.py:879: RuntimeWarning: invalid value encountered in less\n",
      "  return (self.a < x) & (x < self.b)\n",
      "/Users/taraippolito/anaconda/lib/python3.6/site-packages/scipy/stats/_distn_infrastructure.py:1818: RuntimeWarning: invalid value encountered in less_equal\n",
      "  cond2 = cond0 & (x <= self.a)\n"
     ]
    }
   ],
   "source": [
    "print ((m.pvalues))\n",
    "print ((m.pvalues['wetland']))"
   ]
  },
  {
   "cell_type": "code",
   "execution_count": 272,
   "metadata": {},
   "outputs": [],
   "source": [
    "'''Method that takes in a list of all the predictors left in the model, and the model, \n",
    "spits out the lowest p valued predictor and lowest p value'''\n",
    "def find_low_p(all_preds, model_OLS):\n",
    "    lowestp = 1\n",
    "    for i in range(len(all_preds)):\n",
    "        if (model_OLS.pvalues[i] < lowestp):\n",
    "            lowestp = model_OLS.pvalues[i]\n",
    "            lowestlu = all_preds[i]\n",
    "        else:\n",
    "            continue\n",
    "\n",
    "    return lowestp , lowestlu\n",
    "    "
   ]
  },
  {
   "cell_type": "code",
   "execution_count": 273,
   "metadata": {},
   "outputs": [
    {
     "name": "stdout",
     "output_type": "stream",
     "text": [
      "['open_land', 'water', 'wetland', 'saltwater_sandybeach', 'recreational', 'marina', 'transitional', 'urban_public_institution', 'commercial', 'transportation', 'mining', 'waste', 'crop_land', 'cemetary', 'golfcourse', 'high_density_residential', 'medium_density_residential', 'low_density_residential', 'industrial']\n"
     ]
    }
   ],
   "source": [
    "predictors = ['forest', 'open_land', 'water', 'wetland', 'saltwater_sandybeach', 'recreational', 'marina', 'transitional', 'urban_public_institution', 'commercial', 'transportation', 'mining', 'waste', 'crop_land', 'cemetary', 'golfcourse', 'high_density_residential', 'medium_density_residential', 'low_density_residential', 'industrial']\n",
    "find_low_p(all_predictors, m)\n",
    "# p = predictors.remove('forest')\n",
    "b = predictors.index(\"forest\")\n",
    "del predictors[b]\n",
    "\n",
    "print (predictors)"
   ]
  },
  {
   "cell_type": "code",
   "execution_count": 284,
   "metadata": {},
   "outputs": [],
   "source": [
    "def backwards_var_sel(x, y, all_predictors):\n",
    "    models = [] #to hold all the models\n",
    "    p_vals = [] #to hold pvalues\n",
    "    for i in range(len(all_predictors)-1):\n",
    "        OLS_model = sm.OLS(y, x).fit()\n",
    "        #save model\n",
    "        models.append(OLS_model)\n",
    "        lowestp, lowestlu = find_low_p(all_predictors, OLS_model)\n",
    "        index_td = all_predictors.index(lowestlu)\n",
    "        del all_predictors[index_td]\n",
    "        x = x[all_predictors].values\n",
    "        \n",
    "    return models"
   ]
  },
  {
   "cell_type": "code",
   "execution_count": 286,
   "metadata": {},
   "outputs": [
    {
     "name": "stdout",
     "output_type": "stream",
     "text": [
      "[]\n"
     ]
    }
   ],
   "source": [
    "prelim_models = backwards_var_sel(x_train, y_train, predictors)\n",
    "print (prelim_models)"
   ]
  },
  {
   "cell_type": "markdown",
   "metadata": {},
   "source": [
    "## \"\"\"Bayesian Linear Model\"\"\"\n",
    "ridge_regression = Ridge(alpha=1.0, fit_intercept=True)\n",
    "ridge_regression.fit(x_train, y_train)"
   ]
  },
  {
   "cell_type": "code",
   "execution_count": 98,
   "metadata": {},
   "outputs": [
    {
     "name": "stdout",
     "output_type": "stream",
     "text": [
      "Ridge regression model:\n",
      " 1.580468914760643 + [-0.48959421 -0.57961581 -0.50722643 -0.01516038  0.          0.          0.\n",
      " -0.08696047  0.30857794 -0.76260961 -0.60247796  0.          0.         -0.0594071\n",
      "  0.          0.          0.         -0.79518611  0.         -1.16632488]^T . x\n"
     ]
    }
   ],
   "source": [
    "print ('Ridge regression model:\\n {} + {}^T . x'.format(ridge_regression.intercept_, ridge_regression.coef_))"
   ]
  },
  {
   "cell_type": "code",
   "execution_count": 99,
   "metadata": {},
   "outputs": [
    {
     "name": "stdout",
     "output_type": "stream",
     "text": [
      "Train R^2: 0.06579678012203594\n"
     ]
    }
   ],
   "source": [
    "print ('Train R^2: {}'.format(ridge_regression.score(x_train, y_train)))"
   ]
  },
  {
   "cell_type": "code",
   "execution_count": 100,
   "metadata": {
    "collapsed": true
   },
   "outputs": [],
   "source": [
    "#normalize and scale L2\n",
    "normalized_x = preprocessing.normalize(x_train, norm = 'l2')\n",
    "scaled_norm_x = preprocessing.scale(normalized_x)"
   ]
  },
  {
   "cell_type": "code",
   "execution_count": 101,
   "metadata": {},
   "outputs": [
    {
     "name": "stdout",
     "output_type": "stream",
     "text": [
      "[-0.52905261 -0.11921138 -0.15270835 -0.12097729  0.          0.          0.\n",
      " -0.12128807 -0.38207965 -0.51840855 -0.48826937  0.          0.\n",
      " -0.37666282  0.          0.          0.          1.37195492  0.\n",
      " -0.39554259]\n"
     ]
    }
   ],
   "source": [
    "print (scaled_norm_x[0])"
   ]
  },
  {
   "cell_type": "code",
   "execution_count": 102,
   "metadata": {},
   "outputs": [
    {
     "data": {
      "text/plain": [
       "Ridge(alpha=1.0, copy_X=True, fit_intercept=True, max_iter=None,\n",
       "   normalize=False, random_state=None, solver='auto', tol=0.001)"
      ]
     },
     "execution_count": 102,
     "metadata": {},
     "output_type": "execute_result"
    }
   ],
   "source": [
    "\"\"\"Bayesian Linear Model\"\"\"\n",
    "ridge_regression_scaled = Ridge(alpha=1.0, fit_intercept=True)\n",
    "ridge_regression_scaled.fit(scaled_norm_x, y_train)"
   ]
  },
  {
   "cell_type": "code",
   "execution_count": 103,
   "metadata": {},
   "outputs": [
    {
     "name": "stdout",
     "output_type": "stream",
     "text": [
      "Train R^2: 0.08580808974377219\n"
     ]
    }
   ],
   "source": [
    "print ('Train R^2: {}'.format(ridge_regression_scaled.score(scaled_norm_x, y_train)))"
   ]
  },
  {
   "cell_type": "code",
   "execution_count": null,
   "metadata": {
    "collapsed": true
   },
   "outputs": [],
   "source": []
  },
  {
   "cell_type": "code",
   "execution_count": null,
   "metadata": {
    "collapsed": true
   },
   "outputs": [],
   "source": []
  }
 ],
 "metadata": {
  "kernelspec": {
   "display_name": "Python 3",
   "language": "python",
   "name": "python3"
  },
  "language_info": {
   "codemirror_mode": {
    "name": "ipython",
    "version": 3
   },
   "file_extension": ".py",
   "mimetype": "text/x-python",
   "name": "python",
   "nbconvert_exporter": "python",
   "pygments_lexer": "ipython3",
   "version": "3.6.1"
  }
 },
 "nbformat": 4,
 "nbformat_minor": 2
}
