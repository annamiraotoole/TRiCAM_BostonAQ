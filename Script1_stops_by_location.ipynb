{
 "cells": [
  {
   "cell_type": "code",
   "execution_count": 1,
   "metadata": {
    "collapsed": true
   },
   "outputs": [],
   "source": [
    "import numpy as np\n",
    "import matplotlib\n",
    "import matplotlib.pyplot as plt\n",
    "import random\n",
    "from mpl_toolkits.mplot3d import Axes3D\n",
    "from bs4 import BeautifulSoup\n",
    "import urllib\n",
    "import urllib.request\n",
    "import requests\n",
    "%matplotlib inline\n",
    "import xmltodict"
   ]
  },
  {
   "cell_type": "code",
   "execution_count": 2,
   "metadata": {},
   "outputs": [
    {
     "name": "stdout",
     "output_type": "stream",
     "text": [
      "Center of Grid: (42.36202299999999, -71.14182500000001)\n",
      "Stops in this gridbox: 8\n"
     ]
    }
   ],
   "source": [
    "#Stops by Location \n",
    "#Generalizing a url string to be read, adjusting for varying latitudes and longitudes\n",
    "#Plan of attack: take the center of the grid and check at that point\n",
    "#Vertices of the grid:\n",
    "\n",
    "def stops_in_box(min_lon, max_lon, min_lat, max_lat):\n",
    "    #Take the center point of this grid box\n",
    "    lon = float((min_lon + max_lon)/2)\n",
    "    lat = float((min_lat + max_lat)/2)\n",
    "    api_key = \"LiKpmuCun0uvMJUXBNAp2Q\"\n",
    "\n",
    "    #read page\n",
    "    page = requests.get('http://realtime.mbta.com/developer/api/v2/stopsbylocation?api_key=LiKpmuCun0uvMJUXBNAp2Q&lat='+ str(lat) + \"&lon=\" + str(lon)+ \"&format=xml\")\n",
    "    \n",
    "    #Looking for our lines to be read  \n",
    "    doc = xmltodict.parse(page.content)\n",
    "    #An ordered dictionary, where each entry has a full report on a nearby stop\n",
    "    stopsbylocation = doc['stop_list'][\"stop\"]\n",
    "\n",
    "\n",
    "    keys1 = list(stopsbylocation)\n",
    "\n",
    "    #This list is going to hold tuples that will be the ordered pairs of all the nearby stops\n",
    "    data = []\n",
    "    for x in range(0,len(keys1)) :\n",
    "        data.append(tuple((float(stopsbylocation[x]['@stop_lat']), float(stopsbylocation[x]['@stop_lon']))))\n",
    "\n",
    "    #We now have a list of ordered pairs that describe the locations of all the nearby stops\n",
    "    #Next we have to determine if there are stops contained within the parameters of a given grid box\n",
    "    #And, if so, count how many\n",
    "    stopsingrid = 0\n",
    "    for y in range(0, len(data)):\n",
    "        if (data[y][0]>= min_lat and data[y][0]<=max_lat) and (data[y][1]>= min_lon and data[y][1]<=max_lon):\n",
    "            stopsingrid = 1 + stopsingrid\n",
    "    #Only part that will need to be changed depending on our needs: What is printed/ returned at the end\n",
    "    print(\"Center of Grid: (\" + str(lat) + \", \" + str(lon) + \")\" )\n",
    "    print(\"Stops in this gridbox: \"+ str(stopsingrid))\n",
    "#end of method\n",
    "# (long upper, long lower)\n",
    "#coord1 = np.array([-71.138337, -71.145313])\n",
    "#(lat upper, lat lower)\n",
    "#coord2 = np.array([42.363305, 42.360741 ])\n",
    "\n",
    "min_lon = -71.145313\n",
    "max_lon = -71.138337\n",
    "\n",
    "min_lat = 42.360741\n",
    "max_lat = 42.363305\n",
    "\n",
    "stops_in_box(min_lon, max_lon, min_lat, max_lat)\n"
   ]
  },
  {
   "cell_type": "code",
   "execution_count": 132,
   "metadata": {
    "collapsed": true
   },
   "outputs": [],
   "source": [
    "\n",
    "\n"
   ]
  },
  {
   "cell_type": "code",
   "execution_count": null,
   "metadata": {
    "collapsed": true
   },
   "outputs": [],
   "source": []
  },
  {
   "cell_type": "code",
   "execution_count": null,
   "metadata": {
    "collapsed": true
   },
   "outputs": [],
   "source": []
  }
 ],
 "metadata": {
  "kernelspec": {
   "display_name": "Python 3",
   "language": "python",
   "name": "python3"
  },
  "language_info": {
   "codemirror_mode": {
    "name": "ipython",
    "version": 3
   },
   "file_extension": ".py",
   "mimetype": "text/x-python",
   "name": "python",
   "nbconvert_exporter": "python",
   "pygments_lexer": "ipython3",
   "version": "3.6.1"
  }
 },
 "nbformat": 4,
 "nbformat_minor": 2
}
