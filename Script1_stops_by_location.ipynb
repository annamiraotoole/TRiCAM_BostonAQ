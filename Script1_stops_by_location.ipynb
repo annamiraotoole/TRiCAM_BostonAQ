{
 "cells": [
  {
   "cell_type": "code",
   "execution_count": 1,
   "metadata": {
    "collapsed": true
   },
   "outputs": [],
   "source": [
    "import requests\n",
    "import xmltodict\n",
    "import collections\n",
    "import numpy as np\n",
    "import pandas as pd\n",
    "from shapely.geometry import Point"
   ]
  },
  {
   "cell_type": "code",
   "execution_count": 2,
   "metadata": {},
   "outputs": [
    {
     "name": "stdout",
     "output_type": "stream",
     "text": [
      "['NEWTON' 'WALTHAM' 'ARLINGTON' 'WATERTOWN' 'BELMONT' 'BOSTON' 'BROOKLINE'\n",
      " 'CAMBRIDGE' 'MEDFORD' 'SOMERVILLE' 'MALDEN' 'EVERETT' 'CHELSEA' 'REVERE'\n",
      " 'QUINCY' 'WINTHROP']\n",
      "3006\n"
     ]
    }
   ],
   "source": [
    "#Read the static bus stops file\n",
    "stopdata = pd.read_csv(\"C:/Users/Anthony DePinho/Documents/REU 2017/TRiCAM_BostonAQ/bus_static_data/bus_stops_full.csv\")\n",
    "#pull out only the shape column which are all in string format\n",
    "point_col = stopdata[\"SHAPE\"]\n",
    "town_col = stopdata[\"TOWN\"]\n",
    "print (town_col.unique())\n",
    "print(town_col.size)"
   ]
  },
  {
   "cell_type": "code",
   "execution_count": 3,
   "metadata": {
    "collapsed": true
   },
   "outputs": [],
   "source": [
    "#create multigon finder and deal with it separately, then .apply(get_coord)\n",
    "def find_multi(row):\n",
    "    row_clean = row[16:-3]\n",
    "    found = False\n",
    "    if '), (' in row_clean:\n",
    "        found = True\n",
    "    return found"
   ]
  },
  {
   "cell_type": "code",
   "execution_count": 4,
   "metadata": {
    "collapsed": true
   },
   "outputs": [],
   "source": [
    "#PREP FUNCTION COMES BEFORE FEEDING INTO THE APPROPRIATE MULTI/POLY FUNCTION TO MAKE DATA UNIFORM FORMAT\n",
    "def prep_row(row):\n",
    "    #pull off 'MULTIPOLYGON ((' leaving one set of parentheses around string\n",
    "    cleaned = row[7:-1]\n",
    "    return cleaned # should look like '(lon lat, lon lat,...), (lon lat, lon lat...), (.....)'"
   ]
  },
  {
   "cell_type": "code",
   "execution_count": 5,
   "metadata": {
    "collapsed": true
   },
   "outputs": [],
   "source": [
    "#GET_POLY FUNCTION CLEANS AND DEALS WITH SINGLE POLYGONS\n",
    "#MULTIPOLYGON ROWS GET FED INTO GET_MULTI, WHICH THEN UTILIZES THIS FUNCTION WITHIN IT\n",
    "def get_poly(data):\n",
    "    # Remove first and last parentheses, leaving behind only values separated by commas as a string\n",
    "#     vertex = data[1:-2] \n",
    "    # split the string into elements of a list by each comma\n",
    "    vertex = data.split(\",\")\n",
    "    # strip of white spaces on each element\n",
    "    vertex = [item.strip() for item in vertex ]\n",
    "    # format the elements from 'latitude longitude' string to (latitude, longitude) floats\n",
    "    vertex = [(float(item.split(\" \")[0]) ,float(item.split(\" \")[1])) for item in vertex]\n",
    "    return (vertex)"
   ]
  },
  {
   "cell_type": "code",
   "execution_count": 6,
   "metadata": {
    "collapsed": true
   },
   "outputs": [],
   "source": [
    "#SCALE FUNCTION\n",
    "def scale(num):\n",
    "    #create 14 digits by padding 0's if needed\n",
    "    num1 = str(abs(num[0]))\n",
    "    num2 = str(abs(num[1]))\n",
    "    \n",
    "    if len(num1) < 15:\n",
    "        num1 = num1.ljust(15, '0')\n",
    "    elif len(num1) > 15:\n",
    "        num1 = num1[:15]\n",
    "    \n",
    "    if len(num2) < 15:\n",
    "        num2 = num2.ljust(15, '0')\n",
    "    elif len(num2) > 15:\n",
    "        num2 = num2[:15]\n",
    "    \n",
    "    #shift decimal for 8 decimal places\n",
    "    return np.array([-1.*(float(num1) * (10**5)),-1.*(float(num2) * (10**5))])"
   ]
  },
  {
   "cell_type": "code",
   "execution_count": 7,
   "metadata": {
    "collapsed": true
   },
   "outputs": [],
   "source": [
    "def parse_shapes(one_row):\n",
    "    is_multi = find_multi(one_row)\n",
    "    if is_multi == True:\n",
    "        prepped = prep_row(one_row)\n",
    "        prepd_split = get_multi(prepped)\n",
    "        return (prepd_split)\n",
    "    else:\n",
    "        prepped = prep_row(one_row)\n",
    "        prepd_cleand = get_poly(prepped)\n",
    "        return (prepd_cleand)"
   ]
  },
  {
   "cell_type": "code",
   "execution_count": 30,
   "metadata": {
    "collapsed": true
   },
   "outputs": [],
   "source": [
    "#route is a LineString object\n",
    "#x_coord, y_coord is a numpy array\n",
    "#point is a specified point, in the sequence of the route\n",
    "\n",
    "def find_x (stoplist, x_coord, point):\n",
    "    x_tracker = 0\n",
    "    while (stoplist[point].x) >= x_coord[0][x_tracker]:\n",
    "        x_tracker += 1\n",
    "        if x_tracker == len(x_coord[0]):\n",
    "            return -1\n",
    "            break\n",
    "    return x_tracker\n",
    "\n",
    "def find_y (stoplist, y_coord, point):\n",
    "    y_tracker = 0\n",
    "    while (stoplist[point].y) >= y_coord[y_tracker][0]:\n",
    "        y_tracker += 1\n",
    "        if y_tracker == len(y_coord[0]):\n",
    "            return -1\n",
    "            break\n",
    "    return y_tracker\n",
    "\n"
   ]
  },
  {
   "cell_type": "code",
   "execution_count": 31,
   "metadata": {
    "collapsed": true
   },
   "outputs": [],
   "source": [
    "#Grid generation, using our x and y minima and maxima as bounds\n",
    "x = [ -71.20197, -70.96679]\n",
    "y = [42.291441, 42.420578]\n",
    "x_cell = 50\n",
    "y_cell = 50\n",
    "\n",
    "\n",
    "x_min = x[0]\n",
    "x_max = x[1]\n",
    "y_min = y[0]\n",
    "y_max = y[1]\n",
    "\n",
    "#Create ticks\n",
    "x_s = np.linspace(x_min, x_max, x_cell + 1)\n",
    "y_s = np.linspace(y_min, y_max, y_cell + 1)\n",
    "\n",
    "#Create grid\n",
    "x_coord, y_coord = np.meshgrid(x_s, y_s)"
   ]
  },
  {
   "cell_type": "code",
   "execution_count": 32,
   "metadata": {
    "collapsed": true
   },
   "outputs": [],
   "source": [
    "#Creatin of stopsbylocation array, which will hold int values of bus stops in each grid cell\n",
    "#Note: shape is (50,50), not (51,51)\n",
    "stopsbylocationarray = np.zeros((x_s.size - 1, y_s.size - 1))"
   ]
  },
  {
   "cell_type": "code",
   "execution_count": 33,
   "metadata": {},
   "outputs": [
    {
     "name": "stdout",
     "output_type": "stream",
     "text": [
      "done\n",
      "3006\n"
     ]
    }
   ],
   "source": [
    "#This stores the stops in stopslist, a list of Points\n",
    "#Each item is a Point. Within each is an ordered pair that describes the point\n",
    "stopslist = []\n",
    "for x in range(0, len(point_col)):\n",
    "    stop = parse_shapes(point_col[x])\n",
    "    stopslist.append(Point(stop))\n",
    "    \n",
    "    \n",
    "print(\"done\")\n",
    "print(len(stopslist))"
   ]
  },
  {
   "cell_type": "code",
   "execution_count": 34,
   "metadata": {},
   "outputs": [
    {
     "data": {
      "text/plain": [
       "-71.2019628980164"
      ]
     },
     "execution_count": 34,
     "metadata": {},
     "output_type": "execute_result"
    }
   ],
   "source": [
    "stopslist[0].x"
   ]
  },
  {
   "cell_type": "code",
   "execution_count": 35,
   "metadata": {
    "scrolled": true
   },
   "outputs": [
    {
     "name": "stdout",
     "output_type": "stream",
     "text": [
      "done\n"
     ]
    }
   ],
   "source": [
    "#Loop through the list of points\n",
    "#Identify where on the grid this point lies\n",
    "#Add it to the corresponding grid box in the stopsbylocationarray\n",
    "\n",
    "for i in range(len(stopslist)):\n",
    "    \n",
    "    x_pt = find_x(stopslist, x_coord, i)\n",
    "    y_pt = find_y(stopslist, y_coord, i)\n",
    "    \n",
    "    if (x_pt == -1) or (y_pt == -1):\n",
    "        continue\n",
    "    \n",
    "    stopsbylocationarray[x_pt-1][y_pt-1] += 1\n",
    "\n",
    "print(\"done\")"
   ]
  },
  {
   "cell_type": "code",
   "execution_count": 36,
   "metadata": {},
   "outputs": [
    {
     "data": {
      "text/plain": [
       "array([[0, 0, 2, 0, 0, 0, 2, 0, 0, 0, 0, 0, 2, 2, 0, 0, 0, 0, 0, 0, 0, 0,\n",
       "        0, 0, 2, 3, 4, 2, 0, 0, 0, 4, 0, 0, 2, 2, 0, 0, 2, 2, 0, 0, 0, 0,\n",
       "        0, 0, 0, 0, 4, 0],\n",
       "       [0, 0, 0, 2, 0, 4, 0, 1, 3, 2, 4, 2, 2, 2, 4, 1, 2, 2, 3, 1, 0, 0,\n",
       "        0, 0, 4, 0, 0, 5, 0, 0, 4, 0, 0, 0, 2, 0, 0, 0, 0, 0, 0, 0, 0, 0,\n",
       "        0, 0, 0, 1, 2, 4],\n",
       "       [2, 2, 0, 2, 6, 0, 2, 0, 0, 0, 0, 0, 0, 0, 0, 0, 0, 0, 0, 2, 2, 2,\n",
       "        1, 0, 4, 0, 0, 4, 1, 3, 2, 0, 0, 0, 2, 2, 2, 3, 0, 0, 0, 0, 0, 0,\n",
       "        0, 0, 0, 1, 0, 4],\n",
       "       [2, 2, 7, 0, 0, 0, 0, 0, 0, 0, 0, 0, 0, 0, 0, 0, 0, 0, 0, 0, 0, 0,\n",
       "        3, 2, 2, 4, 2, 0, 8, 2, 0, 0, 0, 0, 0, 0, 3, 0, 0, 0, 0, 0, 0, 0,\n",
       "        0, 0, 2, 0, 3, 3],\n",
       "       [4, 2, 0, 0, 0, 0, 0, 0, 0, 0, 2, 0, 0, 0, 0, 0, 0, 0, 0, 0, 0, 0,\n",
       "        0, 0, 6, 0, 0, 0, 2, 4, 0, 0, 0, 0, 0, 2, 2, 0, 0, 0, 0, 0, 0, 0,\n",
       "        0, 1, 5, 8, 2, 2]])"
      ]
     },
     "execution_count": 36,
     "metadata": {},
     "output_type": "execute_result"
    }
   ],
   "source": [
    "#Cast all data points as integers\n",
    "stopsbylocationarray = stopsbylocationarray.astype(int)\n",
    "stopsbylocationarray[:5]"
   ]
  },
  {
   "cell_type": "code",
   "execution_count": 15,
   "metadata": {},
   "outputs": [
    {
     "name": "stdout",
     "output_type": "stream",
     "text": [
      "written\n"
     ]
    }
   ],
   "source": [
    "df = pd.DataFrame(stopsbylocationarray)\n",
    "df.to_csv(\"C:/Users/Anthony DePinho/Documents/REU 2017/TRiCAM_BostonAQ/stopsbylocation.csv\")\n",
    "print(\"written\")"
   ]
  },
  {
   "cell_type": "code",
   "execution_count": 37,
   "metadata": {},
   "outputs": [
    {
     "name": "stdout",
     "output_type": "stream",
     "text": [
      "42.291441 -71.1925628\n",
      "42.29402374 -71.1878592\n"
     ]
    }
   ],
   "source": [
    "print(y_coord[0][0], x_coord[0][2])\n",
    "print(y_coord[1][0], x_coord[0][3])"
   ]
  },
  {
   "cell_type": "code",
   "execution_count": 42,
   "metadata": {},
   "outputs": [
    {
     "name": "stdout",
     "output_type": "stream",
     "text": [
      "42.291441\n",
      "42.29402374\n"
     ]
    }
   ],
   "source": [
    "print(y_coord[0][0])\n",
    "print(y_coord[1][0])"
   ]
  },
  {
   "cell_type": "code",
   "execution_count": 38,
   "metadata": {},
   "outputs": [
    {
     "data": {
      "text/plain": [
       "2"
      ]
     },
     "execution_count": 38,
     "metadata": {},
     "output_type": "execute_result"
    }
   ],
   "source": [
    "stopsbylocationarray[2][0]"
   ]
  },
  {
   "cell_type": "code",
   "execution_count": null,
   "metadata": {
    "collapsed": true
   },
   "outputs": [],
   "source": []
  }
 ],
 "metadata": {
  "kernelspec": {
   "display_name": "Python 3",
   "language": "python",
   "name": "python3"
  },
  "language_info": {
   "codemirror_mode": {
    "name": "ipython",
    "version": 3
   },
   "file_extension": ".py",
   "mimetype": "text/x-python",
   "name": "python",
   "nbconvert_exporter": "python",
   "pygments_lexer": "ipython3",
   "version": "3.6.1"
  }
 },
 "nbformat": 4,
 "nbformat_minor": 2
}
