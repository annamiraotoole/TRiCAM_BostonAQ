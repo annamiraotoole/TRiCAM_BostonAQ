{
 "cells": [
  {
   "cell_type": "markdown",
   "metadata": {},
   "source": [
    "## Runs Variable and KFold Cross Validation with MLR"
   ]
  },
  {
   "cell_type": "code",
   "execution_count": 1,
   "metadata": {
    "collapsed": false
   },
   "outputs": [],
   "source": [
    "import pandas as pd\n",
    "import sys\n",
    "import numpy as np\n",
    "import scipy as sp\n",
    "import matplotlib.pyplot as plt\n",
    "import seaborn as sns\n",
    "import sklearn as sk\n",
    "from sklearn.model_selection import train_test_split\n",
    "from statsmodels.tools import add_constant\n",
    "from statsmodels.regression.linear_model import RegressionResults\n",
    "from sklearn.linear_model import Ridge\n",
    "from sklearn.linear_model import Lasso\n",
    "from sklearn.linear_model import LinearRegression\n",
    "from sklearn.neighbors import KNeighborsRegressor\n",
    "from sklearn.gaussian_process import GaussianProcessRegressor\n",
    "from sklearn.gaussian_process.kernels import RBF, ConstantKernel as C\n",
    "from sklearn.preprocessing import MinMaxScaler\n",
    "from sklearn.model_selection import KFold\n",
    "from sklearn.metrics import mean_squared_error\n",
    "from sklearn.decomposition import PCA\n",
    "import statsmodels.api as sm\n",
    "import pickle\n",
    "import os\n",
    "from sklearn import preprocessing\n",
    "from sklearn.metrics import r2_score\n",
    "sns.set(style=\"ticks\")\n",
    "%matplotlib inline"
   ]
  },
  {
   "cell_type": "markdown",
   "metadata": {},
   "source": [
    "## Read in data frame"
   ]
  },
  {
   "cell_type": "code",
   "execution_count": 66,
   "metadata": {
    "collapsed": false
   },
   "outputs": [],
   "source": [
    "'''Read in the data on which the variable selection will be performed.'''\n",
    "#Round 1\n",
    "#pm = pd.read_csv(\"C:/Users/Anthony DePinho/Documents/REU 2017/TRiCAM_BostonAQ/StateData/Round_1_Data/finished_pm.csv\")\n",
    "#Round 2 Data\n",
    "#PM2.5\n",
    "# pm = pd.read_csv(\"finished_pmweather.csv\")\n",
    "#SO 2\n",
    "# pm = pd.read_csv(\"finished_so2weather.csv\")\n",
    "#NO 2\n",
    "pm = pd.read_csv(\"merged_so2weather.csv\")"
   ]
  },
  {
   "cell_type": "code",
   "execution_count": 67,
   "metadata": {
    "collapsed": false,
    "scrolled": true
   },
   "outputs": [
    {
     "data": {
      "text/plain": [
       "(1032, 19)"
      ]
     },
     "execution_count": 67,
     "metadata": {},
     "output_type": "execute_result"
    }
   ],
   "source": [
    "pm.shape ##311,19 NO2"
   ]
  },
  {
   "cell_type": "code",
   "execution_count": 68,
   "metadata": {
    "collapsed": false,
    "scrolled": true
   },
   "outputs": [],
   "source": [
    "'''Method that splits the DataFrame into train and test sets.'''\n",
    "train, test = train_test_split(pm, test_size=.30, random_state=0)\n",
    "\n",
    "'''Scales y data (ppm values)by multiplying by 100. Otherwise, ppm values would be too small to properly model.'''\n",
    "#PM 2.5 - Label is 'ppm'\n",
    "y_train = train['ppm'].values * 100\n",
    "y_test = test['ppm'].values * 100\n",
    "\n",
    "all_predictors=['forest', 'open_land', 'water',\n",
    "       'wetland', 'transitional', 'urban_public_institution', 'commercial',\n",
    "       'transportation', 'crop_land', 'medium_density_residential',\n",
    "       'industrial', 'outdoor_temperature', 'solar_radiation',\n",
    "       'wind_speed_resultant']\n",
    "#NO2 and SO2 - Label is \"Arithmetic Mean\"\n",
    "#y_train = train['ppm'].values * 100\n",
    "#y_test = test['ppm'].values * 100"
   ]
  },
  {
   "cell_type": "code",
   "execution_count": 69,
   "metadata": {
    "collapsed": false
   },
   "outputs": [],
   "source": [
    "X_train = add_constant(train[all_predictors].values, has_constant = \"add\")\n",
    "X_test = add_constant(test[all_predictors].values, has_constant='add')"
   ]
  },
  {
   "cell_type": "code",
   "execution_count": 70,
   "metadata": {
    "collapsed": true
   },
   "outputs": [],
   "source": [
    "'''Method that takes in the x and y training sets, fits a linear model, and returns the training R^2'''\n",
    "def get_Rsquared(x_train, y_train, x_test, t_test):\n",
    "    model = LinearRegression(fit_intercept=True)\n",
    "    model.fit(x_train, y_train)\n",
    "    train_r_sq = model.score(x_train, y_train)\n",
    "    test_r_sq = model.score(x_test, y_test)\n",
    "    return train_r_sq, test_r_sq"
   ]
  },
  {
   "cell_type": "code",
   "execution_count": 71,
   "metadata": {
    "collapsed": false
   },
   "outputs": [],
   "source": [
    "'''Method that takes in the x and y, training AND testing sets. Fits a linear model on the training sets, then returns the\n",
    "testing R^2 of the model.'''\n",
    "\n",
    "#this isn't necessary. You can get the rsquared all together in the R_squared function above\n",
    "def get_test_Rsquared(X_train, y_train, X_test, y_test):\n",
    "    model = LinearRegression(fit_intercept=True)\n",
    "    model.fit(X_train, y_train)\n",
    "    print (X_test.shape, y_test.reshape(94,1).shape)\n",
    "    test_r_sq = model.score(X_test, y_test.reshape(94,1))\n",
    "    return test_r_sq\n",
    "    "
   ]
  },
  {
   "cell_type": "markdown",
   "metadata": {},
   "source": [
    "## Variable Selection and K-Fold Cross Validation"
   ]
  },
  {
   "cell_type": "code",
   "execution_count": 72,
   "metadata": {
    "collapsed": false
   },
   "outputs": [
    {
     "name": "stdout",
     "output_type": "stream",
     "text": [
      "Original train and test r^2: 0.445261443859 0.337524169459\n"
     ]
    }
   ],
   "source": [
    "\"\"\" R^2 variable selection with k-fold cross validation.\n",
    "\"\"\" \n",
    "regression_model = LinearRegression(fit_intercept=False)\n",
    "kf = KFold(n_splits=8)\n",
    "\n",
    "#Begins by considering the set with all possible predictors together\n",
    "#X_train = add_constant(train[all_predictors].values, prepend=True)\n",
    "#X_test = add_constant(test[all_predictors].values, prepend=True)\n",
    "train_rsq, test_rsq = get_Rsquared(X_train, y_train, X_test, y_test)\n",
    "#test_rsq = get_test_Rsquared(X_train, y_train, X_test, y_test)\n",
    "print (\"Original train and test r^2:\", train_rsq, test_rsq)\n",
    "\n",
    "#K-fold cross validation\n",
    "valscores = []\n",
    "for train_index, val_index in kf.split(X_train):\n",
    "    X_training, X_valid = X_train[train_index], X_train[val_index]\n",
    "    y_training, y_valid = y_train[train_index], y_train[val_index]\n",
    "\n",
    "    regression_model.fit(X_training, y_training)\n",
    "    valscores.append(regression_model.score(X_valid, y_valid))"
   ]
  },
  {
   "cell_type": "code",
   "execution_count": 73,
   "metadata": {
    "collapsed": false,
    "scrolled": false
   },
   "outputs": [
    {
     "name": "stdout",
     "output_type": "stream",
     "text": [
      "done\n"
     ]
    }
   ],
   "source": [
    "our_tuple = (all_predictors, train_rsq, test_rsq, np.mean(valscores))\n",
    "predictor_sets = [list(our_tuple)]\n",
    "\n",
    "#Removes a predictor, examines all possible combinations of remaining predictors\n",
    "for k in range(len(all_predictors), 1, -1):   \n",
    "    best_k_predictors = predictor_sets[-1][0] \n",
    "    train_R_squares = []\n",
    "    test_R_squares = []\n",
    "    x_val_scores = []\n",
    "    \n",
    "    for predictor in best_k_predictors:\n",
    "        k_minus_1 = list(set(best_k_predictors) - set([predictor]))\n",
    "        X_train = train[k_minus_1].values\n",
    "        X_test = test[k_minus_1].values\n",
    "        \n",
    "        train_rsq, test_rsq = get_Rsquared(X_train, y_train, X_test, y_test)\n",
    "        train_R_squares.append(train_rsq)\n",
    "        test_R_squares.append(test_rsq)\n",
    "        \n",
    "        #K-fold cross-validation\n",
    "        validation_R_sqs = []\n",
    "        for train_index, val_index in kf.split(X_train):\n",
    "            X_training, X_valid = X_train[train_index], X_train[val_index]\n",
    "            y_training, y_valid = y_train[train_index], y_train[val_index]\n",
    "\n",
    "            regression_model.fit(X_training, y_training)\n",
    "            validation_R_sqs.append(regression_model.score(X_valid, y_valid))\n",
    "        \n",
    "        x_val_scores.append(np.mean(validation_R_sqs))\n",
    "    \n",
    "    \n",
    "    max_test = max(test_R_squares)\n",
    "    ind = test_R_squares.index(max_test)\n",
    "    max_valscore = max(x_val_scores)\n",
    "    ind2 = x_val_scores.index(max_valscore)\n",
    "    \n",
    "    #Appends to predictor_sets the set of best performing model with the given numer of parameters being examined\n",
    "    #Also appends the training R^2, testing R^2 and validation score R^2\n",
    "    best_k_minus_1 = list(set(best_k_predictors) - set([best_k_predictors[ind2]]))\n",
    "    our_tuple = (best_k_minus_1, np.max(train_R_squares), max_test, max_valscore )\n",
    "    predictor_sets.append(list(our_tuple))\n",
    "\n",
    "print(\"done\")"
   ]
  },
  {
   "cell_type": "code",
   "execution_count": 74,
   "metadata": {
    "collapsed": false,
    "scrolled": true
   },
   "outputs": [
    {
     "data": {
      "text/plain": [
       "[[['forest',\n",
       "   'open_land',\n",
       "   'water',\n",
       "   'wetland',\n",
       "   'transitional',\n",
       "   'urban_public_institution',\n",
       "   'commercial',\n",
       "   'transportation',\n",
       "   'crop_land',\n",
       "   'medium_density_residential',\n",
       "   'industrial',\n",
       "   'outdoor_temperature',\n",
       "   'solar_radiation',\n",
       "   'wind_speed_resultant'],\n",
       "  0.44526144385897043,\n",
       "  0.33752416945905528,\n",
       "  0.40707198419229074],\n",
       " [['commercial',\n",
       "   'transportation',\n",
       "   'industrial',\n",
       "   'solar_radiation',\n",
       "   'wind_speed_resultant',\n",
       "   'open_land',\n",
       "   'water',\n",
       "   'urban_public_institution',\n",
       "   'medium_density_residential',\n",
       "   'wetland',\n",
       "   'crop_land',\n",
       "   'forest',\n",
       "   'transitional'],\n",
       "  0.44521146790168742,\n",
       "  0.33922255088603448,\n",
       "  0.40876703243456047],\n",
       " [['transportation',\n",
       "   'industrial',\n",
       "   'commercial',\n",
       "   'solar_radiation',\n",
       "   'wind_speed_resultant',\n",
       "   'open_land',\n",
       "   'water',\n",
       "   'urban_public_institution',\n",
       "   'medium_density_residential',\n",
       "   'wetland',\n",
       "   'crop_land',\n",
       "   'forest'],\n",
       "  0.44345131844399788,\n",
       "  0.3329735108932701,\n",
       "  0.41109180656200806],\n",
       " [['industrial',\n",
       "   'transportation',\n",
       "   'commercial',\n",
       "   'solar_radiation',\n",
       "   'wind_speed_resultant',\n",
       "   'water',\n",
       "   'urban_public_institution',\n",
       "   'medium_density_residential',\n",
       "   'wetland',\n",
       "   'crop_land',\n",
       "   'forest'],\n",
       "  0.44333685472315165,\n",
       "  0.3311131821108414,\n",
       "  0.41240143076258817],\n",
       " [['transportation',\n",
       "   'industrial',\n",
       "   'commercial',\n",
       "   'solar_radiation',\n",
       "   'wind_speed_resultant',\n",
       "   'water',\n",
       "   'urban_public_institution',\n",
       "   'medium_density_residential',\n",
       "   'wetland',\n",
       "   'forest'],\n",
       "  0.44146802039649269,\n",
       "  0.34542548899188563,\n",
       "  0.41527039213719164],\n",
       " [['industrial',\n",
       "   'transportation',\n",
       "   'commercial',\n",
       "   'solar_radiation',\n",
       "   'wind_speed_resultant',\n",
       "   'water',\n",
       "   'urban_public_institution',\n",
       "   'medium_density_residential',\n",
       "   'forest'],\n",
       "  0.43911778874382329,\n",
       "  0.37391837406071604,\n",
       "  0.41662429992918526],\n",
       " [['transportation',\n",
       "   'industrial',\n",
       "   'commercial',\n",
       "   'solar_radiation',\n",
       "   'wind_speed_resultant',\n",
       "   'water',\n",
       "   'medium_density_residential',\n",
       "   'forest'],\n",
       "  0.4380026765333721,\n",
       "  0.36612195054992758,\n",
       "  0.41592279057332188],\n",
       " [['industrial',\n",
       "   'transportation',\n",
       "   'commercial',\n",
       "   'solar_radiation',\n",
       "   'wind_speed_resultant',\n",
       "   'water',\n",
       "   'medium_density_residential'],\n",
       "  0.43680079664847388,\n",
       "  0.36662576940786529,\n",
       "  0.41208053594349359],\n",
       " [['industrial',\n",
       "   'transportation',\n",
       "   'commercial',\n",
       "   'solar_radiation',\n",
       "   'wind_speed_resultant',\n",
       "   'medium_density_residential'],\n",
       "  0.43446324001340869,\n",
       "  0.36427399479651845,\n",
       "  0.41081638188968861],\n",
       " [['solar_radiation',\n",
       "   'industrial',\n",
       "   'transportation',\n",
       "   'wind_speed_resultant',\n",
       "   'commercial'],\n",
       "  0.43110416823446851,\n",
       "  0.35674218057964424,\n",
       "  0.40393969099623378],\n",
       " [['solar_radiation', 'wind_speed_resultant', 'industrial', 'transportation'],\n",
       "  0.42300205868428009,\n",
       "  0.35511944868417888,\n",
       "  0.38945311254314213],\n",
       " [['solar_radiation', 'wind_speed_resultant', 'transportation'],\n",
       "  0.41002362192970787,\n",
       "  0.35319983993349391,\n",
       "  0.36478351689368083],\n",
       " [['solar_radiation', 'wind_speed_resultant'],\n",
       "  0.37538885428032132,\n",
       "  0.35510523302344887,\n",
       "  0.33400111180453945],\n",
       " [['wind_speed_resultant'],\n",
       "  0.35175486276461965,\n",
       "  0.35569402192170119,\n",
       "  -0.2644404888884917]]"
      ]
     },
     "execution_count": 74,
     "metadata": {},
     "output_type": "execute_result"
    }
   ],
   "source": [
    "'''Holds the best model by each number of predictors.\n",
    "predictor_sets[x][0]: list which has the combination of most significant predictors for a model with that number of predictors\n",
    "    (i.e, a list with 7 predictors in it represents the best model of 7 predictors)\n",
    "predictor_sets[x][1]: training R^2 of that model\n",
    "predictor_sets[x][2]: testing R^2 of that model\n",
    "predictor_sets[x][3]: validation R^2 of the model\n",
    "'''\n",
    "predictor_sets"
   ]
  },
  {
   "cell_type": "code",
   "execution_count": 75,
   "metadata": {
    "collapsed": false,
    "scrolled": true
   },
   "outputs": [
    {
     "data": {
      "text/plain": [
       "[['industrial',\n",
       "  'transportation',\n",
       "  'commercial',\n",
       "  'solar_radiation',\n",
       "  'wind_speed_resultant',\n",
       "  'water',\n",
       "  'urban_public_institution',\n",
       "  'medium_density_residential',\n",
       "  'forest'],\n",
       " 0.43911778874382329,\n",
       " 0.37391837406071604,\n",
       " 0.41662429992918526]"
      ]
     },
     "execution_count": 75,
     "metadata": {},
     "output_type": "execute_result"
    }
   ],
   "source": [
    "'''Selects the best of these \"best models\" by validation R^2. '''\n",
    "best_predictor = sorted(predictor_sets, key=lambda t: t[3])[-1]\n",
    "best_predictor"
   ]
  },
  {
   "cell_type": "code",
   "execution_count": 76,
   "metadata": {
    "collapsed": true,
    "scrolled": false
   },
   "outputs": [],
   "source": [
    "'''Makes predictions on the data set, using the specific parameters of the best model.'''\n",
    "x_train1 = add_constant(train[best_predictor[0]], prepend=True)\n",
    "x_test1 = add_constant(test[best_predictor[0]], prepend=True)\n",
    "\n",
    "x1 = add_constant(pm[best_predictor[0]], prepend=True)\n",
    "\n",
    "best_model = LinearRegression(fit_intercept=True)\n",
    "best_model.fit(x_train1, y_train)\n",
    "predictions = best_model.predict(x1)"
   ]
  },
  {
   "cell_type": "code",
   "execution_count": 77,
   "metadata": {
    "collapsed": false
   },
   "outputs": [
    {
     "data": {
      "text/plain": [
       "0.44337121068556123"
      ]
     },
     "execution_count": 77,
     "metadata": {},
     "output_type": "execute_result"
    }
   ],
   "source": [
    "mean_squared_error(pm['ppm'].values, predictions)\n",
    "# mean_squared_error(pm['Arithmetic Mean'].values, predictions)"
   ]
  },
  {
   "cell_type": "code",
   "execution_count": 143,
   "metadata": {
    "collapsed": false
   },
   "outputs": [
    {
     "data": {
      "text/plain": [
       "array([ 4.69219694,  4.69219694,  4.69219694, ...,  4.69219694,\n",
       "        4.69219694,  4.69219694])"
      ]
     },
     "execution_count": 143,
     "metadata": {},
     "output_type": "execute_result"
    }
   ],
   "source": [
    "predictions"
   ]
  },
  {
   "cell_type": "code",
   "execution_count": null,
   "metadata": {
    "collapsed": true
   },
   "outputs": [],
   "source": []
  },
  {
   "cell_type": "code",
   "execution_count": null,
   "metadata": {
    "collapsed": true
   },
   "outputs": [],
   "source": []
  }
 ],
 "metadata": {
  "anaconda-cloud": {},
  "kernelspec": {
   "display_name": "Python [default]",
   "language": "python",
   "name": "python3"
  },
  "language_info": {
   "codemirror_mode": {
    "name": "ipython",
    "version": 3
   },
   "file_extension": ".py",
   "mimetype": "text/x-python",
   "name": "python",
   "nbconvert_exporter": "python",
   "pygments_lexer": "ipython3",
   "version": "3.5.2"
  }
 },
 "nbformat": 4,
 "nbformat_minor": 2
}
