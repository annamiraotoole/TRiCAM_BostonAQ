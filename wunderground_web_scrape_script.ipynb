{
 "cells": [
  {
   "cell_type": "markdown",
   "metadata": {},
   "source": [
    "<h1> Python code for scraping one week of Weather Underground data, collecting once per hour, and saving into a file in the directory wunderground_data </h1>"
   ]
  },
  {
   "cell_type": "markdown",
   "metadata": {},
   "source": [
    "<h5> Annamira O'Toole, June 2017 </h5>"
   ]
  },
  {
   "cell_type": "markdown",
   "metadata": {},
   "source": [
    "<h3> Import necessary Python libraries </h3>"
   ]
  },
  {
   "cell_type": "code",
   "execution_count": 6,
   "metadata": {
    "collapsed": true
   },
   "outputs": [],
   "source": [
    "import numpy as np\n",
    "import urllib\n",
    "import json\n",
    "import requests\n",
    "from datetime import datetime"
   ]
  },
  {
   "cell_type": "code",
   "execution_count": 3,
   "metadata": {
    "collapsed": true
   },
   "outputs": [],
   "source": [
    "# station id codes for 37 stations around Boston\n",
    "stations = {'BackBay': 'KMABOSTO278', 'NorthEnd': 'KMABOSTO124', 'Logan': 'KBOS',\n",
    "                'Dorchester': 'KMABOSTO268', 'JP': 'KMAJAMAI7', 'FPZoo': 'KMABOSTO271',\n",
    "                'ChestnutHill': 'KMABROOK7', 'MountAuburn': 'KMAWATER3', 'CambridgePort': 'KMACAMBR4',\n",
    "                'Kendall': 'KMACAMBR70', 'PorterDavis': 'KMASOMER9', 'Belmont': 'KMABELMO12',\n",
    "                'Winthrop': 'KMAWINTH7', 'Everett': 'KMACHELS2', 'Malden': 'KMAMALDE6',\n",
    "                'Medford': 'KMAMEDFO4', 'Arlington': 'KMAARLIN20', 'NewtonCorner': 'KMANEWTO44',\n",
    "                'Newton': 'KMANEWTO41', 'Waban': 'KMAWABAN1', 'Roslindale': 'KMABOSTO203',\n",
    "                'Needham': 'KMANEEDH5', 'SouthWaltham': 'KMAWALTH25', 'Waltham': 'KMAWALTH26',\n",
    "                'BeaverBrook': 'KMALEXIN6', 'Lexington': 'KMALEXIN18', 'TurkeyHill': 'KMAARLIN21',\n",
    "                'Winchester': 'KMAWINCH55', 'WestWoburn': 'KMAWOBUR15', 'Woburn': 'KMAWOBUR4',\n",
    "                'Melrose': 'KMAMELRO13', 'Saugus': 'KMASAUGU4', 'Lynn': 'KMALYNN3', 'Milton': 'KMAMILTO11',\n",
    "                'BlueHills': 'KMAQUINC52', 'Quincy': 'KMAQUINC25', 'Southie': 'KMABOSTO167'}\n",
    "\n",
    "stations2 = {'BackBay': 'KMABOSTO278', 'Logan': 'KBOS',\n",
    "                'Dorchester': 'KMABOSTO268',\n",
    "                'ChestnutHill': 'KMABROOK7', 'CambridgePort': 'KMACAMBR4',\n",
    "                'Belmont': 'KMABELMO12', 'Malden': 'KMAMALDE6',\n",
    "                'Medford': 'KMAMEDFO4', 'Waban': 'KMAWABAN1'}\n",
    "\n",
    "# 'JP': 'KMAJAMAI7',\n",
    "\n",
    "\n",
    "station_keys = stations2.keys()\n"
   ]
  },
  {
   "cell_type": "markdown",
   "metadata": {},
   "source": [
    "<h3> Define functions: </h3>"
   ]
  },
  {
   "cell_type": "code",
   "execution_count": 4,
   "metadata": {
    "collapsed": true
   },
   "outputs": [],
   "source": [
    "# returns current time in form of datetime object\n",
    "def update_time():\n",
    "    time = datetime.now()\n",
    "    return time\n",
    "\n",
    "# returns customized string format of the given datetime object\n",
    "# \"month-day_hour-min\"\n",
    "def convert_format(time):\n",
    "    return datetime.strftime(time, \"%m-%d_%H-%M\")\n",
    "\n",
    "# returns customized string format of the global time variable\n",
    "# uses convert format function\n",
    "# \"month-day_hour-min\"\n",
    "def update_collect_time():\n",
    "    return convert_format(time)\n",
    "\n",
    "# returns json file from wunderground API for Boston MA\n",
    "def get_json():\n",
    "    page = requests.get('http://api.wunderground.com/api/def91e3c9f7d14e1/forecast/geolookup/conditions/q/MA/Boston.json')\n",
    "    data = json.loads(page.content)\n",
    "    return data\n",
    "\n",
    "# returns json file from wunderground API for station specified by ID\n",
    "def get_json_withID(ID):\n",
    "    page = requests.get('http://api.wunderground.com/api/def91e3c9f7d14e1/forecast/geolookup/conditions/q/pws:' + ID + '.json')\n",
    "    data = json.loads(page.content)\n",
    "    return data\n",
    "\n",
    "# returns dictionary of location-data pairs for each Boston area station\n",
    "def get_all_data():\n",
    "    D = {}\n",
    "    for key in station_keys:\n",
    "        D[key] = get_json_withID(stations2[key])\n",
    "    return D\n",
    "\n",
    "# add given data to global dictionary variable\n",
    "# with collect_time string variable as the key\n",
    "def add_to_dict(data):\n",
    "    key = str(collect_time)\n",
    "    dictionary[key] = data\n",
    "\n",
    "# writes global dictionary variable into opened file variable\n",
    "def write_file(dictionary):\n",
    "    # writing into file\n",
    "    json.dump(dictionary, file)\n",
    "\n",
    "# retrieves minutes from timedelta object\n",
    "get_timedelta_mins = lambda delta: delta.seconds/60\n",
    "\n",
    "# retrieves hours from timedelta object\n",
    "get_hours = lambda delta: delta.seconds//3600\n",
    "\n",
    "# retrieves minute attribute from datetime object\n",
    "get_datetime_min = lambda time: int(datetime.strftime(time, \"%M\"))\n",
    "\n",
    "# retrieves hour attribute from datetime object\n",
    "get_datetime_hr = lambda time: int(datetime.strftime(time, \"%H\"))\n",
    "\n"
   ]
  },
  {
   "cell_type": "markdown",
   "metadata": {},
   "source": [
    "<h3> Official weekly code: </h3>"
   ]
  },
  {
   "cell_type": "code",
   "execution_count": null,
   "metadata": {
    "collapsed": true
   },
   "outputs": [],
   "source": [
    "dictionary = {}\n",
    "\n",
    "time = datetime.now()\n",
    "start_time = time\n",
    "\n",
    "collect_time = datetime.strftime(time, \"%m-%d_%H-%M\")\n",
    "\n",
    "week_name = collect_time\n",
    "\n",
    "days_in_week = 7\n",
    "hrs_in_day = 24\n",
    "week_not_over = True\n",
    "day_not_over = True\n",
    "\n",
    "# collect data for entire week\n",
    "# create a file of each day's data\n",
    "prev_time = time\n",
    "while week_not_over:\n",
    "    \n",
    "    day_not_over = True\n",
    "    \n",
    "    # record start time of daily collection\n",
    "    day_start_time = datetime.now()\n",
    "    \n",
    "    # collect data every hour for 1 day\n",
    "    while day_not_over:\n",
    "        \n",
    "        # set temporary time\n",
    "        temp_time = datetime.now()\n",
    "        # measure the time passed between last iteration and the current time\n",
    "        hr_delta = temp_time - prev_time\n",
    "        \n",
    "        # if the hour has changed since the last iteration, collect data\n",
    "        # and add the data to the current day's dictionary\n",
    "        if get_datetime_hr(prev_time) != get_datetime_hr(temp_time):\n",
    "            time = update_time() # update offical time\n",
    "            collect_time = update_collect_time() # update collect_time\n",
    "            data = get_all_data() # collect data from wunderground\n",
    "            print('got json ' + collect_time) # acknowledge data collection\n",
    "            # add data to the day's dictionary\n",
    "            add_to_dict(data)\n",
    "        \n",
    "        # check if the day is over, set day_not_over boolean value appropriately\n",
    "        day_delta = temp_time - day_start_time\n",
    "        day_not_over = (get_hours(day_delta) != hrs_in_day)\n",
    "        prev_time = temp_time\n",
    "        \n",
    "    # once the day is over, write the day's dictionary to a file\n",
    "    filename = \"day_\" + convert_format(day_start_time)\n",
    "    filepath = 'wunderground_data/' + filename\n",
    "    # filepath = 'wunderground_data/' + week_name + '/'\n",
    "    day_file = open(filepath + '.json', 'w')\n",
    "    dictionary2 = {}\n",
    "    dictionary2[filename] = dictionary\n",
    "    json.dump(dictionary, day_file)\n",
    "    day_file.close()\n",
    "    print('wrote file')\n",
    "    dictionary = {}\n",
    "    dictionary2 = {}\n",
    "    \n",
    "    # check if the week is over, set week_not_over boolean value appropriately\n",
    "    week_delta = temp_time - start_time\n",
    "    week_not_over = (week_delta.days != week_length)\n",
    "    \n",
    "    \n",
    "print('finished')\n",
    "    "
   ]
  },
  {
   "cell_type": "markdown",
   "metadata": {},
   "source": [
    "<h3> Official weekly code take 2 </h3>"
   ]
  },
  {
   "cell_type": "code",
   "execution_count": null,
   "metadata": {
    "collapsed": true
   },
   "outputs": [],
   "source": [
    "dictionary = {}\n",
    "\n",
    "time = datetime.now()\n",
    "start_time = time\n",
    "\n",
    "collect_time = datetime.strftime(time, \"%m-%d_%H-%M\")\n",
    "\n",
    "week_name = collect_time\n",
    "\n",
    "days_in_week = 7\n",
    "hrs_in_day = 24\n",
    "week_not_over = True\n",
    "day_not_over = True\n",
    "\n",
    "# collect data for entire week\n",
    "# create a file of each day's data\n",
    "prev_time = time\n",
    "while week_not_over:\n",
    "    \n",
    "    day_not_over = True\n",
    "    \n",
    "    # record start time of daily collection\n",
    "    day_start_time = datetime.now()\n",
    "    \n",
    "    # collect data every hour for 1 day\n",
    "    while day_not_over:\n",
    "        \n",
    "        # set temporary time\n",
    "        temp_time = datetime.now()\n",
    "        # measure the time passed between last iteration and the current time\n",
    "        hr_delta = temp_time - prev_time\n",
    "        \n",
    "        # if the hour has changed since the last iteration, collect data\n",
    "        # and add the data to the current day's dictionary\n",
    "        if get_datetime_hr(prev_time) != get_datetime_hr(temp_time):\n",
    "            time = update_time() # update offical time\n",
    "            collect_time = update_collect_time() # update collect_time\n",
    "            data = get_all_data() # collect data from wunderground\n",
    "            print('got json ' + collect_time) # acknowledge data collection\n",
    "            # add data to the day's dictionary\n",
    "            add_to_dict(data)\n",
    "        \n",
    "        # check if the day is over, set day_not_over boolean value appropriately\n",
    "        day_delta = temp_time - day_start_time\n",
    "        day_not_over = (get_hours(day_delta) < hrs_in_day)\n",
    "        prev_time = temp_time\n",
    "        \n",
    "    # once the day is over, write the day's dictionary to a file\n",
    "    filename = \"day_\" + convert_format(day_start_time)\n",
    "    day_file = open(filename + '.json', 'w')\n",
    "    dictionary2 = {}\n",
    "    dictionary2[filename] = dictionary\n",
    "    json.dump(dictionary, day_file)\n",
    "    day_file.close()\n",
    "    print('wrote file')\n",
    "    dictionary = {}\n",
    "    dictionary2 = {}\n",
    "    \n",
    "    # check if the week is over, set week_not_over boolean value appropriately\n",
    "    week_delta = temp_time - start_time\n",
    "    week_not_over = (week_delta.days != days_in_week)\n",
    "    \n",
    "    \n",
    "print('finished')\n",
    "    "
   ]
  },
  {
   "cell_type": "markdown",
   "metadata": {},
   "source": [
    "<h3> Most up to date and similar 5 minute test of the weekly code </h3>"
   ]
  },
  {
   "cell_type": "code",
   "execution_count": null,
   "metadata": {},
   "outputs": [],
   "source": [
    "dictionary = {}\n",
    "\n",
    "time = datetime.now()\n",
    "start_time = time\n",
    "\n",
    "collect_time = datetime.strftime(time, \"%m-%d_%H-%M\")\n",
    "\n",
    "week_name = collect_time\n",
    "\n",
    "test_length = 9\n",
    "day_length = 3\n",
    "week_not_over = True\n",
    "day_not_over = True\n",
    "\n",
    "# collect data for entire week\n",
    "# create a file of each day's data\n",
    "prev_time = time\n",
    "while week_not_over:\n",
    "    \n",
    "    day_not_over = True\n",
    "    \n",
    "    # record start time of daily collection\n",
    "    day_start_time = datetime.now()\n",
    "    \n",
    "    # collect data every hour for 1 day\n",
    "    while day_not_over:\n",
    "        \n",
    "        # set temporary time\n",
    "        temp_time = datetime.now()\n",
    "        # measure the time passed between last iteration and the current time\n",
    "        hr_delta = temp_time - prev_time\n",
    "        \n",
    "        # if the hour has changed since the last iteration, collect data\n",
    "        # and add the data to the current day's dictionary\n",
    "        if get_datetime_min(prev_time) != get_datetime_min(temp_time):\n",
    "            time = update_time() # update offical time\n",
    "            collect_time = update_collect_time() # update collect_time\n",
    "            data = get_all_data() # collect data from wunderground\n",
    "            print('got json ' + collect_time) # acknowledge data collection\n",
    "            # add data to the day's dictionary\n",
    "            add_to_dict(data)\n",
    "        \n",
    "        # check if the day is over, set day_not_over boolean value appropriately\n",
    "        day_delta = temp_time - day_start_time\n",
    "        day_not_over = (get_timedelta_mins(day_delta) != day_length)\n",
    "        prev_time = temp_time\n",
    "        \n",
    "    # once the day is over, write the day's dictionary to a file\n",
    "    filename = \"day_\" + convert_format(day_start_time)\n",
    "    filepath = 'wunderground_data_test/' + filename\n",
    "    day_file = open(filepath + '.json', 'w')\n",
    "    dictionary2 = {}\n",
    "    dictionary2[filename] = dictionary\n",
    "    json.dump(dictionary, day_file)\n",
    "    dictionary = {}\n",
    "    dictionary2 = {}\n",
    "    \n",
    "    # check if the week is over, set week_not_over boolean value appropriately\n",
    "    week_delta = temp_time - start_time\n",
    "    week_not_over = (get_timedelta_mins(week_delta) != test_length)\n",
    "    \n",
    "    \n",
    "print('finished')"
   ]
  },
  {
   "cell_type": "markdown",
   "metadata": {},
   "source": [
    "<h3> Main code for one week of data -- without datetime -- NOT FINISHED: </h3>"
   ]
  },
  {
   "cell_type": "code",
   "execution_count": null,
   "metadata": {
    "collapsed": true
   },
   "outputs": [],
   "source": [
    "hr = int(datetime.strftime(time, \"%H\"))\n",
    "day = 1\n",
    "collections = 0\n",
    "week_length = 7\n",
    "hrs_in_week = 168\n",
    "time_not_expired = True\n",
    "\n",
    "prev_hr = hr\n",
    "while time_not_expired:\n",
    "    temp_time = datetime.now()\n",
    "    temp_hr = int(datetime.strftime(temp_time, \"%H\"))\n",
    "    temp_day = int(datetime.strftime(temp_time, \"%d\"))\n",
    "    if prev_hr != temp_hr:\n",
    "        time = update_time()\n",
    "        hold = update_collect_time()[0]\n",
    "        collect_time_str = hold[0]\n",
    "        collect_hr_int = hold[1]\n",
    "        data = get_json()\n",
    "        collections += 1\n",
    "        print('got json' + collect_time_str)\n",
    "        add_to_dict(data)\n",
    "        if hr = 24:\n",
    "            day += 1\n",
    "    time_not_expired = (day != week_length) and collections == hrs_in_week\n",
    "    prev_min = temp_min\n",
    "\n",
    "# write_file(dictionary)\n",
    "json.dump(dictionary, file)\n",
    "\n",
    "print('done')"
   ]
  },
  {
   "cell_type": "markdown",
   "metadata": {},
   "source": [
    "<h3> Old code for one week of data -- with datetime -- NOT FINISHED: </h3>"
   ]
  },
  {
   "cell_type": "code",
   "execution_count": null,
   "metadata": {
    "collapsed": true
   },
   "outputs": [],
   "source": [
    "prev_time = time\n",
    "while time_not_expired:\n",
    "    temp_time = datetime.now()\n",
    "    hr_delta = temp_time - prev_time\n",
    "    if hr_delta.hours >= 1:\n",
    "        time = update_time()\n",
    "        hold = update_collect_time()[0]\n",
    "        collect_time_str = hold[0]\n",
    "        collect_hr_int = hold[1]\n",
    "        data = get_json()\n",
    "        print('got json' + collect_time_str)\n",
    "        add_to_dict(data)\n",
    "    week_delta = temp_time - start_time\n",
    "    time_not_expired = (week_delta.days == week_length)\n",
    "    prev_time = temp_time\n",
    "\n",
    "# write_file(dictionary)\n",
    "json.dump(dictionary, file)\n",
    "\n",
    "print('done')"
   ]
  },
  {
   "cell_type": "markdown",
   "metadata": {},
   "source": [
    "<h3> 5 minute json file test code -- without datetime: </h3>"
   ]
  },
  {
   "cell_type": "code",
   "execution_count": null,
   "metadata": {
    "scrolled": false
   },
   "outputs": [],
   "source": [
    "# 5 minute test\n",
    "\n",
    "file = open('wunderground_data_test/fifth_5min_test', 'w')\n",
    "\n",
    "min = int(datetime.strftime(time, \"%M\"))\n",
    "end_time = 3\n",
    "time_not_expired = True\n",
    "\n",
    "prev_min = min\n",
    "while time_not_expired:\n",
    "    temp_time = datetime.now()\n",
    "    temp_min = int(datetime.strftime(temp_time, \"%M\"))\n",
    "    if prev_min != temp_min:\n",
    "        time = update_time()\n",
    "        hold = update_collect_time()[0]\n",
    "        collect_time_str = hold[0]\n",
    "        collect_hr_int = hold[1]\n",
    "        data = get_json()\n",
    "        print('got json')\n",
    "        add_to_dict(data)\n",
    "    time_not_expired = ((temp_min - min) != end_time)\n",
    "    prev_min = temp_min\n",
    "\n",
    "# write_file(dictionary)\n",
    "json.dump(dictionary, file)\n",
    "\n",
    "print('done')"
   ]
  },
  {
   "cell_type": "markdown",
   "metadata": {},
   "source": [
    "<h3> 5 minute json file test code -- with datetime -- NOT FINISHED: </h3>"
   ]
  },
  {
   "cell_type": "code",
   "execution_count": null,
   "metadata": {},
   "outputs": [],
   "source": [
    "test_length = 5\n",
    "time_not_expired = True\n",
    "\n",
    "file = open('wunderground_data_test/fifth_5min_test', 'w')\n",
    "\n",
    "prev_time = time\n",
    "while time_not_expired:\n",
    "    temp_time = datetime.now()\n",
    "    if get_datetime_min(temp_time) != get_datetime_min(prev_time):\n",
    "        time = update_time()\n",
    "        hold = update_collect_time()\n",
    "        collect_time_str = hold[0]\n",
    "        collect_hr_int = hold[1]\n",
    "        data = get_json()\n",
    "        print('got json' + collect_time_str)\n",
    "        add_to_dict(data)\n",
    "    time_passed = temp_time - start_time\n",
    "    time_not_expired = (get_timedelta_mins(time_passed) != test_length)\n",
    "    prev_time = temp_time\n",
    "\n",
    "# write_file(dictionary)\n",
    "json.dump(dictionary, file)\n",
    "\n",
    "print('done')"
   ]
  },
  {
   "cell_type": "markdown",
   "metadata": {},
   "source": [
    "<h3> Miscellaneous scraps of code: </h3>"
   ]
  },
  {
   "cell_type": "code",
   "execution_count": null,
   "metadata": {
    "collapsed": true,
    "scrolled": true
   },
   "outputs": [],
   "source": [
    "file.close()"
   ]
  },
  {
   "cell_type": "code",
   "execution_count": null,
   "metadata": {
    "scrolled": true
   },
   "outputs": [],
   "source": [
    "#for k, v in dictionary.items():\n",
    "    #print(k, v)\n",
    "\n",
    "print(dictionary.keys())\n",
    "dictionary['current_observation'].keys()"
   ]
  }
 ],
 "metadata": {
  "kernelspec": {
   "display_name": "Python 3",
   "language": "python",
   "name": "python3"
  },
  "language_info": {
   "codemirror_mode": {
    "name": "ipython",
    "version": 3
   },
   "file_extension": ".py",
   "mimetype": "text/x-python",
   "name": "python",
   "nbconvert_exporter": "python",
   "pygments_lexer": "ipython3",
   "version": "3.6.0"
  }
 },
 "nbformat": 4,
 "nbformat_minor": 2
}
