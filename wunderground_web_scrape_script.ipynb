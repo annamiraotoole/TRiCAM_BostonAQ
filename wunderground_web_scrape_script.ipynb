{
 "cells": [
  {
   "cell_type": "markdown",
   "metadata": {},
   "source": [
    "<h1> Python code for scraping one week of Weather Underground data, collecting once per hour, and saving into a file in the directory wunderground_data </h1>"
   ]
  },
  {
   "cell_type": "markdown",
   "metadata": {},
   "source": [
    "<h5> Annamira O'Toole, June 2017 </h5>"
   ]
  },
  {
   "cell_type": "markdown",
   "metadata": {},
   "source": [
    "<h3> Import necessary Python libraries </h3>"
   ]
  },
  {
   "cell_type": "code",
   "execution_count": 205,
   "metadata": {},
   "outputs": [],
   "source": [
    "import numpy as np\n",
    "import matplotlib\n",
    "import matplotlib.pyplot as plt\n",
    "import random\n",
    "from mpl_toolkits.mplot3d import Axes3D\n",
    "from bs4 import BeautifulSoup\n",
    "import urllib\n",
    "import json\n",
    "import requests\n",
    "from datetime import datetime\n",
    "# import dicttoxml\n",
    "%matplotlib inline"
   ]
  },
  {
   "cell_type": "code",
   "execution_count": 215,
   "metadata": {},
   "outputs": [],
   "source": [
    "# station id codes for 37 stations around Boston\n",
    "stations = {'BackBay': 'KMABOSTO278', 'NorthEnd': 'KMABOSTO124', 'Logan': 'KBOS',\n",
    "                'Dorchester': 'KMABOSTO268', 'JP': 'KMAJAMAI7', 'FPZoo': 'KMABOSTO271',\n",
    "                'ChestnutHill': 'KMABROOK7', 'MountAuburn': 'KMAWATER3', 'CambridgePort': 'KMACAMBR4',\n",
    "                'Kendall': 'KMACAMBR70', 'PorterDavis': 'KMASOMER9', 'Belmont': 'KMABELMO12',\n",
    "                'Winthrop': 'KMAWINTH7', 'Everett': 'KMACHELS2', 'Malden': 'KMAMALDE6',\n",
    "                'Medford': 'KMAMEDFO4', 'Arlington': 'KMAARLIN20', 'NewtonCorner': 'KMANEWTO44',\n",
    "                'Newton': 'KMANEWTO41', 'Waban': 'KMAWABAN1', 'Roslindale': 'KMABOSTO203',\n",
    "                'Needham': 'KMANEEDH5', 'SouthWaltham': 'KMAWALTH25', 'Waltham': 'KMAWALTH26',\n",
    "                'BeaverBrook': 'KMALEXIN6', 'Lexington': 'KMALEXIN18', 'TurkeyHill': 'KMAARLIN21',\n",
    "                'Winchester': 'KMAWINCH55', 'WestWoburn': 'KMAWOBUR15', 'Woburn': 'KMAWOBUR4',\n",
    "                'Melrose': 'KMAMELRO13', 'Saugus': 'KMASAUGU4', 'Lynn': 'KMALYNN3', 'Milton': 'KMAMILTO11',\n",
    "                'BlueHills': 'KMAQUINC52', 'Quincy': 'KMAQUINC25', 'Southie': 'KMABOSTO167'}\n",
    "\n",
    "stations2 = {'BackBay': 'KMABOSTO278', 'Logan': 'KBOS',\n",
    "                'Dorchester': 'KMABOSTO268', 'JP': 'KMAJAMAI7',\n",
    "                'ChestnutHill': 'KMABROOK7', 'CambridgePort': 'KMACAMBR4',\n",
    "                'Belmont': 'KMABELMO12', 'Malden': 'KMAMALDE6',\n",
    "                'Medford': 'KMAMEDFO4', 'Waban': 'KMAWABAN1'}\n",
    "\n",
    "\n",
    "station_keys = stations2.keys()\n"
   ]
  },
  {
   "cell_type": "markdown",
   "metadata": {},
   "source": [
    "<h3> Define functions: </h3>"
   ]
  },
  {
   "cell_type": "code",
   "execution_count": 212,
   "metadata": {
    "collapsed": true
   },
   "outputs": [],
   "source": [
    "# returns current time in form of datetime object\n",
    "def update_time():\n",
    "    time = datetime.now()\n",
    "    return time\n",
    "\n",
    "# returns customized string format of the given datetime object\n",
    "# \"month-day_hour-min\"\n",
    "def convert_format(time):\n",
    "    return datetime.strftime(time, \"%m-%d_%H-%M\")\n",
    "\n",
    "# returns customized string format of the global time variable\n",
    "# uses convert format function\n",
    "# \"month-day_hour-min\"\n",
    "def update_collect_time():\n",
    "    return convert_format(time)\n",
    "\n",
    "# returns json file from wunderground API for Boston MA\n",
    "def get_json():\n",
    "    page = requests.get('http://api.wunderground.com/api/f71059696f42912d/forecast/geolookup/conditions/q/MA/Boston.json')\n",
    "    data = json.loads(page.content)\n",
    "    return data\n",
    "\n",
    "# returns json file from wunderground API for station specified by ID\n",
    "def get_json_withID(ID):\n",
    "    page = requests.get('http://api.wunderground.com/api/f71059696f42912d/forecast/geolookup/conditions/q/pws:' + ID + '.json')\n",
    "    data = json.loads(page.content)\n",
    "    return data\n",
    "\n",
    "# returns dictionary of location-data pairs for each Boston area station\n",
    "def get_all_data():\n",
    "    D = {}\n",
    "    for key in station_keys:\n",
    "        D[key] = get_json_withID(stations2[key])\n",
    "    return D\n",
    "\n",
    "# add given data to global dictionary variable\n",
    "# with collect_time string variable as the key\n",
    "def add_to_dict(data):\n",
    "    key = str(collect_time)\n",
    "    dictionary[key] = data\n",
    "\n",
    "# writes global dictionary variable into opened file variable\n",
    "def write_file(dictionary):\n",
    "    # writing into file\n",
    "    json.dump(dictionary, file)\n",
    "\n",
    "# retrieves minutes from timedelta object\n",
    "get_timedelta_mins = lambda delta: delta.seconds/60\n",
    "\n",
    "# retrieves hours from timedelta object\n",
    "get_hours = lambda delta: delta.seconds/3600\n",
    "\n",
    "# retrieves minute attribute from datetime object\n",
    "get_datetime_min = lambda time: int(datetime.strftime(time, \"%M\"))\n",
    "\n",
    "# retrieves hour attribute from datetime object\n",
    "get_datetime_hr = lambda time: int(datetime.strftime(time, \"%H\"))\n",
    "\n"
   ]
  },
  {
   "cell_type": "markdown",
   "metadata": {},
   "source": [
    "<h3> Official weekly code: </h3>"
   ]
  },
  {
   "cell_type": "code",
   "execution_count": null,
   "metadata": {
    "collapsed": true
   },
   "outputs": [],
   "source": [
    "dictionary = {}\n",
    "\n",
    "time = datetime.now()\n",
    "start_time = time\n",
    "\n",
    "collect_time = datetime.strftime(time, \"%m-%d_%H-%M\")\n",
    "\n",
    "week_name = collect_time\n",
    "\n",
    "days_in_week = 7\n",
    "hrs_in_day = 24\n",
    "week_not_over = True\n",
    "day_not_over = True\n",
    "\n",
    "# collect data for entire week\n",
    "# create a file of each day's data\n",
    "prev_time = time\n",
    "while week_not_over:\n",
    "    \n",
    "    day_not_over = True\n",
    "    \n",
    "    # record start time of daily collection\n",
    "    day_start_time = datetime.now()\n",
    "    \n",
    "    # collect data every hour for 1 day\n",
    "    while day_not_over:\n",
    "        \n",
    "        # set temporary time\n",
    "        temp_time = datetime.now()\n",
    "        # measure the time passed between last iteration and the current time\n",
    "        hr_delta = temp_time - prev_time\n",
    "        \n",
    "        # if the hour has changed since the last iteration, collect data\n",
    "        # and add the data to the current day's dictionary\n",
    "        if get_datetime_hr(prev_time) != get_datetime_hr(temp_time):\n",
    "            time = update_time() # update offical time\n",
    "            collect_time = update_collect_time() # update collect_time\n",
    "            data = get_all_data() # collect data from wunderground\n",
    "            print('got json ' + collect_time) # acknowledge data collection\n",
    "            # add data to the day's dictionary\n",
    "            add_to_dict(data)\n",
    "        \n",
    "        # check if the day is over, set day_not_over boolean value appropriately\n",
    "        day_delta = temp_time - day_start_time\n",
    "        day_not_over = (get_hours(day_delta) != hours_in_day)\n",
    "        prev_time = temp_time\n",
    "        \n",
    "    # once the day is over, write the day's dictionary to a file\n",
    "    filename = \"day_\" + convert_format(day_start_time)\n",
    "    filepath = 'wunderground_data/' + filename\n",
    "    # filepath = 'wunderground_data/' + week_name + '/'\n",
    "    day_file = open(filepath + '.json', 'w')\n",
    "    dictionary2 = {}\n",
    "    dictionary2[filename] = dictionary\n",
    "    json.dump(dictionary, day_file)\n",
    "    day_file.close()\n",
    "    dictionary = {}\n",
    "    dictionary2 = {}\n",
    "    \n",
    "    # check if the week is over, set week_not_over boolean value appropriately\n",
    "    week_delta = temp_time - start_time\n",
    "    week_not_over = (week_delta.days != week_length)\n",
    "    \n",
    "    \n",
    "print('finished')\n",
    "    "
   ]
  },
  {
   "cell_type": "markdown",
   "metadata": {},
   "source": [
    "<h3> Most up to date and similar 5 minute test of the weekly code </h3>"
   ]
  },
  {
   "cell_type": "code",
   "execution_count": 214,
   "metadata": {},
   "outputs": [
    {
     "name": "stdout",
     "output_type": "stream",
     "text": [
      "got json 06-19_16-26\n",
      "got json 06-19_16-27\n",
      "got json 06-19_16-28\n",
      "got json 06-19_16-29\n",
      "got json 06-19_16-30\n",
      "got json 06-19_16-31\n",
      "got json 06-19_16-32\n",
      "got json 06-19_16-33\n",
      "got json 06-19_16-34\n",
      "finished\n"
     ]
    }
   ],
   "source": [
    "dictionary = {}\n",
    "\n",
    "time = datetime.now()\n",
    "start_time = time\n",
    "\n",
    "collect_time = datetime.strftime(time, \"%m-%d_%H-%M\")\n",
    "\n",
    "week_name = collect_time\n",
    "\n",
    "test_length = 9\n",
    "day_length = 3\n",
    "week_not_over = True\n",
    "day_not_over = True\n",
    "\n",
    "# collect data for entire week\n",
    "# create a file of each day's data\n",
    "prev_time = time\n",
    "while week_not_over:\n",
    "    \n",
    "    day_not_over = True\n",
    "    \n",
    "    # record start time of daily collection\n",
    "    day_start_time = datetime.now()\n",
    "    \n",
    "    # collect data every hour for 1 day\n",
    "    while day_not_over:\n",
    "        \n",
    "        # set temporary time\n",
    "        temp_time = datetime.now()\n",
    "        # measure the time passed between last iteration and the current time\n",
    "        hr_delta = temp_time - prev_time\n",
    "        \n",
    "        # if the hour has changed since the last iteration, collect data\n",
    "        # and add the data to the current day's dictionary\n",
    "        if get_datetime_min(prev_time) != get_datetime_min(temp_time):\n",
    "            time = update_time() # update offical time\n",
    "            collect_time = update_collect_time() # update collect_time\n",
    "            data = get_all_data() # collect data from wunderground\n",
    "            print('got json ' + collect_time) # acknowledge data collection\n",
    "            # add data to the day's dictionary\n",
    "            add_to_dict(data)\n",
    "        \n",
    "        # check if the day is over, set day_not_over boolean value appropriately\n",
    "        day_delta = temp_time - day_start_time\n",
    "        day_not_over = (get_timedelta_mins(day_delta) != day_length)\n",
    "        prev_time = temp_time\n",
    "        \n",
    "    # once the day is over, write the day's dictionary to a file\n",
    "    filename = \"day_\" + convert_format(day_start_time)\n",
    "    filepath = 'wunderground_data_test/' + filename\n",
    "    day_file = open(filepath + '.json', 'w')\n",
    "    dictionary2 = {}\n",
    "    dictionary2[filename] = dictionary\n",
    "    json.dump(dictionary, day_file)\n",
    "    dictionary = {}\n",
    "    dictionary2 = {}\n",
    "    \n",
    "    # check if the week is over, set week_not_over boolean value appropriately\n",
    "    week_delta = temp_time - start_time\n",
    "    week_not_over = (get_timedelta_mins(week_delta) != test_length)\n",
    "    \n",
    "    \n",
    "print('finished')"
   ]
  },
  {
   "cell_type": "markdown",
   "metadata": {},
   "source": [
    "<h3> Main code for one week of data -- without datetime -- NOT FINISHED: </h3>"
   ]
  },
  {
   "cell_type": "code",
   "execution_count": null,
   "metadata": {
    "collapsed": true
   },
   "outputs": [],
   "source": [
    "hr = int(datetime.strftime(time, \"%H\"))\n",
    "day = 1\n",
    "collections = 0\n",
    "week_length = 7\n",
    "hrs_in_week = 168\n",
    "time_not_expired = True\n",
    "\n",
    "prev_hr = hr\n",
    "while time_not_expired:\n",
    "    temp_time = datetime.now()\n",
    "    temp_hr = int(datetime.strftime(temp_time, \"%H\"))\n",
    "    temp_day = int(datetime.strftime(temp_time, \"%d\"))\n",
    "    if prev_hr != temp_hr:\n",
    "        time = update_time()\n",
    "        hold = update_collect_time()[0]\n",
    "        collect_time_str = hold[0]\n",
    "        collect_hr_int = hold[1]\n",
    "        data = get_json()\n",
    "        collections += 1\n",
    "        print('got json' + collect_time_str)\n",
    "        add_to_dict(data)\n",
    "        if hr = 24:\n",
    "            day += 1\n",
    "    time_not_expired = (day != week_length) and collections == hrs_in_week\n",
    "    prev_min = temp_min\n",
    "\n",
    "# write_file(dictionary)\n",
    "json.dump(dictionary, file)\n",
    "\n",
    "print('done')"
   ]
  },
  {
   "cell_type": "markdown",
   "metadata": {},
   "source": [
    "<h3> Old code for one week of data -- with datetime -- NOT FINISHED: </h3>"
   ]
  },
  {
   "cell_type": "code",
   "execution_count": null,
   "metadata": {
    "collapsed": true
   },
   "outputs": [],
   "source": [
    "prev_time = time\n",
    "while time_not_expired:\n",
    "    temp_time = datetime.now()\n",
    "    hr_delta = temp_time - prev_time\n",
    "    if hr_delta.hours >= 1:\n",
    "        time = update_time()\n",
    "        hold = update_collect_time()[0]\n",
    "        collect_time_str = hold[0]\n",
    "        collect_hr_int = hold[1]\n",
    "        data = get_json()\n",
    "        print('got json' + collect_time_str)\n",
    "        add_to_dict(data)\n",
    "    week_delta = temp_time - start_time\n",
    "    time_not_expired = (week_delta.days == week_length)\n",
    "    prev_time = temp_time\n",
    "\n",
    "# write_file(dictionary)\n",
    "json.dump(dictionary, file)\n",
    "\n",
    "print('done')"
   ]
  },
  {
   "cell_type": "markdown",
   "metadata": {},
   "source": [
    "<h3> 5 minute json file test code -- without datetime: </h3>"
   ]
  },
  {
   "cell_type": "code",
   "execution_count": 110,
   "metadata": {
    "scrolled": false
   },
   "outputs": [
    {
     "name": "stdout",
     "output_type": "stream",
     "text": [
      "got json\n",
      "got json\n",
      "got json\n",
      "done\n"
     ]
    }
   ],
   "source": [
    "# 5 minute test\n",
    "\n",
    "file = open('wunderground_data_test/fifth_5min_test', 'w')\n",
    "\n",
    "min = int(datetime.strftime(time, \"%M\"))\n",
    "end_time = 3\n",
    "time_not_expired = True\n",
    "\n",
    "prev_min = min\n",
    "while time_not_expired:\n",
    "    temp_time = datetime.now()\n",
    "    temp_min = int(datetime.strftime(temp_time, \"%M\"))\n",
    "    if prev_min != temp_min:\n",
    "        time = update_time()\n",
    "        hold = update_collect_time()[0]\n",
    "        collect_time_str = hold[0]\n",
    "        collect_hr_int = hold[1]\n",
    "        data = get_json()\n",
    "        print('got json')\n",
    "        add_to_dict(data)\n",
    "    time_not_expired = ((temp_min - min) != end_time)\n",
    "    prev_min = temp_min\n",
    "\n",
    "# write_file(dictionary)\n",
    "json.dump(dictionary, file)\n",
    "\n",
    "print('done')"
   ]
  },
  {
   "cell_type": "markdown",
   "metadata": {},
   "source": [
    "<h3> 5 minute json file test code -- with datetime -- NOT FINISHED: </h3>"
   ]
  },
  {
   "cell_type": "code",
   "execution_count": 177,
   "metadata": {},
   "outputs": [
    {
     "name": "stdout",
     "output_type": "stream",
     "text": [
      "got json06-15 12-58\n",
      "got json06-15 12-59\n",
      "got json06-15 13-00\n",
      "got json06-15 13-01\n",
      "got json06-15 13-02\n"
     ]
    },
    {
     "ename": "ConnectionError",
     "evalue": "HTTPConnectionPool(host='api.wunderground.com', port=80): Max retries exceeded with url: /api/f71059696f42912d/forecast/geolookup/conditions/q/MA/Boston.json (Caused by NewConnectionError('<requests.packages.urllib3.connection.HTTPConnection object at 0x1119a7a90>: Failed to establish a new connection: [Errno 8] nodename nor servname provided, or not known',))",
     "output_type": "error",
     "traceback": [
      "\u001b[0;31m---------------------------------------------------------------------------\u001b[0m",
      "\u001b[0;31mgaierror\u001b[0m                                  Traceback (most recent call last)",
      "\u001b[0;32m/Users/Annamira/anaconda/lib/python3.6/site-packages/requests/packages/urllib3/connection.py\u001b[0m in \u001b[0;36m_new_conn\u001b[0;34m(self)\u001b[0m\n\u001b[1;32m    137\u001b[0m             conn = connection.create_connection(\n\u001b[0;32m--> 138\u001b[0;31m                 (self.host, self.port), self.timeout, **extra_kw)\n\u001b[0m\u001b[1;32m    139\u001b[0m \u001b[0;34m\u001b[0m\u001b[0m\n",
      "\u001b[0;32m/Users/Annamira/anaconda/lib/python3.6/site-packages/requests/packages/urllib3/util/connection.py\u001b[0m in \u001b[0;36mcreate_connection\u001b[0;34m(address, timeout, source_address, socket_options)\u001b[0m\n\u001b[1;32m     74\u001b[0m \u001b[0;34m\u001b[0m\u001b[0m\n\u001b[0;32m---> 75\u001b[0;31m     \u001b[0;32mfor\u001b[0m \u001b[0mres\u001b[0m \u001b[0;32min\u001b[0m \u001b[0msocket\u001b[0m\u001b[0;34m.\u001b[0m\u001b[0mgetaddrinfo\u001b[0m\u001b[0;34m(\u001b[0m\u001b[0mhost\u001b[0m\u001b[0;34m,\u001b[0m \u001b[0mport\u001b[0m\u001b[0;34m,\u001b[0m \u001b[0mfamily\u001b[0m\u001b[0;34m,\u001b[0m \u001b[0msocket\u001b[0m\u001b[0;34m.\u001b[0m\u001b[0mSOCK_STREAM\u001b[0m\u001b[0;34m)\u001b[0m\u001b[0;34m:\u001b[0m\u001b[0;34m\u001b[0m\u001b[0m\n\u001b[0m\u001b[1;32m     76\u001b[0m         \u001b[0maf\u001b[0m\u001b[0;34m,\u001b[0m \u001b[0msocktype\u001b[0m\u001b[0;34m,\u001b[0m \u001b[0mproto\u001b[0m\u001b[0;34m,\u001b[0m \u001b[0mcanonname\u001b[0m\u001b[0;34m,\u001b[0m \u001b[0msa\u001b[0m \u001b[0;34m=\u001b[0m \u001b[0mres\u001b[0m\u001b[0;34m\u001b[0m\u001b[0m\n",
      "\u001b[0;32m/Users/Annamira/anaconda/lib/python3.6/socket.py\u001b[0m in \u001b[0;36mgetaddrinfo\u001b[0;34m(host, port, family, type, proto, flags)\u001b[0m\n\u001b[1;32m    742\u001b[0m     \u001b[0maddrlist\u001b[0m \u001b[0;34m=\u001b[0m \u001b[0;34m[\u001b[0m\u001b[0;34m]\u001b[0m\u001b[0;34m\u001b[0m\u001b[0m\n\u001b[0;32m--> 743\u001b[0;31m     \u001b[0;32mfor\u001b[0m \u001b[0mres\u001b[0m \u001b[0;32min\u001b[0m \u001b[0m_socket\u001b[0m\u001b[0;34m.\u001b[0m\u001b[0mgetaddrinfo\u001b[0m\u001b[0;34m(\u001b[0m\u001b[0mhost\u001b[0m\u001b[0;34m,\u001b[0m \u001b[0mport\u001b[0m\u001b[0;34m,\u001b[0m \u001b[0mfamily\u001b[0m\u001b[0;34m,\u001b[0m \u001b[0mtype\u001b[0m\u001b[0;34m,\u001b[0m \u001b[0mproto\u001b[0m\u001b[0;34m,\u001b[0m \u001b[0mflags\u001b[0m\u001b[0;34m)\u001b[0m\u001b[0;34m:\u001b[0m\u001b[0;34m\u001b[0m\u001b[0m\n\u001b[0m\u001b[1;32m    744\u001b[0m         \u001b[0maf\u001b[0m\u001b[0;34m,\u001b[0m \u001b[0msocktype\u001b[0m\u001b[0;34m,\u001b[0m \u001b[0mproto\u001b[0m\u001b[0;34m,\u001b[0m \u001b[0mcanonname\u001b[0m\u001b[0;34m,\u001b[0m \u001b[0msa\u001b[0m \u001b[0;34m=\u001b[0m \u001b[0mres\u001b[0m\u001b[0;34m\u001b[0m\u001b[0m\n",
      "\u001b[0;31mgaierror\u001b[0m: [Errno 8] nodename nor servname provided, or not known",
      "\nDuring handling of the above exception, another exception occurred:\n",
      "\u001b[0;31mNewConnectionError\u001b[0m                        Traceback (most recent call last)",
      "\u001b[0;32m/Users/Annamira/anaconda/lib/python3.6/site-packages/requests/packages/urllib3/connectionpool.py\u001b[0m in \u001b[0;36murlopen\u001b[0;34m(self, method, url, body, headers, retries, redirect, assert_same_host, timeout, pool_timeout, release_conn, chunked, **response_kw)\u001b[0m\n\u001b[1;32m    593\u001b[0m                                                   \u001b[0mbody\u001b[0m\u001b[0;34m=\u001b[0m\u001b[0mbody\u001b[0m\u001b[0;34m,\u001b[0m \u001b[0mheaders\u001b[0m\u001b[0;34m=\u001b[0m\u001b[0mheaders\u001b[0m\u001b[0;34m,\u001b[0m\u001b[0;34m\u001b[0m\u001b[0m\n\u001b[0;32m--> 594\u001b[0;31m                                                   chunked=chunked)\n\u001b[0m\u001b[1;32m    595\u001b[0m \u001b[0;34m\u001b[0m\u001b[0m\n",
      "\u001b[0;32m/Users/Annamira/anaconda/lib/python3.6/site-packages/requests/packages/urllib3/connectionpool.py\u001b[0m in \u001b[0;36m_make_request\u001b[0;34m(self, conn, method, url, timeout, chunked, **httplib_request_kw)\u001b[0m\n\u001b[1;32m    360\u001b[0m         \u001b[0;32melse\u001b[0m\u001b[0;34m:\u001b[0m\u001b[0;34m\u001b[0m\u001b[0m\n\u001b[0;32m--> 361\u001b[0;31m             \u001b[0mconn\u001b[0m\u001b[0;34m.\u001b[0m\u001b[0mrequest\u001b[0m\u001b[0;34m(\u001b[0m\u001b[0mmethod\u001b[0m\u001b[0;34m,\u001b[0m \u001b[0murl\u001b[0m\u001b[0;34m,\u001b[0m \u001b[0;34m**\u001b[0m\u001b[0mhttplib_request_kw\u001b[0m\u001b[0;34m)\u001b[0m\u001b[0;34m\u001b[0m\u001b[0m\n\u001b[0m\u001b[1;32m    362\u001b[0m \u001b[0;34m\u001b[0m\u001b[0m\n",
      "\u001b[0;32m/Users/Annamira/anaconda/lib/python3.6/http/client.py\u001b[0m in \u001b[0;36mrequest\u001b[0;34m(self, method, url, body, headers, encode_chunked)\u001b[0m\n\u001b[1;32m   1238\u001b[0m         \u001b[0;34m\"\"\"Send a complete request to the server.\"\"\"\u001b[0m\u001b[0;34m\u001b[0m\u001b[0m\n\u001b[0;32m-> 1239\u001b[0;31m         \u001b[0mself\u001b[0m\u001b[0;34m.\u001b[0m\u001b[0m_send_request\u001b[0m\u001b[0;34m(\u001b[0m\u001b[0mmethod\u001b[0m\u001b[0;34m,\u001b[0m \u001b[0murl\u001b[0m\u001b[0;34m,\u001b[0m \u001b[0mbody\u001b[0m\u001b[0;34m,\u001b[0m \u001b[0mheaders\u001b[0m\u001b[0;34m,\u001b[0m \u001b[0mencode_chunked\u001b[0m\u001b[0;34m)\u001b[0m\u001b[0;34m\u001b[0m\u001b[0m\n\u001b[0m\u001b[1;32m   1240\u001b[0m \u001b[0;34m\u001b[0m\u001b[0m\n",
      "\u001b[0;32m/Users/Annamira/anaconda/lib/python3.6/http/client.py\u001b[0m in \u001b[0;36m_send_request\u001b[0;34m(self, method, url, body, headers, encode_chunked)\u001b[0m\n\u001b[1;32m   1284\u001b[0m             \u001b[0mbody\u001b[0m \u001b[0;34m=\u001b[0m \u001b[0m_encode\u001b[0m\u001b[0;34m(\u001b[0m\u001b[0mbody\u001b[0m\u001b[0;34m,\u001b[0m \u001b[0;34m'body'\u001b[0m\u001b[0;34m)\u001b[0m\u001b[0;34m\u001b[0m\u001b[0m\n\u001b[0;32m-> 1285\u001b[0;31m         \u001b[0mself\u001b[0m\u001b[0;34m.\u001b[0m\u001b[0mendheaders\u001b[0m\u001b[0;34m(\u001b[0m\u001b[0mbody\u001b[0m\u001b[0;34m,\u001b[0m \u001b[0mencode_chunked\u001b[0m\u001b[0;34m=\u001b[0m\u001b[0mencode_chunked\u001b[0m\u001b[0;34m)\u001b[0m\u001b[0;34m\u001b[0m\u001b[0m\n\u001b[0m\u001b[1;32m   1286\u001b[0m \u001b[0;34m\u001b[0m\u001b[0m\n",
      "\u001b[0;32m/Users/Annamira/anaconda/lib/python3.6/http/client.py\u001b[0m in \u001b[0;36mendheaders\u001b[0;34m(self, message_body, encode_chunked)\u001b[0m\n\u001b[1;32m   1233\u001b[0m             \u001b[0;32mraise\u001b[0m \u001b[0mCannotSendHeader\u001b[0m\u001b[0;34m(\u001b[0m\u001b[0;34m)\u001b[0m\u001b[0;34m\u001b[0m\u001b[0m\n\u001b[0;32m-> 1234\u001b[0;31m         \u001b[0mself\u001b[0m\u001b[0;34m.\u001b[0m\u001b[0m_send_output\u001b[0m\u001b[0;34m(\u001b[0m\u001b[0mmessage_body\u001b[0m\u001b[0;34m,\u001b[0m \u001b[0mencode_chunked\u001b[0m\u001b[0;34m=\u001b[0m\u001b[0mencode_chunked\u001b[0m\u001b[0;34m)\u001b[0m\u001b[0;34m\u001b[0m\u001b[0m\n\u001b[0m\u001b[1;32m   1235\u001b[0m \u001b[0;34m\u001b[0m\u001b[0m\n",
      "\u001b[0;32m/Users/Annamira/anaconda/lib/python3.6/http/client.py\u001b[0m in \u001b[0;36m_send_output\u001b[0;34m(self, message_body, encode_chunked)\u001b[0m\n\u001b[1;32m   1025\u001b[0m         \u001b[0;32mdel\u001b[0m \u001b[0mself\u001b[0m\u001b[0;34m.\u001b[0m\u001b[0m_buffer\u001b[0m\u001b[0;34m[\u001b[0m\u001b[0;34m:\u001b[0m\u001b[0;34m]\u001b[0m\u001b[0;34m\u001b[0m\u001b[0m\n\u001b[0;32m-> 1026\u001b[0;31m         \u001b[0mself\u001b[0m\u001b[0;34m.\u001b[0m\u001b[0msend\u001b[0m\u001b[0;34m(\u001b[0m\u001b[0mmsg\u001b[0m\u001b[0;34m)\u001b[0m\u001b[0;34m\u001b[0m\u001b[0m\n\u001b[0m\u001b[1;32m   1027\u001b[0m \u001b[0;34m\u001b[0m\u001b[0m\n",
      "\u001b[0;32m/Users/Annamira/anaconda/lib/python3.6/http/client.py\u001b[0m in \u001b[0;36msend\u001b[0;34m(self, data)\u001b[0m\n\u001b[1;32m    963\u001b[0m             \u001b[0;32mif\u001b[0m \u001b[0mself\u001b[0m\u001b[0;34m.\u001b[0m\u001b[0mauto_open\u001b[0m\u001b[0;34m:\u001b[0m\u001b[0;34m\u001b[0m\u001b[0m\n\u001b[0;32m--> 964\u001b[0;31m                 \u001b[0mself\u001b[0m\u001b[0;34m.\u001b[0m\u001b[0mconnect\u001b[0m\u001b[0;34m(\u001b[0m\u001b[0;34m)\u001b[0m\u001b[0;34m\u001b[0m\u001b[0m\n\u001b[0m\u001b[1;32m    965\u001b[0m             \u001b[0;32melse\u001b[0m\u001b[0;34m:\u001b[0m\u001b[0;34m\u001b[0m\u001b[0m\n",
      "\u001b[0;32m/Users/Annamira/anaconda/lib/python3.6/site-packages/requests/packages/urllib3/connection.py\u001b[0m in \u001b[0;36mconnect\u001b[0;34m(self)\u001b[0m\n\u001b[1;32m    162\u001b[0m     \u001b[0;32mdef\u001b[0m \u001b[0mconnect\u001b[0m\u001b[0;34m(\u001b[0m\u001b[0mself\u001b[0m\u001b[0;34m)\u001b[0m\u001b[0;34m:\u001b[0m\u001b[0;34m\u001b[0m\u001b[0m\n\u001b[0;32m--> 163\u001b[0;31m         \u001b[0mconn\u001b[0m \u001b[0;34m=\u001b[0m \u001b[0mself\u001b[0m\u001b[0;34m.\u001b[0m\u001b[0m_new_conn\u001b[0m\u001b[0;34m(\u001b[0m\u001b[0;34m)\u001b[0m\u001b[0;34m\u001b[0m\u001b[0m\n\u001b[0m\u001b[1;32m    164\u001b[0m         \u001b[0mself\u001b[0m\u001b[0;34m.\u001b[0m\u001b[0m_prepare_conn\u001b[0m\u001b[0;34m(\u001b[0m\u001b[0mconn\u001b[0m\u001b[0;34m)\u001b[0m\u001b[0;34m\u001b[0m\u001b[0m\n",
      "\u001b[0;32m/Users/Annamira/anaconda/lib/python3.6/site-packages/requests/packages/urllib3/connection.py\u001b[0m in \u001b[0;36m_new_conn\u001b[0;34m(self)\u001b[0m\n\u001b[1;32m    146\u001b[0m             raise NewConnectionError(\n\u001b[0;32m--> 147\u001b[0;31m                 self, \"Failed to establish a new connection: %s\" % e)\n\u001b[0m\u001b[1;32m    148\u001b[0m \u001b[0;34m\u001b[0m\u001b[0m\n",
      "\u001b[0;31mNewConnectionError\u001b[0m: <requests.packages.urllib3.connection.HTTPConnection object at 0x1119a7a90>: Failed to establish a new connection: [Errno 8] nodename nor servname provided, or not known",
      "\nDuring handling of the above exception, another exception occurred:\n",
      "\u001b[0;31mMaxRetryError\u001b[0m                             Traceback (most recent call last)",
      "\u001b[0;32m/Users/Annamira/anaconda/lib/python3.6/site-packages/requests/adapters.py\u001b[0m in \u001b[0;36msend\u001b[0;34m(self, request, stream, timeout, verify, cert, proxies)\u001b[0m\n\u001b[1;32m    422\u001b[0m                     \u001b[0mretries\u001b[0m\u001b[0;34m=\u001b[0m\u001b[0mself\u001b[0m\u001b[0;34m.\u001b[0m\u001b[0mmax_retries\u001b[0m\u001b[0;34m,\u001b[0m\u001b[0;34m\u001b[0m\u001b[0m\n\u001b[0;32m--> 423\u001b[0;31m                     \u001b[0mtimeout\u001b[0m\u001b[0;34m=\u001b[0m\u001b[0mtimeout\u001b[0m\u001b[0;34m\u001b[0m\u001b[0m\n\u001b[0m\u001b[1;32m    424\u001b[0m                 )\n",
      "\u001b[0;32m/Users/Annamira/anaconda/lib/python3.6/site-packages/requests/packages/urllib3/connectionpool.py\u001b[0m in \u001b[0;36murlopen\u001b[0;34m(self, method, url, body, headers, retries, redirect, assert_same_host, timeout, pool_timeout, release_conn, chunked, **response_kw)\u001b[0m\n\u001b[1;32m    642\u001b[0m             retries = retries.increment(method, url, error=e, _pool=self,\n\u001b[0;32m--> 643\u001b[0;31m                                         _stacktrace=sys.exc_info()[2])\n\u001b[0m\u001b[1;32m    644\u001b[0m             \u001b[0mretries\u001b[0m\u001b[0;34m.\u001b[0m\u001b[0msleep\u001b[0m\u001b[0;34m(\u001b[0m\u001b[0;34m)\u001b[0m\u001b[0;34m\u001b[0m\u001b[0m\n",
      "\u001b[0;32m/Users/Annamira/anaconda/lib/python3.6/site-packages/requests/packages/urllib3/util/retry.py\u001b[0m in \u001b[0;36mincrement\u001b[0;34m(self, method, url, response, error, _pool, _stacktrace)\u001b[0m\n\u001b[1;32m    362\u001b[0m         \u001b[0;32mif\u001b[0m \u001b[0mnew_retry\u001b[0m\u001b[0;34m.\u001b[0m\u001b[0mis_exhausted\u001b[0m\u001b[0;34m(\u001b[0m\u001b[0;34m)\u001b[0m\u001b[0;34m:\u001b[0m\u001b[0;34m\u001b[0m\u001b[0m\n\u001b[0;32m--> 363\u001b[0;31m             \u001b[0;32mraise\u001b[0m \u001b[0mMaxRetryError\u001b[0m\u001b[0;34m(\u001b[0m\u001b[0m_pool\u001b[0m\u001b[0;34m,\u001b[0m \u001b[0murl\u001b[0m\u001b[0;34m,\u001b[0m \u001b[0merror\u001b[0m \u001b[0;32mor\u001b[0m \u001b[0mResponseError\u001b[0m\u001b[0;34m(\u001b[0m\u001b[0mcause\u001b[0m\u001b[0;34m)\u001b[0m\u001b[0;34m)\u001b[0m\u001b[0;34m\u001b[0m\u001b[0m\n\u001b[0m\u001b[1;32m    364\u001b[0m \u001b[0;34m\u001b[0m\u001b[0m\n",
      "\u001b[0;31mMaxRetryError\u001b[0m: HTTPConnectionPool(host='api.wunderground.com', port=80): Max retries exceeded with url: /api/f71059696f42912d/forecast/geolookup/conditions/q/MA/Boston.json (Caused by NewConnectionError('<requests.packages.urllib3.connection.HTTPConnection object at 0x1119a7a90>: Failed to establish a new connection: [Errno 8] nodename nor servname provided, or not known',))",
      "\nDuring handling of the above exception, another exception occurred:\n",
      "\u001b[0;31mConnectionError\u001b[0m                           Traceback (most recent call last)",
      "\u001b[0;32m<ipython-input-177-a8cb35398631>\u001b[0m in \u001b[0;36m<module>\u001b[0;34m()\u001b[0m\n\u001b[1;32m     12\u001b[0m         \u001b[0mcollect_time_str\u001b[0m \u001b[0;34m=\u001b[0m \u001b[0mhold\u001b[0m\u001b[0;34m[\u001b[0m\u001b[0;36m0\u001b[0m\u001b[0;34m]\u001b[0m\u001b[0;34m\u001b[0m\u001b[0m\n\u001b[1;32m     13\u001b[0m         \u001b[0mcollect_hr_int\u001b[0m \u001b[0;34m=\u001b[0m \u001b[0mhold\u001b[0m\u001b[0;34m[\u001b[0m\u001b[0;36m1\u001b[0m\u001b[0;34m]\u001b[0m\u001b[0;34m\u001b[0m\u001b[0m\n\u001b[0;32m---> 14\u001b[0;31m         \u001b[0mdata\u001b[0m \u001b[0;34m=\u001b[0m \u001b[0mget_json\u001b[0m\u001b[0;34m(\u001b[0m\u001b[0;34m)\u001b[0m\u001b[0;34m\u001b[0m\u001b[0m\n\u001b[0m\u001b[1;32m     15\u001b[0m         \u001b[0mprint\u001b[0m\u001b[0;34m(\u001b[0m\u001b[0;34m'got json'\u001b[0m \u001b[0;34m+\u001b[0m \u001b[0mcollect_time_str\u001b[0m\u001b[0;34m)\u001b[0m\u001b[0;34m\u001b[0m\u001b[0m\n\u001b[1;32m     16\u001b[0m         \u001b[0madd_to_dict\u001b[0m\u001b[0;34m(\u001b[0m\u001b[0mdata\u001b[0m\u001b[0;34m)\u001b[0m\u001b[0;34m\u001b[0m\u001b[0m\n",
      "\u001b[0;32m<ipython-input-170-15e9d9da6442>\u001b[0m in \u001b[0;36mget_json\u001b[0;34m()\u001b[0m\n\u001b[1;32m      9\u001b[0m \u001b[0;34m\u001b[0m\u001b[0m\n\u001b[1;32m     10\u001b[0m \u001b[0;32mdef\u001b[0m \u001b[0mget_json\u001b[0m\u001b[0;34m(\u001b[0m\u001b[0;34m)\u001b[0m\u001b[0;34m:\u001b[0m\u001b[0;34m\u001b[0m\u001b[0m\n\u001b[0;32m---> 11\u001b[0;31m     \u001b[0mpage\u001b[0m \u001b[0;34m=\u001b[0m \u001b[0mrequests\u001b[0m\u001b[0;34m.\u001b[0m\u001b[0mget\u001b[0m\u001b[0;34m(\u001b[0m\u001b[0;34m'http://api.wunderground.com/api/f71059696f42912d/forecast/geolookup/conditions/q/MA/Boston.json'\u001b[0m\u001b[0;34m)\u001b[0m\u001b[0;34m\u001b[0m\u001b[0m\n\u001b[0m\u001b[1;32m     12\u001b[0m     \u001b[0mdata\u001b[0m \u001b[0;34m=\u001b[0m \u001b[0mjson\u001b[0m\u001b[0;34m.\u001b[0m\u001b[0mloads\u001b[0m\u001b[0;34m(\u001b[0m\u001b[0mpage\u001b[0m\u001b[0;34m.\u001b[0m\u001b[0mcontent\u001b[0m\u001b[0;34m)\u001b[0m\u001b[0;34m\u001b[0m\u001b[0m\n\u001b[1;32m     13\u001b[0m     \u001b[0;32mreturn\u001b[0m \u001b[0mdata\u001b[0m\u001b[0;34m\u001b[0m\u001b[0m\n",
      "\u001b[0;32m/Users/Annamira/anaconda/lib/python3.6/site-packages/requests/api.py\u001b[0m in \u001b[0;36mget\u001b[0;34m(url, params, **kwargs)\u001b[0m\n\u001b[1;32m     68\u001b[0m \u001b[0;34m\u001b[0m\u001b[0m\n\u001b[1;32m     69\u001b[0m     \u001b[0mkwargs\u001b[0m\u001b[0;34m.\u001b[0m\u001b[0msetdefault\u001b[0m\u001b[0;34m(\u001b[0m\u001b[0;34m'allow_redirects'\u001b[0m\u001b[0;34m,\u001b[0m \u001b[0;32mTrue\u001b[0m\u001b[0;34m)\u001b[0m\u001b[0;34m\u001b[0m\u001b[0m\n\u001b[0;32m---> 70\u001b[0;31m     \u001b[0;32mreturn\u001b[0m \u001b[0mrequest\u001b[0m\u001b[0;34m(\u001b[0m\u001b[0;34m'get'\u001b[0m\u001b[0;34m,\u001b[0m \u001b[0murl\u001b[0m\u001b[0;34m,\u001b[0m \u001b[0mparams\u001b[0m\u001b[0;34m=\u001b[0m\u001b[0mparams\u001b[0m\u001b[0;34m,\u001b[0m \u001b[0;34m**\u001b[0m\u001b[0mkwargs\u001b[0m\u001b[0;34m)\u001b[0m\u001b[0;34m\u001b[0m\u001b[0m\n\u001b[0m\u001b[1;32m     71\u001b[0m \u001b[0;34m\u001b[0m\u001b[0m\n\u001b[1;32m     72\u001b[0m \u001b[0;34m\u001b[0m\u001b[0m\n",
      "\u001b[0;32m/Users/Annamira/anaconda/lib/python3.6/site-packages/requests/api.py\u001b[0m in \u001b[0;36mrequest\u001b[0;34m(method, url, **kwargs)\u001b[0m\n\u001b[1;32m     54\u001b[0m     \u001b[0;31m# cases, and look like a memory leak in others.\u001b[0m\u001b[0;34m\u001b[0m\u001b[0;34m\u001b[0m\u001b[0m\n\u001b[1;32m     55\u001b[0m     \u001b[0;32mwith\u001b[0m \u001b[0msessions\u001b[0m\u001b[0;34m.\u001b[0m\u001b[0mSession\u001b[0m\u001b[0;34m(\u001b[0m\u001b[0;34m)\u001b[0m \u001b[0;32mas\u001b[0m \u001b[0msession\u001b[0m\u001b[0;34m:\u001b[0m\u001b[0;34m\u001b[0m\u001b[0m\n\u001b[0;32m---> 56\u001b[0;31m         \u001b[0;32mreturn\u001b[0m \u001b[0msession\u001b[0m\u001b[0;34m.\u001b[0m\u001b[0mrequest\u001b[0m\u001b[0;34m(\u001b[0m\u001b[0mmethod\u001b[0m\u001b[0;34m=\u001b[0m\u001b[0mmethod\u001b[0m\u001b[0;34m,\u001b[0m \u001b[0murl\u001b[0m\u001b[0;34m=\u001b[0m\u001b[0murl\u001b[0m\u001b[0;34m,\u001b[0m \u001b[0;34m**\u001b[0m\u001b[0mkwargs\u001b[0m\u001b[0;34m)\u001b[0m\u001b[0;34m\u001b[0m\u001b[0m\n\u001b[0m\u001b[1;32m     57\u001b[0m \u001b[0;34m\u001b[0m\u001b[0m\n\u001b[1;32m     58\u001b[0m \u001b[0;34m\u001b[0m\u001b[0m\n",
      "\u001b[0;32m/Users/Annamira/anaconda/lib/python3.6/site-packages/requests/sessions.py\u001b[0m in \u001b[0;36mrequest\u001b[0;34m(self, method, url, params, data, headers, cookies, files, auth, timeout, allow_redirects, proxies, hooks, stream, verify, cert, json)\u001b[0m\n\u001b[1;32m    486\u001b[0m         }\n\u001b[1;32m    487\u001b[0m         \u001b[0msend_kwargs\u001b[0m\u001b[0;34m.\u001b[0m\u001b[0mupdate\u001b[0m\u001b[0;34m(\u001b[0m\u001b[0msettings\u001b[0m\u001b[0;34m)\u001b[0m\u001b[0;34m\u001b[0m\u001b[0m\n\u001b[0;32m--> 488\u001b[0;31m         \u001b[0mresp\u001b[0m \u001b[0;34m=\u001b[0m \u001b[0mself\u001b[0m\u001b[0;34m.\u001b[0m\u001b[0msend\u001b[0m\u001b[0;34m(\u001b[0m\u001b[0mprep\u001b[0m\u001b[0;34m,\u001b[0m \u001b[0;34m**\u001b[0m\u001b[0msend_kwargs\u001b[0m\u001b[0;34m)\u001b[0m\u001b[0;34m\u001b[0m\u001b[0m\n\u001b[0m\u001b[1;32m    489\u001b[0m \u001b[0;34m\u001b[0m\u001b[0m\n\u001b[1;32m    490\u001b[0m         \u001b[0;32mreturn\u001b[0m \u001b[0mresp\u001b[0m\u001b[0;34m\u001b[0m\u001b[0m\n",
      "\u001b[0;32m/Users/Annamira/anaconda/lib/python3.6/site-packages/requests/sessions.py\u001b[0m in \u001b[0;36msend\u001b[0;34m(self, request, **kwargs)\u001b[0m\n\u001b[1;32m    607\u001b[0m \u001b[0;34m\u001b[0m\u001b[0m\n\u001b[1;32m    608\u001b[0m         \u001b[0;31m# Send the request\u001b[0m\u001b[0;34m\u001b[0m\u001b[0;34m\u001b[0m\u001b[0m\n\u001b[0;32m--> 609\u001b[0;31m         \u001b[0mr\u001b[0m \u001b[0;34m=\u001b[0m \u001b[0madapter\u001b[0m\u001b[0;34m.\u001b[0m\u001b[0msend\u001b[0m\u001b[0;34m(\u001b[0m\u001b[0mrequest\u001b[0m\u001b[0;34m,\u001b[0m \u001b[0;34m**\u001b[0m\u001b[0mkwargs\u001b[0m\u001b[0;34m)\u001b[0m\u001b[0;34m\u001b[0m\u001b[0m\n\u001b[0m\u001b[1;32m    610\u001b[0m \u001b[0;34m\u001b[0m\u001b[0m\n\u001b[1;32m    611\u001b[0m         \u001b[0;31m# Total elapsed time of the request (approximately)\u001b[0m\u001b[0;34m\u001b[0m\u001b[0;34m\u001b[0m\u001b[0m\n",
      "\u001b[0;32m/Users/Annamira/anaconda/lib/python3.6/site-packages/requests/adapters.py\u001b[0m in \u001b[0;36msend\u001b[0;34m(self, request, stream, timeout, verify, cert, proxies)\u001b[0m\n\u001b[1;32m    485\u001b[0m                 \u001b[0;32mraise\u001b[0m \u001b[0mProxyError\u001b[0m\u001b[0;34m(\u001b[0m\u001b[0me\u001b[0m\u001b[0;34m,\u001b[0m \u001b[0mrequest\u001b[0m\u001b[0;34m=\u001b[0m\u001b[0mrequest\u001b[0m\u001b[0;34m)\u001b[0m\u001b[0;34m\u001b[0m\u001b[0m\n\u001b[1;32m    486\u001b[0m \u001b[0;34m\u001b[0m\u001b[0m\n\u001b[0;32m--> 487\u001b[0;31m             \u001b[0;32mraise\u001b[0m \u001b[0mConnectionError\u001b[0m\u001b[0;34m(\u001b[0m\u001b[0me\u001b[0m\u001b[0;34m,\u001b[0m \u001b[0mrequest\u001b[0m\u001b[0;34m=\u001b[0m\u001b[0mrequest\u001b[0m\u001b[0;34m)\u001b[0m\u001b[0;34m\u001b[0m\u001b[0m\n\u001b[0m\u001b[1;32m    488\u001b[0m \u001b[0;34m\u001b[0m\u001b[0m\n\u001b[1;32m    489\u001b[0m         \u001b[0;32mexcept\u001b[0m \u001b[0mClosedPoolError\u001b[0m \u001b[0;32mas\u001b[0m \u001b[0me\u001b[0m\u001b[0;34m:\u001b[0m\u001b[0;34m\u001b[0m\u001b[0m\n",
      "\u001b[0;31mConnectionError\u001b[0m: HTTPConnectionPool(host='api.wunderground.com', port=80): Max retries exceeded with url: /api/f71059696f42912d/forecast/geolookup/conditions/q/MA/Boston.json (Caused by NewConnectionError('<requests.packages.urllib3.connection.HTTPConnection object at 0x1119a7a90>: Failed to establish a new connection: [Errno 8] nodename nor servname provided, or not known',))"
     ]
    }
   ],
   "source": [
    "test_length = 5\n",
    "time_not_expired = True\n",
    "\n",
    "file = open('wunderground_data_test/fifth_5min_test', 'w')\n",
    "\n",
    "prev_time = time\n",
    "while time_not_expired:\n",
    "    temp_time = datetime.now()\n",
    "    if get_datetime_min(temp_time) != get_datetime_min(prev_time):\n",
    "        time = update_time()\n",
    "        hold = update_collect_time()\n",
    "        collect_time_str = hold[0]\n",
    "        collect_hr_int = hold[1]\n",
    "        data = get_json()\n",
    "        print('got json' + collect_time_str)\n",
    "        add_to_dict(data)\n",
    "    time_passed = temp_time - start_time\n",
    "    time_not_expired = (get_timedelta_mins(time_passed) != test_length)\n",
    "    prev_time = temp_time\n",
    "\n",
    "# write_file(dictionary)\n",
    "json.dump(dictionary, file)\n",
    "\n",
    "print('done')"
   ]
  },
  {
   "cell_type": "markdown",
   "metadata": {},
   "source": [
    "<h3> Miscellaneous scraps of code: </h3>"
   ]
  },
  {
   "cell_type": "code",
   "execution_count": 180,
   "metadata": {
    "scrolled": true
   },
   "outputs": [],
   "source": [
    "file.close()"
   ]
  },
  {
   "cell_type": "code",
   "execution_count": 32,
   "metadata": {
    "scrolled": true
   },
   "outputs": [
    {
     "name": "stdout",
     "output_type": "stream",
     "text": [
      "dict_keys(['response', 'location', 'current_observation', 'forecast'])\n"
     ]
    },
    {
     "data": {
      "text/plain": [
       "dict_keys(['image', 'display_location', 'observation_location', 'estimated', 'station_id', 'observation_time', 'observation_time_rfc822', 'observation_epoch', 'local_time_rfc822', 'local_epoch', 'local_tz_short', 'local_tz_long', 'local_tz_offset', 'weather', 'temperature_string', 'temp_f', 'temp_c', 'relative_humidity', 'wind_string', 'wind_dir', 'wind_degrees', 'wind_mph', 'wind_gust_mph', 'wind_kph', 'wind_gust_kph', 'pressure_mb', 'pressure_in', 'pressure_trend', 'dewpoint_string', 'dewpoint_f', 'dewpoint_c', 'heat_index_string', 'heat_index_f', 'heat_index_c', 'windchill_string', 'windchill_f', 'windchill_c', 'feelslike_string', 'feelslike_f', 'feelslike_c', 'visibility_mi', 'visibility_km', 'solarradiation', 'UV', 'precip_1hr_string', 'precip_1hr_in', 'precip_1hr_metric', 'precip_today_string', 'precip_today_in', 'precip_today_metric', 'icon', 'icon_url', 'forecast_url', 'history_url', 'ob_url', 'nowcast'])"
      ]
     },
     "execution_count": 32,
     "metadata": {},
     "output_type": "execute_result"
    }
   ],
   "source": [
    "#for k, v in dictionary.items():\n",
    "    #print(k, v)\n",
    "\n",
    "print(dictionary.keys())\n",
    "dictionary['current_observation'].keys()"
   ]
  }
 ],
 "metadata": {
  "kernelspec": {
   "display_name": "Python 3",
   "language": "python",
   "name": "python3"
  },
  "language_info": {
   "codemirror_mode": {
    "name": "ipython",
    "version": 3
   },
   "file_extension": ".py",
   "mimetype": "text/x-python",
   "name": "python",
   "nbconvert_exporter": "python",
   "pygments_lexer": "ipython3",
   "version": "3.6.0"
  }
 },
 "nbformat": 4,
 "nbformat_minor": 2
}
