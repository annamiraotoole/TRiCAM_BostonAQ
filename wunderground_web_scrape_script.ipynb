{
 "cells": [
  {
   "cell_type": "code",
   "execution_count": 62,
   "metadata": {},
   "outputs": [],
   "source": [
    "import numpy as np\n",
    "import matplotlib\n",
    "import matplotlib.pyplot as plt\n",
    "import random\n",
    "from mpl_toolkits.mplot3d import Axes3D\n",
    "from bs4 import BeautifulSoup\n",
    "import urllib\n",
    "import json\n",
    "import requests\n",
    "import datetime\n",
    "# import dicttoxml\n",
    "%matplotlib inline"
   ]
  },
  {
   "cell_type": "code",
   "execution_count": 80,
   "metadata": {},
   "outputs": [],
   "source": [
    "# set variables/initialize data structures once per week at top of hour\n",
    "\n",
    "dictionary = {}\n",
    "\n",
    "time = datetime.datetime.now()\n",
    "\n",
    "week_str = datetime.datetime.strftime(time, \"%W\")\n",
    "week_int = int(week_str)\n",
    "\n",
    "collect_time_str = datetime.datetime.strftime(time, \"%m-%d-%H\")\n",
    "collect_hr_int = int(collect_time_str[-2:])\n",
    "\n",
    "# file = open('wunderground_data/' + collect_time_str + '.json', 'w')\n",
    "\n",
    "# read initial wunderground json page\n",
    "\n",
    "# data = get_json()\n",
    "# add_to_dict(data)\n"
   ]
  },
  {
   "cell_type": "code",
   "execution_count": 65,
   "metadata": {
    "collapsed": true
   },
   "outputs": [],
   "source": [
    "# define functions\n",
    "\n",
    "def update_time():\n",
    "    time = datetime.datetime.now()\n",
    "    \n",
    "def update_collect_time():\n",
    "    collect_time_str = datetime.datetime.strftime(time, \"%m-%d-%H\")\n",
    "    collect_hr_int = int(collect_time_str[-2:])\n",
    "\n",
    "def get_json():\n",
    "    page = requests.get('http://api.wunderground.com/api/f71059696f42912d/forecast/geolookup/conditions/q/MA/Boston.json')\n",
    "    data = json.loads(page.content)\n",
    "    return data\n",
    "\n",
    "def add_to_dict(data):\n",
    "    key = str(collect_time_str)\n",
    "    dictionary[key] = data\n",
    "\n",
    "def write_file(dictionary):\n",
    "    # writing into file\n",
    "    json.dump(dictionary, file)\n"
   ]
  },
  {
   "cell_type": "code",
   "execution_count": null,
   "metadata": {
    "collapsed": true
   },
   "outputs": [],
   "source": [
    "# main code for one week of data -- NOT FINISHED\n",
    "\n",
    "init_time = datetime.datetime.now()\n",
    "init_time_min = int(datetime.datetime.strftime(init_time, \"%M\"))\n",
    "end_time = 59\n",
    "time_not_expired = True\n",
    "\n",
    "prev_min = init_time_min\n",
    "while time_not_expired:\n",
    "    temp_time = datetime.datetime.now()\n",
    "    temp_time_min = int(datetime.datetime.strftime(temp_time, \"%M\"))\n",
    "    time_not_expired = (temp_time_min - init_time_min) != end_time\n",
    "    prev_min = temp_time_min\n",
    "\n",
    "mypage = requests.get('http://api.wunderground.com/api/f71059696f42912d/forecast/geolookup/conditions/q/MA/Boston.json')\n",
    "dictionary = json.loads(mypage.content)\n",
    "    \n",
    "print('done')"
   ]
  },
  {
   "cell_type": "code",
   "execution_count": 81,
   "metadata": {
    "scrolled": false
   },
   "outputs": [
    {
     "name": "stdout",
     "output_type": "stream",
     "text": [
      "done\n"
     ]
    }
   ],
   "source": [
    "# 5 minute test\n",
    "\n",
    "file = open('wunderground_data_test/second_5min_test', 'a')\n",
    "\n",
    "min = int(datetime.datetime.strftime(time, \"%M\"))\n",
    "end_time = 3\n",
    "time_not_expired = True\n",
    "\n",
    "prev_min = min\n",
    "while time_not_expired:\n",
    "    temp_time = datetime.datetime.now()\n",
    "    temp_min = int(datetime.datetime.strftime(temp_time, \"%M\"))\n",
    "    if prev_min != temp_time_min:\n",
    "        update_time()\n",
    "        update_collect_time()\n",
    "        data = get_json()\n",
    "        add_to_dict(data)  \n",
    "    time_not_expired = (temp_min - min) != end_time\n",
    "    prev_min = temp_min\n",
    "\n",
    "write_file(dictionary)\n",
    "print('done')"
   ]
  },
  {
   "cell_type": "code",
   "execution_count": 74,
   "metadata": {},
   "outputs": [
    {
     "ename": "UnsupportedOperation",
     "evalue": "not readable",
     "output_type": "error",
     "traceback": [
      "\u001b[0;31m---------------------------------------------------------------------------\u001b[0m",
      "\u001b[0;31mUnsupportedOperation\u001b[0m                      Traceback (most recent call last)",
      "\u001b[0;32m<ipython-input-74-fe8831d4e4a0>\u001b[0m in \u001b[0;36m<module>\u001b[0;34m()\u001b[0m\n\u001b[0;32m----> 1\u001b[0;31m \u001b[0;32mfor\u001b[0m \u001b[0mline\u001b[0m \u001b[0;32min\u001b[0m \u001b[0mfile\u001b[0m\u001b[0;34m:\u001b[0m\u001b[0;34m\u001b[0m\u001b[0m\n\u001b[0m\u001b[1;32m      2\u001b[0m     \u001b[0mprint\u001b[0m\u001b[0;34m(\u001b[0m\u001b[0mline\u001b[0m\u001b[0;34m,\u001b[0m \u001b[0mend\u001b[0m\u001b[0;34m=\u001b[0m\u001b[0;34m'/n'\u001b[0m\u001b[0;34m)\u001b[0m\u001b[0;34m\u001b[0m\u001b[0m\n",
      "\u001b[0;31mUnsupportedOperation\u001b[0m: not readable"
     ]
    }
   ],
   "source": [
    "for line in file:\n",
    "    print(line, end='/n')"
   ]
  },
  {
   "cell_type": "code",
   "execution_count": 32,
   "metadata": {
    "scrolled": true
   },
   "outputs": [
    {
     "name": "stdout",
     "output_type": "stream",
     "text": [
      "dict_keys(['response', 'location', 'current_observation', 'forecast'])\n"
     ]
    },
    {
     "data": {
      "text/plain": [
       "dict_keys(['image', 'display_location', 'observation_location', 'estimated', 'station_id', 'observation_time', 'observation_time_rfc822', 'observation_epoch', 'local_time_rfc822', 'local_epoch', 'local_tz_short', 'local_tz_long', 'local_tz_offset', 'weather', 'temperature_string', 'temp_f', 'temp_c', 'relative_humidity', 'wind_string', 'wind_dir', 'wind_degrees', 'wind_mph', 'wind_gust_mph', 'wind_kph', 'wind_gust_kph', 'pressure_mb', 'pressure_in', 'pressure_trend', 'dewpoint_string', 'dewpoint_f', 'dewpoint_c', 'heat_index_string', 'heat_index_f', 'heat_index_c', 'windchill_string', 'windchill_f', 'windchill_c', 'feelslike_string', 'feelslike_f', 'feelslike_c', 'visibility_mi', 'visibility_km', 'solarradiation', 'UV', 'precip_1hr_string', 'precip_1hr_in', 'precip_1hr_metric', 'precip_today_string', 'precip_today_in', 'precip_today_metric', 'icon', 'icon_url', 'forecast_url', 'history_url', 'ob_url', 'nowcast'])"
      ]
     },
     "execution_count": 32,
     "metadata": {},
     "output_type": "execute_result"
    }
   ],
   "source": [
    "#for k, v in dictionary.items():\n",
    "    #print(k, v)\n",
    "\n",
    "print(dictionary.keys())\n",
    "dictionary['current_observation'].keys()"
   ]
  },
  {
   "cell_type": "code",
   "execution_count": 75,
   "metadata": {},
   "outputs": [],
   "source": [
    "open?"
   ]
  },
  {
   "cell_type": "code",
   "execution_count": null,
   "metadata": {
    "collapsed": true
   },
   "outputs": [],
   "source": []
  }
 ],
 "metadata": {
  "kernelspec": {
   "display_name": "Python 3",
   "language": "python",
   "name": "python3"
  },
  "language_info": {
   "codemirror_mode": {
    "name": "ipython",
    "version": 3
   },
   "file_extension": ".py",
   "mimetype": "text/x-python",
   "name": "python",
   "nbconvert_exporter": "python",
   "pygments_lexer": "ipython3",
   "version": "3.6.0"
  }
 },
 "nbformat": 4,
 "nbformat_minor": 2
}
