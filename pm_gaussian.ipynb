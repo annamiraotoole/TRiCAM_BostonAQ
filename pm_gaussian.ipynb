{
 "cells": [
  {
   "cell_type": "code",
   "execution_count": 2,
   "metadata": {
    "collapsed": true
   },
   "outputs": [],
   "source": [
    "import pandas as pd\n",
    "import sys\n",
    "import numpy as np\n",
    "import scipy as sp\n",
    "import matplotlib.pyplot as plt\n",
    "import seaborn as sns\n",
    "import sklearn as sk\n",
    "from sklearn.model_selection import train_test_split\n",
    "from sklearn import preprocessing\n",
    "from sklearn.linear_model import Ridge\n",
    "from statsmodels.tools import add_constant\n",
    "from sklearn.linear_model import Lasso\n",
    "from sklearn.preprocessing import PolynomialFeatures\n",
    "from sklearn.linear_model import BayesianRidge\n",
    "from sklearn.linear_model import LinearRegression\n",
    "from sklearn.neighbors import KNeighborsRegressor\n",
    "from sklearn.gaussian_process import GaussianProcessRegressor\n",
    "from sklearn.gaussian_process.kernels import RBF, ConstantKernel as C\n",
    "import statsmodels.api as sm\n",
    "sns.set(style=\"ticks\")\n",
    "import random\n",
    "%matplotlib inline"
   ]
  },
  {
   "cell_type": "code",
   "execution_count": 3,
   "metadata": {
    "collapsed": false
   },
   "outputs": [],
   "source": [
    "pm = pd.read_csv(\"fin_pmweather.csv\")"
   ]
  },
  {
   "cell_type": "code",
   "execution_count": 7,
   "metadata": {
    "collapsed": false
   },
   "outputs": [],
   "source": [
    "#takes out features columns\n",
    "x = pm.iloc[:, 3:]\n",
    "\n",
    "\n",
    "#scale x-variables\n",
    "scaled = preprocessing.minmax_scale(x)\n",
    "x_scaled = pd.DataFrame(scaled)\n",
    "\n",
    "#reassign correct column names\n",
    "cols = list(x.columns)\n",
    "x_scaled.columns = cols\n",
    "\n",
    "#takes of what we want to predict\n",
    "target = pm.iloc[:, 2]\n",
    "target = 100*target\n",
    "\n",
    "x_train, x_test, y_train, y_test = train_test_split(x_scaled, target, test_size=0.30, random_state=0)\n",
    "\n",
    "#add random noise\n",
    "noise = np.abs(np.random.normal(0, 1, len(x_train)))"
   ]
  },
  {
   "cell_type": "code",
   "execution_count": 23,
   "metadata": {
    "collapsed": false
   },
   "outputs": [
    {
     "name": "stdout",
     "output_type": "stream",
     "text": [
      "0.621389731835 -2.18336385813\n"
     ]
    },
    {
     "data": {
      "text/plain": [
       "1.32**2 * RBF(length_scale=0.00911)"
      ]
     },
     "execution_count": 23,
     "metadata": {},
     "output_type": "execute_result"
    }
   ],
   "source": [
    "\n",
    "#C(0.91, (0.70, 1.12))\n",
    "#length scale is sd of y_train, constant term captures the entire range of y_train plus some more so that amplitude of kernel\n",
    "# will capture most/all of y-values\n",
    "#C(0.05, (3.05e-07, 0.12))\n",
    "#C(1, (0.001, 10))*\n",
    "kernel =(1.32**2)* RBF(length_scale = 0.00911)\n",
    "gp = GaussianProcessRegressor(kernel=kernel, alpha = 0.0001, n_restarts_optimizer=9)\n",
    "gp.fit(x_train, y_train)\n",
    "\n",
    "y_train_pred, sigma_train = gp.predict(x_train, return_std=True)\n",
    "y_test_pred, sigma_test = gp.predict(x_test, return_std=True)\n",
    "\n",
    "#get R^2\n",
    "r2 = gp.score(x_train, y_train)\n",
    "r2_t = gp.score(x_test, y_test)\n",
    "\n",
    "#get MSE measurements\n",
    "MSE_test = np.mean((y_test_pred - y_test)**2)\n",
    "MSE_train = np.mean((y_train_pred - y_train)**2)\n",
    "\n",
    "#get log likelihood\n",
    "t=gp.log_marginal_likelihood()\n",
    "\n",
    "#calculate AIC\n",
    "AIC = 2*len(x_test.columns) - 2*np.log(-t)\n",
    "print(r2, r2_t)\n",
    "gp.kernel_"
   ]
  },
  {
   "cell_type": "code",
   "execution_count": null,
   "metadata": {
    "collapsed": true
   },
   "outputs": [],
   "source": []
  }
 ],
 "metadata": {
  "anaconda-cloud": {},
  "kernelspec": {
   "display_name": "Python [default]",
   "language": "python",
   "name": "python3"
  },
  "language_info": {
   "codemirror_mode": {
    "name": "ipython",
    "version": 3
   },
   "file_extension": ".py",
   "mimetype": "text/x-python",
   "name": "python",
   "nbconvert_exporter": "python",
   "pygments_lexer": "ipython3",
   "version": "3.5.2"
  }
 },
 "nbformat": 4,
 "nbformat_minor": 1
}
