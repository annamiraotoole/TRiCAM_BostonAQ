{
 "cells": [
  {
   "cell_type": "markdown",
   "metadata": {},
   "source": [
    "# Example Code from Workshop #1"
   ]
  },
  {
   "cell_type": "code",
   "execution_count": 55,
   "metadata": {
    "collapsed": true
   },
   "outputs": [],
   "source": [
    "import numpy as np\n",
    "import pandas as pd"
   ]
  },
  {
   "cell_type": "markdown",
   "metadata": {},
   "source": [
    "## Table of Contents:\n",
    "- [I. Basic Python Exercises](#I.-Basic-Python-Exercises:)\n",
    "- [II. Basic Numpy Exercises](#II.-Basic-Numpy-Exercises:)\n",
    "- [III. Basic Pandas Exercises](#III.-Basic-Pandas-Exercises:)\n",
    "\n",
    "## I. Basic Python Exercises:\n",
    "\n",
    "### 1. Write and test a function that takes a list of numbers and returns the largest number (without using pre-defined functions). "
   ]
  },
  {
   "cell_type": "code",
   "execution_count": 2,
   "metadata": {
    "collapsed": true
   },
   "outputs": [],
   "source": [
    "def find_max(a_list):\n",
    "    #we'll use a variable to remember the biggest number we've seen so far as we go through the list\n",
    "    #at the start, we set the biggest number we've seen so far to the be first element in the list\n",
    "    max_so_far = a_list[0]\n",
    "    #let's iterate through the list\n",
    "    for value in a_list:\n",
    "        #compare the new value to the biggest number we've seen so far\n",
    "        #if the new value is bigger, remember the new value\n",
    "        if value > max_so_far:\n",
    "            max_so_far = value\n",
    "    \n",
    "    #when finished iterating through list return the largest number we've seen\n",
    "    return max_so_far"
   ]
  },
  {
   "cell_type": "code",
   "execution_count": 3,
   "metadata": {
    "collapsed": false
   },
   "outputs": [
    {
     "data": {
      "text/plain": [
       "[10, 12, 14, 16, 18, 20, 22, 24, 26, 28, 30, 32, 34, 36, 38]"
      ]
     },
     "execution_count": 3,
     "metadata": {},
     "output_type": "execute_result"
    }
   ],
   "source": [
    "#make up a list of numbers\n",
    "my_list = range(10, 40, 2)\n",
    "my_list"
   ]
  },
  {
   "cell_type": "code",
   "execution_count": 6,
   "metadata": {
    "collapsed": false
   },
   "outputs": [
    {
     "name": "stdout",
     "output_type": "stream",
     "text": [
      "the max of your list is: 38\n"
     ]
    }
   ],
   "source": [
    "#test our function find_max\n",
    "print 'the max of your list is:', find_max(my_list)"
   ]
  },
  {
   "cell_type": "markdown",
   "metadata": {},
   "source": [
    "Here's a pre-defined function that will do it for you!"
   ]
  },
  {
   "cell_type": "code",
   "execution_count": 7,
   "metadata": {
    "collapsed": false
   },
   "outputs": [
    {
     "name": "stdout",
     "output_type": "stream",
     "text": [
      "the max of your list is: 38\n"
     ]
    }
   ],
   "source": [
    "print 'the max of your list is:', max(my_list)"
   ]
  },
  {
   "cell_type": "markdown",
   "metadata": {},
   "source": [
    "We can even do it with `numpy` arrays and `pandas` objects!"
   ]
  },
  {
   "cell_type": "code",
   "execution_count": 10,
   "metadata": {
    "collapsed": false
   },
   "outputs": [
    {
     "name": "stdout",
     "output_type": "stream",
     "text": [
      " the max of your array is: 38\n"
     ]
    }
   ],
   "source": [
    "my_array = np.array(my_list)\n",
    "\n",
    "print 'the max of your array is:', my_array.max()"
   ]
  },
  {
   "cell_type": "code",
   "execution_count": 11,
   "metadata": {
    "collapsed": false
   },
   "outputs": [
    {
     "name": "stdout",
     "output_type": "stream",
     "text": [
      "the max of your series is: 38\n"
     ]
    }
   ],
   "source": [
    "my_series = pd.Series(my_array)\n",
    "\n",
    "print 'the max of your series is:', my_series.max()"
   ]
  },
  {
   "cell_type": "markdown",
   "metadata": {},
   "source": [
    "### 2. Write a function that takes a list and does each of the following things\n",
    "- prints every other item in the list\n",
    "- prints each element of the list in reverse order\n",
    "- prints the last 5 elements in the list"
   ]
  },
  {
   "cell_type": "code",
   "execution_count": 13,
   "metadata": {
    "collapsed": true
   },
   "outputs": [],
   "source": [
    "def every_other(a_list):\n",
    "    print a_list[::2] #from beginning to end counting by 2's\n",
    "    \n",
    "def reverse(a_list):\n",
    "    print a_list[::-1] #from beginning to end counting by -1's (i.e. backwards)\n",
    "    \n",
    "def last_five(a_list):\n",
    "    print a_list[-5:] #from five to last to end"
   ]
  },
  {
   "cell_type": "code",
   "execution_count": 14,
   "metadata": {
    "collapsed": false
   },
   "outputs": [
    {
     "name": "stdout",
     "output_type": "stream",
     "text": [
      "[10, 14, 18, 22, 26, 30, 34, 38]\n"
     ]
    }
   ],
   "source": [
    "every_other(my_list)"
   ]
  },
  {
   "cell_type": "code",
   "execution_count": 15,
   "metadata": {
    "collapsed": false
   },
   "outputs": [
    {
     "name": "stdout",
     "output_type": "stream",
     "text": [
      "[38, 36, 34, 32, 30, 28, 26, 24, 22, 20, 18, 16, 14, 12, 10]\n"
     ]
    }
   ],
   "source": [
    "reverse(my_list)"
   ]
  },
  {
   "cell_type": "code",
   "execution_count": 16,
   "metadata": {
    "collapsed": false
   },
   "outputs": [
    {
     "name": "stdout",
     "output_type": "stream",
     "text": [
      "[30, 32, 34, 36, 38]\n"
     ]
    }
   ],
   "source": [
    "last_five(my_list)"
   ]
  },
  {
   "cell_type": "markdown",
   "metadata": {},
   "source": [
    "### 3. Write a function that takes a string and returns True if it is a palindrom and False otherwise"
   ]
  },
  {
   "cell_type": "code",
   "execution_count": 17,
   "metadata": {
    "collapsed": true
   },
   "outputs": [],
   "source": [
    "#Recall that a palindrome is a string that reads the same forwards and backwards\n",
    "def palindrome(string):\n",
    "    if string == string[::-1]:\n",
    "        return True\n",
    "    else:\n",
    "        return False"
   ]
  },
  {
   "cell_type": "code",
   "execution_count": 18,
   "metadata": {
    "collapsed": false
   },
   "outputs": [
    {
     "data": {
      "text/plain": [
       "False"
      ]
     },
     "execution_count": 18,
     "metadata": {},
     "output_type": "execute_result"
    }
   ],
   "source": [
    "string_1 = 'hello'\n",
    "string_2 = 'helleh'\n",
    "\n",
    "palindrome(string_1)"
   ]
  },
  {
   "cell_type": "code",
   "execution_count": 19,
   "metadata": {
    "collapsed": false
   },
   "outputs": [
    {
     "data": {
      "text/plain": [
       "True"
      ]
     },
     "execution_count": 19,
     "metadata": {},
     "output_type": "execute_result"
    }
   ],
   "source": [
    "palindrome(string_2)"
   ]
  },
  {
   "cell_type": "markdown",
   "metadata": {},
   "source": [
    "### 4. Write a function that zips two lists together"
   ]
  },
  {
   "cell_type": "code",
   "execution_count": 22,
   "metadata": {
    "collapsed": true
   },
   "outputs": [],
   "source": [
    "def zip_lists(list_1, list_2):\n",
    "    #first we should check that the two lists have the same lengths, otherwise we should throw \n",
    "    #an error (for now the error handling is that we return an error message)\n",
    "    if len(list_1) == len(list_2):\n",
    "        #the standard way to build a list is to start with an empty list, [], then \n",
    "        #iteratively append things to it, using .append()\n",
    "        zipped = []\n",
    "        for index in range(len(list_1)):\n",
    "            zipped.append([list_1[index], list_2[index]])\n",
    "        return zipped\n",
    "    else:\n",
    "        return \"Lengths don't match!\""
   ]
  },
  {
   "cell_type": "code",
   "execution_count": 23,
   "metadata": {
    "collapsed": false
   },
   "outputs": [
    {
     "data": {
      "text/plain": [
       "[[1, 'a'], [2, 'b'], [3, 'c']]"
      ]
     },
     "execution_count": 23,
     "metadata": {},
     "output_type": "execute_result"
    }
   ],
   "source": [
    "list_1 = [1, 2, 3]\n",
    "list_2 = ['a', 'b', 'c']\n",
    "\n",
    "zip_lists(list_1, list_2)"
   ]
  },
  {
   "cell_type": "markdown",
   "metadata": {},
   "source": [
    "A alternative way to build up a list from scratch is to use a list comprehension, a list comprehension is just syntaxtic sugar for a for loop (i.e. start with empty list [ ], then iteratively use .append()). The syntax for list comprehension looks almost exactly like set builder notation in mathematics.\n",
    "\n",
    "**Example:** If we want all the even numbers between 0 and 10 (inclusive) we'd write\n",
    "$$\n",
    "\\{x : x\\in \\mathbb{N}, 0\\leq x \\leq 10\\text{ and  }2|x\\}\n",
    "$$\n",
    "In `python` we'd write\n",
    "```\n",
    "even_ints = [x for x in range(11) if x % 2 == 0]\n",
    "```"
   ]
  },
  {
   "cell_type": "code",
   "execution_count": 24,
   "metadata": {
    "collapsed": false
   },
   "outputs": [
    {
     "data": {
      "text/plain": [
       "[[1, 'a'], [2, 'b'], [3, 'c']]"
      ]
     },
     "execution_count": 24,
     "metadata": {},
     "output_type": "execute_result"
    }
   ],
   "source": [
    "#list comprehension definition of zipped list of two lists\n",
    "zipped_list = [[list_1[index], list_2[index]] for index in range(len(list_1))]\n",
    "zipped_list"
   ]
  },
  {
   "cell_type": "markdown",
   "metadata": {},
   "source": [
    "But there is a `python` function that zip things for you!"
   ]
  },
  {
   "cell_type": "code",
   "execution_count": 25,
   "metadata": {
    "collapsed": false
   },
   "outputs": [
    {
     "data": {
      "text/plain": [
       "[(1, 'a'), (2, 'b'), (3, 'c')]"
      ]
     },
     "execution_count": 25,
     "metadata": {},
     "output_type": "execute_result"
    }
   ],
   "source": [
    "zipped_list = zip(list_1, list_2)\n",
    "zipped_list"
   ]
  },
  {
   "cell_type": "markdown",
   "metadata": {},
   "source": [
    "---"
   ]
  },
  {
   "cell_type": "markdown",
   "metadata": {},
   "source": [
    "## II. Basic Numpy Exercises:\n",
    "\n",
    "### 1. Load the Carbon Monoxide CSV data for Boston"
   ]
  },
  {
   "cell_type": "code",
   "execution_count": 54,
   "metadata": {
    "collapsed": false
   },
   "outputs": [
    {
     "ename": "ValueError",
     "evalue": "could not convert string to float: State Code",
     "output_type": "error",
     "traceback": [
      "\u001b[0;31m---------------------------------------------------------------------------\u001b[0m",
      "\u001b[0;31mValueError\u001b[0m                                Traceback (most recent call last)",
      "\u001b[0;32m<ipython-input-54-9e1c1d8db167>\u001b[0m in \u001b[0;36m<module>\u001b[0;34m()\u001b[0m\n\u001b[1;32m      1\u001b[0m \u001b[0;31m#When running this on your computer, you'll need to change the path to this file!\u001b[0m\u001b[0;34m\u001b[0m\u001b[0;34m\u001b[0m\u001b[0m\n\u001b[0;32m----> 2\u001b[0;31m \u001b[0mdata\u001b[0m \u001b[0;34m=\u001b[0m \u001b[0mnp\u001b[0m\u001b[0;34m.\u001b[0m\u001b[0mloadtxt\u001b[0m\u001b[0;34m(\u001b[0m\u001b[0;34m'../mass_aq_data/boston_year_to_date/boston_co.csv'\u001b[0m\u001b[0;34m,\u001b[0m \u001b[0mdelimiter\u001b[0m\u001b[0;34m=\u001b[0m\u001b[0;34m','\u001b[0m\u001b[0;34m)\u001b[0m\u001b[0;34m\u001b[0m\u001b[0m\n\u001b[0m",
      "\u001b[0;32m/Users/wp/anaconda/lib/python2.7/site-packages/numpy/lib/npyio.pyc\u001b[0m in \u001b[0;36mloadtxt\u001b[0;34m(fname, dtype, comments, delimiter, converters, skiprows, usecols, unpack, ndmin)\u001b[0m\n\u001b[1;32m    928\u001b[0m \u001b[0;34m\u001b[0m\u001b[0m\n\u001b[1;32m    929\u001b[0m             \u001b[0;31m# Convert each value according to its column and store\u001b[0m\u001b[0;34m\u001b[0m\u001b[0;34m\u001b[0m\u001b[0m\n\u001b[0;32m--> 930\u001b[0;31m             \u001b[0mitems\u001b[0m \u001b[0;34m=\u001b[0m \u001b[0;34m[\u001b[0m\u001b[0mconv\u001b[0m\u001b[0;34m(\u001b[0m\u001b[0mval\u001b[0m\u001b[0;34m)\u001b[0m \u001b[0;32mfor\u001b[0m \u001b[0;34m(\u001b[0m\u001b[0mconv\u001b[0m\u001b[0;34m,\u001b[0m \u001b[0mval\u001b[0m\u001b[0;34m)\u001b[0m \u001b[0;32min\u001b[0m \u001b[0mzip\u001b[0m\u001b[0;34m(\u001b[0m\u001b[0mconverters\u001b[0m\u001b[0;34m,\u001b[0m \u001b[0mvals\u001b[0m\u001b[0;34m)\u001b[0m\u001b[0;34m]\u001b[0m\u001b[0;34m\u001b[0m\u001b[0m\n\u001b[0m\u001b[1;32m    931\u001b[0m             \u001b[0;31m# Then pack it according to the dtype's nesting\u001b[0m\u001b[0;34m\u001b[0m\u001b[0;34m\u001b[0m\u001b[0m\n\u001b[1;32m    932\u001b[0m             \u001b[0mitems\u001b[0m \u001b[0;34m=\u001b[0m \u001b[0mpack_items\u001b[0m\u001b[0;34m(\u001b[0m\u001b[0mitems\u001b[0m\u001b[0;34m,\u001b[0m \u001b[0mpacking\u001b[0m\u001b[0;34m)\u001b[0m\u001b[0;34m\u001b[0m\u001b[0m\n",
      "\u001b[0;32m/Users/wp/anaconda/lib/python2.7/site-packages/numpy/lib/npyio.pyc\u001b[0m in \u001b[0;36mfloatconv\u001b[0;34m(x)\u001b[0m\n\u001b[1;32m    657\u001b[0m         \u001b[0;32mif\u001b[0m \u001b[0;34mb'0x'\u001b[0m \u001b[0;32min\u001b[0m \u001b[0mx\u001b[0m\u001b[0;34m:\u001b[0m\u001b[0;34m\u001b[0m\u001b[0m\n\u001b[1;32m    658\u001b[0m             \u001b[0;32mreturn\u001b[0m \u001b[0mfloat\u001b[0m\u001b[0;34m.\u001b[0m\u001b[0mfromhex\u001b[0m\u001b[0;34m(\u001b[0m\u001b[0masstr\u001b[0m\u001b[0;34m(\u001b[0m\u001b[0mx\u001b[0m\u001b[0;34m)\u001b[0m\u001b[0;34m)\u001b[0m\u001b[0;34m\u001b[0m\u001b[0m\n\u001b[0;32m--> 659\u001b[0;31m         \u001b[0;32mreturn\u001b[0m \u001b[0mfloat\u001b[0m\u001b[0;34m(\u001b[0m\u001b[0mx\u001b[0m\u001b[0;34m)\u001b[0m\u001b[0;34m\u001b[0m\u001b[0m\n\u001b[0m\u001b[1;32m    660\u001b[0m \u001b[0;34m\u001b[0m\u001b[0m\n\u001b[1;32m    661\u001b[0m     \u001b[0mtyp\u001b[0m \u001b[0;34m=\u001b[0m \u001b[0mdtype\u001b[0m\u001b[0;34m.\u001b[0m\u001b[0mtype\u001b[0m\u001b[0;34m\u001b[0m\u001b[0m\n",
      "\u001b[0;31mValueError\u001b[0m: could not convert string to float: State Code"
     ]
    }
   ],
   "source": [
    "#When running this on your computer, you'll need to change the path to this file!\n",
    "data = np.loadtxt('../mass_aq_data/boston_year_to_date/boston_co.csv', delimiter=',')"
   ]
  },
  {
   "cell_type": "markdown",
   "metadata": {},
   "source": [
    "Oh no! The code didn't work \"out of the box\"!\n",
    "\n",
    "Let's parse the error. The summary of the error from the interpreter is always the last line:\n",
    "```\n",
    "ValueError: could not convert string to float: State Code\n",
    "```\n",
    "This indicates that `loadtxt` wants to convert the data into floats and it's failing, and that the reason is that the data is in string format (strings that aren't numerals).\n",
    "\n",
    "The way to address this is to look at the data and read the documentation for `loadtxt`. \n",
    "\n",
    "It looks like the data is entirely string formatted (even numerals have quotes around them), the documentation for `loadtxt` suggests that the function assumes by default the data is floating point, to make it read in data as string you must specify so in the `dtype` parameter.\n",
    "\n",
    "Let's try it again."
   ]
  },
  {
   "cell_type": "code",
   "execution_count": 29,
   "metadata": {
    "collapsed": false
   },
   "outputs": [],
   "source": [
    "data = np.loadtxt('../mass_aq_data/boston_year_to_date/boston_co.csv', delimiter=',', dtype=str)"
   ]
  },
  {
   "cell_type": "markdown",
   "metadata": {},
   "source": [
    "Great! Let's checkout the shape of our data and see what kind of values are in it."
   ]
  },
  {
   "cell_type": "code",
   "execution_count": 30,
   "metadata": {
    "collapsed": false
   },
   "outputs": [
    {
     "data": {
      "text/plain": [
       "(334, 32)"
      ]
     },
     "execution_count": 30,
     "metadata": {},
     "output_type": "execute_result"
    }
   ],
   "source": [
    "#print the shape of the data\n",
    "data.shape"
   ]
  },
  {
   "cell_type": "code",
   "execution_count": 31,
   "metadata": {
    "collapsed": false
   },
   "outputs": [
    {
     "data": {
      "text/plain": [
       "array(['\\t\\tState Code', 'County Code', 'Tribal Code', 'Site ID',\n",
       "       'Support Agency Code', 'Location Address', 'City Code',\n",
       "       'Postal Code', 'Local ID', 'Local Name', 'Urban Area Code',\n",
       "       'AQCR Code', 'Land Use ID', 'Location Setting ID',\n",
       "       'Site Established Date', 'Latitude', 'Longitude',\n",
       "       'Horizontal Method Code', 'Horizontal Datum ID', 'Parameter Code',\n",
       "       'Parameter Name', 'Substance Occurrence Code', 'Duration Code',\n",
       "       'Method ID', 'Measure Unit Code', 'Sample Collection Start Date',\n",
       "       'Sample Collection Start Time', 'Measure Value', 'Measure Unit',\n",
       "       'Null Data Code', 'Qualifier Code', 'Data Validity Code'], \n",
       "      dtype='|S28')"
      ]
     },
     "execution_count": 31,
     "metadata": {},
     "output_type": "execute_result"
    }
   ],
   "source": [
    "#print the first row\n",
    "data[0]"
   ]
  },
  {
   "cell_type": "markdown",
   "metadata": {},
   "source": [
    "Problem! It looks like the first row of the data is the column headers, but `numpy` is treating these headers like values! What we need to do is to read the data again, skipping the first row!"
   ]
  },
  {
   "cell_type": "code",
   "execution_count": 44,
   "metadata": {
    "collapsed": true
   },
   "outputs": [],
   "source": [
    "data = np.loadtxt('../mass_aq_data/boston_year_to_date/boston_co.csv', delimiter=',', dtype=str, skiprows=2)"
   ]
  },
  {
   "cell_type": "code",
   "execution_count": 45,
   "metadata": {
    "collapsed": false
   },
   "outputs": [
    {
     "data": {
      "text/plain": [
       "(333, 32)"
      ]
     },
     "execution_count": 45,
     "metadata": {},
     "output_type": "execute_result"
    }
   ],
   "source": [
    "#print the shape of the data\n",
    "data.shape"
   ]
  },
  {
   "cell_type": "code",
   "execution_count": 46,
   "metadata": {
    "collapsed": false
   },
   "outputs": [
    {
     "data": {
      "text/plain": [
       "array(['\\t\\tMA', '\"\\'025\"', '\"\"', '\"\\'250250042\"', '\"\\'0660\"',\n",
       "       '\"HARRISON AV\"', '\"7000\"', '\"\\'02119\"', '\"Boston Roxbury\"',\n",
       "       '\"BOSTON\"', '\"1120\"', '\"\\'119\"', '\"COMMERCIAL\"',\n",
       "       '\"URBAN AND CENTER CITY\"', '\"1998-12-15\"', '\"42.3294\"',\n",
       "       '\"-71.082499999999996\"', '\"\\'015\"', '\"WGS84\"', '\"42101\"',\n",
       "       '\"Carbon Monoxide\"', '\"1\"', '\"1\"', '\"\\'593 \"', '\"\\'007\"',\n",
       "       '\"2017-01-01 00:00:00\"', '\"00:00:00\"', '\".67\"', '\"ppm\"', '\"\"', '\"\"',\n",
       "       '\"\"'], \n",
       "      dtype='|S28')"
      ]
     },
     "execution_count": 46,
     "metadata": {},
     "output_type": "execute_result"
    }
   ],
   "source": [
    "#print the first row\n",
    "data[0]"
   ]
  },
  {
   "cell_type": "markdown",
   "metadata": {},
   "source": [
    "**Observation:** The values in the data needs cleaning, there are a number of useless characters like tabs and quotation marks!"
   ]
  },
  {
   "cell_type": "markdown",
   "metadata": {},
   "source": [
    "### 2. Filter the data for observations taken at the site 'Boston Roxbury'\n",
    "\n",
    "We know that the column that contains the value 'Boston Roxbury' is labeled 'Local ID', but unfortunately in `numpy` there is no way to use the name of a column or row to refer a value."
   ]
  },
  {
   "cell_type": "code",
   "execution_count": 48,
   "metadata": {
    "collapsed": false
   },
   "outputs": [
    {
     "data": {
      "text/plain": [
       "(147, 32)"
      ]
     },
     "execution_count": 48,
     "metadata": {},
     "output_type": "execute_result"
    }
   ],
   "source": [
    "#The position of the column that stores the location name is 8\n",
    "filtered_data = data[data[:, 8] == '\"Boston Roxbury\"']\n",
    "filtered_data.shape"
   ]
  },
  {
   "cell_type": "code",
   "execution_count": 49,
   "metadata": {
    "collapsed": false
   },
   "outputs": [
    {
     "data": {
      "text/plain": [
       "array(['\\t\\tMA', '\"\\'025\"', '\"\"', '\"\\'250250042\"', '\"\\'0660\"',\n",
       "       '\"HARRISON AV\"', '\"7000\"', '\"\\'02119\"', '\"Boston Roxbury\"',\n",
       "       '\"BOSTON\"', '\"1120\"', '\"\\'119\"', '\"COMMERCIAL\"',\n",
       "       '\"URBAN AND CENTER CITY\"', '\"1998-12-15\"', '\"42.3294\"',\n",
       "       '\"-71.082499999999996\"', '\"\\'015\"', '\"WGS84\"', '\"42101\"',\n",
       "       '\"Carbon Monoxide\"', '\"1\"', '\"1\"', '\"\\'593 \"', '\"\\'007\"',\n",
       "       '\"2017-01-01 00:00:00\"', '\"00:00:00\"', '\".67\"', '\"ppm\"', '\"\"', '\"\"',\n",
       "       '\"\"'], \n",
       "      dtype='|S28')"
      ]
     },
     "execution_count": 49,
     "metadata": {},
     "output_type": "execute_result"
    }
   ],
   "source": [
    "filtered_data[0]"
   ]
  },
  {
   "cell_type": "markdown",
   "metadata": {},
   "source": [
    "---"
   ]
  },
  {
   "cell_type": "markdown",
   "metadata": {},
   "source": [
    "## III. Basic Pandas Exercises:\n",
    "\n",
    "### 1. Load the Carbon Monoxide CSV data for Boston"
   ]
  },
  {
   "cell_type": "code",
   "execution_count": 50,
   "metadata": {
    "collapsed": false
   },
   "outputs": [
    {
     "data": {
      "text/plain": [
       "(333, 32)"
      ]
     },
     "execution_count": 50,
     "metadata": {},
     "output_type": "execute_result"
    }
   ],
   "source": [
    "data_frame = pd.read_csv('../mass_aq_data/boston_year_to_date/boston_co.csv')\n",
    "data_frame.shape"
   ]
  },
  {
   "cell_type": "code",
   "execution_count": 51,
   "metadata": {
    "collapsed": false
   },
   "outputs": [
    {
     "data": {
      "text/html": [
       "<div>\n",
       "<table border=\"1\" class=\"dataframe\">\n",
       "  <thead>\n",
       "    <tr style=\"text-align: right;\">\n",
       "      <th></th>\n",
       "      <th>State Code</th>\n",
       "      <th>County Code</th>\n",
       "      <th>Tribal Code</th>\n",
       "      <th>Site ID</th>\n",
       "      <th>Support Agency Code</th>\n",
       "      <th>Location Address</th>\n",
       "      <th>City Code</th>\n",
       "      <th>Postal Code</th>\n",
       "      <th>Local ID</th>\n",
       "      <th>Local Name</th>\n",
       "      <th>...</th>\n",
       "      <th>Duration Code</th>\n",
       "      <th>Method ID</th>\n",
       "      <th>Measure Unit Code</th>\n",
       "      <th>Sample Collection Start Date</th>\n",
       "      <th>Sample Collection Start Time</th>\n",
       "      <th>Measure Value</th>\n",
       "      <th>Measure Unit</th>\n",
       "      <th>Null Data Code</th>\n",
       "      <th>Qualifier Code</th>\n",
       "      <th>Data Validity Code</th>\n",
       "    </tr>\n",
       "  </thead>\n",
       "  <tbody>\n",
       "    <tr>\n",
       "      <th>0</th>\n",
       "      <td>\\t\\tMA</td>\n",
       "      <td>'025</td>\n",
       "      <td>NaN</td>\n",
       "      <td>'250250042</td>\n",
       "      <td>'0660</td>\n",
       "      <td>HARRISON AV</td>\n",
       "      <td>7000</td>\n",
       "      <td>'02119</td>\n",
       "      <td>Boston Roxbury</td>\n",
       "      <td>BOSTON</td>\n",
       "      <td>...</td>\n",
       "      <td>1</td>\n",
       "      <td>'593</td>\n",
       "      <td>'007</td>\n",
       "      <td>2017-01-01 00:00:00</td>\n",
       "      <td>00:00:00</td>\n",
       "      <td>0.670</td>\n",
       "      <td>ppm</td>\n",
       "      <td>NaN</td>\n",
       "      <td>NaN</td>\n",
       "      <td>NaN</td>\n",
       "    </tr>\n",
       "    <tr>\n",
       "      <th>1</th>\n",
       "      <td>\\t\\t\\t\\tMA</td>\n",
       "      <td>'025</td>\n",
       "      <td>NaN</td>\n",
       "      <td>'250250042</td>\n",
       "      <td>'0660</td>\n",
       "      <td>HARRISON AV</td>\n",
       "      <td>7000</td>\n",
       "      <td>'02119</td>\n",
       "      <td>Boston Roxbury</td>\n",
       "      <td>BOSTON</td>\n",
       "      <td>...</td>\n",
       "      <td>1</td>\n",
       "      <td>'593</td>\n",
       "      <td>'007</td>\n",
       "      <td>2017-01-02 00:00:00</td>\n",
       "      <td>00:00:00</td>\n",
       "      <td>1.053</td>\n",
       "      <td>ppm</td>\n",
       "      <td>NaN</td>\n",
       "      <td>NaN</td>\n",
       "      <td>NaN</td>\n",
       "    </tr>\n",
       "    <tr>\n",
       "      <th>2</th>\n",
       "      <td>\\t\\t\\t\\tMA</td>\n",
       "      <td>'025</td>\n",
       "      <td>NaN</td>\n",
       "      <td>'250250042</td>\n",
       "      <td>'0660</td>\n",
       "      <td>HARRISON AV</td>\n",
       "      <td>7000</td>\n",
       "      <td>'02119</td>\n",
       "      <td>Boston Roxbury</td>\n",
       "      <td>BOSTON</td>\n",
       "      <td>...</td>\n",
       "      <td>1</td>\n",
       "      <td>'593</td>\n",
       "      <td>'007</td>\n",
       "      <td>2017-01-03 00:00:00</td>\n",
       "      <td>00:00:00</td>\n",
       "      <td>0.253</td>\n",
       "      <td>ppm</td>\n",
       "      <td>NaN</td>\n",
       "      <td>NaN</td>\n",
       "      <td>NaN</td>\n",
       "    </tr>\n",
       "    <tr>\n",
       "      <th>3</th>\n",
       "      <td>\\t\\t\\t\\tMA</td>\n",
       "      <td>'025</td>\n",
       "      <td>NaN</td>\n",
       "      <td>'250250042</td>\n",
       "      <td>'0660</td>\n",
       "      <td>HARRISON AV</td>\n",
       "      <td>7000</td>\n",
       "      <td>'02119</td>\n",
       "      <td>Boston Roxbury</td>\n",
       "      <td>BOSTON</td>\n",
       "      <td>...</td>\n",
       "      <td>1</td>\n",
       "      <td>'593</td>\n",
       "      <td>'007</td>\n",
       "      <td>2017-01-04 00:00:00</td>\n",
       "      <td>00:00:00</td>\n",
       "      <td>0.304</td>\n",
       "      <td>ppm</td>\n",
       "      <td>NaN</td>\n",
       "      <td>NaN</td>\n",
       "      <td>NaN</td>\n",
       "    </tr>\n",
       "    <tr>\n",
       "      <th>4</th>\n",
       "      <td>\\t\\t\\t\\tMA</td>\n",
       "      <td>'025</td>\n",
       "      <td>NaN</td>\n",
       "      <td>'250250042</td>\n",
       "      <td>'0660</td>\n",
       "      <td>HARRISON AV</td>\n",
       "      <td>7000</td>\n",
       "      <td>'02119</td>\n",
       "      <td>Boston Roxbury</td>\n",
       "      <td>BOSTON</td>\n",
       "      <td>...</td>\n",
       "      <td>1</td>\n",
       "      <td>'593</td>\n",
       "      <td>'007</td>\n",
       "      <td>2017-01-05 00:00:00</td>\n",
       "      <td>00:00:00</td>\n",
       "      <td>0.343</td>\n",
       "      <td>ppm</td>\n",
       "      <td>NaN</td>\n",
       "      <td>NaN</td>\n",
       "      <td>NaN</td>\n",
       "    </tr>\n",
       "  </tbody>\n",
       "</table>\n",
       "<p>5 rows × 32 columns</p>\n",
       "</div>"
      ],
      "text/plain": [
       "  \\t\\tState Code County Code  Tribal Code     Site ID Support Agency Code  \\\n",
       "0         \\t\\tMA        '025          NaN  '250250042               '0660   \n",
       "1     \\t\\t\\t\\tMA        '025          NaN  '250250042               '0660   \n",
       "2     \\t\\t\\t\\tMA        '025          NaN  '250250042               '0660   \n",
       "3     \\t\\t\\t\\tMA        '025          NaN  '250250042               '0660   \n",
       "4     \\t\\t\\t\\tMA        '025          NaN  '250250042               '0660   \n",
       "\n",
       "  Location Address  City Code Postal Code        Local ID Local Name  \\\n",
       "0      HARRISON AV       7000      '02119  Boston Roxbury     BOSTON   \n",
       "1      HARRISON AV       7000      '02119  Boston Roxbury     BOSTON   \n",
       "2      HARRISON AV       7000      '02119  Boston Roxbury     BOSTON   \n",
       "3      HARRISON AV       7000      '02119  Boston Roxbury     BOSTON   \n",
       "4      HARRISON AV       7000      '02119  Boston Roxbury     BOSTON   \n",
       "\n",
       "          ...          Duration Code Method ID Measure Unit Code  \\\n",
       "0         ...                      1     '593               '007   \n",
       "1         ...                      1     '593               '007   \n",
       "2         ...                      1     '593               '007   \n",
       "3         ...                      1     '593               '007   \n",
       "4         ...                      1     '593               '007   \n",
       "\n",
       "  Sample Collection Start Date Sample Collection Start Time  Measure Value  \\\n",
       "0          2017-01-01 00:00:00                     00:00:00          0.670   \n",
       "1          2017-01-02 00:00:00                     00:00:00          1.053   \n",
       "2          2017-01-03 00:00:00                     00:00:00          0.253   \n",
       "3          2017-01-04 00:00:00                     00:00:00          0.304   \n",
       "4          2017-01-05 00:00:00                     00:00:00          0.343   \n",
       "\n",
       "   Measure Unit Null Data Code Qualifier Code  Data Validity Code  \n",
       "0           ppm            NaN            NaN                 NaN  \n",
       "1           ppm            NaN            NaN                 NaN  \n",
       "2           ppm            NaN            NaN                 NaN  \n",
       "3           ppm            NaN            NaN                 NaN  \n",
       "4           ppm            NaN            NaN                 NaN  \n",
       "\n",
       "[5 rows x 32 columns]"
      ]
     },
     "execution_count": 51,
     "metadata": {},
     "output_type": "execute_result"
    }
   ],
   "source": [
    "data_frame.head()"
   ]
  },
  {
   "cell_type": "markdown",
   "metadata": {},
   "source": [
    "**Observations:** reading the data using `pandas` is much easier, we don't need to specify the types of the data because `pandas` will guess those types. `pandas` has also removed a number of those extraneous characters in the data for us (although a large number still remain). The nicest thing is that `pandas` correctly guessed that the first row in the data should be interpreted as column header and it has automatically made this distinction."
   ]
  },
  {
   "cell_type": "markdown",
   "metadata": {},
   "source": [
    "### 2. Filter the data for observations taken at the site 'Boston Roxbury'\n",
    "\n",
    "We know that the column that contains the value 'Boston Roxbury' is labeled 'Local ID', with `pandas` we can directly refer to this column by its name!"
   ]
  },
  {
   "cell_type": "code",
   "execution_count": 52,
   "metadata": {
    "collapsed": false
   },
   "outputs": [
    {
     "data": {
      "text/plain": [
       "(147, 32)"
      ]
     },
     "execution_count": 52,
     "metadata": {},
     "output_type": "execute_result"
    }
   ],
   "source": [
    "filtered_dataframe = data_frame[data_frame['Local ID'] == 'Boston Roxbury']\n",
    "filtered_dataframe.shape"
   ]
  },
  {
   "cell_type": "code",
   "execution_count": 53,
   "metadata": {
    "collapsed": false
   },
   "outputs": [
    {
     "data": {
      "text/html": [
       "<div>\n",
       "<table border=\"1\" class=\"dataframe\">\n",
       "  <thead>\n",
       "    <tr style=\"text-align: right;\">\n",
       "      <th></th>\n",
       "      <th>State Code</th>\n",
       "      <th>County Code</th>\n",
       "      <th>Tribal Code</th>\n",
       "      <th>Site ID</th>\n",
       "      <th>Support Agency Code</th>\n",
       "      <th>Location Address</th>\n",
       "      <th>City Code</th>\n",
       "      <th>Postal Code</th>\n",
       "      <th>Local ID</th>\n",
       "      <th>Local Name</th>\n",
       "      <th>...</th>\n",
       "      <th>Duration Code</th>\n",
       "      <th>Method ID</th>\n",
       "      <th>Measure Unit Code</th>\n",
       "      <th>Sample Collection Start Date</th>\n",
       "      <th>Sample Collection Start Time</th>\n",
       "      <th>Measure Value</th>\n",
       "      <th>Measure Unit</th>\n",
       "      <th>Null Data Code</th>\n",
       "      <th>Qualifier Code</th>\n",
       "      <th>Data Validity Code</th>\n",
       "    </tr>\n",
       "  </thead>\n",
       "  <tbody>\n",
       "    <tr>\n",
       "      <th>0</th>\n",
       "      <td>\\t\\tMA</td>\n",
       "      <td>'025</td>\n",
       "      <td>NaN</td>\n",
       "      <td>'250250042</td>\n",
       "      <td>'0660</td>\n",
       "      <td>HARRISON AV</td>\n",
       "      <td>7000</td>\n",
       "      <td>'02119</td>\n",
       "      <td>Boston Roxbury</td>\n",
       "      <td>BOSTON</td>\n",
       "      <td>...</td>\n",
       "      <td>1</td>\n",
       "      <td>'593</td>\n",
       "      <td>'007</td>\n",
       "      <td>2017-01-01 00:00:00</td>\n",
       "      <td>00:00:00</td>\n",
       "      <td>0.670</td>\n",
       "      <td>ppm</td>\n",
       "      <td>NaN</td>\n",
       "      <td>NaN</td>\n",
       "      <td>NaN</td>\n",
       "    </tr>\n",
       "    <tr>\n",
       "      <th>1</th>\n",
       "      <td>\\t\\t\\t\\tMA</td>\n",
       "      <td>'025</td>\n",
       "      <td>NaN</td>\n",
       "      <td>'250250042</td>\n",
       "      <td>'0660</td>\n",
       "      <td>HARRISON AV</td>\n",
       "      <td>7000</td>\n",
       "      <td>'02119</td>\n",
       "      <td>Boston Roxbury</td>\n",
       "      <td>BOSTON</td>\n",
       "      <td>...</td>\n",
       "      <td>1</td>\n",
       "      <td>'593</td>\n",
       "      <td>'007</td>\n",
       "      <td>2017-01-02 00:00:00</td>\n",
       "      <td>00:00:00</td>\n",
       "      <td>1.053</td>\n",
       "      <td>ppm</td>\n",
       "      <td>NaN</td>\n",
       "      <td>NaN</td>\n",
       "      <td>NaN</td>\n",
       "    </tr>\n",
       "    <tr>\n",
       "      <th>2</th>\n",
       "      <td>\\t\\t\\t\\tMA</td>\n",
       "      <td>'025</td>\n",
       "      <td>NaN</td>\n",
       "      <td>'250250042</td>\n",
       "      <td>'0660</td>\n",
       "      <td>HARRISON AV</td>\n",
       "      <td>7000</td>\n",
       "      <td>'02119</td>\n",
       "      <td>Boston Roxbury</td>\n",
       "      <td>BOSTON</td>\n",
       "      <td>...</td>\n",
       "      <td>1</td>\n",
       "      <td>'593</td>\n",
       "      <td>'007</td>\n",
       "      <td>2017-01-03 00:00:00</td>\n",
       "      <td>00:00:00</td>\n",
       "      <td>0.253</td>\n",
       "      <td>ppm</td>\n",
       "      <td>NaN</td>\n",
       "      <td>NaN</td>\n",
       "      <td>NaN</td>\n",
       "    </tr>\n",
       "    <tr>\n",
       "      <th>3</th>\n",
       "      <td>\\t\\t\\t\\tMA</td>\n",
       "      <td>'025</td>\n",
       "      <td>NaN</td>\n",
       "      <td>'250250042</td>\n",
       "      <td>'0660</td>\n",
       "      <td>HARRISON AV</td>\n",
       "      <td>7000</td>\n",
       "      <td>'02119</td>\n",
       "      <td>Boston Roxbury</td>\n",
       "      <td>BOSTON</td>\n",
       "      <td>...</td>\n",
       "      <td>1</td>\n",
       "      <td>'593</td>\n",
       "      <td>'007</td>\n",
       "      <td>2017-01-04 00:00:00</td>\n",
       "      <td>00:00:00</td>\n",
       "      <td>0.304</td>\n",
       "      <td>ppm</td>\n",
       "      <td>NaN</td>\n",
       "      <td>NaN</td>\n",
       "      <td>NaN</td>\n",
       "    </tr>\n",
       "    <tr>\n",
       "      <th>4</th>\n",
       "      <td>\\t\\t\\t\\tMA</td>\n",
       "      <td>'025</td>\n",
       "      <td>NaN</td>\n",
       "      <td>'250250042</td>\n",
       "      <td>'0660</td>\n",
       "      <td>HARRISON AV</td>\n",
       "      <td>7000</td>\n",
       "      <td>'02119</td>\n",
       "      <td>Boston Roxbury</td>\n",
       "      <td>BOSTON</td>\n",
       "      <td>...</td>\n",
       "      <td>1</td>\n",
       "      <td>'593</td>\n",
       "      <td>'007</td>\n",
       "      <td>2017-01-05 00:00:00</td>\n",
       "      <td>00:00:00</td>\n",
       "      <td>0.343</td>\n",
       "      <td>ppm</td>\n",
       "      <td>NaN</td>\n",
       "      <td>NaN</td>\n",
       "      <td>NaN</td>\n",
       "    </tr>\n",
       "  </tbody>\n",
       "</table>\n",
       "<p>5 rows × 32 columns</p>\n",
       "</div>"
      ],
      "text/plain": [
       "  \\t\\tState Code County Code  Tribal Code     Site ID Support Agency Code  \\\n",
       "0         \\t\\tMA        '025          NaN  '250250042               '0660   \n",
       "1     \\t\\t\\t\\tMA        '025          NaN  '250250042               '0660   \n",
       "2     \\t\\t\\t\\tMA        '025          NaN  '250250042               '0660   \n",
       "3     \\t\\t\\t\\tMA        '025          NaN  '250250042               '0660   \n",
       "4     \\t\\t\\t\\tMA        '025          NaN  '250250042               '0660   \n",
       "\n",
       "  Location Address  City Code Postal Code        Local ID Local Name  \\\n",
       "0      HARRISON AV       7000      '02119  Boston Roxbury     BOSTON   \n",
       "1      HARRISON AV       7000      '02119  Boston Roxbury     BOSTON   \n",
       "2      HARRISON AV       7000      '02119  Boston Roxbury     BOSTON   \n",
       "3      HARRISON AV       7000      '02119  Boston Roxbury     BOSTON   \n",
       "4      HARRISON AV       7000      '02119  Boston Roxbury     BOSTON   \n",
       "\n",
       "          ...          Duration Code Method ID Measure Unit Code  \\\n",
       "0         ...                      1     '593               '007   \n",
       "1         ...                      1     '593               '007   \n",
       "2         ...                      1     '593               '007   \n",
       "3         ...                      1     '593               '007   \n",
       "4         ...                      1     '593               '007   \n",
       "\n",
       "  Sample Collection Start Date Sample Collection Start Time  Measure Value  \\\n",
       "0          2017-01-01 00:00:00                     00:00:00          0.670   \n",
       "1          2017-01-02 00:00:00                     00:00:00          1.053   \n",
       "2          2017-01-03 00:00:00                     00:00:00          0.253   \n",
       "3          2017-01-04 00:00:00                     00:00:00          0.304   \n",
       "4          2017-01-05 00:00:00                     00:00:00          0.343   \n",
       "\n",
       "   Measure Unit Null Data Code Qualifier Code  Data Validity Code  \n",
       "0           ppm            NaN            NaN                 NaN  \n",
       "1           ppm            NaN            NaN                 NaN  \n",
       "2           ppm            NaN            NaN                 NaN  \n",
       "3           ppm            NaN            NaN                 NaN  \n",
       "4           ppm            NaN            NaN                 NaN  \n",
       "\n",
       "[5 rows x 32 columns]"
      ]
     },
     "execution_count": 53,
     "metadata": {},
     "output_type": "execute_result"
    }
   ],
   "source": [
    "filtered_dataframe.head()"
   ]
  },
  {
   "cell_type": "code",
   "execution_count": null,
   "metadata": {
    "collapsed": true
   },
   "outputs": [],
   "source": []
  }
 ],
 "metadata": {
  "anaconda-cloud": {},
  "kernelspec": {
   "display_name": "Python [conda root]",
   "language": "python",
   "name": "conda-root-py"
  },
  "language_info": {
   "codemirror_mode": {
    "name": "ipython",
    "version": 2
   },
   "file_extension": ".py",
   "mimetype": "text/x-python",
   "name": "python",
   "nbconvert_exporter": "python",
   "pygments_lexer": "ipython2",
   "version": "2.7.12"
  }
 },
 "nbformat": 4,
 "nbformat_minor": 1
}
