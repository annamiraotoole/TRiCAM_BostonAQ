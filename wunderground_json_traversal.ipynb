{
 "cells": [
  {
   "cell_type": "code",
   "execution_count": 24,
   "metadata": {
    "collapsed": true
   },
   "outputs": [],
   "source": [
    "import numpy as np\n",
    "import matplotlib\n",
    "import matplotlib.pyplot as plt\n",
    "import random\n",
    "from mpl_toolkits.mplot3d import Axes3D\n",
    "from bs4 import BeautifulSoup\n",
    "import urllib\n",
    "import json\n",
    "import csv\n",
    "import requests\n",
    "from datetime import datetime\n",
    "import scipy as sp\n",
    "import pandas as pd\n",
    "import sklearn as sk\n",
    "import pandas as pd\n",
    "from sklearn.model_selection import train_test_split\n",
    "from sklearn.linear_model import LinearRegression\n",
    "from sklearn.preprocessing import PolynomialFeatures\n",
    "%matplotlib inline"
   ]
  },
  {
   "cell_type": "markdown",
   "metadata": {},
   "source": [
    "<h3> Test writing csv with simple json directly from API </h3>"
   ]
  },
  {
   "cell_type": "code",
   "execution_count": 96,
   "metadata": {},
   "outputs": [],
   "source": [
    "page = requests.get('http://api.wunderground.com/api/f71059696f42912d/forecast/geolookup/conditions/q/MA/Boston.json')\n",
    "data1 = json.loads(page.content)\n",
    "observation1 = data1['current_observation']\n",
    "\n",
    "categories1 = list(observation1.keys())\n",
    "categories1[0] = 'location_name'\n",
    "categories1[1] = 'latitude'\n",
    "categories1[2] = 'longitude'\n",
    "\n",
    "values1 = list(observation.values())\n",
    "values1[0] = values1[2].get('city')\n",
    "values1[1] = values1[2].get('latitude')\n",
    "values1[2] = values1[2].get('longitude')\n"
   ]
  },
  {
   "cell_type": "code",
   "execution_count": 97,
   "metadata": {},
   "outputs": [],
   "source": [
    "#f = csv.writer(open('/Users/Annamira/Documents/wunderground_test.csv', \"wb+\"))\n",
    "\n",
    "# open a file for writing\n",
    "\n",
    "file = open('/Users/Annamira/Documents/wunderground_test.csv', 'w')\n",
    "\n",
    "# create the csv writer object\n",
    "\n",
    "csvwriter = csv.writer(file)\n",
    "\n",
    "header1 = categories1\n",
    "\n",
    "csvwriter.writerow(header1)\n",
    "\n",
    "csvwriter.writerow(values1)\n",
    "\n",
    "file.close()"
   ]
  },
  {
   "cell_type": "code",
   "execution_count": 98,
   "metadata": {
    "scrolled": true
   },
   "outputs": [
    {
     "data": {
      "text/html": [
       "<div>\n",
       "<table border=\"1\" class=\"dataframe\">\n",
       "  <thead>\n",
       "    <tr style=\"text-align: right;\">\n",
       "      <th></th>\n",
       "      <th>location_name</th>\n",
       "      <th>latitude</th>\n",
       "      <th>longitude</th>\n",
       "      <th>estimated</th>\n",
       "      <th>station_id</th>\n",
       "      <th>observation_time</th>\n",
       "      <th>observation_time_rfc822</th>\n",
       "      <th>observation_epoch</th>\n",
       "      <th>local_time_rfc822</th>\n",
       "      <th>local_epoch</th>\n",
       "      <th>...</th>\n",
       "      <th>precip_1hr_metric</th>\n",
       "      <th>precip_today_string</th>\n",
       "      <th>precip_today_in</th>\n",
       "      <th>precip_today_metric</th>\n",
       "      <th>icon</th>\n",
       "      <th>icon_url</th>\n",
       "      <th>forecast_url</th>\n",
       "      <th>history_url</th>\n",
       "      <th>ob_url</th>\n",
       "      <th>nowcast</th>\n",
       "    </tr>\n",
       "  </thead>\n",
       "  <tbody>\n",
       "    <tr>\n",
       "      <th>0</th>\n",
       "      <td>Cambridge, Charles River, Cambridge</td>\n",
       "      <td>42.363503</td>\n",
       "      <td>-71.077904</td>\n",
       "      <td>{}</td>\n",
       "      <td>KMACAMBR70</td>\n",
       "      <td>Last Updated on June 21, 4:39 PM EDT</td>\n",
       "      <td>Wed, 21 Jun 2017 16:39:35 -0400</td>\n",
       "      <td>1498077575</td>\n",
       "      <td>Wed, 21 Jun 2017 16:39:42 -0400</td>\n",
       "      <td>1498077582</td>\n",
       "      <td>...</td>\n",
       "      <td>0</td>\n",
       "      <td>0.00 in (0 mm)</td>\n",
       "      <td>0.0</td>\n",
       "      <td>0</td>\n",
       "      <td>mostlycloudy</td>\n",
       "      <td>http://icons.wxug.com/i/c/k/mostlycloudy.gif</td>\n",
       "      <td>http://www.wunderground.com/US/MA/Boston.html</td>\n",
       "      <td>http://www.wunderground.com/weatherstation/WXD...</td>\n",
       "      <td>http://www.wunderground.com/cgi-bin/findweathe...</td>\n",
       "      <td>NaN</td>\n",
       "    </tr>\n",
       "  </tbody>\n",
       "</table>\n",
       "<p>1 rows × 56 columns</p>\n",
       "</div>"
      ],
      "text/plain": [
       "                         location_name   latitude  longitude estimated  \\\n",
       "0  Cambridge, Charles River, Cambridge  42.363503 -71.077904        {}   \n",
       "\n",
       "   station_id                      observation_time  \\\n",
       "0  KMACAMBR70  Last Updated on June 21, 4:39 PM EDT   \n",
       "\n",
       "           observation_time_rfc822  observation_epoch  \\\n",
       "0  Wed, 21 Jun 2017 16:39:35 -0400         1498077575   \n",
       "\n",
       "                 local_time_rfc822  local_epoch   ...   precip_1hr_metric  \\\n",
       "0  Wed, 21 Jun 2017 16:39:42 -0400   1498077582   ...                   0   \n",
       "\n",
       "  precip_today_string  precip_today_in precip_today_metric          icon  \\\n",
       "0      0.00 in (0 mm)              0.0                   0  mostlycloudy   \n",
       "\n",
       "                                       icon_url  \\\n",
       "0  http://icons.wxug.com/i/c/k/mostlycloudy.gif   \n",
       "\n",
       "                                    forecast_url  \\\n",
       "0  http://www.wunderground.com/US/MA/Boston.html   \n",
       "\n",
       "                                         history_url  \\\n",
       "0  http://www.wunderground.com/weatherstation/WXD...   \n",
       "\n",
       "                                              ob_url nowcast  \n",
       "0  http://www.wunderground.com/cgi-bin/findweathe...     NaN  \n",
       "\n",
       "[1 rows x 56 columns]"
      ]
     },
     "execution_count": 98,
     "metadata": {},
     "output_type": "execute_result"
    }
   ],
   "source": [
    "location = r'/Users/Annamira/Documents/wunderground_test.csv' \n",
    "DF = pd.read_csv(location, engine='python')\n",
    "DF"
   ]
  },
  {
   "cell_type": "markdown",
   "metadata": {},
   "source": [
    "<h3> Test write csv from sample \"day file\" from test code on 6/19 </h3>"
   ]
  },
  {
   "cell_type": "code",
   "execution_count": 106,
   "metadata": {},
   "outputs": [
    {
     "ename": "JSONDecodeError",
     "evalue": "Expecting value: line 1 column 1 (char 0)",
     "output_type": "error",
     "traceback": [
      "\u001b[0;31m---------------------------------------------------------------------------\u001b[0m",
      "\u001b[0;31mJSONDecodeError\u001b[0m                           Traceback (most recent call last)",
      "\u001b[0;32m<ipython-input-106-c7fdd6e96398>\u001b[0m in \u001b[0;36m<module>\u001b[0;34m()\u001b[0m\n\u001b[1;32m      1\u001b[0m \u001b[0;32mwith\u001b[0m \u001b[0mopen\u001b[0m\u001b[0;34m(\u001b[0m\u001b[0;34m'wunderground_data_test/day_06-19_16-31.json'\u001b[0m\u001b[0;34m)\u001b[0m \u001b[0;32mas\u001b[0m \u001b[0mjson_data\u001b[0m\u001b[0;34m:\u001b[0m\u001b[0;34m\u001b[0m\u001b[0m\n\u001b[0;32m----> 2\u001b[0;31m     \u001b[0md\u001b[0m \u001b[0;34m=\u001b[0m \u001b[0mjson\u001b[0m\u001b[0;34m.\u001b[0m\u001b[0mload\u001b[0m\u001b[0;34m(\u001b[0m\u001b[0mjson_data\u001b[0m\u001b[0;34m)\u001b[0m\u001b[0;34m\u001b[0m\u001b[0m\n\u001b[0m\u001b[1;32m      3\u001b[0m     \u001b[0mprint\u001b[0m\u001b[0;34m(\u001b[0m\u001b[0md\u001b[0m\u001b[0;34m)\u001b[0m\u001b[0;34m\u001b[0m\u001b[0m\n\u001b[1;32m      4\u001b[0m \u001b[0;34m\u001b[0m\u001b[0m\n\u001b[1;32m      5\u001b[0m \u001b[0;34m\u001b[0m\u001b[0m\n",
      "\u001b[0;32m/Users/Annamira/anaconda/lib/python3.6/json/__init__.py\u001b[0m in \u001b[0;36mload\u001b[0;34m(fp, cls, object_hook, parse_float, parse_int, parse_constant, object_pairs_hook, **kw)\u001b[0m\n\u001b[1;32m    297\u001b[0m         \u001b[0mcls\u001b[0m\u001b[0;34m=\u001b[0m\u001b[0mcls\u001b[0m\u001b[0;34m,\u001b[0m \u001b[0mobject_hook\u001b[0m\u001b[0;34m=\u001b[0m\u001b[0mobject_hook\u001b[0m\u001b[0;34m,\u001b[0m\u001b[0;34m\u001b[0m\u001b[0m\n\u001b[1;32m    298\u001b[0m         \u001b[0mparse_float\u001b[0m\u001b[0;34m=\u001b[0m\u001b[0mparse_float\u001b[0m\u001b[0;34m,\u001b[0m \u001b[0mparse_int\u001b[0m\u001b[0;34m=\u001b[0m\u001b[0mparse_int\u001b[0m\u001b[0;34m,\u001b[0m\u001b[0;34m\u001b[0m\u001b[0m\n\u001b[0;32m--> 299\u001b[0;31m         parse_constant=parse_constant, object_pairs_hook=object_pairs_hook, **kw)\n\u001b[0m\u001b[1;32m    300\u001b[0m \u001b[0;34m\u001b[0m\u001b[0m\n\u001b[1;32m    301\u001b[0m \u001b[0;34m\u001b[0m\u001b[0m\n",
      "\u001b[0;32m/Users/Annamira/anaconda/lib/python3.6/json/__init__.py\u001b[0m in \u001b[0;36mloads\u001b[0;34m(s, encoding, cls, object_hook, parse_float, parse_int, parse_constant, object_pairs_hook, **kw)\u001b[0m\n\u001b[1;32m    352\u001b[0m             \u001b[0mparse_int\u001b[0m \u001b[0;32mis\u001b[0m \u001b[0;32mNone\u001b[0m \u001b[0;32mand\u001b[0m \u001b[0mparse_float\u001b[0m \u001b[0;32mis\u001b[0m \u001b[0;32mNone\u001b[0m \u001b[0;32mand\u001b[0m\u001b[0;34m\u001b[0m\u001b[0m\n\u001b[1;32m    353\u001b[0m             parse_constant is None and object_pairs_hook is None and not kw):\n\u001b[0;32m--> 354\u001b[0;31m         \u001b[0;32mreturn\u001b[0m \u001b[0m_default_decoder\u001b[0m\u001b[0;34m.\u001b[0m\u001b[0mdecode\u001b[0m\u001b[0;34m(\u001b[0m\u001b[0ms\u001b[0m\u001b[0;34m)\u001b[0m\u001b[0;34m\u001b[0m\u001b[0m\n\u001b[0m\u001b[1;32m    355\u001b[0m     \u001b[0;32mif\u001b[0m \u001b[0mcls\u001b[0m \u001b[0;32mis\u001b[0m \u001b[0;32mNone\u001b[0m\u001b[0;34m:\u001b[0m\u001b[0;34m\u001b[0m\u001b[0m\n\u001b[1;32m    356\u001b[0m         \u001b[0mcls\u001b[0m \u001b[0;34m=\u001b[0m \u001b[0mJSONDecoder\u001b[0m\u001b[0;34m\u001b[0m\u001b[0m\n",
      "\u001b[0;32m/Users/Annamira/anaconda/lib/python3.6/json/decoder.py\u001b[0m in \u001b[0;36mdecode\u001b[0;34m(self, s, _w)\u001b[0m\n\u001b[1;32m    337\u001b[0m \u001b[0;34m\u001b[0m\u001b[0m\n\u001b[1;32m    338\u001b[0m         \"\"\"\n\u001b[0;32m--> 339\u001b[0;31m         \u001b[0mobj\u001b[0m\u001b[0;34m,\u001b[0m \u001b[0mend\u001b[0m \u001b[0;34m=\u001b[0m \u001b[0mself\u001b[0m\u001b[0;34m.\u001b[0m\u001b[0mraw_decode\u001b[0m\u001b[0;34m(\u001b[0m\u001b[0ms\u001b[0m\u001b[0;34m,\u001b[0m \u001b[0midx\u001b[0m\u001b[0;34m=\u001b[0m\u001b[0m_w\u001b[0m\u001b[0;34m(\u001b[0m\u001b[0ms\u001b[0m\u001b[0;34m,\u001b[0m \u001b[0;36m0\u001b[0m\u001b[0;34m)\u001b[0m\u001b[0;34m.\u001b[0m\u001b[0mend\u001b[0m\u001b[0;34m(\u001b[0m\u001b[0;34m)\u001b[0m\u001b[0;34m)\u001b[0m\u001b[0;34m\u001b[0m\u001b[0m\n\u001b[0m\u001b[1;32m    340\u001b[0m         \u001b[0mend\u001b[0m \u001b[0;34m=\u001b[0m \u001b[0m_w\u001b[0m\u001b[0;34m(\u001b[0m\u001b[0ms\u001b[0m\u001b[0;34m,\u001b[0m \u001b[0mend\u001b[0m\u001b[0;34m)\u001b[0m\u001b[0;34m.\u001b[0m\u001b[0mend\u001b[0m\u001b[0;34m(\u001b[0m\u001b[0;34m)\u001b[0m\u001b[0;34m\u001b[0m\u001b[0m\n\u001b[1;32m    341\u001b[0m         \u001b[0;32mif\u001b[0m \u001b[0mend\u001b[0m \u001b[0;34m!=\u001b[0m \u001b[0mlen\u001b[0m\u001b[0;34m(\u001b[0m\u001b[0ms\u001b[0m\u001b[0;34m)\u001b[0m\u001b[0;34m:\u001b[0m\u001b[0;34m\u001b[0m\u001b[0m\n",
      "\u001b[0;32m/Users/Annamira/anaconda/lib/python3.6/json/decoder.py\u001b[0m in \u001b[0;36mraw_decode\u001b[0;34m(self, s, idx)\u001b[0m\n\u001b[1;32m    355\u001b[0m             \u001b[0mobj\u001b[0m\u001b[0;34m,\u001b[0m \u001b[0mend\u001b[0m \u001b[0;34m=\u001b[0m \u001b[0mself\u001b[0m\u001b[0;34m.\u001b[0m\u001b[0mscan_once\u001b[0m\u001b[0;34m(\u001b[0m\u001b[0ms\u001b[0m\u001b[0;34m,\u001b[0m \u001b[0midx\u001b[0m\u001b[0;34m)\u001b[0m\u001b[0;34m\u001b[0m\u001b[0m\n\u001b[1;32m    356\u001b[0m         \u001b[0;32mexcept\u001b[0m \u001b[0mStopIteration\u001b[0m \u001b[0;32mas\u001b[0m \u001b[0merr\u001b[0m\u001b[0;34m:\u001b[0m\u001b[0;34m\u001b[0m\u001b[0m\n\u001b[0;32m--> 357\u001b[0;31m             \u001b[0;32mraise\u001b[0m \u001b[0mJSONDecodeError\u001b[0m\u001b[0;34m(\u001b[0m\u001b[0;34m\"Expecting value\"\u001b[0m\u001b[0;34m,\u001b[0m \u001b[0ms\u001b[0m\u001b[0;34m,\u001b[0m \u001b[0merr\u001b[0m\u001b[0;34m.\u001b[0m\u001b[0mvalue\u001b[0m\u001b[0;34m)\u001b[0m \u001b[0;32mfrom\u001b[0m \u001b[0;32mNone\u001b[0m\u001b[0;34m\u001b[0m\u001b[0m\n\u001b[0m\u001b[1;32m    358\u001b[0m         \u001b[0;32mreturn\u001b[0m \u001b[0mobj\u001b[0m\u001b[0;34m,\u001b[0m \u001b[0mend\u001b[0m\u001b[0;34m\u001b[0m\u001b[0m\n",
      "\u001b[0;31mJSONDecodeError\u001b[0m: Expecting value: line 1 column 1 (char 0)"
     ]
    }
   ],
   "source": [
    "with open('wunderground_data_test/day_06-19_16-31.json') as json_data:\n",
    "    d = json.load(json_data)\n",
    "    print(d)\n",
    "\n",
    "\n",
    "'''\n",
    "filepath = 'wunderground_data_test/day_06-19_16-31.json'\n",
    "day_file = open(filepath, 'r')\n",
    "data = json.load(day_file)\n",
    "\n",
    "categories = categories1 #data['current_observation'].keys()\n",
    "\n",
    "day_data = data['06-19_16-31']\n",
    "day_data\n",
    "\n",
    "\n",
    "for each hour in day:\n",
    "    for each station in hour:\n",
    "        write row\n",
    "        \n",
    "'''\n"
   ]
  },
  {
   "cell_type": "markdown",
   "metadata": {},
   "source": [
    "<h3> Test write csv from first AWS collected day </h3>"
   ]
  },
  {
   "cell_type": "code",
   "execution_count": 92,
   "metadata": {
    "collapsed": true
   },
   "outputs": [],
   "source": [
    "# UNWRITTEN\n",
    "json.loads?"
   ]
  },
  {
   "cell_type": "markdown",
   "metadata": {},
   "source": [
    "<h3> Scraps of code </h3>"
   ]
  },
  {
   "cell_type": "code",
   "execution_count": 2,
   "metadata": {
    "collapsed": true
   },
   "outputs": [],
   "source": [
    "page = requests.get('http://api.wunderground.com/api/f71059696f42912d/forecast/geolookup/conditions/q/MA/Boston.json')\n",
    "data = json.loads(page.content)"
   ]
  },
  {
   "cell_type": "code",
   "execution_count": 91,
   "metadata": {},
   "outputs": [],
   "source": [
    "requests?"
   ]
  },
  {
   "cell_type": "code",
   "execution_count": 19,
   "metadata": {
    "scrolled": false
   },
   "outputs": [
    {
     "name": "stdout",
     "output_type": "stream",
     "text": [
      "{'image': {'url': 'http://icons.wxug.com/graphics/wu2/logo_130x80.png', 'title': 'Weather Underground', 'link': 'http://www.wunderground.com'}, 'display_location': {'full': 'Boston, MA', 'city': 'Boston', 'state': 'MA', 'state_name': 'Massachusetts', 'country': 'US', 'country_iso3166': 'US', 'zip': '02108', 'magic': '1', 'wmo': '99999', 'latitude': '42.36000061', 'longitude': '-71.06999969', 'elevation': '21.9'}, 'observation_location': {'full': 'North End, Boston, Boston, Massachusetts', 'city': 'North End, Boston, Boston', 'state': 'Massachusetts', 'country': 'US', 'country_iso3166': 'US', 'latitude': '42.366951', 'longitude': '-71.056152', 'elevation': '69 ft'}, 'estimated': {}, 'station_id': 'KMABOSTO132', 'observation_time': 'Last Updated on June 19, 11:09 AM EDT', 'observation_time_rfc822': 'Mon, 19 Jun 2017 11:09:43 -0400', 'observation_epoch': '1497884983', 'local_time_rfc822': 'Mon, 19 Jun 2017 11:09:51 -0400', 'local_epoch': '1497884991', 'local_tz_short': 'EDT', 'local_tz_long': 'America/New_York', 'local_tz_offset': '-0400', 'weather': 'Overcast', 'temperature_string': '80.2 F (26.8 C)', 'temp_f': 80.2, 'temp_c': 26.8, 'relative_humidity': '60%', 'wind_string': 'From the ESE at 8.9 MPH Gusting to 12.3 MPH', 'wind_dir': 'ESE', 'wind_degrees': 107, 'wind_mph': 8.9, 'wind_gust_mph': '12.3', 'wind_kph': 14.3, 'wind_gust_kph': '19.8', 'pressure_mb': '1011', 'pressure_in': '29.85', 'pressure_trend': '-', 'dewpoint_string': '65 F (18 C)', 'dewpoint_f': 65, 'dewpoint_c': 18, 'heat_index_string': '82 F (28 C)', 'heat_index_f': 82, 'heat_index_c': 28, 'windchill_string': 'NA', 'windchill_f': 'NA', 'windchill_c': 'NA', 'feelslike_string': '82 F (28 C)', 'feelslike_f': '82', 'feelslike_c': '28', 'visibility_mi': '10.0', 'visibility_km': '16.1', 'solarradiation': '486', 'UV': '4.0', 'precip_1hr_string': '0.00 in ( 0 mm)', 'precip_1hr_in': '0.00', 'precip_1hr_metric': ' 0', 'precip_today_string': '0.00 in (0 mm)', 'precip_today_in': '0.00', 'precip_today_metric': '0', 'icon': 'cloudy', 'icon_url': 'http://icons.wxug.com/i/c/k/cloudy.gif', 'forecast_url': 'http://www.wunderground.com/US/MA/Boston.html', 'history_url': 'http://www.wunderground.com/weatherstation/WXDailyHistory.asp?ID=KMABOSTO132', 'ob_url': 'http://www.wunderground.com/cgi-bin/findweather/getForecast?query=42.366951,-71.056152', 'nowcast': ''}\n",
      "\n",
      "{'station': [{'city': 'Boston', 'state': 'MA', 'country': 'US', 'icao': 'KBOS', 'lat': '42.36000061', 'lon': '-71.00000000'}, {'city': 'East Milton', 'state': 'MA', 'country': 'US', 'icao': 'KMQE', 'lat': '42.20999908', 'lon': '-71.11000061'}, {'city': 'Norwood', 'state': 'MA', 'country': 'US', 'icao': 'KOWD', 'lat': '42.18999863', 'lon': '-71.16999817'}, {'city': 'Bedford', 'state': 'MA', 'country': 'US', 'icao': 'KBED', 'lat': '42.47000122', 'lon': '-71.29000092'}]}\n",
      "\n",
      "None\n",
      "\n",
      "dict_keys(['type', 'country', 'country_iso3166', 'country_name', 'state', 'city', 'tz_short', 'tz_long', 'lat', 'lon', 'zip', 'magic', 'wmo', 'l', 'requesturl', 'wuiurl', 'nearby_weather_stations'])\n"
     ]
    }
   ],
   "source": [
    "location = data.get('location')\n",
    "forcast = location.get('forcast')\n",
    "airport = nearby_stations.get('airport')\n",
    "observation = data.get('current_observation')\n",
    "\n",
    "\n",
    "print(observation)\n",
    "print(\"\")\n",
    "print(airport)\n",
    "print(\"\")\n",
    "print(forcast)\n",
    "print(\"\")\n",
    "print(location.keys())"
   ]
  }
 ],
 "metadata": {
  "kernelspec": {
   "display_name": "Python 3",
   "language": "python",
   "name": "python3"
  },
  "language_info": {
   "codemirror_mode": {
    "name": "ipython",
    "version": 3
   },
   "file_extension": ".py",
   "mimetype": "text/x-python",
   "name": "python",
   "nbconvert_exporter": "python",
   "pygments_lexer": "ipython3",
   "version": "3.6.0"
  }
 },
 "nbformat": 4,
 "nbformat_minor": 2
}
